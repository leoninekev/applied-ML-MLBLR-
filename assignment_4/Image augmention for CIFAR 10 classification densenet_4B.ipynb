{
 "cells": [
  {
   "cell_type": "markdown",
   "metadata": {},
   "source": [
    "### ♦ Augmenting densenet implemention of CIFAR-10 object classification using imgaug library\n",
    "\n",
    "The following code is written & run on google colab notebook.\n",
    "* It has an improved accuracy of 80.68% over previous script giving ~78%, as a result of additional training data generated using image augmentation techniques.\n",
    "* The total count of images post augmentation was 85k CIFAR-10 images.\n",
    "* It is tested on 10k CIFAR 10 images.\n",
    "* The validation accuracy on cifar 10 dataset has been improved over training multiple times by tweaking model architecture, filter count & other hyperparameters.\n",
    "* **An off the shelf image augmentation library was employed, which can be found [here](http://imgaug.readthedocs.io/en/latest/)**\n",
    "#### The literature on Densely Connected Convolutional Networks (Densenet) can be accessed [here](https://arxiv.org/pdf/1608.06993.pdf)."
   ]
  },
  {
   "cell_type": "code",
   "execution_count": 1,
   "metadata": {
    "colab": {
     "autoexec": {
      "startup": false,
      "wait_interval": 0
     },
     "base_uri": "https://localhost:8080/",
     "height": 34
    },
    "colab_type": "code",
    "executionInfo": {
     "elapsed": 10037,
     "status": "ok",
     "timestamp": 1526457001682,
     "user": {
      "displayName": "Prakash Bisht",
      "photoUrl": "https://lh3.googleusercontent.com/a/default-user=s128",
      "userId": "117570314048106771115"
     },
     "user_tz": -330
    },
    "id": "aAWzOaF4iBZK",
    "outputId": "54bff8b2-151c-4224-dfc8-87ff976827ea"
   },
   "outputs": [
    {
     "name": "stderr",
     "output_type": "stream",
     "text": [
      "Using TensorFlow backend.\n"
     ]
    }
   ],
   "source": [
    "# https://keras.io/\n",
    "!pip install -q keras\n",
    "import keras"
   ]
  },
  {
   "cell_type": "code",
   "execution_count": 0,
   "metadata": {
    "colab": {
     "autoexec": {
      "startup": false,
      "wait_interval": 0
     }
    },
    "colab_type": "code",
    "id": "vkwDDYIhiSNF"
   },
   "outputs": [],
   "source": [
    "import keras\n",
    "from keras.datasets import cifar10\n",
    "from keras.models import Model, Sequential\n",
    "from keras.layers import Dense, Dropout, Flatten, Input, AveragePooling2D, merge, Activation\n",
    "from keras.layers import Conv2D, MaxPooling2D, BatchNormalization\n",
    "from keras.layers import Concatenate\n",
    "from keras.optimizers import Adam"
   ]
  },
  {
   "cell_type": "code",
   "execution_count": 0,
   "metadata": {
    "colab": {
     "autoexec": {
      "startup": false,
      "wait_interval": 0
     }
    },
    "colab_type": "code",
    "id": "OYaYxv7ciTV5"
   },
   "outputs": [],
   "source": [
    "# this part will prevent tensorflow to allocate all the avaliable GPU Memory\n",
    "# backend\n",
    "import tensorflow as tf\n",
    "from keras import backend as k\n",
    "\n",
    "# Don't pre-allocate memory; allocate as-needed\n",
    "config = tf.ConfigProto()\n",
    "config.gpu_options.allow_growth = True\n",
    "\n",
    "# Create a session with the above options specified.\n",
    "k.tensorflow_backend.set_session(tf.Session(config=config))"
   ]
  },
  {
   "cell_type": "markdown",
   "metadata": {},
   "source": [
    "#### Hyperparameters\n",
    "* Bacth size\n",
    "* compression rate\n",
    "* epochs\n",
    "* dropout rate\n",
    "* number of filters per block"
   ]
  },
  {
   "cell_type": "code",
   "execution_count": 0,
   "metadata": {
    "colab": {
     "autoexec": {
      "startup": false,
      "wait_interval": 0
     }
    },
    "colab_type": "code",
    "id": "kmS4daD2iTdI"
   },
   "outputs": [],
   "source": [
    "# Hyperparameters\n",
    "batch_size = 64\n",
    "num_classes = 10\n",
    "#epochs = 40\n",
    "num_filter = 16\n",
    "compression = 0.5\n",
    "dropout_rate = 0.3"
   ]
  },
  {
   "cell_type": "markdown",
   "metadata": {},
   "source": [
    "#### Loading CIFAR dataset and Converting train and test  labels to One-hot encoding"
   ]
  },
  {
   "cell_type": "code",
   "execution_count": 0,
   "metadata": {
    "colab": {
     "autoexec": {
      "startup": false,
      "wait_interval": 0
     }
    },
    "colab_type": "code",
    "id": "zMPbmx9jiTgA"
   },
   "outputs": [],
   "source": [
    "# Load CIFAR10 Data\n",
    "(x_train, y_train), (x_test, y_test) = cifar10.load_data()\n",
    "img_height, img_width, channel = x_train.shape[1],x_train.shape[2],x_train.shape[3]\n",
    "\n",
    "# convert to one hot encoing \n",
    "y_train = keras.utils.to_categorical(y_train, num_classes)\n",
    "y_test = keras.utils.to_categorical(y_test, num_classes)"
   ]
  },
  {
   "cell_type": "markdown",
   "metadata": {},
   "source": [
    "#### installing & importing image augmentation library.\n",
    "* The details on arguments catering to different augmentataion schemes can be accessed [here.](#### Loading CIFAR dataset and Converting train and test  labels to One-hot encoding)"
   ]
  },
  {
   "cell_type": "code",
   "execution_count": 55,
   "metadata": {
    "colab": {
     "autoexec": {
      "startup": false,
      "wait_interval": 0
     },
     "base_uri": "https://localhost:8080/",
     "height": 292
    },
    "colab_type": "code",
    "executionInfo": {
     "elapsed": 3211,
     "status": "ok",
     "timestamp": 1526477891318,
     "user": {
      "displayName": "Prakash Bisht",
      "photoUrl": "https://lh3.googleusercontent.com/a/default-user=s128",
      "userId": "117570314048106771115"
     },
     "user_tz": -330
    },
    "id": "70ObA3qLibKQ",
    "outputId": "b3d229ae-006d-46f4-aede-053437002b86"
   },
   "outputs": [
    {
     "name": "stdout",
     "output_type": "stream",
     "text": [
      "Requirement already satisfied: imgaug in /usr/local/lib/python3.6/dist-packages (0.2.5)\r\n",
      "Requirement already satisfied: numpy>=1.7.0 in /usr/local/lib/python3.6/dist-packages (from imgaug) (1.14.3)\r\n",
      "Requirement already satisfied: six in /usr/local/lib/python3.6/dist-packages (from imgaug) (1.11.0)\r\n",
      "Requirement already satisfied: scipy in /usr/local/lib/python3.6/dist-packages (from imgaug) (0.19.1)\r\n",
      "Requirement already satisfied: scikit-image>=0.11.0 in /usr/local/lib/python3.6/dist-packages (from imgaug) (0.13.1)\n",
      "Requirement already satisfied: PyWavelets>=0.4.0 in /usr/local/lib/python3.6/dist-packages (from scikit-image>=0.11.0->imgaug) (0.5.2)\n",
      "Requirement already satisfied: networkx>=1.8 in /usr/local/lib/python3.6/dist-packages (from scikit-image>=0.11.0->imgaug) (2.1)\n",
      "Requirement already satisfied: pillow>=2.1.0 in /usr/local/lib/python3.6/dist-packages (from scikit-image>=0.11.0->imgaug) (4.0.0)\n",
      "Requirement already satisfied: matplotlib>=1.3.1 in /usr/local/lib/python3.6/dist-packages (from scikit-image>=0.11.0->imgaug) (2.1.2)\n",
      "Requirement already satisfied: decorator>=4.1.0 in /usr/local/lib/python3.6/dist-packages (from networkx>=1.8->scikit-image>=0.11.0->imgaug) (4.3.0)\n",
      "Requirement already satisfied: olefile in /usr/local/lib/python3.6/dist-packages (from pillow>=2.1.0->scikit-image>=0.11.0->imgaug) (0.45.1)\n",
      "Requirement already satisfied: cycler>=0.10 in /usr/local/lib/python3.6/dist-packages (from matplotlib>=1.3.1->scikit-image>=0.11.0->imgaug) (0.10.0)\n",
      "Requirement already satisfied: pytz in /usr/local/lib/python3.6/dist-packages (from matplotlib>=1.3.1->scikit-image>=0.11.0->imgaug) (2018.4)\n",
      "Requirement already satisfied: pyparsing!=2.0.4,!=2.1.2,!=2.1.6,>=2.0.1 in /usr/local/lib/python3.6/dist-packages (from matplotlib>=1.3.1->scikit-image>=0.11.0->imgaug) (2.2.0)\n",
      "Requirement already satisfied: python-dateutil>=2.1 in /usr/local/lib/python3.6/dist-packages (from matplotlib>=1.3.1->scikit-image>=0.11.0->imgaug) (2.5.3)\n"
     ]
    }
   ],
   "source": [
    "!pip install imgaug"
   ]
  },
  {
   "cell_type": "code",
   "execution_count": 0,
   "metadata": {
    "colab": {
     "autoexec": {
      "startup": false,
      "wait_interval": 0
     }
    },
    "colab_type": "code",
    "id": "FlmnYnF1ibVI"
   },
   "outputs": [],
   "source": [
    "import imgaug as ia\n",
    "from imgaug import augmenters as iaa\n",
    "import numpy as np\n",
    "\n",
    "ia.seed(1)\n",
    "\n",
    "sometimes = lambda aug: iaa.Sometimes(0.3, aug)\n",
    "\n",
    "# Define our sequence of augmentation steps that will be applied to every image.\n",
    "aug_seq = iaa.Sequential([ iaa.Fliplr(0.5), # horizontally flip 50% of all images\n",
    "        iaa.Flipud(0.2), # vertically flip 20% of all images\n",
    "        # crop some of the images by 0-10% of their height/width\n",
    "        sometimes(iaa.Crop(percent=(0, 0.1))),\n",
    "        # Apply affine transformations to some of the images\n",
    "        sometimes(iaa.Affine(scale={\"x\": (0.8, 1.2), \"y\": (0.8, 1.2)},translate_percent={\"x\": (-0.2, 0.2), \"y\": (-0.2, 0.2)},\n",
    "        rotate=(-45, 45), shear=(-16, 16), order=[0, 1], cval=(0, 255), mode=ia.ALL)), iaa.SomeOf((0, 5),\n",
    "        # Convert some images into their superpixel representation\n",
    "        [sometimes(iaa.Superpixels(p_replace=(0, 1.0), n_segments=(20, 200))),\n",
    "        # Blur each image with varying strength using\n",
    "        iaa.OneOf([iaa.GaussianBlur((0, 3.0)),iaa.AverageBlur(k=(2, 7)), iaa.MedianBlur(k=(3, 11))]),\n",
    "        # Sharpen each image, overlay the result with the original\n",
    "         iaa.Sharpen(alpha=(0, 1.0), lightness=(0.75, 1.5)),\n",
    "         # Same as sharpen, but for an embossing effect.\n",
    "         iaa.Emboss(alpha=(0, 1.0), strength=(0, 2.0)),\n",
    "         # Search in some images either for all edges or for directed edges.\n",
    "         sometimes(iaa.OneOf([iaa.EdgeDetect(alpha=(0, 0.7)),iaa.DirectedEdgeDetect(alpha=(0, 0.7), direction=(0.0, 1.0))])),\n",
    "         # Add gaussian noise to some images.\n",
    "         iaa.AdditiveGaussianNoise(loc=0, scale=(0.0, 0.05*255), per_channel=0.5),\n",
    "         # Either drop randomly 1 to 10% of all pixels (i.e. set them to black) or drop them on an image with 2-5% percent\n",
    "         # of the original size, leading to large dropped rectangles.\n",
    "         iaa.OneOf([iaa.Dropout((0.01, 0.1), per_channel=0.5),iaa.CoarseDropout((0.03, 0.15), size_percent=(0.02, 0.05),\n",
    "        per_channel=0.2)]),\n",
    "         # Invert each image's chanell with 5% probability.\n",
    "         iaa.Invert(0.05, per_channel=True), # invert color channels\n",
    "         # Add a value of -10 to 10 to each pixel.\n",
    "         iaa.Add((-10, 10), per_channel=0.5),\n",
    "         # Change brightness of images (50-150% of original value).\n",
    "         iaa.Multiply((0.5, 1.5), per_channel=0.5),\n",
    "         # Improve or worsen the contrast of images.\n",
    "         iaa.ContrastNormalization((0.5, 2.0), per_channel=0.5),\n",
    "         # Convert each image to grayscale and then overlay the\n",
    "         iaa.Grayscale(alpha=(0.0, 1.0)),\n",
    "         # In some images move pixels locally around (with random strengths).\n",
    "         sometimes(iaa.ElasticTransformation(alpha=(0.5, 3.5), sigma=0.25)),\n",
    "         # In some images distort local areas with varying strength.\n",
    "         sometimes(iaa.PiecewiseAffine(scale=(0.01, 0.05)))],random_order=True)], random_order=True)"
   ]
  },
  {
   "cell_type": "markdown",
   "metadata": {},
   "source": [
    "#### Applying augmentation to 20k random images from x_train array of images\n",
    "* first generating 20k random indexes between (0,50000)\n",
    "* passing images corresponding to 20k random indexes to image augmentation augmenting sequence object\n",
    "* visualizing few augmented images."
   ]
  },
  {
   "cell_type": "code",
   "execution_count": 0,
   "metadata": {
    "colab": {
     "autoexec": {
      "startup": false,
      "wait_interval": 0
     }
    },
    "colab_type": "code",
    "id": "m-3JlDneRtmf"
   },
   "outputs": [],
   "source": [
    "augidx = np.random.randint(0,50000, size=(20000)) #an array of 20k random indexes between (0,50k)"
   ]
  },
  {
   "cell_type": "code",
   "execution_count": 59,
   "metadata": {
    "colab": {
     "autoexec": {
      "startup": false,
      "wait_interval": 0
     },
     "base_uri": "https://localhost:8080/",
     "height": 68
    },
    "colab_type": "code",
    "executionInfo": {
     "elapsed": 1049,
     "status": "ok",
     "timestamp": 1526478014042,
     "user": {
      "displayName": "Prakash Bisht",
      "photoUrl": "https://lh3.googleusercontent.com/a/default-user=s128",
      "userId": "117570314048106771115"
     },
     "user_tz": -330
    },
    "id": "VDO9UQ4gihko",
    "outputId": "b526b7ad-e5cf-45a7-f4fe-e210da0a90a6"
   },
   "outputs": [
    {
     "data": {
      "text/plain": [
       "array([24606, 11123, 37230, 20834,  1809, 35440, 32617, 13813,  5927,\n",
       "       21912, 34563,  3211, 29610, 42378, 27321, 29477, 40119,  3600,\n",
       "        8616, 10579])"
      ]
     },
     "execution_count": 59,
     "metadata": {
      "tags": []
     },
     "output_type": "execute_result"
    }
   ],
   "source": [
    "augidx[:20]"
   ]
  },
  {
   "cell_type": "code",
   "execution_count": 60,
   "metadata": {
    "colab": {
     "autoexec": {
      "startup": false,
      "wait_interval": 0
     },
     "base_uri": "https://localhost:8080/",
     "height": 51
    },
    "colab_type": "code",
    "executionInfo": {
     "elapsed": 46118,
     "status": "ok",
     "timestamp": 1526478074066,
     "user": {
      "displayName": "Prakash Bisht",
      "photoUrl": "https://lh3.googleusercontent.com/a/default-user=s128",
      "userId": "117570314048106771115"
     },
     "user_tz": -330
    },
    "id": "umNfS76eihon",
    "outputId": "b34fc72b-b379-4355-c4ba-7820bbf2b704"
   },
   "outputs": [
    {
     "name": "stdout",
     "output_type": "stream",
     "text": [
      "(20000, 32, 32, 3) \n",
      " (20000, 10)\n"
     ]
    }
   ],
   "source": [
    "x_aug = aug_seq.augment_images(x_train[augidx]) #generating 20k augmented images with augindexes\n",
    "y_aug= y_train[augidx]\n",
    "\n",
    "print(x_aug.shape,'\\n',y_aug.shape)"
   ]
  },
  {
   "cell_type": "code",
   "execution_count": 62,
   "metadata": {
    "colab": {
     "autoexec": {
      "startup": false,
      "wait_interval": 0
     },
     "base_uri": "https://localhost:8080/",
     "height": 381
    },
    "colab_type": "code",
    "executionInfo": {
     "elapsed": 2604,
     "status": "ok",
     "timestamp": 1526478429313,
     "user": {
      "displayName": "Prakash Bisht",
      "photoUrl": "https://lh3.googleusercontent.com/a/default-user=s128",
      "userId": "117570314048106771115"
     },
     "user_tz": -330
    },
    "id": "X81zWDRKimEm",
    "outputId": "524645e3-5aec-4a0b-ea9a-132dbd1d47fa"
   },
   "outputs": [
    {
     "name": "stdout",
     "output_type": "stream",
     "text": [
      "(50000, 32, 32, 3) (10000, 32, 32, 3)\n",
      "[0. 0. 1. 0. 0. 0. 0. 0. 0. 0.]\n"
     ]
    },
    {
     "data": {
      "image/png": "[encoded data removed]",
      "text/plain": [
       "<matplotlib.figure.Figure at 0x7f192eb70cc0>"
      ]
     },
     "metadata": {
      "tags": []
     },
     "output_type": "display_data"
    }
   ],
   "source": [
    "from matplotlib import pyplot as plt\n",
    "\n",
    "print(x_train.shape, x_test.shape)\n",
    "plt.imshow(x_train[11123]) #image in train set\n",
    "print(y_train[11123])"
   ]
  },
  {
   "cell_type": "code",
   "execution_count": 63,
   "metadata": {
    "colab": {
     "autoexec": {
      "startup": false,
      "wait_interval": 0
     },
     "base_uri": "https://localhost:8080/",
     "height": 364
    },
    "colab_type": "code",
    "executionInfo": {
     "elapsed": 1283,
     "status": "ok",
     "timestamp": 1526478444725,
     "user": {
      "displayName": "Prakash Bisht",
      "photoUrl": "https://lh3.googleusercontent.com/a/default-user=s128",
      "userId": "117570314048106771115"
     },
     "user_tz": -330
    },
    "id": "RqqnhbCXimH9",
    "outputId": "d738ea2c-3ff7-4096-9b45-a36baa566760"
   },
   "outputs": [
    {
     "name": "stdout",
     "output_type": "stream",
     "text": [
      "[0. 0. 1. 0. 0. 0. 0. 0. 0. 0.]\n"
     ]
    },
    {
     "data": {
      "image/png": "[encoded data removed]",
      "text/plain": [
       "<matplotlib.figure.Figure at 0x7f191b8e9710>"
      ]
     },
     "metadata": {
      "tags": []
     },
     "output_type": "display_data"
    }
   ],
   "source": [
    "plt.imshow(x_aug[1]) #image in augumented set\n",
    "print(y_aug[1])"
   ]
  },
  {
   "cell_type": "code",
   "execution_count": 12,
   "metadata": {
    "colab": {
     "autoexec": {
      "startup": false,
      "wait_interval": 0
     },
     "base_uri": "https://localhost:8080/",
     "height": 119
    },
    "colab_type": "code",
    "executionInfo": {
     "elapsed": 1008,
     "status": "ok",
     "timestamp": 1526457117292,
     "user": {
      "displayName": "Prakash Bisht",
      "photoUrl": "https://lh3.googleusercontent.com/a/default-user=s128",
      "userId": "117570314048106771115"
     },
     "user_tz": -330
    },
    "id": "AWF1uKoXixJW",
    "outputId": "73491c60-ed96-4bed-c9fc-c0f23600931b"
   },
   "outputs": [
    {
     "name": "stdout",
     "output_type": "stream",
     "text": [
      "shapes of x_train & y_train \n",
      " (50000, 32, 32, 3) \n",
      " (50000, 10) \n",
      " shapes of x_aug &y_aug \n",
      " (20000, 32, 32, 3) \n",
      " (20000, 10)\n"
     ]
    }
   ],
   "source": [
    "print('shapes of x_train & y_train \\n',x_train.shape,'\\n',y_train.shape,'\\n shapes of x_aug &y_aug \\n',x_aug.shape,'\\n',y_aug.shape)"
   ]
  },
  {
   "cell_type": "markdown",
   "metadata": {},
   "source": [
    "### Appending augmented set of 20k images to main dataset"
   ]
  },
  {
   "cell_type": "code",
   "execution_count": 13,
   "metadata": {
    "colab": {
     "autoexec": {
      "startup": false,
      "wait_interval": 0
     },
     "base_uri": "https://localhost:8080/",
     "height": 51
    },
    "colab_type": "code",
    "executionInfo": {
     "elapsed": 1684,
     "status": "ok",
     "timestamp": 1526457119072,
     "user": {
      "displayName": "Prakash Bisht",
      "photoUrl": "https://lh3.googleusercontent.com/a/default-user=s128",
      "userId": "117570314048106771115"
     },
     "user_tz": -330
    },
    "id": "aD7Bhi4qixM_",
    "outputId": "ea7c160f-1119-445e-a884-60586e00cef1"
   },
   "outputs": [
    {
     "name": "stdout",
     "output_type": "stream",
     "text": [
      "shapes of x_new & y_new \n",
      " (70000, 32, 32, 3) (70000, 10)\n"
     ]
    }
   ],
   "source": [
    "x_new = np.append(x_train, x_aug, axis=0) #new training set consisting of augment images & labels\n",
    "y_new = np.append(y_train, y_aug, axis=0)\n",
    "print('shapes of x_new & y_new \\n',x_new.shape, y_new.shape)"
   ]
  },
  {
   "cell_type": "markdown",
   "metadata": {},
   "source": [
    "### ♦ Denseblock function"
   ]
  },
  {
   "cell_type": "code",
   "execution_count": 0,
   "metadata": {
    "colab": {
     "autoexec": {
      "startup": false,
      "wait_interval": 0
     }
    },
    "colab_type": "code",
    "id": "5hNOJcF_imNF"
   },
   "outputs": [],
   "source": [
    "# Dense Block\n",
    "def add_denseblock(input, l, num_filter = 24, dropout_rate):\n",
    "    global compression\n",
    "    temp = input\n",
    "    for _ in range(l):\n",
    "        BatchNorm = BatchNormalization()(temp)\n",
    "        relu = Activation('relu')(BatchNorm)\n",
    "        Conv2D_1_1 = Conv2D(int(num_filter*compression),(1,1), use_bias= False, padding='same')(relu)\n",
    "        BatchNorm = BatchNormalization()(Conv2D_1_1)\n",
    "        relu = Activation('relu')(BatchNorm)\n",
    "        Conv2D_3_3 = Conv2D(int(num_filter*compression), (3,3), use_bias=False ,padding='same')(relu)\n",
    "        if dropout_rate>0:\n",
    "          Conv2D_3_3 = Dropout(dropout_rate)(Conv2D_3_3)\n",
    "        concat = Concatenate(axis=-1)([temp,Conv2D_3_3])\n",
    "        \n",
    "        temp = concat\n",
    "        \n",
    "    return temp"
   ]
  },
  {
   "cell_type": "markdown",
   "metadata": {},
   "source": [
    "### ♦ Transition block, with composite layers of BatchNorm-Activation-BottleneckConv2D1x1-Dropout-2x2Pooling between two dense blocks"
   ]
  },
  {
   "cell_type": "code",
   "execution_count": 0,
   "metadata": {
    "colab": {
     "autoexec": {
      "startup": false,
      "wait_interval": 0
     }
    },
    "colab_type": "code",
    "id": "lwA_CCUyi2b8"
   },
   "outputs": [],
   "source": [
    "def add_transition(input, num_filter = 24, dropout_rate):\n",
    "    global compression\n",
    "    BatchNorm = BatchNormalization()(input)\n",
    "    relu = Activation('relu')(BatchNorm)\n",
    "    Conv2D_BottleNeck = Conv2D(int(num_filter*compression), (1,1), use_bias=False ,padding='same')(relu)\n",
    "    if dropout_rate>0:\n",
    "      Conv2D_BottleNeck = Dropout(dropout_rate)(Conv2D_BottleNeck)\n",
    "    avg = AveragePooling2D(pool_size=(2,2))(Conv2D_BottleNeck)\n",
    "    \n",
    "    return avg"
   ]
  },
  {
   "cell_type": "markdown",
   "metadata": {},
   "source": [
    "### ♦ Final Dense layer following global pooling of 2x2"
   ]
  },
  {
   "cell_type": "code",
   "execution_count": 0,
   "metadata": {
    "colab": {
     "autoexec": {
      "startup": false,
      "wait_interval": 0
     }
    },
    "colab_type": "code",
    "id": "YEFQ1KGli2ec"
   },
   "outputs": [],
   "source": [
    "def output_layer(input):\n",
    "    global compression\n",
    "    BatchNorm = BatchNormalization()(input)\n",
    "    relu = Activation('relu')(BatchNorm)\n",
    "    AvgPooling = AveragePooling2D(pool_size=(2,2))(relu)\n",
    "    flat = Flatten()(AvgPooling)\n",
    "    output = Dense(num_classes, activation='softmax')(flat)\n",
    "    \n",
    "    return output"
   ]
  },
  {
   "cell_type": "markdown",
   "metadata": {},
   "source": [
    "### Densenet architecture prior to training, with:\n",
    "* 1 input layer\n",
    "* Conv2D with 16, 3x3 kernel\n",
    "* 4 denseBlock with layer depth l=6,12,16,12 alternatively with transition blocks\n",
    "* 3 transition blocks\n",
    "\n",
    "##### Sequence is as:\n",
    "#### Input-Conv2D-Denseblock-Transition-Denseblock-Transition-Denseblock-Transition-Denseblock-Output "
   ]
  },
  {
   "cell_type": "code",
   "execution_count": 0,
   "metadata": {
    "colab": {
     "autoexec": {
      "startup": false,
      "wait_interval": 0
     }
    },
    "colab_type": "code",
    "id": "EW6EVI1SiTje"
   },
   "outputs": [],
   "source": [
    "#l = 12\n",
    "input = Input(shape=(img_height, img_width, channel))\n",
    "First_Conv2D = Conv2D(16, (3,3), use_bias=False ,padding='same', kernel_initializer='glorot_uniform', bias_initializer='zeros')(input)\n",
    "\n",
    "First_Block = add_denseblock(First_Conv2D, 6 , num_filter, dropout_rate=0.2)\n",
    "First_Transition = add_transition(First_Block, num_filter, dropout_rate=0.2)\n",
    "\n",
    "Second_Block = add_denseblock(First_Transition,12, num_filter, dropout_rate=0.2)\n",
    "Second_Transition = add_transition(Second_Block, num_filter, dropout_rate=0.2)\n",
    "\n",
    "Third_Block = add_denseblock(Second_Transition,16, num_filter, dropout_rate=0.2)\n",
    "Third_Transition = add_transition(Third_Block, num_filter, dropout_rate=0.2)\n",
    "\n",
    "Last_Block = add_denseblock(Third_Transition,12, num_filter, dropout_rate=0.2)\n",
    "output = output_layer(Last_Block)\n"
   ]
  },
  {
   "cell_type": "markdown",
   "metadata": {},
   "source": [
    "### Model summary for above defined densenet architecture"
   ]
  },
  {
   "cell_type": "code",
   "execution_count": 0,
   "metadata": {
    "colab": {
     "autoexec": {
      "startup": false,
      "wait_interval": 0
     },
     "base_uri": "https://localhost:8080/",
     "height": 14178
    },
    "colab_type": "code",
    "executionInfo": {
     "elapsed": 970,
     "status": "ok",
     "timestamp": 1526384555037,
     "user": {
      "displayName": "Prakash Bisht",
      "photoUrl": "https://lh3.googleusercontent.com/a/default-user=s128",
      "userId": "117570314048106771115"
     },
     "user_tz": -330
    },
    "id": "e8wcH5bgjAKH",
    "outputId": "df16ca3c-f47f-4714-fdac-d766a8ad4e2d"
   },
   "outputs": [
    {
     "name": "stdout",
     "output_type": "stream",
     "text": [
      "__________________________________________________________________________________________________\n",
      "Layer (type)                    Output Shape         Param #     Connected to                     \n",
      "==================================================================================================\n",
      "input_1 (InputLayer)            (None, 32, 32, 3)    0                                            \n",
      "__________________________________________________________________________________________________\n",
      "conv2d_1 (Conv2D)               (None, 32, 32, 16)   432         input_1[0][0]                    \n",
      "__________________________________________________________________________________________________\n",
      "batch_normalization_1 (BatchNor (None, 32, 32, 16)   64          conv2d_1[0][0]                   \n",
      "__________________________________________________________________________________________________\n",
      "activation_1 (Activation)       (None, 32, 32, 16)   0           batch_normalization_1[0][0]      \n",
      "__________________________________________________________________________________________________\n",
      "conv2d_2 (Conv2D)               (None, 32, 32, 12)   192         activation_1[0][0]               \n",
      "__________________________________________________________________________________________________\n",
      "batch_normalization_2 (BatchNor (None, 32, 32, 12)   48          conv2d_2[0][0]                   \n",
      "__________________________________________________________________________________________________\n",
      "activation_2 (Activation)       (None, 32, 32, 12)   0           batch_normalization_2[0][0]      \n",
      "__________________________________________________________________________________________________\n",
      "conv2d_3 (Conv2D)               (None, 32, 32, 12)   1296        activation_2[0][0]               \n",
      "__________________________________________________________________________________________________\n",
      "dropout_1 (Dropout)             (None, 32, 32, 12)   0           conv2d_3[0][0]                   \n",
      "__________________________________________________________________________________________________\n",
      "concatenate_1 (Concatenate)     (None, 32, 32, 28)   0           conv2d_1[0][0]                   \n",
      "                                                                 dropout_1[0][0]                  \n",
      "__________________________________________________________________________________________________\n",
      "batch_normalization_3 (BatchNor (None, 32, 32, 28)   112         concatenate_1[0][0]              \n",
      "__________________________________________________________________________________________________\n",
      "activation_3 (Activation)       (None, 32, 32, 28)   0           batch_normalization_3[0][0]      \n",
      "__________________________________________________________________________________________________\n",
      "conv2d_4 (Conv2D)               (None, 32, 32, 12)   336         activation_3[0][0]               \n",
      "__________________________________________________________________________________________________\n",
      "batch_normalization_4 (BatchNor (None, 32, 32, 12)   48          conv2d_4[0][0]                   \n",
      "__________________________________________________________________________________________________\n",
      "activation_4 (Activation)       (None, 32, 32, 12)   0           batch_normalization_4[0][0]      \n",
      "__________________________________________________________________________________________________\n",
      "conv2d_5 (Conv2D)               (None, 32, 32, 12)   1296        activation_4[0][0]               \n",
      "__________________________________________________________________________________________________\n",
      "dropout_2 (Dropout)             (None, 32, 32, 12)   0           conv2d_5[0][0]                   \n",
      "__________________________________________________________________________________________________\n",
      "concatenate_2 (Concatenate)     (None, 32, 32, 40)   0           concatenate_1[0][0]              \n",
      "                                                                 dropout_2[0][0]                  \n",
      "__________________________________________________________________________________________________\n",
      "batch_normalization_5 (BatchNor (None, 32, 32, 40)   160         concatenate_2[0][0]              \n",
      "__________________________________________________________________________________________________\n",
      "activation_5 (Activation)       (None, 32, 32, 40)   0           batch_normalization_5[0][0]      \n",
      "__________________________________________________________________________________________________\n",
      "conv2d_6 (Conv2D)               (None, 32, 32, 12)   480         activation_5[0][0]               \n",
      "__________________________________________________________________________________________________\n",
      "batch_normalization_6 (BatchNor (None, 32, 32, 12)   48          conv2d_6[0][0]                   \n",
      "__________________________________________________________________________________________________\n",
      "activation_6 (Activation)       (None, 32, 32, 12)   0           batch_normalization_6[0][0]      \n",
      "__________________________________________________________________________________________________\n",
      "conv2d_7 (Conv2D)               (None, 32, 32, 12)   1296        activation_6[0][0]               \n",
      "__________________________________________________________________________________________________\n",
      "dropout_3 (Dropout)             (None, 32, 32, 12)   0           conv2d_7[0][0]                   \n",
      "__________________________________________________________________________________________________\n",
      "concatenate_3 (Concatenate)     (None, 32, 32, 52)   0           concatenate_2[0][0]              \n",
      "                                                                 dropout_3[0][0]                  \n",
      "__________________________________________________________________________________________________\n",
      "batch_normalization_7 (BatchNor (None, 32, 32, 52)   208         concatenate_3[0][0]              \n",
      "__________________________________________________________________________________________________\n",
      "activation_7 (Activation)       (None, 32, 32, 52)   0           batch_normalization_7[0][0]      \n",
      "__________________________________________________________________________________________________\n",
      "conv2d_8 (Conv2D)               (None, 32, 32, 12)   624         activation_7[0][0]               \n",
      "__________________________________________________________________________________________________\n",
      "batch_normalization_8 (BatchNor (None, 32, 32, 12)   48          conv2d_8[0][0]                   \n",
      "__________________________________________________________________________________________________\n",
      "activation_8 (Activation)       (None, 32, 32, 12)   0           batch_normalization_8[0][0]      \n",
      "__________________________________________________________________________________________________\n",
      "conv2d_9 (Conv2D)               (None, 32, 32, 12)   1296        activation_8[0][0]               \n",
      "__________________________________________________________________________________________________\n",
      "dropout_4 (Dropout)             (None, 32, 32, 12)   0           conv2d_9[0][0]                   \n",
      "__________________________________________________________________________________________________\n",
      "concatenate_4 (Concatenate)     (None, 32, 32, 64)   0           concatenate_3[0][0]              \n",
      "                                                                 dropout_4[0][0]                  \n",
      "__________________________________________________________________________________________________\n",
      "batch_normalization_9 (BatchNor (None, 32, 32, 64)   256         concatenate_4[0][0]              \n",
      "__________________________________________________________________________________________________\n",
      "activation_9 (Activation)       (None, 32, 32, 64)   0           batch_normalization_9[0][0]      \n",
      "__________________________________________________________________________________________________\n",
      "conv2d_10 (Conv2D)              (None, 32, 32, 12)   768         activation_9[0][0]               \n",
      "__________________________________________________________________________________________________\n",
      "batch_normalization_10 (BatchNo (None, 32, 32, 12)   48          conv2d_10[0][0]                  \n",
      "__________________________________________________________________________________________________\n",
      "activation_10 (Activation)      (None, 32, 32, 12)   0           batch_normalization_10[0][0]     \n",
      "__________________________________________________________________________________________________\n",
      "conv2d_11 (Conv2D)              (None, 32, 32, 12)   1296        activation_10[0][0]              \n",
      "__________________________________________________________________________________________________\n",
      "dropout_5 (Dropout)             (None, 32, 32, 12)   0           conv2d_11[0][0]                  \n",
      "__________________________________________________________________________________________________\n",
      "concatenate_5 (Concatenate)     (None, 32, 32, 76)   0           concatenate_4[0][0]              \n",
      "                                                                 dropout_5[0][0]                  \n",
      "__________________________________________________________________________________________________\n",
      "batch_normalization_11 (BatchNo (None, 32, 32, 76)   304         concatenate_5[0][0]              \n",
      "__________________________________________________________________________________________________\n",
      "activation_11 (Activation)      (None, 32, 32, 76)   0           batch_normalization_11[0][0]     \n",
      "__________________________________________________________________________________________________\n",
      "conv2d_12 (Conv2D)              (None, 32, 32, 12)   912         activation_11[0][0]              \n",
      "__________________________________________________________________________________________________\n",
      "batch_normalization_12 (BatchNo (None, 32, 32, 12)   48          conv2d_12[0][0]                  \n",
      "__________________________________________________________________________________________________\n",
      "activation_12 (Activation)      (None, 32, 32, 12)   0           batch_normalization_12[0][0]     \n",
      "__________________________________________________________________________________________________\n",
      "conv2d_13 (Conv2D)              (None, 32, 32, 12)   1296        activation_12[0][0]              \n",
      "__________________________________________________________________________________________________\n",
      "dropout_6 (Dropout)             (None, 32, 32, 12)   0           conv2d_13[0][0]                  \n",
      "__________________________________________________________________________________________________\n",
      "concatenate_6 (Concatenate)     (None, 32, 32, 88)   0           concatenate_5[0][0]              \n",
      "                                                                 dropout_6[0][0]                  \n",
      "__________________________________________________________________________________________________\n",
      "batch_normalization_13 (BatchNo (None, 32, 32, 88)   352         concatenate_6[0][0]              \n",
      "__________________________________________________________________________________________________\n",
      "activation_13 (Activation)      (None, 32, 32, 88)   0           batch_normalization_13[0][0]     \n",
      "__________________________________________________________________________________________________\n",
      "conv2d_14 (Conv2D)              (None, 32, 32, 12)   1056        activation_13[0][0]              \n",
      "__________________________________________________________________________________________________\n",
      "dropout_7 (Dropout)             (None, 32, 32, 12)   0           conv2d_14[0][0]                  \n",
      "__________________________________________________________________________________________________\n",
      "average_pooling2d_1 (AveragePoo (None, 16, 16, 12)   0           dropout_7[0][0]                  \n",
      "__________________________________________________________________________________________________\n",
      "batch_normalization_14 (BatchNo (None, 16, 16, 12)   48          average_pooling2d_1[0][0]        \n",
      "__________________________________________________________________________________________________\n",
      "activation_14 (Activation)      (None, 16, 16, 12)   0           batch_normalization_14[0][0]     \n",
      "__________________________________________________________________________________________________\n",
      "conv2d_15 (Conv2D)              (None, 16, 16, 12)   144         activation_14[0][0]              \n",
      "__________________________________________________________________________________________________\n",
      "batch_normalization_15 (BatchNo (None, 16, 16, 12)   48          conv2d_15[0][0]                  \n",
      "__________________________________________________________________________________________________\n",
      "activation_15 (Activation)      (None, 16, 16, 12)   0           batch_normalization_15[0][0]     \n",
      "__________________________________________________________________________________________________\n",
      "conv2d_16 (Conv2D)              (None, 16, 16, 12)   1296        activation_15[0][0]              \n",
      "__________________________________________________________________________________________________\n",
      "dropout_8 (Dropout)             (None, 16, 16, 12)   0           conv2d_16[0][0]                  \n",
      "__________________________________________________________________________________________________\n",
      "concatenate_7 (Concatenate)     (None, 16, 16, 24)   0           average_pooling2d_1[0][0]        \n",
      "                                                                 dropout_8[0][0]                  \n",
      "__________________________________________________________________________________________________\n",
      "batch_normalization_16 (BatchNo (None, 16, 16, 24)   96          concatenate_7[0][0]              \n",
      "__________________________________________________________________________________________________\n",
      "activation_16 (Activation)      (None, 16, 16, 24)   0           batch_normalization_16[0][0]     \n",
      "__________________________________________________________________________________________________\n",
      "conv2d_17 (Conv2D)              (None, 16, 16, 12)   288         activation_16[0][0]              \n",
      "__________________________________________________________________________________________________\n",
      "batch_normalization_17 (BatchNo (None, 16, 16, 12)   48          conv2d_17[0][0]                  \n",
      "__________________________________________________________________________________________________\n",
      "activation_17 (Activation)      (None, 16, 16, 12)   0           batch_normalization_17[0][0]     \n",
      "__________________________________________________________________________________________________\n",
      "conv2d_18 (Conv2D)              (None, 16, 16, 12)   1296        activation_17[0][0]              \n",
      "__________________________________________________________________________________________________\n",
      "dropout_9 (Dropout)             (None, 16, 16, 12)   0           conv2d_18[0][0]                  \n",
      "__________________________________________________________________________________________________\n",
      "concatenate_8 (Concatenate)     (None, 16, 16, 36)   0           concatenate_7[0][0]              \n",
      "                                                                 dropout_9[0][0]                  \n",
      "__________________________________________________________________________________________________\n",
      "batch_normalization_18 (BatchNo (None, 16, 16, 36)   144         concatenate_8[0][0]              \n",
      "__________________________________________________________________________________________________\n",
      "activation_18 (Activation)      (None, 16, 16, 36)   0           batch_normalization_18[0][0]     \n",
      "__________________________________________________________________________________________________\n",
      "conv2d_19 (Conv2D)              (None, 16, 16, 12)   432         activation_18[0][0]              \n",
      "__________________________________________________________________________________________________\n",
      "batch_normalization_19 (BatchNo (None, 16, 16, 12)   48          conv2d_19[0][0]                  \n",
      "__________________________________________________________________________________________________\n",
      "activation_19 (Activation)      (None, 16, 16, 12)   0           batch_normalization_19[0][0]     \n",
      "__________________________________________________________________________________________________\n",
      "conv2d_20 (Conv2D)              (None, 16, 16, 12)   1296        activation_19[0][0]              \n",
      "__________________________________________________________________________________________________\n",
      "dropout_10 (Dropout)            (None, 16, 16, 12)   0           conv2d_20[0][0]                  \n",
      "__________________________________________________________________________________________________\n",
      "concatenate_9 (Concatenate)     (None, 16, 16, 48)   0           concatenate_8[0][0]              \n",
      "                                                                 dropout_10[0][0]                 \n",
      "__________________________________________________________________________________________________\n",
      "batch_normalization_20 (BatchNo (None, 16, 16, 48)   192         concatenate_9[0][0]              \n",
      "__________________________________________________________________________________________________\n",
      "activation_20 (Activation)      (None, 16, 16, 48)   0           batch_normalization_20[0][0]     \n",
      "__________________________________________________________________________________________________\n",
      "conv2d_21 (Conv2D)              (None, 16, 16, 12)   576         activation_20[0][0]              \n",
      "__________________________________________________________________________________________________\n",
      "batch_normalization_21 (BatchNo (None, 16, 16, 12)   48          conv2d_21[0][0]                  \n",
      "__________________________________________________________________________________________________\n",
      "activation_21 (Activation)      (None, 16, 16, 12)   0           batch_normalization_21[0][0]     \n",
      "__________________________________________________________________________________________________\n",
      "conv2d_22 (Conv2D)              (None, 16, 16, 12)   1296        activation_21[0][0]              \n",
      "__________________________________________________________________________________________________\n",
      "dropout_11 (Dropout)            (None, 16, 16, 12)   0           conv2d_22[0][0]                  \n",
      "__________________________________________________________________________________________________\n",
      "concatenate_10 (Concatenate)    (None, 16, 16, 60)   0           concatenate_9[0][0]              \n",
      "                                                                 dropout_11[0][0]                 \n",
      "__________________________________________________________________________________________________\n",
      "batch_normalization_22 (BatchNo (None, 16, 16, 60)   240         concatenate_10[0][0]             \n",
      "__________________________________________________________________________________________________\n",
      "activation_22 (Activation)      (None, 16, 16, 60)   0           batch_normalization_22[0][0]     \n",
      "__________________________________________________________________________________________________\n",
      "conv2d_23 (Conv2D)              (None, 16, 16, 12)   720         activation_22[0][0]              \n",
      "__________________________________________________________________________________________________\n",
      "batch_normalization_23 (BatchNo (None, 16, 16, 12)   48          conv2d_23[0][0]                  \n",
      "__________________________________________________________________________________________________\n",
      "activation_23 (Activation)      (None, 16, 16, 12)   0           batch_normalization_23[0][0]     \n",
      "__________________________________________________________________________________________________\n",
      "conv2d_24 (Conv2D)              (None, 16, 16, 12)   1296        activation_23[0][0]              \n",
      "__________________________________________________________________________________________________\n",
      "dropout_12 (Dropout)            (None, 16, 16, 12)   0           conv2d_24[0][0]                  \n",
      "__________________________________________________________________________________________________\n",
      "concatenate_11 (Concatenate)    (None, 16, 16, 72)   0           concatenate_10[0][0]             \n",
      "                                                                 dropout_12[0][0]                 \n",
      "__________________________________________________________________________________________________\n",
      "batch_normalization_24 (BatchNo (None, 16, 16, 72)   288         concatenate_11[0][0]             \n",
      "__________________________________________________________________________________________________\n",
      "activation_24 (Activation)      (None, 16, 16, 72)   0           batch_normalization_24[0][0]     \n",
      "__________________________________________________________________________________________________\n",
      "conv2d_25 (Conv2D)              (None, 16, 16, 12)   864         activation_24[0][0]              \n",
      "__________________________________________________________________________________________________\n",
      "batch_normalization_25 (BatchNo (None, 16, 16, 12)   48          conv2d_25[0][0]                  \n",
      "__________________________________________________________________________________________________\n",
      "activation_25 (Activation)      (None, 16, 16, 12)   0           batch_normalization_25[0][0]     \n",
      "__________________________________________________________________________________________________\n",
      "conv2d_26 (Conv2D)              (None, 16, 16, 12)   1296        activation_25[0][0]              \n",
      "__________________________________________________________________________________________________\n",
      "dropout_13 (Dropout)            (None, 16, 16, 12)   0           conv2d_26[0][0]                  \n",
      "__________________________________________________________________________________________________\n",
      "concatenate_12 (Concatenate)    (None, 16, 16, 84)   0           concatenate_11[0][0]             \n",
      "                                                                 dropout_13[0][0]                 \n",
      "__________________________________________________________________________________________________\n",
      "batch_normalization_26 (BatchNo (None, 16, 16, 84)   336         concatenate_12[0][0]             \n",
      "__________________________________________________________________________________________________\n",
      "activation_26 (Activation)      (None, 16, 16, 84)   0           batch_normalization_26[0][0]     \n",
      "__________________________________________________________________________________________________\n",
      "conv2d_27 (Conv2D)              (None, 16, 16, 12)   1008        activation_26[0][0]              \n",
      "__________________________________________________________________________________________________\n",
      "batch_normalization_27 (BatchNo (None, 16, 16, 12)   48          conv2d_27[0][0]                  \n",
      "__________________________________________________________________________________________________\n",
      "activation_27 (Activation)      (None, 16, 16, 12)   0           batch_normalization_27[0][0]     \n",
      "__________________________________________________________________________________________________\n",
      "conv2d_28 (Conv2D)              (None, 16, 16, 12)   1296        activation_27[0][0]              \n",
      "__________________________________________________________________________________________________\n",
      "dropout_14 (Dropout)            (None, 16, 16, 12)   0           conv2d_28[0][0]                  \n",
      "__________________________________________________________________________________________________\n",
      "concatenate_13 (Concatenate)    (None, 16, 16, 96)   0           concatenate_12[0][0]             \n",
      "                                                                 dropout_14[0][0]                 \n",
      "__________________________________________________________________________________________________\n",
      "batch_normalization_28 (BatchNo (None, 16, 16, 96)   384         concatenate_13[0][0]             \n",
      "__________________________________________________________________________________________________\n",
      "activation_28 (Activation)      (None, 16, 16, 96)   0           batch_normalization_28[0][0]     \n",
      "__________________________________________________________________________________________________\n",
      "conv2d_29 (Conv2D)              (None, 16, 16, 12)   1152        activation_28[0][0]              \n",
      "__________________________________________________________________________________________________\n",
      "batch_normalization_29 (BatchNo (None, 16, 16, 12)   48          conv2d_29[0][0]                  \n",
      "__________________________________________________________________________________________________\n",
      "activation_29 (Activation)      (None, 16, 16, 12)   0           batch_normalization_29[0][0]     \n",
      "__________________________________________________________________________________________________\n",
      "conv2d_30 (Conv2D)              (None, 16, 16, 12)   1296        activation_29[0][0]              \n",
      "__________________________________________________________________________________________________\n",
      "dropout_15 (Dropout)            (None, 16, 16, 12)   0           conv2d_30[0][0]                  \n",
      "__________________________________________________________________________________________________\n",
      "concatenate_14 (Concatenate)    (None, 16, 16, 108)  0           concatenate_13[0][0]             \n",
      "                                                                 dropout_15[0][0]                 \n",
      "__________________________________________________________________________________________________\n",
      "batch_normalization_30 (BatchNo (None, 16, 16, 108)  432         concatenate_14[0][0]             \n",
      "__________________________________________________________________________________________________\n",
      "activation_30 (Activation)      (None, 16, 16, 108)  0           batch_normalization_30[0][0]     \n",
      "__________________________________________________________________________________________________\n",
      "conv2d_31 (Conv2D)              (None, 16, 16, 12)   1296        activation_30[0][0]              \n",
      "__________________________________________________________________________________________________\n",
      "batch_normalization_31 (BatchNo (None, 16, 16, 12)   48          conv2d_31[0][0]                  \n",
      "__________________________________________________________________________________________________\n",
      "activation_31 (Activation)      (None, 16, 16, 12)   0           batch_normalization_31[0][0]     \n",
      "__________________________________________________________________________________________________\n",
      "conv2d_32 (Conv2D)              (None, 16, 16, 12)   1296        activation_31[0][0]              \n",
      "__________________________________________________________________________________________________\n",
      "dropout_16 (Dropout)            (None, 16, 16, 12)   0           conv2d_32[0][0]                  \n",
      "__________________________________________________________________________________________________\n",
      "concatenate_15 (Concatenate)    (None, 16, 16, 120)  0           concatenate_14[0][0]             \n",
      "                                                                 dropout_16[0][0]                 \n",
      "__________________________________________________________________________________________________\n",
      "batch_normalization_32 (BatchNo (None, 16, 16, 120)  480         concatenate_15[0][0]             \n",
      "__________________________________________________________________________________________________\n",
      "activation_32 (Activation)      (None, 16, 16, 120)  0           batch_normalization_32[0][0]     \n",
      "__________________________________________________________________________________________________\n",
      "conv2d_33 (Conv2D)              (None, 16, 16, 12)   1440        activation_32[0][0]              \n",
      "__________________________________________________________________________________________________\n",
      "batch_normalization_33 (BatchNo (None, 16, 16, 12)   48          conv2d_33[0][0]                  \n",
      "__________________________________________________________________________________________________\n",
      "activation_33 (Activation)      (None, 16, 16, 12)   0           batch_normalization_33[0][0]     \n",
      "__________________________________________________________________________________________________\n",
      "conv2d_34 (Conv2D)              (None, 16, 16, 12)   1296        activation_33[0][0]              \n",
      "__________________________________________________________________________________________________\n",
      "dropout_17 (Dropout)            (None, 16, 16, 12)   0           conv2d_34[0][0]                  \n",
      "__________________________________________________________________________________________________\n",
      "concatenate_16 (Concatenate)    (None, 16, 16, 132)  0           concatenate_15[0][0]             \n",
      "                                                                 dropout_17[0][0]                 \n",
      "__________________________________________________________________________________________________\n",
      "batch_normalization_34 (BatchNo (None, 16, 16, 132)  528         concatenate_16[0][0]             \n",
      "__________________________________________________________________________________________________\n",
      "activation_34 (Activation)      (None, 16, 16, 132)  0           batch_normalization_34[0][0]     \n",
      "__________________________________________________________________________________________________\n",
      "conv2d_35 (Conv2D)              (None, 16, 16, 12)   1584        activation_34[0][0]              \n",
      "__________________________________________________________________________________________________\n",
      "batch_normalization_35 (BatchNo (None, 16, 16, 12)   48          conv2d_35[0][0]                  \n",
      "__________________________________________________________________________________________________\n",
      "activation_35 (Activation)      (None, 16, 16, 12)   0           batch_normalization_35[0][0]     \n",
      "__________________________________________________________________________________________________\n",
      "conv2d_36 (Conv2D)              (None, 16, 16, 12)   1296        activation_35[0][0]              \n",
      "__________________________________________________________________________________________________\n",
      "dropout_18 (Dropout)            (None, 16, 16, 12)   0           conv2d_36[0][0]                  \n",
      "__________________________________________________________________________________________________\n",
      "concatenate_17 (Concatenate)    (None, 16, 16, 144)  0           concatenate_16[0][0]             \n",
      "                                                                 dropout_18[0][0]                 \n",
      "__________________________________________________________________________________________________\n",
      "batch_normalization_36 (BatchNo (None, 16, 16, 144)  576         concatenate_17[0][0]             \n",
      "__________________________________________________________________________________________________\n",
      "activation_36 (Activation)      (None, 16, 16, 144)  0           batch_normalization_36[0][0]     \n",
      "__________________________________________________________________________________________________\n",
      "conv2d_37 (Conv2D)              (None, 16, 16, 12)   1728        activation_36[0][0]              \n",
      "__________________________________________________________________________________________________\n",
      "batch_normalization_37 (BatchNo (None, 16, 16, 12)   48          conv2d_37[0][0]                  \n",
      "__________________________________________________________________________________________________\n",
      "activation_37 (Activation)      (None, 16, 16, 12)   0           batch_normalization_37[0][0]     \n",
      "__________________________________________________________________________________________________\n",
      "conv2d_38 (Conv2D)              (None, 16, 16, 12)   1296        activation_37[0][0]              \n",
      "__________________________________________________________________________________________________\n",
      "dropout_19 (Dropout)            (None, 16, 16, 12)   0           conv2d_38[0][0]                  \n",
      "__________________________________________________________________________________________________\n",
      "concatenate_18 (Concatenate)    (None, 16, 16, 156)  0           concatenate_17[0][0]             \n",
      "                                                                 dropout_19[0][0]                 \n",
      "__________________________________________________________________________________________________\n",
      "batch_normalization_38 (BatchNo (None, 16, 16, 156)  624         concatenate_18[0][0]             \n",
      "__________________________________________________________________________________________________\n",
      "activation_38 (Activation)      (None, 16, 16, 156)  0           batch_normalization_38[0][0]     \n",
      "__________________________________________________________________________________________________\n",
      "conv2d_39 (Conv2D)              (None, 16, 16, 12)   1872        activation_38[0][0]              \n",
      "__________________________________________________________________________________________________\n",
      "dropout_20 (Dropout)            (None, 16, 16, 12)   0           conv2d_39[0][0]                  \n",
      "__________________________________________________________________________________________________\n",
      "average_pooling2d_2 (AveragePoo (None, 8, 8, 12)     0           dropout_20[0][0]                 \n",
      "__________________________________________________________________________________________________\n",
      "batch_normalization_39 (BatchNo (None, 8, 8, 12)     48          average_pooling2d_2[0][0]        \n",
      "__________________________________________________________________________________________________\n",
      "activation_39 (Activation)      (None, 8, 8, 12)     0           batch_normalization_39[0][0]     \n",
      "__________________________________________________________________________________________________\n",
      "conv2d_40 (Conv2D)              (None, 8, 8, 12)     144         activation_39[0][0]              \n",
      "__________________________________________________________________________________________________\n",
      "batch_normalization_40 (BatchNo (None, 8, 8, 12)     48          conv2d_40[0][0]                  \n",
      "__________________________________________________________________________________________________\n",
      "activation_40 (Activation)      (None, 8, 8, 12)     0           batch_normalization_40[0][0]     \n",
      "__________________________________________________________________________________________________\n",
      "conv2d_41 (Conv2D)              (None, 8, 8, 12)     1296        activation_40[0][0]              \n",
      "__________________________________________________________________________________________________\n",
      "dropout_21 (Dropout)            (None, 8, 8, 12)     0           conv2d_41[0][0]                  \n",
      "__________________________________________________________________________________________________\n",
      "concatenate_19 (Concatenate)    (None, 8, 8, 24)     0           average_pooling2d_2[0][0]        \n",
      "                                                                 dropout_21[0][0]                 \n",
      "__________________________________________________________________________________________________\n",
      "batch_normalization_41 (BatchNo (None, 8, 8, 24)     96          concatenate_19[0][0]             \n",
      "__________________________________________________________________________________________________\n",
      "activation_41 (Activation)      (None, 8, 8, 24)     0           batch_normalization_41[0][0]     \n",
      "__________________________________________________________________________________________________\n",
      "conv2d_42 (Conv2D)              (None, 8, 8, 12)     288         activation_41[0][0]              \n",
      "__________________________________________________________________________________________________\n",
      "batch_normalization_42 (BatchNo (None, 8, 8, 12)     48          conv2d_42[0][0]                  \n",
      "__________________________________________________________________________________________________\n",
      "activation_42 (Activation)      (None, 8, 8, 12)     0           batch_normalization_42[0][0]     \n",
      "__________________________________________________________________________________________________\n",
      "conv2d_43 (Conv2D)              (None, 8, 8, 12)     1296        activation_42[0][0]              \n",
      "__________________________________________________________________________________________________\n",
      "dropout_22 (Dropout)            (None, 8, 8, 12)     0           conv2d_43[0][0]                  \n",
      "__________________________________________________________________________________________________\n",
      "concatenate_20 (Concatenate)    (None, 8, 8, 36)     0           concatenate_19[0][0]             \n",
      "                                                                 dropout_22[0][0]                 \n",
      "__________________________________________________________________________________________________\n",
      "batch_normalization_43 (BatchNo (None, 8, 8, 36)     144         concatenate_20[0][0]             \n",
      "__________________________________________________________________________________________________\n",
      "activation_43 (Activation)      (None, 8, 8, 36)     0           batch_normalization_43[0][0]     \n",
      "__________________________________________________________________________________________________\n",
      "conv2d_44 (Conv2D)              (None, 8, 8, 12)     432         activation_43[0][0]              \n",
      "__________________________________________________________________________________________________\n",
      "batch_normalization_44 (BatchNo (None, 8, 8, 12)     48          conv2d_44[0][0]                  \n",
      "__________________________________________________________________________________________________\n",
      "activation_44 (Activation)      (None, 8, 8, 12)     0           batch_normalization_44[0][0]     \n",
      "__________________________________________________________________________________________________\n",
      "conv2d_45 (Conv2D)              (None, 8, 8, 12)     1296        activation_44[0][0]              \n",
      "__________________________________________________________________________________________________\n",
      "dropout_23 (Dropout)            (None, 8, 8, 12)     0           conv2d_45[0][0]                  \n",
      "__________________________________________________________________________________________________\n",
      "concatenate_21 (Concatenate)    (None, 8, 8, 48)     0           concatenate_20[0][0]             \n",
      "                                                                 dropout_23[0][0]                 \n",
      "__________________________________________________________________________________________________\n",
      "batch_normalization_45 (BatchNo (None, 8, 8, 48)     192         concatenate_21[0][0]             \n",
      "__________________________________________________________________________________________________\n",
      "activation_45 (Activation)      (None, 8, 8, 48)     0           batch_normalization_45[0][0]     \n",
      "__________________________________________________________________________________________________\n",
      "conv2d_46 (Conv2D)              (None, 8, 8, 12)     576         activation_45[0][0]              \n",
      "__________________________________________________________________________________________________\n",
      "batch_normalization_46 (BatchNo (None, 8, 8, 12)     48          conv2d_46[0][0]                  \n",
      "__________________________________________________________________________________________________\n",
      "activation_46 (Activation)      (None, 8, 8, 12)     0           batch_normalization_46[0][0]     \n",
      "__________________________________________________________________________________________________\n",
      "conv2d_47 (Conv2D)              (None, 8, 8, 12)     1296        activation_46[0][0]              \n",
      "__________________________________________________________________________________________________\n",
      "dropout_24 (Dropout)            (None, 8, 8, 12)     0           conv2d_47[0][0]                  \n",
      "__________________________________________________________________________________________________\n",
      "concatenate_22 (Concatenate)    (None, 8, 8, 60)     0           concatenate_21[0][0]             \n",
      "                                                                 dropout_24[0][0]                 \n",
      "__________________________________________________________________________________________________\n",
      "batch_normalization_47 (BatchNo (None, 8, 8, 60)     240         concatenate_22[0][0]             \n",
      "__________________________________________________________________________________________________\n",
      "activation_47 (Activation)      (None, 8, 8, 60)     0           batch_normalization_47[0][0]     \n",
      "__________________________________________________________________________________________________\n",
      "conv2d_48 (Conv2D)              (None, 8, 8, 12)     720         activation_47[0][0]              \n",
      "__________________________________________________________________________________________________\n",
      "batch_normalization_48 (BatchNo (None, 8, 8, 12)     48          conv2d_48[0][0]                  \n",
      "__________________________________________________________________________________________________\n",
      "activation_48 (Activation)      (None, 8, 8, 12)     0           batch_normalization_48[0][0]     \n",
      "__________________________________________________________________________________________________\n",
      "conv2d_49 (Conv2D)              (None, 8, 8, 12)     1296        activation_48[0][0]              \n",
      "__________________________________________________________________________________________________\n",
      "dropout_25 (Dropout)            (None, 8, 8, 12)     0           conv2d_49[0][0]                  \n",
      "__________________________________________________________________________________________________\n",
      "concatenate_23 (Concatenate)    (None, 8, 8, 72)     0           concatenate_22[0][0]             \n",
      "                                                                 dropout_25[0][0]                 \n",
      "__________________________________________________________________________________________________\n",
      "batch_normalization_49 (BatchNo (None, 8, 8, 72)     288         concatenate_23[0][0]             \n",
      "__________________________________________________________________________________________________\n",
      "activation_49 (Activation)      (None, 8, 8, 72)     0           batch_normalization_49[0][0]     \n",
      "__________________________________________________________________________________________________\n",
      "conv2d_50 (Conv2D)              (None, 8, 8, 12)     864         activation_49[0][0]              \n",
      "__________________________________________________________________________________________________\n",
      "batch_normalization_50 (BatchNo (None, 8, 8, 12)     48          conv2d_50[0][0]                  \n",
      "__________________________________________________________________________________________________\n",
      "activation_50 (Activation)      (None, 8, 8, 12)     0           batch_normalization_50[0][0]     \n",
      "__________________________________________________________________________________________________\n",
      "conv2d_51 (Conv2D)              (None, 8, 8, 12)     1296        activation_50[0][0]              \n",
      "__________________________________________________________________________________________________\n",
      "dropout_26 (Dropout)            (None, 8, 8, 12)     0           conv2d_51[0][0]                  \n",
      "__________________________________________________________________________________________________\n",
      "concatenate_24 (Concatenate)    (None, 8, 8, 84)     0           concatenate_23[0][0]             \n",
      "                                                                 dropout_26[0][0]                 \n",
      "__________________________________________________________________________________________________\n",
      "batch_normalization_51 (BatchNo (None, 8, 8, 84)     336         concatenate_24[0][0]             \n",
      "__________________________________________________________________________________________________\n",
      "activation_51 (Activation)      (None, 8, 8, 84)     0           batch_normalization_51[0][0]     \n",
      "__________________________________________________________________________________________________\n",
      "conv2d_52 (Conv2D)              (None, 8, 8, 12)     1008        activation_51[0][0]              \n",
      "__________________________________________________________________________________________________\n",
      "batch_normalization_52 (BatchNo (None, 8, 8, 12)     48          conv2d_52[0][0]                  \n",
      "__________________________________________________________________________________________________\n",
      "activation_52 (Activation)      (None, 8, 8, 12)     0           batch_normalization_52[0][0]     \n",
      "__________________________________________________________________________________________________\n",
      "conv2d_53 (Conv2D)              (None, 8, 8, 12)     1296        activation_52[0][0]              \n",
      "__________________________________________________________________________________________________\n",
      "dropout_27 (Dropout)            (None, 8, 8, 12)     0           conv2d_53[0][0]                  \n",
      "__________________________________________________________________________________________________\n",
      "concatenate_25 (Concatenate)    (None, 8, 8, 96)     0           concatenate_24[0][0]             \n",
      "                                                                 dropout_27[0][0]                 \n",
      "__________________________________________________________________________________________________\n",
      "batch_normalization_53 (BatchNo (None, 8, 8, 96)     384         concatenate_25[0][0]             \n",
      "__________________________________________________________________________________________________\n",
      "activation_53 (Activation)      (None, 8, 8, 96)     0           batch_normalization_53[0][0]     \n",
      "__________________________________________________________________________________________________\n",
      "conv2d_54 (Conv2D)              (None, 8, 8, 12)     1152        activation_53[0][0]              \n",
      "__________________________________________________________________________________________________\n",
      "batch_normalization_54 (BatchNo (None, 8, 8, 12)     48          conv2d_54[0][0]                  \n",
      "__________________________________________________________________________________________________\n",
      "activation_54 (Activation)      (None, 8, 8, 12)     0           batch_normalization_54[0][0]     \n",
      "__________________________________________________________________________________________________\n",
      "conv2d_55 (Conv2D)              (None, 8, 8, 12)     1296        activation_54[0][0]              \n",
      "__________________________________________________________________________________________________\n",
      "dropout_28 (Dropout)            (None, 8, 8, 12)     0           conv2d_55[0][0]                  \n",
      "__________________________________________________________________________________________________\n",
      "concatenate_26 (Concatenate)    (None, 8, 8, 108)    0           concatenate_25[0][0]             \n",
      "                                                                 dropout_28[0][0]                 \n",
      "__________________________________________________________________________________________________\n",
      "batch_normalization_55 (BatchNo (None, 8, 8, 108)    432         concatenate_26[0][0]             \n",
      "__________________________________________________________________________________________________\n",
      "activation_55 (Activation)      (None, 8, 8, 108)    0           batch_normalization_55[0][0]     \n",
      "__________________________________________________________________________________________________\n",
      "conv2d_56 (Conv2D)              (None, 8, 8, 12)     1296        activation_55[0][0]              \n",
      "__________________________________________________________________________________________________\n",
      "batch_normalization_56 (BatchNo (None, 8, 8, 12)     48          conv2d_56[0][0]                  \n",
      "__________________________________________________________________________________________________\n",
      "activation_56 (Activation)      (None, 8, 8, 12)     0           batch_normalization_56[0][0]     \n",
      "__________________________________________________________________________________________________\n",
      "conv2d_57 (Conv2D)              (None, 8, 8, 12)     1296        activation_56[0][0]              \n",
      "__________________________________________________________________________________________________\n",
      "dropout_29 (Dropout)            (None, 8, 8, 12)     0           conv2d_57[0][0]                  \n",
      "__________________________________________________________________________________________________\n",
      "concatenate_27 (Concatenate)    (None, 8, 8, 120)    0           concatenate_26[0][0]             \n",
      "                                                                 dropout_29[0][0]                 \n",
      "__________________________________________________________________________________________________\n",
      "batch_normalization_57 (BatchNo (None, 8, 8, 120)    480         concatenate_27[0][0]             \n",
      "__________________________________________________________________________________________________\n",
      "activation_57 (Activation)      (None, 8, 8, 120)    0           batch_normalization_57[0][0]     \n",
      "__________________________________________________________________________________________________\n",
      "conv2d_58 (Conv2D)              (None, 8, 8, 12)     1440        activation_57[0][0]              \n",
      "__________________________________________________________________________________________________\n",
      "batch_normalization_58 (BatchNo (None, 8, 8, 12)     48          conv2d_58[0][0]                  \n",
      "__________________________________________________________________________________________________\n",
      "activation_58 (Activation)      (None, 8, 8, 12)     0           batch_normalization_58[0][0]     \n",
      "__________________________________________________________________________________________________\n",
      "conv2d_59 (Conv2D)              (None, 8, 8, 12)     1296        activation_58[0][0]              \n",
      "__________________________________________________________________________________________________\n",
      "dropout_30 (Dropout)            (None, 8, 8, 12)     0           conv2d_59[0][0]                  \n",
      "__________________________________________________________________________________________________\n",
      "concatenate_28 (Concatenate)    (None, 8, 8, 132)    0           concatenate_27[0][0]             \n",
      "                                                                 dropout_30[0][0]                 \n",
      "__________________________________________________________________________________________________\n",
      "batch_normalization_59 (BatchNo (None, 8, 8, 132)    528         concatenate_28[0][0]             \n",
      "__________________________________________________________________________________________________\n",
      "activation_59 (Activation)      (None, 8, 8, 132)    0           batch_normalization_59[0][0]     \n",
      "__________________________________________________________________________________________________\n",
      "conv2d_60 (Conv2D)              (None, 8, 8, 12)     1584        activation_59[0][0]              \n",
      "__________________________________________________________________________________________________\n",
      "batch_normalization_60 (BatchNo (None, 8, 8, 12)     48          conv2d_60[0][0]                  \n",
      "__________________________________________________________________________________________________\n",
      "activation_60 (Activation)      (None, 8, 8, 12)     0           batch_normalization_60[0][0]     \n",
      "__________________________________________________________________________________________________\n",
      "conv2d_61 (Conv2D)              (None, 8, 8, 12)     1296        activation_60[0][0]              \n",
      "__________________________________________________________________________________________________\n",
      "dropout_31 (Dropout)            (None, 8, 8, 12)     0           conv2d_61[0][0]                  \n",
      "__________________________________________________________________________________________________\n",
      "concatenate_29 (Concatenate)    (None, 8, 8, 144)    0           concatenate_28[0][0]             \n",
      "                                                                 dropout_31[0][0]                 \n",
      "__________________________________________________________________________________________________\n",
      "batch_normalization_61 (BatchNo (None, 8, 8, 144)    576         concatenate_29[0][0]             \n",
      "__________________________________________________________________________________________________\n",
      "activation_61 (Activation)      (None, 8, 8, 144)    0           batch_normalization_61[0][0]     \n",
      "__________________________________________________________________________________________________\n",
      "conv2d_62 (Conv2D)              (None, 8, 8, 12)     1728        activation_61[0][0]              \n",
      "__________________________________________________________________________________________________\n",
      "batch_normalization_62 (BatchNo (None, 8, 8, 12)     48          conv2d_62[0][0]                  \n",
      "__________________________________________________________________________________________________\n",
      "activation_62 (Activation)      (None, 8, 8, 12)     0           batch_normalization_62[0][0]     \n",
      "__________________________________________________________________________________________________\n",
      "conv2d_63 (Conv2D)              (None, 8, 8, 12)     1296        activation_62[0][0]              \n",
      "__________________________________________________________________________________________________\n",
      "dropout_32 (Dropout)            (None, 8, 8, 12)     0           conv2d_63[0][0]                  \n",
      "__________________________________________________________________________________________________\n",
      "concatenate_30 (Concatenate)    (None, 8, 8, 156)    0           concatenate_29[0][0]             \n",
      "                                                                 dropout_32[0][0]                 \n",
      "__________________________________________________________________________________________________\n",
      "batch_normalization_63 (BatchNo (None, 8, 8, 156)    624         concatenate_30[0][0]             \n",
      "__________________________________________________________________________________________________\n",
      "activation_63 (Activation)      (None, 8, 8, 156)    0           batch_normalization_63[0][0]     \n",
      "__________________________________________________________________________________________________\n",
      "conv2d_64 (Conv2D)              (None, 8, 8, 12)     1872        activation_63[0][0]              \n",
      "__________________________________________________________________________________________________\n",
      "batch_normalization_64 (BatchNo (None, 8, 8, 12)     48          conv2d_64[0][0]                  \n",
      "__________________________________________________________________________________________________\n",
      "activation_64 (Activation)      (None, 8, 8, 12)     0           batch_normalization_64[0][0]     \n",
      "__________________________________________________________________________________________________\n",
      "conv2d_65 (Conv2D)              (None, 8, 8, 12)     1296        activation_64[0][0]              \n",
      "__________________________________________________________________________________________________\n",
      "dropout_33 (Dropout)            (None, 8, 8, 12)     0           conv2d_65[0][0]                  \n",
      "__________________________________________________________________________________________________\n",
      "concatenate_31 (Concatenate)    (None, 8, 8, 168)    0           concatenate_30[0][0]             \n",
      "                                                                 dropout_33[0][0]                 \n",
      "__________________________________________________________________________________________________\n",
      "batch_normalization_65 (BatchNo (None, 8, 8, 168)    672         concatenate_31[0][0]             \n",
      "__________________________________________________________________________________________________\n"
     ]
    },
    {
     "name": "stdout",
     "output_type": "stream",
     "text": [
      "activation_65 (Activation)      (None, 8, 8, 168)    0           batch_normalization_65[0][0]     \n",
      "__________________________________________________________________________________________________\n",
      "conv2d_66 (Conv2D)              (None, 8, 8, 12)     2016        activation_65[0][0]              \n",
      "__________________________________________________________________________________________________\n",
      "batch_normalization_66 (BatchNo (None, 8, 8, 12)     48          conv2d_66[0][0]                  \n",
      "__________________________________________________________________________________________________\n",
      "activation_66 (Activation)      (None, 8, 8, 12)     0           batch_normalization_66[0][0]     \n",
      "__________________________________________________________________________________________________\n",
      "conv2d_67 (Conv2D)              (None, 8, 8, 12)     1296        activation_66[0][0]              \n",
      "__________________________________________________________________________________________________\n",
      "dropout_34 (Dropout)            (None, 8, 8, 12)     0           conv2d_67[0][0]                  \n",
      "__________________________________________________________________________________________________\n",
      "concatenate_32 (Concatenate)    (None, 8, 8, 180)    0           concatenate_31[0][0]             \n",
      "                                                                 dropout_34[0][0]                 \n",
      "__________________________________________________________________________________________________\n",
      "batch_normalization_67 (BatchNo (None, 8, 8, 180)    720         concatenate_32[0][0]             \n",
      "__________________________________________________________________________________________________\n",
      "activation_67 (Activation)      (None, 8, 8, 180)    0           batch_normalization_67[0][0]     \n",
      "__________________________________________________________________________________________________\n",
      "conv2d_68 (Conv2D)              (None, 8, 8, 12)     2160        activation_67[0][0]              \n",
      "__________________________________________________________________________________________________\n",
      "batch_normalization_68 (BatchNo (None, 8, 8, 12)     48          conv2d_68[0][0]                  \n",
      "__________________________________________________________________________________________________\n",
      "activation_68 (Activation)      (None, 8, 8, 12)     0           batch_normalization_68[0][0]     \n",
      "__________________________________________________________________________________________________\n",
      "conv2d_69 (Conv2D)              (None, 8, 8, 12)     1296        activation_68[0][0]              \n",
      "__________________________________________________________________________________________________\n",
      "dropout_35 (Dropout)            (None, 8, 8, 12)     0           conv2d_69[0][0]                  \n",
      "__________________________________________________________________________________________________\n",
      "concatenate_33 (Concatenate)    (None, 8, 8, 192)    0           concatenate_32[0][0]             \n",
      "                                                                 dropout_35[0][0]                 \n",
      "__________________________________________________________________________________________________\n",
      "batch_normalization_69 (BatchNo (None, 8, 8, 192)    768         concatenate_33[0][0]             \n",
      "__________________________________________________________________________________________________\n",
      "activation_69 (Activation)      (None, 8, 8, 192)    0           batch_normalization_69[0][0]     \n",
      "__________________________________________________________________________________________________\n",
      "conv2d_70 (Conv2D)              (None, 8, 8, 12)     2304        activation_69[0][0]              \n",
      "__________________________________________________________________________________________________\n",
      "batch_normalization_70 (BatchNo (None, 8, 8, 12)     48          conv2d_70[0][0]                  \n",
      "__________________________________________________________________________________________________\n",
      "activation_70 (Activation)      (None, 8, 8, 12)     0           batch_normalization_70[0][0]     \n",
      "__________________________________________________________________________________________________\n",
      "conv2d_71 (Conv2D)              (None, 8, 8, 12)     1296        activation_70[0][0]              \n",
      "__________________________________________________________________________________________________\n",
      "dropout_36 (Dropout)            (None, 8, 8, 12)     0           conv2d_71[0][0]                  \n",
      "__________________________________________________________________________________________________\n",
      "concatenate_34 (Concatenate)    (None, 8, 8, 204)    0           concatenate_33[0][0]             \n",
      "                                                                 dropout_36[0][0]                 \n",
      "__________________________________________________________________________________________________\n",
      "batch_normalization_71 (BatchNo (None, 8, 8, 204)    816         concatenate_34[0][0]             \n",
      "__________________________________________________________________________________________________\n",
      "activation_71 (Activation)      (None, 8, 8, 204)    0           batch_normalization_71[0][0]     \n",
      "__________________________________________________________________________________________________\n",
      "conv2d_72 (Conv2D)              (None, 8, 8, 12)     2448        activation_71[0][0]              \n",
      "__________________________________________________________________________________________________\n",
      "dropout_37 (Dropout)            (None, 8, 8, 12)     0           conv2d_72[0][0]                  \n",
      "__________________________________________________________________________________________________\n",
      "average_pooling2d_3 (AveragePoo (None, 4, 4, 12)     0           dropout_37[0][0]                 \n",
      "__________________________________________________________________________________________________\n",
      "batch_normalization_72 (BatchNo (None, 4, 4, 12)     48          average_pooling2d_3[0][0]        \n",
      "__________________________________________________________________________________________________\n",
      "activation_72 (Activation)      (None, 4, 4, 12)     0           batch_normalization_72[0][0]     \n",
      "__________________________________________________________________________________________________\n",
      "conv2d_73 (Conv2D)              (None, 4, 4, 12)     144         activation_72[0][0]              \n",
      "__________________________________________________________________________________________________\n",
      "batch_normalization_73 (BatchNo (None, 4, 4, 12)     48          conv2d_73[0][0]                  \n",
      "__________________________________________________________________________________________________\n",
      "activation_73 (Activation)      (None, 4, 4, 12)     0           batch_normalization_73[0][0]     \n",
      "__________________________________________________________________________________________________\n",
      "conv2d_74 (Conv2D)              (None, 4, 4, 12)     1296        activation_73[0][0]              \n",
      "__________________________________________________________________________________________________\n",
      "dropout_38 (Dropout)            (None, 4, 4, 12)     0           conv2d_74[0][0]                  \n",
      "__________________________________________________________________________________________________\n",
      "concatenate_35 (Concatenate)    (None, 4, 4, 24)     0           average_pooling2d_3[0][0]        \n",
      "                                                                 dropout_38[0][0]                 \n",
      "__________________________________________________________________________________________________\n",
      "batch_normalization_74 (BatchNo (None, 4, 4, 24)     96          concatenate_35[0][0]             \n",
      "__________________________________________________________________________________________________\n",
      "activation_74 (Activation)      (None, 4, 4, 24)     0           batch_normalization_74[0][0]     \n",
      "__________________________________________________________________________________________________\n",
      "conv2d_75 (Conv2D)              (None, 4, 4, 12)     288         activation_74[0][0]              \n",
      "__________________________________________________________________________________________________\n",
      "batch_normalization_75 (BatchNo (None, 4, 4, 12)     48          conv2d_75[0][0]                  \n",
      "__________________________________________________________________________________________________\n",
      "activation_75 (Activation)      (None, 4, 4, 12)     0           batch_normalization_75[0][0]     \n",
      "__________________________________________________________________________________________________\n",
      "conv2d_76 (Conv2D)              (None, 4, 4, 12)     1296        activation_75[0][0]              \n",
      "__________________________________________________________________________________________________\n",
      "dropout_39 (Dropout)            (None, 4, 4, 12)     0           conv2d_76[0][0]                  \n",
      "__________________________________________________________________________________________________\n",
      "concatenate_36 (Concatenate)    (None, 4, 4, 36)     0           concatenate_35[0][0]             \n",
      "                                                                 dropout_39[0][0]                 \n",
      "__________________________________________________________________________________________________\n",
      "batch_normalization_76 (BatchNo (None, 4, 4, 36)     144         concatenate_36[0][0]             \n",
      "__________________________________________________________________________________________________\n",
      "activation_76 (Activation)      (None, 4, 4, 36)     0           batch_normalization_76[0][0]     \n",
      "__________________________________________________________________________________________________\n",
      "conv2d_77 (Conv2D)              (None, 4, 4, 12)     432         activation_76[0][0]              \n",
      "__________________________________________________________________________________________________\n",
      "batch_normalization_77 (BatchNo (None, 4, 4, 12)     48          conv2d_77[0][0]                  \n",
      "__________________________________________________________________________________________________\n",
      "activation_77 (Activation)      (None, 4, 4, 12)     0           batch_normalization_77[0][0]     \n",
      "__________________________________________________________________________________________________\n",
      "conv2d_78 (Conv2D)              (None, 4, 4, 12)     1296        activation_77[0][0]              \n",
      "__________________________________________________________________________________________________\n",
      "dropout_40 (Dropout)            (None, 4, 4, 12)     0           conv2d_78[0][0]                  \n",
      "__________________________________________________________________________________________________\n",
      "concatenate_37 (Concatenate)    (None, 4, 4, 48)     0           concatenate_36[0][0]             \n",
      "                                                                 dropout_40[0][0]                 \n",
      "__________________________________________________________________________________________________\n",
      "batch_normalization_78 (BatchNo (None, 4, 4, 48)     192         concatenate_37[0][0]             \n",
      "__________________________________________________________________________________________________\n",
      "activation_78 (Activation)      (None, 4, 4, 48)     0           batch_normalization_78[0][0]     \n",
      "__________________________________________________________________________________________________\n",
      "conv2d_79 (Conv2D)              (None, 4, 4, 12)     576         activation_78[0][0]              \n",
      "__________________________________________________________________________________________________\n",
      "batch_normalization_79 (BatchNo (None, 4, 4, 12)     48          conv2d_79[0][0]                  \n",
      "__________________________________________________________________________________________________\n",
      "activation_79 (Activation)      (None, 4, 4, 12)     0           batch_normalization_79[0][0]     \n",
      "__________________________________________________________________________________________________\n",
      "conv2d_80 (Conv2D)              (None, 4, 4, 12)     1296        activation_79[0][0]              \n",
      "__________________________________________________________________________________________________\n",
      "dropout_41 (Dropout)            (None, 4, 4, 12)     0           conv2d_80[0][0]                  \n",
      "__________________________________________________________________________________________________\n",
      "concatenate_38 (Concatenate)    (None, 4, 4, 60)     0           concatenate_37[0][0]             \n",
      "                                                                 dropout_41[0][0]                 \n",
      "__________________________________________________________________________________________________\n",
      "batch_normalization_80 (BatchNo (None, 4, 4, 60)     240         concatenate_38[0][0]             \n",
      "__________________________________________________________________________________________________\n",
      "activation_80 (Activation)      (None, 4, 4, 60)     0           batch_normalization_80[0][0]     \n",
      "__________________________________________________________________________________________________\n",
      "conv2d_81 (Conv2D)              (None, 4, 4, 12)     720         activation_80[0][0]              \n",
      "__________________________________________________________________________________________________\n",
      "batch_normalization_81 (BatchNo (None, 4, 4, 12)     48          conv2d_81[0][0]                  \n",
      "__________________________________________________________________________________________________\n",
      "activation_81 (Activation)      (None, 4, 4, 12)     0           batch_normalization_81[0][0]     \n",
      "__________________________________________________________________________________________________\n",
      "conv2d_82 (Conv2D)              (None, 4, 4, 12)     1296        activation_81[0][0]              \n",
      "__________________________________________________________________________________________________\n",
      "dropout_42 (Dropout)            (None, 4, 4, 12)     0           conv2d_82[0][0]                  \n",
      "__________________________________________________________________________________________________\n",
      "concatenate_39 (Concatenate)    (None, 4, 4, 72)     0           concatenate_38[0][0]             \n",
      "                                                                 dropout_42[0][0]                 \n",
      "__________________________________________________________________________________________________\n",
      "batch_normalization_82 (BatchNo (None, 4, 4, 72)     288         concatenate_39[0][0]             \n",
      "__________________________________________________________________________________________________\n",
      "activation_82 (Activation)      (None, 4, 4, 72)     0           batch_normalization_82[0][0]     \n",
      "__________________________________________________________________________________________________\n",
      "conv2d_83 (Conv2D)              (None, 4, 4, 12)     864         activation_82[0][0]              \n",
      "__________________________________________________________________________________________________\n",
      "batch_normalization_83 (BatchNo (None, 4, 4, 12)     48          conv2d_83[0][0]                  \n",
      "__________________________________________________________________________________________________\n",
      "activation_83 (Activation)      (None, 4, 4, 12)     0           batch_normalization_83[0][0]     \n",
      "__________________________________________________________________________________________________\n",
      "conv2d_84 (Conv2D)              (None, 4, 4, 12)     1296        activation_83[0][0]              \n",
      "__________________________________________________________________________________________________\n",
      "dropout_43 (Dropout)            (None, 4, 4, 12)     0           conv2d_84[0][0]                  \n",
      "__________________________________________________________________________________________________\n",
      "concatenate_40 (Concatenate)    (None, 4, 4, 84)     0           concatenate_39[0][0]             \n",
      "                                                                 dropout_43[0][0]                 \n",
      "__________________________________________________________________________________________________\n",
      "batch_normalization_84 (BatchNo (None, 4, 4, 84)     336         concatenate_40[0][0]             \n",
      "__________________________________________________________________________________________________\n",
      "activation_84 (Activation)      (None, 4, 4, 84)     0           batch_normalization_84[0][0]     \n",
      "__________________________________________________________________________________________________\n",
      "conv2d_85 (Conv2D)              (None, 4, 4, 12)     1008        activation_84[0][0]              \n",
      "__________________________________________________________________________________________________\n",
      "batch_normalization_85 (BatchNo (None, 4, 4, 12)     48          conv2d_85[0][0]                  \n",
      "__________________________________________________________________________________________________\n",
      "activation_85 (Activation)      (None, 4, 4, 12)     0           batch_normalization_85[0][0]     \n",
      "__________________________________________________________________________________________________\n",
      "conv2d_86 (Conv2D)              (None, 4, 4, 12)     1296        activation_85[0][0]              \n",
      "__________________________________________________________________________________________________\n",
      "dropout_44 (Dropout)            (None, 4, 4, 12)     0           conv2d_86[0][0]                  \n",
      "__________________________________________________________________________________________________\n",
      "concatenate_41 (Concatenate)    (None, 4, 4, 96)     0           concatenate_40[0][0]             \n",
      "                                                                 dropout_44[0][0]                 \n",
      "__________________________________________________________________________________________________\n",
      "batch_normalization_86 (BatchNo (None, 4, 4, 96)     384         concatenate_41[0][0]             \n",
      "__________________________________________________________________________________________________\n",
      "activation_86 (Activation)      (None, 4, 4, 96)     0           batch_normalization_86[0][0]     \n",
      "__________________________________________________________________________________________________\n",
      "conv2d_87 (Conv2D)              (None, 4, 4, 12)     1152        activation_86[0][0]              \n",
      "__________________________________________________________________________________________________\n",
      "batch_normalization_87 (BatchNo (None, 4, 4, 12)     48          conv2d_87[0][0]                  \n",
      "__________________________________________________________________________________________________\n",
      "activation_87 (Activation)      (None, 4, 4, 12)     0           batch_normalization_87[0][0]     \n",
      "__________________________________________________________________________________________________\n",
      "conv2d_88 (Conv2D)              (None, 4, 4, 12)     1296        activation_87[0][0]              \n",
      "__________________________________________________________________________________________________\n",
      "dropout_45 (Dropout)            (None, 4, 4, 12)     0           conv2d_88[0][0]                  \n",
      "__________________________________________________________________________________________________\n",
      "concatenate_42 (Concatenate)    (None, 4, 4, 108)    0           concatenate_41[0][0]             \n",
      "                                                                 dropout_45[0][0]                 \n",
      "__________________________________________________________________________________________________\n",
      "batch_normalization_88 (BatchNo (None, 4, 4, 108)    432         concatenate_42[0][0]             \n",
      "__________________________________________________________________________________________________\n",
      "activation_88 (Activation)      (None, 4, 4, 108)    0           batch_normalization_88[0][0]     \n",
      "__________________________________________________________________________________________________\n",
      "conv2d_89 (Conv2D)              (None, 4, 4, 12)     1296        activation_88[0][0]              \n",
      "__________________________________________________________________________________________________\n",
      "batch_normalization_89 (BatchNo (None, 4, 4, 12)     48          conv2d_89[0][0]                  \n",
      "__________________________________________________________________________________________________\n",
      "activation_89 (Activation)      (None, 4, 4, 12)     0           batch_normalization_89[0][0]     \n",
      "__________________________________________________________________________________________________\n",
      "conv2d_90 (Conv2D)              (None, 4, 4, 12)     1296        activation_89[0][0]              \n",
      "__________________________________________________________________________________________________\n",
      "dropout_46 (Dropout)            (None, 4, 4, 12)     0           conv2d_90[0][0]                  \n",
      "__________________________________________________________________________________________________\n",
      "concatenate_43 (Concatenate)    (None, 4, 4, 120)    0           concatenate_42[0][0]             \n",
      "                                                                 dropout_46[0][0]                 \n",
      "__________________________________________________________________________________________________\n",
      "batch_normalization_90 (BatchNo (None, 4, 4, 120)    480         concatenate_43[0][0]             \n",
      "__________________________________________________________________________________________________\n",
      "activation_90 (Activation)      (None, 4, 4, 120)    0           batch_normalization_90[0][0]     \n",
      "__________________________________________________________________________________________________\n",
      "conv2d_91 (Conv2D)              (None, 4, 4, 12)     1440        activation_90[0][0]              \n",
      "__________________________________________________________________________________________________\n",
      "batch_normalization_91 (BatchNo (None, 4, 4, 12)     48          conv2d_91[0][0]                  \n",
      "__________________________________________________________________________________________________\n",
      "activation_91 (Activation)      (None, 4, 4, 12)     0           batch_normalization_91[0][0]     \n",
      "__________________________________________________________________________________________________\n",
      "conv2d_92 (Conv2D)              (None, 4, 4, 12)     1296        activation_91[0][0]              \n",
      "__________________________________________________________________________________________________\n",
      "dropout_47 (Dropout)            (None, 4, 4, 12)     0           conv2d_92[0][0]                  \n",
      "__________________________________________________________________________________________________\n",
      "concatenate_44 (Concatenate)    (None, 4, 4, 132)    0           concatenate_43[0][0]             \n",
      "                                                                 dropout_47[0][0]                 \n",
      "__________________________________________________________________________________________________\n",
      "batch_normalization_92 (BatchNo (None, 4, 4, 132)    528         concatenate_44[0][0]             \n",
      "__________________________________________________________________________________________________\n",
      "activation_92 (Activation)      (None, 4, 4, 132)    0           batch_normalization_92[0][0]     \n",
      "__________________________________________________________________________________________________\n",
      "conv2d_93 (Conv2D)              (None, 4, 4, 12)     1584        activation_92[0][0]              \n",
      "__________________________________________________________________________________________________\n",
      "batch_normalization_93 (BatchNo (None, 4, 4, 12)     48          conv2d_93[0][0]                  \n",
      "__________________________________________________________________________________________________\n",
      "activation_93 (Activation)      (None, 4, 4, 12)     0           batch_normalization_93[0][0]     \n",
      "__________________________________________________________________________________________________\n",
      "conv2d_94 (Conv2D)              (None, 4, 4, 12)     1296        activation_93[0][0]              \n",
      "__________________________________________________________________________________________________\n",
      "dropout_48 (Dropout)            (None, 4, 4, 12)     0           conv2d_94[0][0]                  \n",
      "__________________________________________________________________________________________________\n",
      "concatenate_45 (Concatenate)    (None, 4, 4, 144)    0           concatenate_44[0][0]             \n",
      "                                                                 dropout_48[0][0]                 \n",
      "__________________________________________________________________________________________________\n",
      "batch_normalization_94 (BatchNo (None, 4, 4, 144)    576         concatenate_45[0][0]             \n",
      "__________________________________________________________________________________________________\n",
      "activation_94 (Activation)      (None, 4, 4, 144)    0           batch_normalization_94[0][0]     \n",
      "__________________________________________________________________________________________________\n",
      "conv2d_95 (Conv2D)              (None, 4, 4, 12)     1728        activation_94[0][0]              \n",
      "__________________________________________________________________________________________________\n",
      "batch_normalization_95 (BatchNo (None, 4, 4, 12)     48          conv2d_95[0][0]                  \n",
      "__________________________________________________________________________________________________\n",
      "activation_95 (Activation)      (None, 4, 4, 12)     0           batch_normalization_95[0][0]     \n",
      "__________________________________________________________________________________________________\n",
      "conv2d_96 (Conv2D)              (None, 4, 4, 12)     1296        activation_95[0][0]              \n",
      "__________________________________________________________________________________________________\n",
      "dropout_49 (Dropout)            (None, 4, 4, 12)     0           conv2d_96[0][0]                  \n",
      "__________________________________________________________________________________________________\n",
      "concatenate_46 (Concatenate)    (None, 4, 4, 156)    0           concatenate_45[0][0]             \n",
      "                                                                 dropout_49[0][0]                 \n",
      "__________________________________________________________________________________________________\n",
      "batch_normalization_96 (BatchNo (None, 4, 4, 156)    624         concatenate_46[0][0]             \n",
      "__________________________________________________________________________________________________\n",
      "activation_96 (Activation)      (None, 4, 4, 156)    0           batch_normalization_96[0][0]     \n",
      "__________________________________________________________________________________________________\n",
      "average_pooling2d_4 (AveragePoo (None, 2, 2, 156)    0           activation_96[0][0]              \n",
      "__________________________________________________________________________________________________\n",
      "flatten_1 (Flatten)             (None, 624)          0           average_pooling2d_4[0][0]        \n",
      "__________________________________________________________________________________________________\n",
      "dense_1 (Dense)                 (None, 10)           6250        flatten_1[0][0]                  \n",
      "==================================================================================================\n",
      "Total params: 136,778\n",
      "Trainable params: 126,906\n",
      "Non-trainable params: 9,872\n",
      "__________________________________________________________________________________________________\n"
     ]
    }
   ],
   "source": [
    "model = Model(inputs=[input], outputs=[output])# model 2 with variable depth, l=6,12,16,12\n",
    "model.summary() # model constant depth 1 with, l=12,12,12,12"
   ]
  },
  {
   "cell_type": "markdown",
   "metadata": {},
   "source": [
    "#### Saving model architectures as json string"
   ]
  },
  {
   "cell_type": "code",
   "execution_count": 0,
   "metadata": {
    "colab": {
     "autoexec": {
      "startup": false,
      "wait_interval": 0
     },
     "base_uri": "https://localhost:8080/",
     "height": 71
    },
    "colab_type": "code",
    "executionInfo": {
     "elapsed": 1290,
     "status": "ok",
     "timestamp": 1526384640150,
     "user": {
      "displayName": "Prakash Bisht",
      "photoUrl": "https://lh3.googleusercontent.com/a/default-user=s128",
      "userId": "117570314048106771115"
     },
     "user_tz": -330
    },
    "id": "IS1ehfUgjF5j",
    "outputId": "0f70569c-d49a-4dc0-b213-3369a948ee62"
   },
   "outputs": [
    {
     "name": "stdout",
     "output_type": "stream",
     "text": [
      "model 1: \n",
      " {\"class_name\": \"Model\", \"config\": {\"name\": \"model_1\", \"layers\": [{\"name\": \"input_1\", \"class_name\": \"InputLayer\", \"config\": {\"batch_input_shape\": [null, 32, 32, 3], \"dtype\": \"float32\", \"sparse\": false, \"name\": \"input_1\"}, \"inbound_nodes\": []}, {\"name\": \"conv2d_1\", \"class_name\": \"Conv2D\", \"config\": {\"name\": \"conv2d_1\", \"trainable\": true, \"filters\": 16, \"kernel_size\": [3, 3], \"strides\": [1, 1], \"padding\": \"same\", \"data_format\": \"channels_last\", \"dilation_rate\": [1, 1], \"activation\": \"linear\", \"use_bias\": false, \"kernel_initializer\": {\"class_name\": \"VarianceScaling\", \"config\": {\"scale\": 1.0, \"mode\": \"fan_avg\", \"distribution\": \"uniform\", \"seed\": null}}, \"bias_initializer\": {\"class_name\": \"Zeros\", \"config\": {}}, \"kernel_regularizer\": null, \"bias_regularizer\": null, \"activity_regularizer\": null, \"kernel_constraint\": null, \"bias_constraint\": null}, \"inbound_nodes\": [[[\"input_1\", 0, 0, {}]]]}, {\"name\": \"batch_normalization_1\", \"class_name\": \"BatchNormalization\", \"config\": {\"name\": \"batch_normalization_1\", \"trainable\": true, \"axis\": -1, \"momentum\": 0.99, \"epsilon\": 0.001, \"center\": true, \"scale\": true, \"beta_initializer\": {\"class_name\": \"Zeros\", \"config\": {}}, \"gamma_initializer\": {\"class_name\": \"Ones\", \"config\": {}}, \"moving_mean_initializer\": {\"class_name\": \"Zeros\", \"config\": {}}, \"moving_variance_initializer\": {\"class_name\": \"Ones\", \"config\": {}}, \"beta_regularizer\": null, \"gamma_regularizer\": null, \"beta_constraint\": null, \"gamma_constraint\": null}, \"inbound_nodes\": [[[\"conv2d_1\", 0, 0, {}]]]}, {\"name\": \"activation_1\", \"class_name\": \"Activation\", \"config\": {\"name\": \"activation_1\", \"trainable\": true, \"activation\": \"relu\"}, \"inbound_nodes\": [[[\"batch_normalization_1\", 0, 0, {}]]]}, {\"name\": \"conv2d_2\", \"class_name\": \"Conv2D\", \"config\": {\"name\": \"conv2d_2\", \"trainable\": true, \"filters\": 12, \"kernel_size\": [1, 1], \"strides\": [1, 1], \"padding\": \"same\", \"data_format\": \"channels_last\", \"dilation_rate\": [1, 1], \"activation\": \"linear\", \"use_bias\": false, \"kernel_initializer\": {\"class_name\": \"VarianceScaling\", \"config\": {\"scale\": 1.0, \"mode\": \"fan_avg\", \"distribution\": \"uniform\", \"seed\": null}}, \"bias_initializer\": {\"class_name\": \"Zeros\", \"config\": {}}, \"kernel_regularizer\": null, \"bias_regularizer\": null, \"activity_regularizer\": null, \"kernel_constraint\": null, \"bias_constraint\": null}, \"inbound_nodes\": [[[\"activation_1\", 0, 0, {}]]]}, {\"name\": \"batch_normalization_2\", \"class_name\": \"BatchNormalization\", \"config\": {\"name\": \"batch_normalization_2\", \"trainable\": true, \"axis\": -1, \"momentum\": 0.99, \"epsilon\": 0.001, \"center\": true, \"scale\": true, \"beta_initializer\": {\"class_name\": \"Zeros\", \"config\": {}}, \"gamma_initializer\": {\"class_name\": \"Ones\", \"config\": {}}, \"moving_mean_initializer\": {\"class_name\": \"Zeros\", \"config\": {}}, \"moving_variance_initializer\": {\"class_name\": \"Ones\", \"config\": {}}, \"beta_regularizer\": null, \"gamma_regularizer\": null, \"beta_constraint\": null, \"gamma_constraint\": null}, \"inbound_nodes\": [[[\"conv2d_2\", 0, 0, {}]]]}, {\"name\": \"activation_2\", \"class_name\": \"Activation\", \"config\": {\"name\": \"activation_2\", \"trainable\": true, \"activation\": \"relu\"}, \"inbound_nodes\": [[[\"batch_normalization_2\", 0, 0, {}]]]}, {\"name\": \"conv2d_3\", \"class_name\": \"Conv2D\", \"config\": {\"name\": \"conv2d_3\", \"trainable\": true, \"filters\": 12, \"kernel_size\": [3, 3], \"strides\": [1, 1], \"padding\": \"same\", \"data_format\": \"channels_last\", \"dilation_rate\": [1, 1], \"activation\": \"linear\", \"use_bias\": false, \"kernel_initializer\": {\"class_name\": \"VarianceScaling\", \"config\": {\"scale\": 1.0, \"mode\": \"fan_avg\", \"distribution\": \"uniform\", \"seed\": null}}, \"bias_initializer\": {\"class_name\": \"Zeros\", \"config\": {}}, \"kernel_regularizer\": null, \"bias_regularizer\": null, \"activity_regularizer\": null, \"kernel_constraint\": null, \"bias_constraint\": null}, \"inbound_nodes\": [[[\"activation_2\", 0, 0, {}]]]}, {\"name\": \"dropout_1\", \"class_name\": \"Dropout\", \"config\": {\"name\": \"dropout_1\", \"trainable\": true, \"rate\": 0.2, \"noise_shape\": null, \"seed\": null}, \"inbound_nodes\": [[[\"conv2d_3\", 0, 0, {}]]]}, {\"name\": \"concatenate_1\", \"class_name\": \"Concatenate\", \"config\": {\"name\": \"concatenate_1\", \"trainable\": true, \"axis\": -1}, \"inbound_nodes\": [[[\"conv2d_1\", 0, 0, {}], [\"dropout_1\", 0, 0, {}]]]}, {\"name\": \"batch_normalization_3\", \"class_name\": \"BatchNormalization\", \"config\": {\"name\": \"batch_normalization_3\", \"trainable\": true, \"axis\": -1, \"momentum\": 0.99, \"epsilon\": 0.001, \"center\": true, \"scale\": true, \"beta_initializer\": {\"class_name\": \"Zeros\", \"config\": {}}, \"gamma_initializer\": {\"class_name\": \"Ones\", \"config\": {}}, \"moving_mean_initializer\": {\"class_name\": \"Zeros\", \"config\": {}}, \"moving_variance_initializer\": {\"class_name\": \"Ones\", \"config\": {}}, \"beta_regularizer\": null, \"gamma_regularizer\": null, \"beta_constraint\": null, \"gamma_constraint\": null}, \"inbound_nodes\": [[[\"concatenate_1\", 0, 0, {}]]]}, {\"name\": \"activation_3\", \"class_name\": \"Activation\", \"config\": {\"name\": \"activation_3\", \"trainable\": true, \"activation\": \"relu\"}, \"inbound_nodes\": [[[\"batch_normalization_3\", 0, 0, {}]]]}, {\"name\": \"conv2d_4\", \"class_name\": \"Conv2D\", \"config\": {\"name\": \"conv2d_4\", \"trainable\": true, \"filters\": 12, \"kernel_size\": [1, 1], \"strides\": [1, 1], \"padding\": \"same\", \"data_format\": \"channels_last\", \"dilation_rate\": [1, 1], \"activation\": \"linear\", \"use_bias\": false, \"kernel_initializer\": {\"class_name\": \"VarianceScaling\", \"config\": {\"scale\": 1.0, \"mode\": \"fan_avg\", \"distribution\": \"uniform\", \"seed\": null}}, \"bias_initializer\": {\"class_name\": \"Zeros\", \"config\": {}}, \"kernel_regularizer\": null, \"bias_regularizer\": null, \"activity_regularizer\": null, \"kernel_constraint\": null, \"bias_constraint\": null}, \"inbound_nodes\": [[[\"activation_3\", 0, 0, {}]]]}, {\"name\": \"batch_normalization_4\", \"class_name\": \"BatchNormalization\", \"config\": {\"name\": \"batch_normalization_4\", \"trainable\": true, \"axis\": -1, \"momentum\": 0.99, \"epsilon\": 0.001, \"center\": true, \"scale\": true, \"beta_initializer\": {\"class_name\": \"Zeros\", \"config\": {}}, \"gamma_initializer\": {\"class_name\": \"Ones\", \"config\": {}}, \"moving_mean_initializer\": {\"class_name\": \"Zeros\", \"config\": {}}, \"moving_variance_initializer\": {\"class_name\": \"Ones\", \"config\": {}}, \"beta_regularizer\": null, \"gamma_regularizer\": null, \"beta_constraint\": null, \"gamma_constraint\": null}, \"inbound_nodes\": [[[\"conv2d_4\", 0, 0, {}]]]}, {\"name\": \"activation_4\", \"class_name\": \"Activation\", \"config\": {\"name\": \"activation_4\", \"trainable\": true, \"activation\": \"relu\"}, \"inbound_nodes\": [[[\"batch_normalization_4\", 0, 0, {}]]]}, {\"name\": \"conv2d_5\", \"class_name\": \"Conv2D\", \"config\": {\"name\": \"conv2d_5\", \"trainable\": true, \"filters\": 12, \"kernel_size\": [3, 3], \"strides\": [1, 1], \"padding\": \"same\", \"data_format\": \"channels_last\", \"dilation_rate\": [1, 1], \"activation\": \"linear\", \"use_bias\": false, \"kernel_initializer\": {\"class_name\": \"VarianceScaling\", \"config\": {\"scale\": 1.0, \"mode\": \"fan_avg\", \"distribution\": \"uniform\", \"seed\": null}}, \"bias_initializer\": {\"class_name\": \"Zeros\", \"config\": {}}, \"kernel_regularizer\": null, \"bias_regularizer\": null, \"activity_regularizer\": null, \"kernel_constraint\": null, \"bias_constraint\": null}, \"inbound_nodes\": [[[\"activation_4\", 0, 0, {}]]]}, {\"name\": \"dropout_2\", \"class_name\": \"Dropout\", \"config\": {\"name\": \"dropout_2\", \"trainable\": true, \"rate\": 0.2, \"noise_shape\": null, \"seed\": null}, \"inbound_nodes\": [[[\"conv2d_5\", 0, 0, {}]]]}, {\"name\": \"concatenate_2\", \"class_name\": \"Concatenate\", \"config\": {\"name\": \"concatenate_2\", \"trainable\": true, \"axis\": -1}, \"inbound_nodes\": [[[\"concatenate_1\", 0, 0, {}], [\"dropout_2\", 0, 0, {}]]]}, {\"name\": \"batch_normalization_5\", \"class_name\": \"BatchNormalization\", \"config\": {\"name\": \"batch_normalization_5\", \"trainable\": true, \"axis\": -1, \"momentum\": 0.99, \"epsilon\": 0.001, \"center\": true, \"scale\": true, \"beta_initializer\": {\"class_name\": \"Zeros\", \"config\": {}}, \"gamma_initializer\": {\"class_name\": \"Ones\", \"config\": {}}, \"moving_mean_initializer\": {\"class_name\": \"Zeros\", \"config\": {}}, \"moving_variance_initializer\": {\"class_name\": \"Ones\", \"config\": {}}, \"beta_regularizer\": null, \"gamma_regularizer\": null, \"beta_constraint\": null, \"gamma_constraint\": null}, \"inbound_nodes\": [[[\"concatenate_2\", 0, 0, {}]]]}, {\"name\": \"activation_5\", \"class_name\": \"Activation\", \"config\": {\"name\": \"activation_5\", \"trainable\": true, \"activation\": \"relu\"}, \"inbound_nodes\": [[[\"batch_normalization_5\", 0, 0, {}]]]}, {\"name\": \"conv2d_6\", \"class_name\": \"Conv2D\", \"config\": {\"name\": \"conv2d_6\", \"trainable\": true, \"filters\": 12, \"kernel_size\": [1, 1], \"strides\": [1, 1], \"padding\": \"same\", \"data_format\": \"channels_last\", \"dilation_rate\": [1, 1], \"activation\": \"linear\", \"use_bias\": false, \"kernel_initializer\": {\"class_name\": \"VarianceScaling\", \"config\": {\"scale\": 1.0, \"mode\": \"fan_avg\", \"distribution\": \"uniform\", \"seed\": null}}, \"bias_initializer\": {\"class_name\": \"Zeros\", \"config\": {}}, \"kernel_regularizer\": null, \"bias_regularizer\": null, \"activity_regularizer\": null, \"kernel_constraint\": null, \"bias_constraint\": null}, \"inbound_nodes\": [[[\"activation_5\", 0, 0, {}]]]}, {\"name\": \"batch_normalization_6\", \"class_name\": \"BatchNormalization\", \"config\": {\"name\": \"batch_normalization_6\", \"trainable\": true, \"axis\": -1, \"momentum\": 0.99, \"epsilon\": 0.001, \"center\": true, \"scale\": true, \"beta_initializer\": {\"class_name\": \"Zeros\", \"config\": {}}, \"gamma_initializer\": {\"class_name\": \"Ones\", \"config\": {}}, \"moving_mean_initializer\": {\"class_name\": \"Zeros\", \"config\": {}}, \"moving_variance_initializer\": {\"class_name\": \"Ones\", \"config\": {}}, \"beta_regularizer\": null, \"gamma_regularizer\": null, \"beta_constraint\": null, \"gamma_constraint\": null}, \"inbound_nodes\": [[[\"conv2d_6\", 0, 0, {}]]]}, {\"name\": \"activation_6\", \"class_name\": \"Activation\", \"config\": {\"name\": \"activation_6\", \"trainable\": true, \"activation\": \"relu\"}, \"inbound_nodes\": [[[\"batch_normalization_6\", 0, 0, {}]]]}, {\"name\": \"conv2d_7\", \"class_name\": \"Conv2D\", \"config\": {\"name\": \"conv2d_7\", \"trainable\": true, \"filters\": 12, \"kernel_size\": [3, 3], \"strides\": [1, 1], \"padding\": \"same\", \"data_format\": \"channels_last\", \"dilation_rate\": [1, 1], \"activation\": \"linear\", \"use_bias\": false, \"kernel_initializer\": {\"class_name\": \"VarianceScaling\", \"config\": {\"scale\": 1.0, \"mode\": \"fan_avg\", \"distribution\": \"uniform\", \"seed\": null}}, \"bias_initializer\": {\"class_name\": \"Zeros\", \"config\": {}}, \"kernel_regularizer\": null, \"bias_regularizer\": null, \"activity_regularizer\": null, \"kernel_constraint\": null, \"bias_constraint\": null}, \"inbound_nodes\": [[[\"activation_6\", 0, 0, {}]]]}, {\"name\": \"dropout_3\", \"class_name\": \"Dropout\", \"config\": {\"name\": \"dropout_3\", \"trainable\": true, \"rate\": 0.2, \"noise_shape\": null, \"seed\": null}, \"inbound_nodes\": [[[\"conv2d_7\", 0, 0, {}]]]}, {\"name\": \"concatenate_3\", \"class_name\": \"Concatenate\", \"config\": {\"name\": \"concatenate_3\", \"trainable\": true, \"axis\": -1}, \"inbound_nodes\": [[[\"concatenate_2\", 0, 0, {}], [\"dropout_3\", 0, 0, {}]]]}, {\"name\": \"batch_normalization_7\", \"class_name\": \"BatchNormalization\", \"config\": {\"name\": \"batch_normalization_7\", \"trainable\": true, \"axis\": -1, \"momentum\": 0.99, \"epsilon\": 0.001, \"center\": true, \"scale\": true, \"beta_initializer\": {\"class_name\": \"Zeros\", \"config\": {}}, \"gamma_initializer\": {\"class_name\": \"Ones\", \"config\": {}}, \"moving_mean_initializer\": {\"class_name\": \"Zeros\", \"config\": {}}, \"moving_variance_initializer\": {\"class_name\": \"Ones\", \"config\": {}}, \"beta_regularizer\": null, \"gamma_regularizer\": null, \"beta_constraint\": null, \"gamma_constraint\": null}, \"inbound_nodes\": [[[\"concatenate_3\", 0, 0, {}]]]}, {\"name\": \"activation_7\", \"class_name\": \"Activation\", \"config\": {\"name\": \"activation_7\", \"trainable\": true, \"activation\": \"relu\"}, \"inbound_nodes\": [[[\"batch_normalization_7\", 0, 0, {}]]]}, {\"name\": \"conv2d_8\", \"class_name\": \"Conv2D\", \"config\": {\"name\": \"conv2d_8\", \"trainable\": true, \"filters\": 12, \"kernel_size\": [1, 1], \"strides\": [1, 1], \"padding\": \"same\", \"data_format\": \"channels_last\", \"dilation_rate\": [1, 1], \"activation\": \"linear\", \"use_bias\": false, \"kernel_initializer\": {\"class_name\": \"VarianceScaling\", \"config\": {\"scale\": 1.0, \"mode\": \"fan_avg\", \"distribution\": \"uniform\", \"seed\": null}}, \"bias_initializer\": {\"class_name\": \"Zeros\", \"config\": {}}, \"kernel_regularizer\": null, \"bias_regularizer\": null, \"activity_regularizer\": null, \"kernel_constraint\": null, \"bias_constraint\": null}, \"inbound_nodes\": [[[\"activation_7\", 0, 0, {}]]]}, {\"name\": \"batch_normalization_8\", \"class_name\": \"BatchNormalization\", \"config\": {\"name\": \"batch_normalization_8\", \"trainable\": true, \"axis\": -1, \"momentum\": 0.99, \"epsilon\": 0.001, \"center\": true, \"scale\": true, \"beta_initializer\": {\"class_name\": \"Zeros\", \"config\": {}}, \"gamma_initializer\": {\"class_name\": \"Ones\", \"config\": {}}, \"moving_mean_initializer\": {\"class_name\": \"Zeros\", \"config\": {}}, \"moving_variance_initializer\": {\"class_name\": \"Ones\", \"config\": {}}, \"beta_regularizer\": null, \"gamma_regularizer\": null, \"beta_constraint\": null, \"gamma_constraint\": null}, \"inbound_nodes\": [[[\"conv2d_8\", 0, 0, {}]]]}, {\"name\": \"activation_8\", \"class_name\": \"Activation\", \"config\": {\"name\": \"activation_8\", \"trainable\": true, \"activation\": \"relu\"}, \"inbound_nodes\": [[[\"batch_normalization_8\", 0, 0, {}]]]}, {\"name\": \"conv2d_9\", \"class_name\": \"Conv2D\", \"config\": {\"name\": \"conv2d_9\", \"trainable\": true, \"filters\": 12, \"kernel_size\": [3, 3], \"strides\": [1, 1], \"padding\": \"same\", \"data_format\": \"channels_last\", \"dilation_rate\": [1, 1], \"activation\": \"linear\", \"use_bias\": false, \"kernel_initializer\": {\"class_name\": \"VarianceScaling\", \"config\": {\"scale\": 1.0, \"mode\": \"fan_avg\", \"distribution\": \"uniform\", \"seed\": null}}, \"bias_initializer\": {\"class_name\": \"Zeros\", \"config\": {}}, \"kernel_regularizer\": null, \"bias_regularizer\": null, \"activity_regularizer\": null, \"kernel_constraint\": null, \"bias_constraint\": null}, \"inbound_nodes\": [[[\"activation_8\", 0, 0, {}]]]}, {\"name\": \"dropout_4\", \"class_name\": \"Dropout\", \"config\": {\"name\": \"dropout_4\", \"trainable\": true, \"rate\": 0.2, \"noise_shape\": null, \"seed\": null}, \"inbound_nodes\": [[[\"conv2d_9\", 0, 0, {}]]]}, {\"name\": \"concatenate_4\", \"class_name\": \"Concatenate\", \"config\": {\"name\": \"concatenate_4\", \"trainable\": true, \"axis\": -1}, \"inbound_nodes\": [[[\"concatenate_3\", 0, 0, {}], [\"dropout_4\", 0, 0, {}]]]}, {\"name\": \"batch_normalization_9\", \"class_name\": \"BatchNormalization\", \"config\": {\"name\": \"batch_normalization_9\", \"trainable\": true, \"axis\": -1, \"momentum\": 0.99, \"epsilon\": 0.001, \"center\": true, \"scale\": true, \"beta_initializer\": {\"class_name\": \"Zeros\", \"config\": {}}, \"gamma_initializer\": {\"class_name\": \"Ones\", \"config\": {}}, \"moving_mean_initializer\": {\"class_name\": \"Zeros\", \"config\": {}}, \"moving_variance_initializer\": {\"class_name\": \"Ones\", \"config\": {}}, \"beta_regularizer\": null, \"gamma_regularizer\": null, \"beta_constraint\": null, \"gamma_constraint\": null}, \"inbound_nodes\": [[[\"concatenate_4\", 0, 0, {}]]]}, {\"name\": \"activation_9\", \"class_name\": \"Activation\", \"config\": {\"name\": \"activation_9\", \"trainable\": true, \"activation\": \"relu\"}, \"inbound_nodes\": [[[\"batch_normalization_9\", 0, 0, {}]]]}, {\"name\": \"conv2d_10\", \"class_name\": \"Conv2D\", \"config\": {\"name\": \"conv2d_10\", \"trainable\": true, \"filters\": 12, \"kernel_size\": [1, 1], \"strides\": [1, 1], \"padding\": \"same\", \"data_format\": \"channels_last\", \"dilation_rate\": [1, 1], \"activation\": \"linear\", \"use_bias\": false, \"kernel_initializer\": {\"class_name\": \"VarianceScaling\", \"config\": {\"scale\": 1.0, \"mode\": \"fan_avg\", \"distribution\": \"uniform\", \"seed\": null}}, \"bias_initializer\": {\"class_name\": \"Zeros\", \"config\": {}}, \"kernel_regularizer\": null, \"bias_regularizer\": null, \"activity_regularizer\": null, \"kernel_constraint\": null, \"bias_constraint\": null}, \"inbound_nodes\": [[[\"activation_9\", 0, 0, {}]]]}, {\"name\": \"batch_normalization_10\", \"class_name\": \"BatchNormalization\", \"config\": {\"name\": \"batch_normalization_10\", \"trainable\": true, \"axis\": -1, \"momentum\": 0.99, \"epsilon\": 0.001, \"center\": true, \"scale\": true, \"beta_initializer\": {\"class_name\": \"Zeros\", \"config\": {}}, \"gamma_initializer\": {\"class_name\": \"Ones\", \"config\": {}}, \"moving_mean_initializer\": {\"class_name\": \"Zeros\", \"config\": {}}, \"moving_variance_initializer\": {\"class_name\": \"Ones\", \"config\": {}}, \"beta_regularizer\": null, \"gamma_regularizer\": null, \"beta_constraint\": null, \"gamma_constraint\": null}, \"inbound_nodes\": [[[\"conv2d_10\", 0, 0, {}]]]}, {\"name\": \"activation_10\", \"class_name\": \"Activation\", \"config\": {\"name\": \"activation_10\", \"trainable\": true, \"activation\": \"relu\"}, \"inbound_nodes\": [[[\"batch_normalization_10\", 0, 0, {}]]]}, {\"name\": \"conv2d_11\", \"class_name\": \"Conv2D\", \"config\": {\"name\": \"conv2d_11\", \"trainable\": true, \"filters\": 12, \"kernel_size\": [3, 3], \"strides\": [1, 1], \"padding\": \"same\", \"data_format\": \"channels_last\", \"dilation_rate\": [1, 1], \"activation\": \"linear\", \"use_bias\": false, \"kernel_initializer\": {\"class_name\": \"VarianceScaling\", \"config\": {\"scale\": 1.0, \"mode\": \"fan_avg\", \"distribution\": \"uniform\", \"seed\": null}}, \"bias_initializer\": {\"class_name\": \"Zeros\", \"config\": {}}, \"kernel_regularizer\": null, \"bias_regularizer\": null, \"activity_regularizer\": null, \"kernel_constraint\": null, \"bias_constraint\": null}, \"inbound_nodes\": [[[\"activation_10\", 0, 0, {}]]]}, {\"name\": \"dropout_5\", \"class_name\": \"Dropout\", \"config\": {\"name\": \"dropout_5\", \"trainable\": true, \"rate\": 0.2, \"noise_shape\": null, \"seed\": null}, \"inbound_nodes\": [[[\"conv2d_11\", 0, 0, {}]]]}, {\"name\": \"concatenate_5\", \"class_name\": \"Concatenate\", \"config\": {\"name\": \"concatenate_5\", \"trainable\": true, \"axis\": -1}, \"inbound_nodes\": [[[\"concatenate_4\", 0, 0, {}], [\"dropout_5\", 0, 0, {}]]]}, {\"name\": \"batch_normalization_11\", \"class_name\": \"BatchNormalization\", \"config\": {\"name\": \"batch_normalization_11\", \"trainable\": true, \"axis\": -1, \"momentum\": 0.99, \"epsilon\": 0.001, \"center\": true, \"scale\": true, \"beta_initializer\": {\"class_name\": \"Zeros\", \"config\": {}}, \"gamma_initializer\": {\"class_name\": \"Ones\", \"config\": {}}, \"moving_mean_initializer\": {\"class_name\": \"Zeros\", \"config\": {}}, \"moving_variance_initializer\": {\"class_name\": \"Ones\", \"config\": {}}, \"beta_regularizer\": null, \"gamma_regularizer\": null, \"beta_constraint\": null, \"gamma_constraint\": null}, \"inbound_nodes\": [[[\"concatenate_5\", 0, 0, {}]]]}, {\"name\": \"activation_11\", \"class_name\": \"Activation\", \"config\": {\"name\": \"activation_11\", \"trainable\": true, \"activation\": \"relu\"}, \"inbound_nodes\": [[[\"batch_normalization_11\", 0, 0, {}]]]}, {\"name\": \"conv2d_12\", \"class_name\": \"Conv2D\", \"config\": {\"name\": \"conv2d_12\", \"trainable\": true, \"filters\": 12, \"kernel_size\": [1, 1], \"strides\": [1, 1], \"padding\": \"same\", \"data_format\": \"channels_last\", \"dilation_rate\": [1, 1], \"activation\": \"linear\", \"use_bias\": false, \"kernel_initializer\": {\"class_name\": \"VarianceScaling\", \"config\": {\"scale\": 1.0, \"mode\": \"fan_avg\", \"distribution\": \"uniform\", \"seed\": null}}, \"bias_initializer\": {\"class_name\": \"Zeros\", \"config\": {}}, \"kernel_regularizer\": null, \"bias_regularizer\": null, \"activity_regularizer\": null, \"kernel_constraint\": null, \"bias_constraint\": null}, \"inbound_nodes\": [[[\"activation_11\", 0, 0, {}]]]}, {\"name\": \"batch_normalization_12\", \"class_name\": \"BatchNormalization\", \"config\": {\"name\": \"batch_normalization_12\", \"trainable\": true, \"axis\": -1, \"momentum\": 0.99, \"epsilon\": 0.001, \"center\": true, \"scale\": true, \"beta_initializer\": {\"class_name\": \"Zeros\", \"config\": {}}, \"gamma_initializer\": {\"class_name\": \"Ones\", \"config\": {}}, \"moving_mean_initializer\": {\"class_name\": \"Zeros\", \"config\": {}}, \"moving_variance_initializer\": {\"class_name\": \"Ones\", \"config\": {}}, \"beta_regularizer\": null, \"gamma_regularizer\": null, \"beta_constraint\": null, \"gamma_constraint\": null}, \"inbound_nodes\": [[[\"conv2d_12\", 0, 0, {}]]]}, {\"name\": \"activation_12\", \"class_name\": \"Activation\", \"config\": {\"name\": \"activation_12\", \"trainable\": true, \"activation\": \"relu\"}, \"inbound_nodes\": [[[\"batch_normalization_12\", 0, 0, {}]]]}, {\"name\": \"conv2d_13\", \"class_name\": \"Conv2D\", \"config\": {\"name\": \"conv2d_13\", \"trainable\": true, \"filters\": 12, \"kernel_size\": [3, 3], \"strides\": [1, 1], \"padding\": \"same\", \"data_format\": \"channels_last\", \"dilation_rate\": [1, 1], \"activation\": \"linear\", \"use_bias\": false, \"kernel_initializer\": {\"class_name\": \"VarianceScaling\", \"config\": {\"scale\": 1.0, \"mode\": \"fan_avg\", \"distribution\": \"uniform\", \"seed\": null}}, \"bias_initializer\": {\"class_name\": \"Zeros\", \"config\": {}}, \"kernel_regularizer\": null, \"bias_regularizer\": null, \"activity_regularizer\": null, \"kernel_constraint\": null, \"bias_constraint\": null}, \"inbound_nodes\": [[[\"activation_12\", 0, 0, {}]]]}, {\"name\": \"dropout_6\", \"class_name\": \"Dropout\", \"config\": {\"name\": \"dropout_6\", \"trainable\": true, \"rate\": 0.2, \"noise_shape\": null, \"seed\": null}, \"inbound_nodes\": [[[\"conv2d_13\", 0, 0, {}]]]}, {\"name\": \"concatenate_6\", \"class_name\": \"Concatenate\", \"config\": {\"name\": \"concatenate_6\", \"trainable\": true, \"axis\": -1}, \"inbound_nodes\": [[[\"concatenate_5\", 0, 0, {}], [\"dropout_6\", 0, 0, {}]]]}, {\"name\": \"batch_normalization_13\", \"class_name\": \"BatchNormalization\", \"config\": {\"name\": \"batch_normalization_13\", \"trainable\": true, \"axis\": -1, \"momentum\": 0.99, \"epsilon\": 0.001, \"center\": true, \"scale\": true, \"beta_initializer\": {\"class_name\": \"Zeros\", \"config\": {}}, \"gamma_initializer\": {\"class_name\": \"Ones\", \"config\": {}}, \"moving_mean_initializer\": {\"class_name\": \"Zeros\", \"config\": {}}, \"moving_variance_initializer\": {\"class_name\": \"Ones\", \"config\": {}}, \"beta_regularizer\": null, \"gamma_regularizer\": null, \"beta_constraint\": null, \"gamma_constraint\": null}, \"inbound_nodes\": [[[\"concatenate_6\", 0, 0, {}]]]}, {\"name\": \"activation_13\", \"class_name\": \"Activation\", \"config\": {\"name\": \"activation_13\", \"trainable\": true, \"activation\": \"relu\"}, \"inbound_nodes\": [[[\"batch_normalization_13\", 0, 0, {}]]]}, {\"name\": \"conv2d_14\", \"class_name\": \"Conv2D\", \"config\": {\"name\": \"conv2d_14\", \"trainable\": true, \"filters\": 12, \"kernel_size\": [1, 1], \"strides\": [1, 1], \"padding\": \"same\", \"data_format\": \"channels_last\", \"dilation_rate\": [1, 1], \"activation\": \"linear\", \"use_bias\": false, \"kernel_initializer\": {\"class_name\": \"VarianceScaling\", \"config\": {\"scale\": 1.0, \"mode\": \"fan_avg\", \"distribution\": \"uniform\", \"seed\": null}}, \"bias_initializer\": {\"class_name\": \"Zeros\", \"config\": {}}, \"kernel_regularizer\": null, \"bias_regularizer\": null, \"activity_regularizer\": null, \"kernel_constraint\": null, \"bias_constraint\": null}, \"inbound_nodes\": [[[\"activation_13\", 0, 0, {}]]]}, {\"name\": \"dropout_7\", \"class_name\": \"Dropout\", \"config\": {\"name\": \"dropout_7\", \"trainable\": true, \"rate\": 0.2, \"noise_shape\": null, \"seed\": null}, \"inbound_nodes\": [[[\"conv2d_14\", 0, 0, {}]]]}, {\"name\": \"average_pooling2d_1\", \"class_name\": \"AveragePooling2D\", \"config\": {\"name\": \"average_pooling2d_1\", \"trainable\": true, \"pool_size\": [2, 2], \"padding\": \"valid\", \"strides\": [2, 2], \"data_format\": \"channels_last\"}, \"inbound_nodes\": [[[\"dropout_7\", 0, 0, {}]]]}, {\"name\": \"batch_normalization_14\", \"class_name\": \"BatchNormalization\", \"config\": {\"name\": \"batch_normalization_14\", \"trainable\": true, \"axis\": -1, \"momentum\": 0.99, \"epsilon\": 0.001, \"center\": true, \"scale\": true, \"beta_initializer\": {\"class_name\": \"Zeros\", \"config\": {}}, \"gamma_initializer\": {\"class_name\": \"Ones\", \"config\": {}}, \"moving_mean_initializer\": {\"class_name\": \"Zeros\", \"config\": {}}, \"moving_variance_initializer\": {\"class_name\": \"Ones\", \"config\": {}}, \"beta_regularizer\": null, \"gamma_regularizer\": null, \"beta_constraint\": null, \"gamma_constraint\": null}, \"inbound_nodes\": [[[\"average_pooling2d_1\", 0, 0, {}]]]}, {\"name\": \"activation_14\", \"class_name\": \"Activation\", \"config\": {\"name\": \"activation_14\", \"trainable\": true, \"activation\": \"relu\"}, \"inbound_nodes\": [[[\"batch_normalization_14\", 0, 0, {}]]]}, {\"name\": \"conv2d_15\", \"class_name\": \"Conv2D\", \"config\": {\"name\": \"conv2d_15\", \"trainable\": true, \"filters\": 12, \"kernel_size\": [1, 1], \"strides\": [1, 1], \"padding\": \"same\", \"data_format\": \"channels_last\", \"dilation_rate\": [1, 1], \"activation\": \"linear\", \"use_bias\": false, \"kernel_initializer\": {\"class_name\": \"VarianceScaling\", \"config\": {\"scale\": 1.0, \"mode\": \"fan_avg\", \"distribution\": \"uniform\", \"seed\": null}}, \"bias_initializer\": {\"class_name\": \"Zeros\", \"config\": {}}, \"kernel_regularizer\": null, \"bias_regularizer\": null, \"activity_regularizer\": null, \"kernel_constraint\": null, \"bias_constraint\": null}, \"inbound_nodes\": [[[\"activation_14\", 0, 0, {}]]]}, {\"name\": \"batch_normalization_15\", \"class_name\": \"BatchNormalization\", \"config\": {\"name\": \"batch_normalization_15\", \"trainable\": true, \"axis\": -1, \"momentum\": 0.99, \"epsilon\": 0.001, \"center\": true, \"scale\": true, \"beta_initializer\": {\"class_name\": \"Zeros\", \"config\": {}}, \"gamma_initializer\": {\"class_name\": \"Ones\", \"config\": {}}, \"moving_mean_initializer\": {\"class_name\": \"Zeros\", \"config\": {}}, \"moving_variance_initializer\": {\"class_name\": \"Ones\", \"config\": {}}, \"beta_regularizer\": null, \"gamma_regularizer\": null, \"beta_constraint\": null, \"gamma_constraint\": null}, \"inbound_nodes\": [[[\"conv2d_15\", 0, 0, {}]]]}, {\"name\": \"activation_15\", \"class_name\": \"Activation\", \"config\": {\"name\": \"activation_15\", \"trainable\": true, \"activation\": \"relu\"}, \"inbound_nodes\": [[[\"batch_normalization_15\", 0, 0, {}]]]}, {\"name\": \"conv2d_16\", \"class_name\": \"Conv2D\", \"config\": {\"name\": \"conv2d_16\", \"trainable\": true, \"filters\": 12, \"kernel_size\": [3, 3], \"strides\": [1, 1], \"padding\": \"same\", \"data_format\": \"channels_last\", \"dilation_rate\": [1, 1], \"activation\": \"linear\", \"use_bias\": false, \"kernel_initializer\": {\"class_name\": \"VarianceScaling\", \"config\": {\"scale\": 1.0, \"mode\": \"fan_avg\", \"distribution\": \"uniform\", \"seed\": null}}, \"bias_initializer\": {\"class_name\": \"Zeros\", \"config\": {}}, \"kernel_regularizer\": null, \"bias_regularizer\": null, \"activity_regularizer\": null, \"kernel_constraint\": null, \"bias_constraint\": null}, \"inbound_nodes\": [[[\"activation_15\", 0, 0, {}]]]}, {\"name\": \"dropout_8\", \"class_name\": \"Dropout\", \"config\": {\"name\": \"dropout_8\", \"trainable\": true, \"rate\": 0.2, \"noise_shape\": null, \"seed\": null}, \"inbound_nodes\": [[[\"conv2d_16\", 0, 0, {}]]]}, {\"name\": \"concatenate_7\", \"class_name\": \"Concatenate\", \"config\": {\"name\": \"concatenate_7\", \"trainable\": true, \"axis\": -1}, \"inbound_nodes\": [[[\"average_pooling2d_1\", 0, 0, {}], [\"dropout_8\", 0, 0, {}]]]}, {\"name\": \"batch_normalization_16\", \"class_name\": \"BatchNormalization\", \"config\": {\"name\": \"batch_normalization_16\", \"trainable\": true, \"axis\": -1, \"momentum\": 0.99, \"epsilon\": 0.001, \"center\": true, \"scale\": true, \"beta_initializer\": {\"class_name\": \"Zeros\", \"config\": {}}, \"gamma_initializer\": {\"class_name\": \"Ones\", \"config\": {}}, \"moving_mean_initializer\": {\"class_name\": \"Zeros\", \"config\": {}}, \"moving_variance_initializer\": {\"class_name\": \"Ones\", \"config\": {}}, \"beta_regularizer\": null, \"gamma_regularizer\": null, \"beta_constraint\": null, \"gamma_constraint\": null}, \"inbound_nodes\": [[[\"concatenate_7\", 0, 0, {}]]]}, {\"name\": \"activation_16\", \"class_name\": \"Activation\", \"config\": {\"name\": \"activation_16\", \"trainable\": true, \"activation\": \"relu\"}, \"inbound_nodes\": [[[\"batch_normalization_16\", 0, 0, {}]]]}, {\"name\": \"conv2d_17\", \"class_name\": \"Conv2D\", \"config\": {\"name\": \"conv2d_17\", \"trainable\": true, \"filters\": 12, \"kernel_size\": [1, 1], \"strides\": [1, 1], \"padding\": \"same\", \"data_format\": \"channels_last\", \"dilation_rate\": [1, 1], \"activation\": \"linear\", \"use_bias\": false, \"kernel_initializer\": {\"class_name\": \"VarianceScaling\", \"config\": {\"scale\": 1.0, \"mode\": \"fan_avg\", \"distribution\": \"uniform\", \"seed\": null}}, \"bias_initializer\": {\"class_name\": \"Zeros\", \"config\": {}}, \"kernel_regularizer\": null, \"bias_regularizer\": null, \"activity_regularizer\": null, \"kernel_constraint\": null, \"bias_constraint\": null}, \"inbound_nodes\": [[[\"activation_16\", 0, 0, {}]]]}, {\"name\": \"batch_normalization_17\", \"class_name\": \"BatchNormalization\", \"config\": {\"name\": \"batch_normalization_17\", \"trainable\": true, \"axis\": -1, \"momentum\": 0.99, \"epsilon\": 0.001, \"center\": true, \"scale\": true, \"beta_initializer\": {\"class_name\": \"Zeros\", \"config\": {}}, \"gamma_initializer\": {\"class_name\": \"Ones\", \"config\": {}}, \"moving_mean_initializer\": {\"class_name\": \"Zeros\", \"config\": {}}, \"moving_variance_initializer\": {\"class_name\": \"Ones\", \"config\": {}}, \"beta_regularizer\": null, \"gamma_regularizer\": null, \"beta_constraint\": null, \"gamma_constraint\": null}, \"inbound_nodes\": [[[\"conv2d_17\", 0, 0, {}]]]}, {\"name\": \"activation_17\", \"class_name\": \"Activation\", \"config\": {\"name\": \"activation_17\", \"trainable\": true, \"activation\": \"relu\"}, \"inbound_nodes\": [[[\"batch_normalization_17\", 0, 0, {}]]]}, {\"name\": \"conv2d_18\", \"class_name\": \"Conv2D\", \"config\": {\"name\": \"conv2d_18\", \"trainable\": true, \"filters\": 12, \"kernel_size\": [3, 3], \"strides\": [1, 1], \"padding\": \"same\", \"data_format\": \"channels_last\", \"dilation_rate\": [1, 1], \"activation\": \"linear\", \"use_bias\": false, \"kernel_initializer\": {\"class_name\": \"VarianceScaling\", \"config\": {\"scale\": 1.0, \"mode\": \"fan_avg\", \"distribution\": \"uniform\", \"seed\": null}}, \"bias_initializer\": {\"class_name\": \"Zeros\", \"config\": {}}, \"kernel_regularizer\": null, \"bias_regularizer\": null, \"activity_regularizer\": null, \"kernel_constraint\": null, \"bias_constraint\": null}, \"inbound_nodes\": [[[\"activation_17\", 0, 0, {}]]]}, {\"name\": \"dropout_9\", \"class_name\": \"Dropout\", \"config\": {\"name\": \"dropout_9\", \"trainable\": true, \"rate\": 0.2, \"noise_shape\": null, \"seed\": null}, \"inbound_nodes\": [[[\"conv2d_18\", 0, 0, {}]]]}, {\"name\": \"concatenate_8\", \"class_name\": \"Concatenate\", \"config\": {\"name\": \"concatenate_8\", \"trainable\": true, \"axis\": -1}, \"inbound_nodes\": [[[\"concatenate_7\", 0, 0, {}], [\"dropout_9\", 0, 0, {}]]]}, {\"name\": \"batch_normalization_18\", \"class_name\": \"BatchNormalization\", \"config\": {\"name\": \"batch_normalization_18\", \"trainable\": true, \"axis\": -1, \"momentum\": 0.99, \"epsilon\": 0.001, \"center\": true, \"scale\": true, \"beta_initializer\": {\"class_name\": \"Zeros\", \"config\": {}}, \"gamma_initializer\": {\"class_name\": \"Ones\", \"config\": {}}, \"moving_mean_initializer\": {\"class_name\": \"Zeros\", \"config\": {}}, \"moving_variance_initializer\": {\"class_name\": \"Ones\", \"config\": {}}, \"beta_regularizer\": null, \"gamma_regularizer\": null, \"beta_constraint\": null, \"gamma_constraint\": null}, \"inbound_nodes\": [[[\"concatenate_8\", 0, 0, {}]]]}, {\"name\": \"activation_18\", \"class_name\": \"Activation\", \"config\": {\"name\": \"activation_18\", \"trainable\": true, \"activation\": \"relu\"}, \"inbound_nodes\": [[[\"batch_normalization_18\", 0, 0, {}]]]}, {\"name\": \"conv2d_19\", \"class_name\": \"Conv2D\", \"config\": {\"name\": \"conv2d_19\", \"trainable\": true, \"filters\": 12, \"kernel_size\": [1, 1], \"strides\": [1, 1], \"padding\": \"same\", \"data_format\": \"channels_last\", \"dilation_rate\": [1, 1], \"activation\": \"linear\", \"use_bias\": false, \"kernel_initializer\": {\"class_name\": \"VarianceScaling\", \"config\": {\"scale\": 1.0, \"mode\": \"fan_avg\", \"distribution\": \"uniform\", \"seed\": null}}, \"bias_initializer\": {\"class_name\": \"Zeros\", \"config\": {}}, \"kernel_regularizer\": null, \"bias_regularizer\": null, \"activity_regularizer\": null, \"kernel_constraint\": null, \"bias_constraint\": null}, \"inbound_nodes\": [[[\"activation_18\", 0, 0, {}]]]}, {\"name\": \"batch_normalization_19\", \"class_name\": \"BatchNormalization\", \"config\": {\"name\": \"batch_normalization_19\", \"trainable\": true, \"axis\": -1, \"momentum\": 0.99, \"epsilon\": 0.001, \"center\": true, \"scale\": true, \"beta_initializer\": {\"class_name\": \"Zeros\", \"config\": {}}, \"gamma_initializer\": {\"class_name\": \"Ones\", \"config\": {}}, \"moving_mean_initializer\": {\"class_name\": \"Zeros\", \"config\": {}}, \"moving_variance_initializer\": {\"class_name\": \"Ones\", \"config\": {}}, \"beta_regularizer\": null, \"gamma_regularizer\": null, \"beta_constraint\": null, \"gamma_constraint\": null}, \"inbound_nodes\": [[[\"conv2d_19\", 0, 0, {}]]]}, {\"name\": \"activation_19\", \"class_name\": \"Activation\", \"config\": {\"name\": \"activation_19\", \"trainable\": true, \"activation\": \"relu\"}, \"inbound_nodes\": [[[\"batch_normalization_19\", 0, 0, {}]]]}, {\"name\": \"conv2d_20\", \"class_name\": \"Conv2D\", \"config\": {\"name\": \"conv2d_20\", \"trainable\": true, \"filters\": 12, \"kernel_size\": [3, 3], \"strides\": [1, 1], \"padding\": \"same\", \"data_format\": \"channels_last\", \"dilation_rate\": [1, 1], \"activation\": \"linear\", \"use_bias\": false, \"kernel_initializer\": {\"class_name\": \"VarianceScaling\", \"config\": {\"scale\": 1.0, \"mode\": \"fan_avg\", \"distribution\": \"uniform\", \"seed\": null}}, \"bias_initializer\": {\"class_name\": \"Zeros\", \"config\": {}}, \"kernel_regularizer\": null, \"bias_regularizer\": null, \"activity_regularizer\": null, \"kernel_constraint\": null, \"bias_constraint\": null}, \"inbound_nodes\": [[[\"activation_19\", 0, 0, {}]]]}, {\"name\": \"dropout_10\", \"class_name\": \"Dropout\", \"config\": {\"name\": \"dropout_10\", \"trainable\": true, \"rate\": 0.2, \"noise_shape\": null, \"seed\": null}, \"inbound_nodes\": [[[\"conv2d_20\", 0, 0, {}]]]}, {\"name\": \"concatenate_9\", \"class_name\": \"Concatenate\", \"config\": {\"name\": \"concatenate_9\", \"trainable\": true, \"axis\": -1}, \"inbound_nodes\": [[[\"concatenate_8\", 0, 0, {}], [\"dropout_10\", 0, 0, {}]]]}, {\"name\": \"batch_normalization_20\", \"class_name\": \"BatchNormalization\", \"config\": {\"name\": \"batch_normalization_20\", \"trainable\": true, \"axis\": -1, \"momentum\": 0.99, \"epsilon\": 0.001, \"center\": true, \"scale\": true, \"beta_initializer\": {\"class_name\": \"Zeros\", \"config\": {}}, \"gamma_initializer\": {\"class_name\": \"Ones\", \"config\": {}}, \"moving_mean_initializer\": {\"class_name\": \"Zeros\", \"config\": {}}, \"moving_variance_initializer\": {\"class_name\": \"Ones\", \"config\": {}}, \"beta_regularizer\": null, \"gamma_regularizer\": null, \"beta_constraint\": null, \"gamma_constraint\": null}, \"inbound_nodes\": [[[\"concatenate_9\", 0, 0, {}]]]}, {\"name\": \"activation_20\", \"class_name\": \"Activation\", \"config\": {\"name\": \"activation_20\", \"trainable\": true, \"activation\": \"relu\"}, \"inbound_nodes\": [[[\"batch_normalization_20\", 0, 0, {}]]]}, {\"name\": \"conv2d_21\", \"class_name\": \"Conv2D\", \"config\": {\"name\": \"conv2d_21\", \"trainable\": true, \"filters\": 12, \"kernel_size\": [1, 1], \"strides\": [1, 1], \"padding\": \"same\", \"data_format\": \"channels_last\", \"dilation_rate\": [1, 1], \"activation\": \"linear\", \"use_bias\": false, \"kernel_initializer\": {\"class_name\": \"VarianceScaling\", \"config\": {\"scale\": 1.0, \"mode\": \"fan_avg\", \"distribution\": \"uniform\", \"seed\": null}}, \"bias_initializer\": {\"class_name\": \"Zeros\", \"config\": {}}, \"kernel_regularizer\": null, \"bias_regularizer\": null, \"activity_regularizer\": null, \"kernel_constraint\": null, \"bias_constraint\": null}, \"inbound_nodes\": [[[\"activation_20\", 0, 0, {}]]]}, {\"name\": \"batch_normalization_21\", \"class_name\": \"BatchNormalization\", \"config\": {\"name\": \"batch_normalization_21\", \"trainable\": true, \"axis\": -1, \"momentum\": 0.99, \"epsilon\": 0.001, \"center\": true, \"scale\": true, \"beta_initializer\": {\"class_name\": \"Zeros\", \"config\": {}}, \"gamma_initializer\": {\"class_name\": \"Ones\", \"config\": {}}, \"moving_mean_initializer\": {\"class_name\": \"Zeros\", \"config\": {}}, \"moving_variance_initializer\": {\"class_name\": \"Ones\", \"config\": {}}, \"beta_regularizer\": null, \"gamma_regularizer\": null, \"beta_constraint\": null, \"gamma_constraint\": null}, \"inbound_nodes\": [[[\"conv2d_21\", 0, 0, {}]]]}, {\"name\": \"activation_21\", \"class_name\": \"Activation\", \"config\": {\"name\": \"activation_21\", \"trainable\": true, \"activation\": \"relu\"}, \"inbound_nodes\": [[[\"batch_normalization_21\", 0, 0, {}]]]}, {\"name\": \"conv2d_22\", \"class_name\": \"Conv2D\", \"config\": {\"name\": \"conv2d_22\", \"trainable\": true, \"filters\": 12, \"kernel_size\": [3, 3], \"strides\": [1, 1], \"padding\": \"same\", \"data_format\": \"channels_last\", \"dilation_rate\": [1, 1], \"activation\": \"linear\", \"use_bias\": false, \"kernel_initializer\": {\"class_name\": \"VarianceScaling\", \"config\": {\"scale\": 1.0, \"mode\": \"fan_avg\", \"distribution\": \"uniform\", \"seed\": null}}, \"bias_initializer\": {\"class_name\": \"Zeros\", \"config\": {}}, \"kernel_regularizer\": null, \"bias_regularizer\": null, \"activity_regularizer\": null, \"kernel_constraint\": null, \"bias_constraint\": null}, \"inbound_nodes\": [[[\"activation_21\", 0, 0, {}]]]}, {\"name\": \"dropout_11\", \"class_name\": \"Dropout\", \"config\": {\"name\": \"dropout_11\", \"trainable\": true, \"rate\": 0.2, \"noise_shape\": null, \"seed\": null}, \"inbound_nodes\": [[[\"conv2d_22\", 0, 0, {}]]]}, {\"name\": \"concatenate_10\", \"class_name\": \"Concatenate\", \"config\": {\"name\": \"concatenate_10\", \"trainable\": true, \"axis\": -1}, \"inbound_nodes\": [[[\"concatenate_9\", 0, 0, {}], [\"dropout_11\", 0, 0, {}]]]}, {\"name\": \"batch_normalization_22\", \"class_name\": \"BatchNormalization\", \"config\": {\"name\": \"batch_normalization_22\", \"trainable\": true, \"axis\": -1, \"momentum\": 0.99, \"epsilon\": 0.001, \"center\": true, \"scale\": true, \"beta_initializer\": {\"class_name\": \"Zeros\", \"config\": {}}, \"gamma_initializer\": {\"class_name\": \"Ones\", \"config\": {}}, \"moving_mean_initializer\": {\"class_name\": \"Zeros\", \"config\": {}}, \"moving_variance_initializer\": {\"class_name\": \"Ones\", \"config\": {}}, \"beta_regularizer\": null, \"gamma_regularizer\": null, \"beta_constraint\": null, \"gamma_constraint\": null}, \"inbound_nodes\": [[[\"concatenate_10\", 0, 0, {}]]]}, {\"name\": \"activation_22\", \"class_name\": \"Activation\", \"config\": {\"name\": \"activation_22\", \"trainable\": true, \"activation\": \"relu\"}, \"inbound_nodes\": [[[\"batch_normalization_22\", 0, 0, {}]]]}, {\"name\": \"conv2d_23\", \"class_name\": \"Conv2D\", \"config\": {\"name\": \"conv2d_23\", \"trainable\": true, \"filters\": 12, \"kernel_size\": [1, 1], \"strides\": [1, 1], \"padding\": \"same\", \"data_format\": \"channels_last\", \"dilation_rate\": [1, 1], \"activation\": \"linear\", \"use_bias\": false, \"kernel_initializer\": {\"class_name\": \"VarianceScaling\", \"config\": {\"scale\": 1.0, \"mode\": \"fan_avg\", \"distribution\": \"uniform\", \"seed\": null}}, \"bias_initializer\": {\"class_name\": \"Zeros\", \"config\": {}}, \"kernel_regularizer\": null, \"bias_regularizer\": null, \"activity_regularizer\": null, \"kernel_constraint\": null, \"bias_constraint\": null}, \"inbound_nodes\": [[[\"activation_22\", 0, 0, {}]]]}, {\"name\": \"batch_normalization_23\", \"class_name\": \"BatchNormalization\", \"config\": {\"name\": \"batch_normalization_23\", \"trainable\": true, \"axis\": -1, \"momentum\": 0.99, \"epsilon\": 0.001, \"center\": true, \"scale\": true, \"beta_initializer\": {\"class_name\": \"Zeros\", \"config\": {}}, \"gamma_initializer\": {\"class_name\": \"Ones\", \"config\": {}}, \"moving_mean_initializer\": {\"class_name\": \"Zeros\", \"config\": {}}, \"moving_variance_initializer\": {\"class_name\": \"Ones\", \"config\": {}}, \"beta_regularizer\": null, \"gamma_regularizer\": null, \"beta_constraint\": null, \"gamma_constraint\": null}, \"inbound_nodes\": [[[\"conv2d_23\", 0, 0, {}]]]}, {\"name\": \"activation_23\", \"class_name\": \"Activation\", \"config\": {\"name\": \"activation_23\", \"trainable\": true, \"activation\": \"relu\"}, \"inbound_nodes\": [[[\"batch_normalization_23\", 0, 0, {}]]]}, {\"name\": \"conv2d_24\", \"class_name\": \"Conv2D\", \"config\": {\"name\": \"conv2d_24\", \"trainable\": true, \"filters\": 12, \"kernel_size\": [3, 3], \"strides\": [1, 1], \"padding\": \"same\", \"data_format\": \"channels_last\", \"dilation_rate\": [1, 1], \"activation\": \"linear\", \"use_bias\": false, \"kernel_initializer\": {\"class_name\": \"VarianceScaling\", \"config\": {\"scale\": 1.0, \"mode\": \"fan_avg\", \"distribution\": \"uniform\", \"seed\": null}}, \"bias_initializer\": {\"class_name\": \"Zeros\", \"config\": {}}, \"kernel_regularizer\": null, \"bias_regularizer\": null, \"activity_regularizer\": null, \"kernel_constraint\": null, \"bias_constraint\": null}, \"inbound_nodes\": [[[\"activation_23\", 0, 0, {}]]]}, {\"name\": \"dropout_12\", \"class_name\": \"Dropout\", \"config\": {\"name\": \"dropout_12\", \"trainable\": true, \"rate\": 0.2, \"noise_shape\": null, \"seed\": null}, \"inbound_nodes\": [[[\"conv2d_24\", 0, 0, {}]]]}, {\"name\": \"concatenate_11\", \"class_name\": \"Concatenate\", \"config\": {\"name\": \"concatenate_11\", \"trainable\": true, \"axis\": -1}, \"inbound_nodes\": [[[\"concatenate_10\", 0, 0, {}], [\"dropout_12\", 0, 0, {}]]]}, {\"name\": \"batch_normalization_24\", \"class_name\": \"BatchNormalization\", \"config\": {\"name\": \"batch_normalization_24\", \"trainable\": true, \"axis\": -1, \"momentum\": 0.99, \"epsilon\": 0.001, \"center\": true, \"scale\": true, \"beta_initializer\": {\"class_name\": \"Zeros\", \"config\": {}}, \"gamma_initializer\": {\"class_name\": \"Ones\", \"config\": {}}, \"moving_mean_initializer\": {\"class_name\": \"Zeros\", \"config\": {}}, \"moving_variance_initializer\": {\"class_name\": \"Ones\", \"config\": {}}, \"beta_regularizer\": null, \"gamma_regularizer\": null, \"beta_constraint\": null, \"gamma_constraint\": null}, \"inbound_nodes\": [[[\"concatenate_11\", 0, 0, {}]]]}, {\"name\": \"activation_24\", \"class_name\": \"Activation\", \"config\": {\"name\": \"activation_24\", \"trainable\": true, \"activation\": \"relu\"}, \"inbound_nodes\": [[[\"batch_normalization_24\", 0, 0, {}]]]}, {\"name\": \"conv2d_25\", \"class_name\": \"Conv2D\", \"config\": {\"name\": \"conv2d_25\", \"trainable\": true, \"filters\": 12, \"kernel_size\": [1, 1], \"strides\": [1, 1], \"padding\": \"same\", \"data_format\": \"channels_last\", \"dilation_rate\": [1, 1], \"activation\": \"linear\", \"use_bias\": false, \"kernel_initializer\": {\"class_name\": \"VarianceScaling\", \"config\": {\"scale\": 1.0, \"mode\": \"fan_avg\", \"distribution\": \"uniform\", \"seed\": null}}, \"bias_initializer\": {\"class_name\": \"Zeros\", \"config\": {}}, \"kernel_regularizer\": null, \"bias_regularizer\": null, \"activity_regularizer\": null, \"kernel_constraint\": null, \"bias_constraint\": null}, \"inbound_nodes\": [[[\"activation_24\", 0, 0, {}]]]}, {\"name\": \"batch_normalization_25\", \"class_name\": \"BatchNormalization\", \"config\": {\"name\": \"batch_normalization_25\", \"trainable\": true, \"axis\": -1, \"momentum\": 0.99, \"epsilon\": 0.001, \"center\": true, \"scale\": true, \"beta_initializer\": {\"class_name\": \"Zeros\", \"config\": {}}, \"gamma_initializer\": {\"class_name\": \"Ones\", \"config\": {}}, \"moving_mean_initializer\": {\"class_name\": \"Zeros\", \"config\": {}}, \"moving_variance_initializer\": {\"class_name\": \"Ones\", \"config\": {}}, \"beta_regularizer\": null, \"gamma_regularizer\": null, \"beta_constraint\": null, \"gamma_constraint\": null}, \"inbound_nodes\": [[[\"conv2d_25\", 0, 0, {}]]]}, {\"name\": \"activation_25\", \"class_name\": \"Activation\", \"config\": {\"name\": \"activation_25\", \"trainable\": true, \"activation\": \"relu\"}, \"inbound_nodes\": [[[\"batch_normalization_25\", 0, 0, {}]]]}, {\"name\": \"conv2d_26\", \"class_name\": \"Conv2D\", \"config\": {\"name\": \"conv2d_26\", \"trainable\": true, \"filters\": 12, \"kernel_size\": [3, 3], \"strides\": [1, 1], \"padding\": \"same\", \"data_format\": \"channels_last\", \"dilation_rate\": [1, 1], \"activation\": \"linear\", \"use_bias\": false, \"kernel_initializer\": {\"class_name\": \"VarianceScaling\", \"config\": {\"scale\": 1.0, \"mode\": \"fan_avg\", \"distribution\": \"uniform\", \"seed\": null}}, \"bias_initializer\": {\"class_name\": \"Zeros\", \"config\": {}}, \"kernel_regularizer\": null, \"bias_regularizer\": null, \"activity_regularizer\": null, \"kernel_constraint\": null, \"bias_constraint\": null}, \"inbound_nodes\": [[[\"activation_25\", 0, 0, {}]]]}, {\"name\": \"dropout_13\", \"class_name\": \"Dropout\", \"config\": {\"name\": \"dropout_13\", \"trainable\": true, \"rate\": 0.2, \"noise_shape\": null, \"seed\": null}, \"inbound_nodes\": [[[\"conv2d_26\", 0, 0, {}]]]}, {\"name\": \"concatenate_12\", \"class_name\": \"Concatenate\", \"config\": {\"name\": \"concatenate_12\", \"trainable\": true, \"axis\": -1}, \"inbound_nodes\": [[[\"concatenate_11\", 0, 0, {}], [\"dropout_13\", 0, 0, {}]]]}, {\"name\": \"batch_normalization_26\", \"class_name\": \"BatchNormalization\", \"config\": {\"name\": \"batch_normalization_26\", \"trainable\": true, \"axis\": -1, \"momentum\": 0.99, \"epsilon\": 0.001, \"center\": true, \"scale\": true, \"beta_initializer\": {\"class_name\": \"Zeros\", \"config\": {}}, \"gamma_initializer\": {\"class_name\": \"Ones\", \"config\": {}}, \"moving_mean_initializer\": {\"class_name\": \"Zeros\", \"config\": {}}, \"moving_variance_initializer\": {\"class_name\": \"Ones\", \"config\": {}}, \"beta_regularizer\": null, \"gamma_regularizer\": null, \"beta_constraint\": null, \"gamma_constraint\": null}, \"inbound_nodes\": [[[\"concatenate_12\", 0, 0, {}]]]}, {\"name\": \"activation_26\", \"class_name\": \"Activation\", \"config\": {\"name\": \"activation_26\", \"trainable\": true, \"activation\": \"relu\"}, \"inbound_nodes\": [[[\"batch_normalization_26\", 0, 0, {}]]]}, {\"name\": \"conv2d_27\", \"class_name\": \"Conv2D\", \"config\": {\"name\": \"conv2d_27\", \"trainable\": true, \"filters\": 12, \"kernel_size\": [1, 1], \"strides\": [1, 1], \"padding\": \"same\", \"data_format\": \"channels_last\", \"dilation_rate\": [1, 1], \"activation\": \"linear\", \"use_bias\": false, \"kernel_initializer\": {\"class_name\": \"VarianceScaling\", \"config\": {\"scale\": 1.0, \"mode\": \"fan_avg\", \"distribution\": \"uniform\", \"seed\": null}}, \"bias_initializer\": {\"class_name\": \"Zeros\", \"config\": {}}, \"kernel_regularizer\": null, \"bias_regularizer\": null, \"activity_regularizer\": null, \"kernel_constraint\": null, \"bias_constraint\": null}, \"inbound_nodes\": [[[\"activation_26\", 0, 0, {}]]]}, {\"name\": \"batch_normalization_27\", \"class_name\": \"BatchNormalization\", \"config\": {\"name\": \"batch_normalization_27\", \"trainable\": true, \"axis\": -1, \"momentum\": 0.99, \"epsilon\": 0.001, \"center\": true, \"scale\": true, \"beta_initializer\": {\"class_name\": \"Zeros\", \"config\": {}}, \"gamma_initializer\": {\"class_name\": \"Ones\", \"config\": {}}, \"moving_mean_initializer\": {\"class_name\": \"Zeros\", \"config\": {}}, \"moving_variance_initializer\": {\"class_name\": \"Ones\", \"config\": {}}, \"beta_regularizer\": null, \"gamma_regularizer\": null, \"beta_constraint\": null, \"gamma_constraint\": null}, \"inbound_nodes\": [[[\"conv2d_27\", 0, 0, {}]]]}, {\"name\": \"activation_27\", \"class_name\": \"Activation\", \"config\": {\"name\": \"activation_27\", \"trainable\": true, \"activation\": \"relu\"}, \"inbound_nodes\": [[[\"batch_normalization_27\", 0, 0, {}]]]}, {\"name\": \"conv2d_28\", \"class_name\": \"Conv2D\", \"config\": {\"name\": \"conv2d_28\", \"trainable\": true, \"filters\": 12, \"kernel_size\": [3, 3], \"strides\": [1, 1], \"padding\": \"same\", \"data_format\": \"channels_last\", \"dilation_rate\": [1, 1], \"activation\": \"linear\", \"use_bias\": false, \"kernel_initializer\": {\"class_name\": \"VarianceScaling\", \"config\": {\"scale\": 1.0, \"mode\": \"fan_avg\", \"distribution\": \"uniform\", \"seed\": null}}, \"bias_initializer\": {\"class_name\": \"Zeros\", \"config\": {}}, \"kernel_regularizer\": null, \"bias_regularizer\": null, \"activity_regularizer\": null, \"kernel_constraint\": null, \"bias_constraint\": null}, \"inbound_nodes\": [[[\"activation_27\", 0, 0, {}]]]}, {\"name\": \"dropout_14\", \"class_name\": \"Dropout\", \"config\": {\"name\": \"dropout_14\", \"trainable\": true, \"rate\": 0.2, \"noise_shape\": null, \"seed\": null}, \"inbound_nodes\": [[[\"conv2d_28\", 0, 0, {}]]]}, {\"name\": \"concatenate_13\", \"class_name\": \"Concatenate\", \"config\": {\"name\": \"concatenate_13\", \"trainable\": true, \"axis\": -1}, \"inbound_nodes\": [[[\"concatenate_12\", 0, 0, {}], [\"dropout_14\", 0, 0, {}]]]}, {\"name\": \"batch_normalization_28\", \"class_name\": \"BatchNormalization\", \"config\": {\"name\": \"batch_normalization_28\", \"trainable\": true, \"axis\": -1, \"momentum\": 0.99, \"epsilon\": 0.001, \"center\": true, \"scale\": true, \"beta_initializer\": {\"class_name\": \"Zeros\", \"config\": {}}, \"gamma_initializer\": {\"class_name\": \"Ones\", \"config\": {}}, \"moving_mean_initializer\": {\"class_name\": \"Zeros\", \"config\": {}}, \"moving_variance_initializer\": {\"class_name\": \"Ones\", \"config\": {}}, \"beta_regularizer\": null, \"gamma_regularizer\": null, \"beta_constraint\": null, \"gamma_constraint\": null}, \"inbound_nodes\": [[[\"concatenate_13\", 0, 0, {}]]]}, {\"name\": \"activation_28\", \"class_name\": \"Activation\", \"config\": {\"name\": \"activation_28\", \"trainable\": true, \"activation\": \"relu\"}, \"inbound_nodes\": [[[\"batch_normalization_28\", 0, 0, {}]]]}, {\"name\": \"conv2d_29\", \"class_name\": \"Conv2D\", \"config\": {\"name\": \"conv2d_29\", \"trainable\": true, \"filters\": 12, \"kernel_size\": [1, 1], \"strides\": [1, 1], \"padding\": \"same\", \"data_format\": \"channels_last\", \"dilation_rate\": [1, 1], \"activation\": \"linear\", \"use_bias\": false, \"kernel_initializer\": {\"class_name\": \"VarianceScaling\", \"config\": {\"scale\": 1.0, \"mode\": \"fan_avg\", \"distribution\": \"uniform\", \"seed\": null}}, \"bias_initializer\": {\"class_name\": \"Zeros\", \"config\": {}}, \"kernel_regularizer\": null, \"bias_regularizer\": null, \"activity_regularizer\": null, \"kernel_constraint\": null, \"bias_constraint\": null}, \"inbound_nodes\": [[[\"activation_28\", 0, 0, {}]]]}, {\"name\": \"batch_normalization_29\", \"class_name\": \"BatchNormalization\", \"config\": {\"name\": \"batch_normalization_29\", \"trainable\": true, \"axis\": -1, \"momentum\": 0.99, \"epsilon\": 0.001, \"center\": true, \"scale\": true, \"beta_initializer\": {\"class_name\": \"Zeros\", \"config\": {}}, \"gamma_initializer\": {\"class_name\": \"Ones\", \"config\": {}}, \"moving_mean_initializer\": {\"class_name\": \"Zeros\", \"config\": {}}, \"moving_variance_initializer\": {\"class_name\": \"Ones\", \"config\": {}}, \"beta_regularizer\": null, \"gamma_regularizer\": null, \"beta_constraint\": null, \"gamma_constraint\": null}, \"inbound_nodes\": [[[\"conv2d_29\", 0, 0, {}]]]}, {\"name\": \"activation_29\", \"class_name\": \"Activation\", \"config\": {\"name\": \"activation_29\", \"trainable\": true, \"activation\": \"relu\"}, \"inbound_nodes\": [[[\"batch_normalization_29\", 0, 0, {}]]]}, {\"name\": \"conv2d_30\", \"class_name\": \"Conv2D\", \"config\": {\"name\": \"conv2d_30\", \"trainable\": true, \"filters\": 12, \"kernel_size\": [3, 3], \"strides\": [1, 1], \"padding\": \"same\", \"data_format\": \"channels_last\", \"dilation_rate\": [1, 1], \"activation\": \"linear\", \"use_bias\": false, \"kernel_initializer\": {\"class_name\": \"VarianceScaling\", \"config\": {\"scale\": 1.0, \"mode\": \"fan_avg\", \"distribution\": \"uniform\", \"seed\": null}}, \"bias_initializer\": {\"class_name\": \"Zeros\", \"config\": {}}, \"kernel_regularizer\": null, \"bias_regularizer\": null, \"activity_regularizer\": null, \"kernel_constraint\": null, \"bias_constraint\": null}, \"inbound_nodes\": [[[\"activation_29\", 0, 0, {}]]]}, {\"name\": \"dropout_15\", \"class_name\": \"Dropout\", \"config\": {\"name\": \"dropout_15\", \"trainable\": true, \"rate\": 0.2, \"noise_shape\": null, \"seed\": null}, \"inbound_nodes\": [[[\"conv2d_30\", 0, 0, {}]]]}, {\"name\": \"concatenate_14\", \"class_name\": \"Concatenate\", \"config\": {\"name\": \"concatenate_14\", \"trainable\": true, \"axis\": -1}, \"inbound_nodes\": [[[\"concatenate_13\", 0, 0, {}], [\"dropout_15\", 0, 0, {}]]]}, {\"name\": \"batch_normalization_30\", \"class_name\": \"BatchNormalization\", \"config\": {\"name\": \"batch_normalization_30\", \"trainable\": true, \"axis\": -1, \"momentum\": 0.99, \"epsilon\": 0.001, \"center\": true, \"scale\": true, \"beta_initializer\": {\"class_name\": \"Zeros\", \"config\": {}}, \"gamma_initializer\": {\"class_name\": \"Ones\", \"config\": {}}, \"moving_mean_initializer\": {\"class_name\": \"Zeros\", \"config\": {}}, \"moving_variance_initializer\": {\"class_name\": \"Ones\", \"config\": {}}, \"beta_regularizer\": null, \"gamma_regularizer\": null, \"beta_constraint\": null, \"gamma_constraint\": null}, \"inbound_nodes\": [[[\"concatenate_14\", 0, 0, {}]]]}, {\"name\": \"activation_30\", \"class_name\": \"Activation\", \"config\": {\"name\": \"activation_30\", \"trainable\": true, \"activation\": \"relu\"}, \"inbound_nodes\": [[[\"batch_normalization_30\", 0, 0, {}]]]}, {\"name\": \"conv2d_31\", \"class_name\": \"Conv2D\", \"config\": {\"name\": \"conv2d_31\", \"trainable\": true, \"filters\": 12, \"kernel_size\": [1, 1], \"strides\": [1, 1], \"padding\": \"same\", \"data_format\": \"channels_last\", \"dilation_rate\": [1, 1], \"activation\": \"linear\", \"use_bias\": false, \"kernel_initializer\": {\"class_name\": \"VarianceScaling\", \"config\": {\"scale\": 1.0, \"mode\": \"fan_avg\", \"distribution\": \"uniform\", \"seed\": null}}, \"bias_initializer\": {\"class_name\": \"Zeros\", \"config\": {}}, \"kernel_regularizer\": null, \"bias_regularizer\": null, \"activity_regularizer\": null, \"kernel_constraint\": null, \"bias_constraint\": null}, \"inbound_nodes\": [[[\"activation_30\", 0, 0, {}]]]}, {\"name\": \"batch_normalization_31\", \"class_name\": \"BatchNormalization\", \"config\": {\"name\": \"batch_normalization_31\", \"trainable\": true, \"axis\": -1, \"momentum\": 0.99, \"epsilon\": 0.001, \"center\": true, \"scale\": true, \"beta_initializer\": {\"class_name\": \"Zeros\", \"config\": {}}, \"gamma_initializer\": {\"class_name\": \"Ones\", \"config\": {}}, \"moving_mean_initializer\": {\"class_name\": \"Zeros\", \"config\": {}}, \"moving_variance_initializer\": {\"class_name\": \"Ones\", \"config\": {}}, \"beta_regularizer\": null, \"gamma_regularizer\": null, \"beta_constraint\": null, \"gamma_constraint\": null}, \"inbound_nodes\": [[[\"conv2d_31\", 0, 0, {}]]]}, {\"name\": \"activation_31\", \"class_name\": \"Activation\", \"config\": {\"name\": \"activation_31\", \"trainable\": true, \"activation\": \"relu\"}, \"inbound_nodes\": [[[\"batch_normalization_31\", 0, 0, {}]]]}, {\"name\": \"conv2d_32\", \"class_name\": \"Conv2D\", \"config\": {\"name\": \"conv2d_32\", \"trainable\": true, \"filters\": 12, \"kernel_size\": [3, 3], \"strides\": [1, 1], \"padding\": \"same\", \"data_format\": \"channels_last\", \"dilation_rate\": [1, 1], \"activation\": \"linear\", \"use_bias\": false, \"kernel_initializer\": {\"class_name\": \"VarianceScaling\", \"config\": {\"scale\": 1.0, \"mode\": \"fan_avg\", \"distribution\": \"uniform\", \"seed\": null}}, \"bias_initializer\": {\"class_name\": \"Zeros\", \"config\": {}}, \"kernel_regularizer\": null, \"bias_regularizer\": null, \"activity_regularizer\": null, \"kernel_constraint\": null, \"bias_constraint\": null}, \"inbound_nodes\": [[[\"activation_31\", 0, 0, {}]]]}, {\"name\": \"dropout_16\", \"class_name\": \"Dropout\", \"config\": {\"name\": \"dropout_16\", \"trainable\": true, \"rate\": 0.2, \"noise_shape\": null, \"seed\": null}, \"inbound_nodes\": [[[\"conv2d_32\", 0, 0, {}]]]}, {\"name\": \"concatenate_15\", \"class_name\": \"Concatenate\", \"config\": {\"name\": \"concatenate_15\", \"trainable\": true, \"axis\": -1}, \"inbound_nodes\": [[[\"concatenate_14\", 0, 0, {}], [\"dropout_16\", 0, 0, {}]]]}, {\"name\": \"batch_normalization_32\", \"class_name\": \"BatchNormalization\", \"config\": {\"name\": \"batch_normalization_32\", \"trainable\": true, \"axis\": -1, \"momentum\": 0.99, \"epsilon\": 0.001, \"center\": true, \"scale\": true, \"beta_initializer\": {\"class_name\": \"Zeros\", \"config\": {}}, \"gamma_initializer\": {\"class_name\": \"Ones\", \"config\": {}}, \"moving_mean_initializer\": {\"class_name\": \"Zeros\", \"config\": {}}, \"moving_variance_initializer\": {\"class_name\": \"Ones\", \"config\": {}}, \"beta_regularizer\": null, \"gamma_regularizer\": null, \"beta_constraint\": null, \"gamma_constraint\": null}, \"inbound_nodes\": [[[\"concatenate_15\", 0, 0, {}]]]}, {\"name\": \"activation_32\", \"class_name\": \"Activation\", \"config\": {\"name\": \"activation_32\", \"trainable\": true, \"activation\": \"relu\"}, \"inbound_nodes\": [[[\"batch_normalization_32\", 0, 0, {}]]]}, {\"name\": \"conv2d_33\", \"class_name\": \"Conv2D\", \"config\": {\"name\": \"conv2d_33\", \"trainable\": true, \"filters\": 12, \"kernel_size\": [1, 1], \"strides\": [1, 1], \"padding\": \"same\", \"data_format\": \"channels_last\", \"dilation_rate\": [1, 1], \"activation\": \"linear\", \"use_bias\": false, \"kernel_initializer\": {\"class_name\": \"VarianceScaling\", \"config\": {\"scale\": 1.0, \"mode\": \"fan_avg\", \"distribution\": \"uniform\", \"seed\": null}}, \"bias_initializer\": {\"class_name\": \"Zeros\", \"config\": {}}, \"kernel_regularizer\": null, \"bias_regularizer\": null, \"activity_regularizer\": null, \"kernel_constraint\": null, \"bias_constraint\": null}, \"inbound_nodes\": [[[\"activation_32\", 0, 0, {}]]]}, {\"name\": \"batch_normalization_33\", \"class_name\": \"BatchNormalization\", \"config\": {\"name\": \"batch_normalization_33\", \"trainable\": true, \"axis\": -1, \"momentum\": 0.99, \"epsilon\": 0.001, \"center\": true, \"scale\": true, \"beta_initializer\": {\"class_name\": \"Zeros\", \"config\": {}}, \"gamma_initializer\": {\"class_name\": \"Ones\", \"config\": {}}, \"moving_mean_initializer\": {\"class_name\": \"Zeros\", \"config\": {}}, \"moving_variance_initializer\": {\"class_name\": \"Ones\", \"config\": {}}, \"beta_regularizer\": null, \"gamma_regularizer\": null, \"beta_constraint\": null, \"gamma_constraint\": null}, \"inbound_nodes\": [[[\"conv2d_33\", 0, 0, {}]]]}, {\"name\": \"activation_33\", \"class_name\": \"Activation\", \"config\": {\"name\": \"activation_33\", \"trainable\": true, \"activation\": \"relu\"}, \"inbound_nodes\": [[[\"batch_normalization_33\", 0, 0, {}]]]}, {\"name\": \"conv2d_34\", \"class_name\": \"Conv2D\", \"config\": {\"name\": \"conv2d_34\", \"trainable\": true, \"filters\": 12, \"kernel_size\": [3, 3], \"strides\": [1, 1], \"padding\": \"same\", \"data_format\": \"channels_last\", \"dilation_rate\": [1, 1], \"activation\": \"linear\", \"use_bias\": false, \"kernel_initializer\": {\"class_name\": \"VarianceScaling\", \"config\": {\"scale\": 1.0, \"mode\": \"fan_avg\", \"distribution\": \"uniform\", \"seed\": null}}, \"bias_initializer\": {\"class_name\": \"Zeros\", \"config\": {}}, \"kernel_regularizer\": null, \"bias_regularizer\": null, \"activity_regularizer\": null, \"kernel_constraint\": null, \"bias_constraint\": null}, \"inbound_nodes\": [[[\"activation_33\", 0, 0, {}]]]}, {\"name\": \"dropout_17\", \"class_name\": \"Dropout\", \"config\": {\"name\": \"dropout_17\", \"trainable\": true, \"rate\": 0.2, \"noise_shape\": null, \"seed\": null}, \"inbound_nodes\": [[[\"conv2d_34\", 0, 0, {}]]]}, {\"name\": \"concatenate_16\", \"class_name\": \"Concatenate\", \"config\": {\"name\": \"concatenate_16\", \"trainable\": true, \"axis\": -1}, \"inbound_nodes\": [[[\"concatenate_15\", 0, 0, {}], [\"dropout_17\", 0, 0, {}]]]}, {\"name\": \"batch_normalization_34\", \"class_name\": \"BatchNormalization\", \"config\": {\"name\": \"batch_normalization_34\", \"trainable\": true, \"axis\": -1, \"momentum\": 0.99, \"epsilon\": 0.001, \"center\": true, \"scale\": true, \"beta_initializer\": {\"class_name\": \"Zeros\", \"config\": {}}, \"gamma_initializer\": {\"class_name\": \"Ones\", \"config\": {}}, \"moving_mean_initializer\": {\"class_name\": \"Zeros\", \"config\": {}}, \"moving_variance_initializer\": {\"class_name\": \"Ones\", \"config\": {}}, \"beta_regularizer\": null, \"gamma_regularizer\": null, \"beta_constraint\": null, \"gamma_constraint\": null}, \"inbound_nodes\": [[[\"concatenate_16\", 0, 0, {}]]]}, {\"name\": \"activation_34\", \"class_name\": \"Activation\", \"config\": {\"name\": \"activation_34\", \"trainable\": true, \"activation\": \"relu\"}, \"inbound_nodes\": [[[\"batch_normalization_34\", 0, 0, {}]]]}, {\"name\": \"conv2d_35\", \"class_name\": \"Conv2D\", \"config\": {\"name\": \"conv2d_35\", \"trainable\": true, \"filters\": 12, \"kernel_size\": [1, 1], \"strides\": [1, 1], \"padding\": \"same\", \"data_format\": \"channels_last\", \"dilation_rate\": [1, 1], \"activation\": \"linear\", \"use_bias\": false, \"kernel_initializer\": {\"class_name\": \"VarianceScaling\", \"config\": {\"scale\": 1.0, \"mode\": \"fan_avg\", \"distribution\": \"uniform\", \"seed\": null}}, \"bias_initializer\": {\"class_name\": \"Zeros\", \"config\": {}}, \"kernel_regularizer\": null, \"bias_regularizer\": null, \"activity_regularizer\": null, \"kernel_constraint\": null, \"bias_constraint\": null}, \"inbound_nodes\": [[[\"activation_34\", 0, 0, {}]]]}, {\"name\": \"batch_normalization_35\", \"class_name\": \"BatchNormalization\", \"config\": {\"name\": \"batch_normalization_35\", \"trainable\": true, \"axis\": -1, \"momentum\": 0.99, \"epsilon\": 0.001, \"center\": true, \"scale\": true, \"beta_initializer\": {\"class_name\": \"Zeros\", \"config\": {}}, \"gamma_initializer\": {\"class_name\": \"Ones\", \"config\": {}}, \"moving_mean_initializer\": {\"class_name\": \"Zeros\", \"config\": {}}, \"moving_variance_initializer\": {\"class_name\": \"Ones\", \"config\": {}}, \"beta_regularizer\": null, \"gamma_regularizer\": null, \"beta_constraint\": null, \"gamma_constraint\": null}, \"inbound_nodes\": [[[\"conv2d_35\", 0, 0, {}]]]}, {\"name\": \"activation_35\", \"class_name\": \"Activation\", \"config\": {\"name\": \"activation_35\", \"trainable\": true, \"activation\": \"relu\"}, \"inbound_nodes\": [[[\"batch_normalization_35\", 0, 0, {}]]]}, {\"name\": \"conv2d_36\", \"class_name\": \"Conv2D\", \"config\": {\"name\": \"conv2d_36\", \"trainable\": true, \"filters\": 12, \"kernel_size\": [3, 3], \"strides\": [1, 1], \"padding\": \"same\", \"data_format\": \"channels_last\", \"dilation_rate\": [1, 1], \"activation\": \"linear\", \"use_bias\": false, \"kernel_initializer\": {\"class_name\": \"VarianceScaling\", \"config\": {\"scale\": 1.0, \"mode\": \"fan_avg\", \"distribution\": \"uniform\", \"seed\": null}}, \"bias_initializer\": {\"class_name\": \"Zeros\", \"config\": {}}, \"kernel_regularizer\": null, \"bias_regularizer\": null, \"activity_regularizer\": null, \"kernel_constraint\": null, \"bias_constraint\": null}, \"inbound_nodes\": [[[\"activation_35\", 0, 0, {}]]]}, {\"name\": \"dropout_18\", \"class_name\": \"Dropout\", \"config\": {\"name\": \"dropout_18\", \"trainable\": true, \"rate\": 0.2, \"noise_shape\": null, \"seed\": null}, \"inbound_nodes\": [[[\"conv2d_36\", 0, 0, {}]]]}, {\"name\": \"concatenate_17\", \"class_name\": \"Concatenate\", \"config\": {\"name\": \"concatenate_17\", \"trainable\": true, \"axis\": -1}, \"inbound_nodes\": [[[\"concatenate_16\", 0, 0, {}], [\"dropout_18\", 0, 0, {}]]]}, {\"name\": \"batch_normalization_36\", \"class_name\": \"BatchNormalization\", \"config\": {\"name\": \"batch_normalization_36\", \"trainable\": true, \"axis\": -1, \"momentum\": 0.99, \"epsilon\": 0.001, \"center\": true, \"scale\": true, \"beta_initializer\": {\"class_name\": \"Zeros\", \"config\": {}}, \"gamma_initializer\": {\"class_name\": \"Ones\", \"config\": {}}, \"moving_mean_initializer\": {\"class_name\": \"Zeros\", \"config\": {}}, \"moving_variance_initializer\": {\"class_name\": \"Ones\", \"config\": {}}, \"beta_regularizer\": null, \"gamma_regularizer\": null, \"beta_constraint\": null, \"gamma_constraint\": null}, \"inbound_nodes\": [[[\"concatenate_17\", 0, 0, {}]]]}, {\"name\": \"activation_36\", \"class_name\": \"Activation\", \"config\": {\"name\": \"activation_36\", \"trainable\": true, \"activation\": \"relu\"}, \"inbound_nodes\": [[[\"batch_normalization_36\", 0, 0, {}]]]}, {\"name\": \"conv2d_37\", \"class_name\": \"Conv2D\", \"config\": {\"name\": \"conv2d_37\", \"trainable\": true, \"filters\": 12, \"kernel_size\": [1, 1], \"strides\": [1, 1], \"padding\": \"same\", \"data_format\": \"channels_last\", \"dilation_rate\": [1, 1], \"activation\": \"linear\", \"use_bias\": false, \"kernel_initializer\": {\"class_name\": \"VarianceScaling\", \"config\": {\"scale\": 1.0, \"mode\": \"fan_avg\", \"distribution\": \"uniform\", \"seed\": null}}, \"bias_initializer\": {\"class_name\": \"Zeros\", \"config\": {}}, \"kernel_regularizer\": null, \"bias_regularizer\": null, \"activity_regularizer\": null, \"kernel_constraint\": null, \"bias_constraint\": null}, \"inbound_nodes\": [[[\"activation_36\", 0, 0, {}]]]}, {\"name\": \"batch_normalization_37\", \"class_name\": \"BatchNormalization\", \"config\": {\"name\": \"batch_normalization_37\", \"trainable\": true, \"axis\": -1, \"momentum\": 0.99, \"epsilon\": 0.001, \"center\": true, \"scale\": true, \"beta_initializer\": {\"class_name\": \"Zeros\", \"config\": {}}, \"gamma_initializer\": {\"class_name\": \"Ones\", \"config\": {}}, \"moving_mean_initializer\": {\"class_name\": \"Zeros\", \"config\": {}}, \"moving_variance_initializer\": {\"class_name\": \"Ones\", \"config\": {}}, \"beta_regularizer\": null, \"gamma_regularizer\": null, \"beta_constraint\": null, \"gamma_constraint\": null}, \"inbound_nodes\": [[[\"conv2d_37\", 0, 0, {}]]]}, {\"name\": \"activation_37\", \"class_name\": \"Activation\", \"config\": {\"name\": \"activation_37\", \"trainable\": true, \"activation\": \"relu\"}, \"inbound_nodes\": [[[\"batch_normalization_37\", 0, 0, {}]]]}, {\"name\": \"conv2d_38\", \"class_name\": \"Conv2D\", \"config\": {\"name\": \"conv2d_38\", \"trainable\": true, \"filters\": 12, \"kernel_size\": [3, 3], \"strides\": [1, 1], \"padding\": \"same\", \"data_format\": \"channels_last\", \"dilation_rate\": [1, 1], \"activation\": \"linear\", \"use_bias\": false, \"kernel_initializer\": {\"class_name\": \"VarianceScaling\", \"config\": {\"scale\": 1.0, \"mode\": \"fan_avg\", \"distribution\": \"uniform\", \"seed\": null}}, \"bias_initializer\": {\"class_name\": \"Zeros\", \"config\": {}}, \"kernel_regularizer\": null, \"bias_regularizer\": null, \"activity_regularizer\": null, \"kernel_constraint\": null, \"bias_constraint\": null}, \"inbound_nodes\": [[[\"activation_37\", 0, 0, {}]]]}, {\"name\": \"dropout_19\", \"class_name\": \"Dropout\", \"config\": {\"name\": \"dropout_19\", \"trainable\": true, \"rate\": 0.2, \"noise_shape\": null, \"seed\": null}, \"inbound_nodes\": [[[\"conv2d_38\", 0, 0, {}]]]}, {\"name\": \"concatenate_18\", \"class_name\": \"Concatenate\", \"config\": {\"name\": \"concatenate_18\", \"trainable\": true, \"axis\": -1}, \"inbound_nodes\": [[[\"concatenate_17\", 0, 0, {}], [\"dropout_19\", 0, 0, {}]]]}, {\"name\": \"batch_normalization_38\", \"class_name\": \"BatchNormalization\", \"config\": {\"name\": \"batch_normalization_38\", \"trainable\": true, \"axis\": -1, \"momentum\": 0.99, \"epsilon\": 0.001, \"center\": true, \"scale\": true, \"beta_initializer\": {\"class_name\": \"Zeros\", \"config\": {}}, \"gamma_initializer\": {\"class_name\": \"Ones\", \"config\": {}}, \"moving_mean_initializer\": {\"class_name\": \"Zeros\", \"config\": {}}, \"moving_variance_initializer\": {\"class_name\": \"Ones\", \"config\": {}}, \"beta_regularizer\": null, \"gamma_regularizer\": null, \"beta_constraint\": null, \"gamma_constraint\": null}, \"inbound_nodes\": [[[\"concatenate_18\", 0, 0, {}]]]}, {\"name\": \"activation_38\", \"class_name\": \"Activation\", \"config\": {\"name\": \"activation_38\", \"trainable\": true, \"activation\": \"relu\"}, \"inbound_nodes\": [[[\"batch_normalization_38\", 0, 0, {}]]]}, {\"name\": \"conv2d_39\", \"class_name\": \"Conv2D\", \"config\": {\"name\": \"conv2d_39\", \"trainable\": true, \"filters\": 12, \"kernel_size\": [1, 1], \"strides\": [1, 1], \"padding\": \"same\", \"data_format\": \"channels_last\", \"dilation_rate\": [1, 1], \"activation\": \"linear\", \"use_bias\": false, \"kernel_initializer\": {\"class_name\": \"VarianceScaling\", \"config\": {\"scale\": 1.0, \"mode\": \"fan_avg\", \"distribution\": \"uniform\", \"seed\": null}}, \"bias_initializer\": {\"class_name\": \"Zeros\", \"config\": {}}, \"kernel_regularizer\": null, \"bias_regularizer\": null, \"activity_regularizer\": null, \"kernel_constraint\": null, \"bias_constraint\": null}, \"inbound_nodes\": [[[\"activation_38\", 0, 0, {}]]]}, {\"name\": \"dropout_20\", \"class_name\": \"Dropout\", \"config\": {\"name\": \"dropout_20\", \"trainable\": true, \"rate\": 0.2, \"noise_shape\": null, \"seed\": null}, \"inbound_nodes\": [[[\"conv2d_39\", 0, 0, {}]]]}, {\"name\": \"average_pooling2d_2\", \"class_name\": \"AveragePooling2D\", \"config\": {\"name\": \"average_pooling2d_2\", \"trainable\": true, \"pool_size\": [2, 2], \"padding\": \"valid\", \"strides\": [2, 2], \"data_format\": \"channels_last\"}, \"inbound_nodes\": [[[\"dropout_20\", 0, 0, {}]]]}, {\"name\": \"batch_normalization_39\", \"class_name\": \"BatchNormalization\", \"config\": {\"name\": \"batch_normalization_39\", \"trainable\": true, \"axis\": -1, \"momentum\": 0.99, \"epsilon\": 0.001, \"center\": true, \"scale\": true, \"beta_initializer\": {\"class_name\": \"Zeros\", \"config\": {}}, \"gamma_initializer\": {\"class_name\": \"Ones\", \"config\": {}}, \"moving_mean_initializer\": {\"class_name\": \"Zeros\", \"config\": {}}, \"moving_variance_initializer\": {\"class_name\": \"Ones\", \"config\": {}}, \"beta_regularizer\": null, \"gamma_regularizer\": null, \"beta_constraint\": null, \"gamma_constraint\": null}, \"inbound_nodes\": [[[\"average_pooling2d_2\", 0, 0, {}]]]}, {\"name\": \"activation_39\", \"class_name\": \"Activation\", \"config\": {\"name\": \"activation_39\", \"trainable\": true, \"activation\": \"relu\"}, \"inbound_nodes\": [[[\"batch_normalization_39\", 0, 0, {}]]]}, {\"name\": \"conv2d_40\", \"class_name\": \"Conv2D\", \"config\": {\"name\": \"conv2d_40\", \"trainable\": true, \"filters\": 12, \"kernel_size\": [1, 1], \"strides\": [1, 1], \"padding\": \"same\", \"data_format\": \"channels_last\", \"dilation_rate\": [1, 1], \"activation\": \"linear\", \"use_bias\": false, \"kernel_initializer\": {\"class_name\": \"VarianceScaling\", \"config\": {\"scale\": 1.0, \"mode\": \"fan_avg\", \"distribution\": \"uniform\", \"seed\": null}}, \"bias_initializer\": {\"class_name\": \"Zeros\", \"config\": {}}, \"kernel_regularizer\": null, \"bias_regularizer\": null, \"activity_regularizer\": null, \"kernel_constraint\": null, \"bias_constraint\": null}, \"inbound_nodes\": [[[\"activation_39\", 0, 0, {}]]]}, {\"name\": \"batch_normalization_40\", \"class_name\": \"BatchNormalization\", \"config\": {\"name\": \"batch_normalization_40\", \"trainable\": true, \"axis\": -1, \"momentum\": 0.99, \"epsilon\": 0.001, \"center\": true, \"scale\": true, \"beta_initializer\": {\"class_name\": \"Zeros\", \"config\": {}}, \"gamma_initializer\": {\"class_name\": \"Ones\", \"config\": {}}, \"moving_mean_initializer\": {\"class_name\": \"Zeros\", \"config\": {}}, \"moving_variance_initializer\": {\"class_name\": \"Ones\", \"config\": {}}, \"beta_regularizer\": null, \"gamma_regularizer\": null, \"beta_constraint\": null, \"gamma_constraint\": null}, \"inbound_nodes\": [[[\"conv2d_40\", 0, 0, {}]]]}, {\"name\": \"activation_40\", \"class_name\": \"Activation\", \"config\": {\"name\": \"activation_40\", \"trainable\": true, \"activation\": \"relu\"}, \"inbound_nodes\": [[[\"batch_normalization_40\", 0, 0, {}]]]}, {\"name\": \"conv2d_41\", \"class_name\": \"Conv2D\", \"config\": {\"name\": \"conv2d_41\", \"trainable\": true, \"filters\": 12, \"kernel_size\": [3, 3], \"strides\": [1, 1], \"padding\": \"same\", \"data_format\": \"channels_last\", \"dilation_rate\": [1, 1], \"activation\": \"linear\", \"use_bias\": false, \"kernel_initializer\": {\"class_name\": \"VarianceScaling\", \"config\": {\"scale\": 1.0, \"mode\": \"fan_avg\", \"distribution\": \"uniform\", \"seed\": null}}, \"bias_initializer\": {\"class_name\": \"Zeros\", \"config\": {}}, \"kernel_regularizer\": null, \"bias_regularizer\": null, \"activity_regularizer\": null, \"kernel_constraint\": null, \"bias_constraint\": null}, \"inbound_nodes\": [[[\"activation_40\", 0, 0, {}]]]}, {\"name\": \"dropout_21\", \"class_name\": \"Dropout\", \"config\": {\"name\": \"dropout_21\", \"trainable\": true, \"rate\": 0.2, \"noise_shape\": null, \"seed\": null}, \"inbound_nodes\": [[[\"conv2d_41\", 0, 0, {}]]]}, {\"name\": \"concatenate_19\", \"class_name\": \"Concatenate\", \"config\": {\"name\": \"concatenate_19\", \"trainable\": true, \"axis\": -1}, \"inbound_nodes\": [[[\"average_pooling2d_2\", 0, 0, {}], [\"dropout_21\", 0, 0, {}]]]}, {\"name\": \"batch_normalization_41\", \"class_name\": \"BatchNormalization\", \"config\": {\"name\": \"batch_normalization_41\", \"trainable\": true, \"axis\": -1, \"momentum\": 0.99, \"epsilon\": 0.001, \"center\": true, \"scale\": true, \"beta_initializer\": {\"class_name\": \"Zeros\", \"config\": {}}, \"gamma_initializer\": {\"class_name\": \"Ones\", \"config\": {}}, \"moving_mean_initializer\": {\"class_name\": \"Zeros\", \"config\": {}}, \"moving_variance_initializer\": {\"class_name\": \"Ones\", \"config\": {}}, \"beta_regularizer\": null, \"gamma_regularizer\": null, \"beta_constraint\": null, \"gamma_constraint\": null}, \"inbound_nodes\": [[[\"concatenate_19\", 0, 0, {}]]]}, {\"name\": \"activation_41\", \"class_name\": \"Activation\", \"config\": {\"name\": \"activation_41\", \"trainable\": true, \"activation\": \"relu\"}, \"inbound_nodes\": [[[\"batch_normalization_41\", 0, 0, {}]]]}, {\"name\": \"conv2d_42\", \"class_name\": \"Conv2D\", \"config\": {\"name\": \"conv2d_42\", \"trainable\": true, \"filters\": 12, \"kernel_size\": [1, 1], \"strides\": [1, 1], \"padding\": \"same\", \"data_format\": \"channels_last\", \"dilation_rate\": [1, 1], \"activation\": \"linear\", \"use_bias\": false, \"kernel_initializer\": {\"class_name\": \"VarianceScaling\", \"config\": {\"scale\": 1.0, \"mode\": \"fan_avg\", \"distribution\": \"uniform\", \"seed\": null}}, \"bias_initializer\": {\"class_name\": \"Zeros\", \"config\": {}}, \"kernel_regularizer\": null, \"bias_regularizer\": null, \"activity_regularizer\": null, \"kernel_constraint\": null, \"bias_constraint\": null}, \"inbound_nodes\": [[[\"activation_41\", 0, 0, {}]]]}, {\"name\": \"batch_normalization_42\", \"class_name\": \"BatchNormalization\", \"config\": {\"name\": \"batch_normalization_42\", \"trainable\": true, \"axis\": -1, \"momentum\": 0.99, \"epsilon\": 0.001, \"center\": true, \"scale\": true, \"beta_initializer\": {\"class_name\": \"Zeros\", \"config\": {}}, \"gamma_initializer\": {\"class_name\": \"Ones\", \"config\": {}}, \"moving_mean_initializer\": {\"class_name\": \"Zeros\", \"config\": {}}, \"moving_variance_initializer\": {\"class_name\": \"Ones\", \"config\": {}}, \"beta_regularizer\": null, \"gamma_regularizer\": null, \"beta_constraint\": null, \"gamma_constraint\": null}, \"inbound_nodes\": [[[\"conv2d_42\", 0, 0, {}]]]}, {\"name\": \"activation_42\", \"class_name\": \"Activation\", \"config\": {\"name\": \"activation_42\", \"trainable\": true, \"activation\": \"relu\"}, \"inbound_nodes\": [[[\"batch_normalization_42\", 0, 0, {}]]]}, {\"name\": \"conv2d_43\", \"class_name\": \"Conv2D\", \"config\": {\"name\": \"conv2d_43\", \"trainable\": true, \"filters\": 12, \"kernel_size\": [3, 3], \"strides\": [1, 1], \"padding\": \"same\", \"data_format\": \"channels_last\", \"dilation_rate\": [1, 1], \"activation\": \"linear\", \"use_bias\": false, \"kernel_initializer\": {\"class_name\": \"VarianceScaling\", \"config\": {\"scale\": 1.0, \"mode\": \"fan_avg\", \"distribution\": \"uniform\", \"seed\": null}}, \"bias_initializer\": {\"class_name\": \"Zeros\", \"config\": {}}, \"kernel_regularizer\": null, \"bias_regularizer\": null, \"activity_regularizer\": null, \"kernel_constraint\": null, \"bias_constraint\": null}, \"inbound_nodes\": [[[\"activation_42\", 0, 0, {}]]]}, {\"name\": \"dropout_22\", \"class_name\": \"Dropout\", \"config\": {\"name\": \"dropout_22\", \"trainable\": true, \"rate\": 0.2, \"noise_shape\": null, \"seed\": null}, \"inbound_nodes\": [[[\"conv2d_43\", 0, 0, {}]]]}, {\"name\": \"concatenate_20\", \"class_name\": \"Concatenate\", \"config\": {\"name\": \"concatenate_20\", \"trainable\": true, \"axis\": -1}, \"inbound_nodes\": [[[\"concatenate_19\", 0, 0, {}], [\"dropout_22\", 0, 0, {}]]]}, {\"name\": \"batch_normalization_43\", \"class_name\": \"BatchNormalization\", \"config\": {\"name\": \"batch_normalization_43\", \"trainable\": true, \"axis\": -1, \"momentum\": 0.99, \"epsilon\": 0.001, \"center\": true, \"scale\": true, \"beta_initializer\": {\"class_name\": \"Zeros\", \"config\": {}}, \"gamma_initializer\": {\"class_name\": \"Ones\", \"config\": {}}, \"moving_mean_initializer\": {\"class_name\": \"Zeros\", \"config\": {}}, \"moving_variance_initializer\": {\"class_name\": \"Ones\", \"config\": {}}, \"beta_regularizer\": null, \"gamma_regularizer\": null, \"beta_constraint\": null, \"gamma_constraint\": null}, \"inbound_nodes\": [[[\"concatenate_20\", 0, 0, {}]]]}, {\"name\": \"activation_43\", \"class_name\": \"Activation\", \"config\": {\"name\": \"activation_43\", \"trainable\": true, \"activation\": \"relu\"}, \"inbound_nodes\": [[[\"batch_normalization_43\", 0, 0, {}]]]}, {\"name\": \"conv2d_44\", \"class_name\": \"Conv2D\", \"config\": {\"name\": \"conv2d_44\", \"trainable\": true, \"filters\": 12, \"kernel_size\": [1, 1], \"strides\": [1, 1], \"padding\": \"same\", \"data_format\": \"channels_last\", \"dilation_rate\": [1, 1], \"activation\": \"linear\", \"use_bias\": false, \"kernel_initializer\": {\"class_name\": \"VarianceScaling\", \"config\": {\"scale\": 1.0, \"mode\": \"fan_avg\", \"distribution\": \"uniform\", \"seed\": null}}, \"bias_initializer\": {\"class_name\": \"Zeros\", \"config\": {}}, \"kernel_regularizer\": null, \"bias_regularizer\": null, \"activity_regularizer\": null, \"kernel_constraint\": null, \"bias_constraint\": null}, \"inbound_nodes\": [[[\"activation_43\", 0, 0, {}]]]}, {\"name\": \"batch_normalization_44\", \"class_name\": \"BatchNormalization\", \"config\": {\"name\": \"batch_normalization_44\", \"trainable\": true, \"axis\": -1, \"momentum\": 0.99, \"epsilon\": 0.001, \"center\": true, \"scale\": true, \"beta_initializer\": {\"class_name\": \"Zeros\", \"config\": {}}, \"gamma_initializer\": {\"class_name\": \"Ones\", \"config\": {}}, \"moving_mean_initializer\": {\"class_name\": \"Zeros\", \"config\": {}}, \"moving_variance_initializer\": {\"class_name\": \"Ones\", \"config\": {}}, \"beta_regularizer\": null, \"gamma_regularizer\": null, \"beta_constraint\": null, \"gamma_constraint\": null}, \"inbound_nodes\": [[[\"conv2d_44\", 0, 0, {}]]]}, {\"name\": \"activation_44\", \"class_name\": \"Activation\", \"config\": {\"name\": \"activation_44\", \"trainable\": true, \"activation\": \"relu\"}, \"inbound_nodes\": [[[\"batch_normalization_44\", 0, 0, {}]]]}, {\"name\": \"conv2d_45\", \"class_name\": \"Conv2D\", \"config\": {\"name\": \"conv2d_45\", \"trainable\": true, \"filters\": 12, \"kernel_size\": [3, 3], \"strides\": [1, 1], \"padding\": \"same\", \"data_format\": \"channels_last\", \"dilation_rate\": [1, 1], \"activation\": \"linear\", \"use_bias\": false, \"kernel_initializer\": {\"class_name\": \"VarianceScaling\", \"config\": {\"scale\": 1.0, \"mode\": \"fan_avg\", \"distribution\": \"uniform\", \"seed\": null}}, \"bias_initializer\": {\"class_name\": \"Zeros\", \"config\": {}}, \"kernel_regularizer\": null, \"bias_regularizer\": null, \"activity_regularizer\": null, \"kernel_constraint\": null, \"bias_constraint\": null}, \"inbound_nodes\": [[[\"activation_44\", 0, 0, {}]]]}, {\"name\": \"dropout_23\", \"class_name\": \"Dropout\", \"config\": {\"name\": \"dropout_23\", \"trainable\": true, \"rate\": 0.2, \"noise_shape\": null, \"seed\": null}, \"inbound_nodes\": [[[\"conv2d_45\", 0, 0, {}]]]}, {\"name\": \"concatenate_21\", \"class_name\": \"Concatenate\", \"config\": {\"name\": \"concatenate_21\", \"trainable\": true, \"axis\": -1}, \"inbound_nodes\": [[[\"concatenate_20\", 0, 0, {}], [\"dropout_23\", 0, 0, {}]]]}, {\"name\": \"batch_normalization_45\", \"class_name\": \"BatchNormalization\", \"config\": {\"name\": \"batch_normalization_45\", \"trainable\": true, \"axis\": -1, \"momentum\": 0.99, \"epsilon\": 0.001, \"center\": true, \"scale\": true, \"beta_initializer\": {\"class_name\": \"Zeros\", \"config\": {}}, \"gamma_initializer\": {\"class_name\": \"Ones\", \"config\": {}}, \"moving_mean_initializer\": {\"class_name\": \"Zeros\", \"config\": {}}, \"moving_variance_initializer\": {\"class_name\": \"Ones\", \"config\": {}}, \"beta_regularizer\": null, \"gamma_regularizer\": null, \"beta_constraint\": null, \"gamma_constraint\": null}, \"inbound_nodes\": [[[\"concatenate_21\", 0, 0, {}]]]}, {\"name\": \"activation_45\", \"class_name\": \"Activation\", \"config\": {\"name\": \"activation_45\", \"trainable\": true, \"activation\": \"relu\"}, \"inbound_nodes\": [[[\"batch_normalization_45\", 0, 0, {}]]]}, {\"name\": \"conv2d_46\", \"class_name\": \"Conv2D\", \"config\": {\"name\": \"conv2d_46\", \"trainable\": true, \"filters\": 12, \"kernel_size\": [1, 1], \"strides\": [1, 1], \"padding\": \"same\", \"data_format\": \"channels_last\", \"dilation_rate\": [1, 1], \"activation\": \"linear\", \"use_bias\": false, \"kernel_initializer\": {\"class_name\": \"VarianceScaling\", \"config\": {\"scale\": 1.0, \"mode\": \"fan_avg\", \"distribution\": \"uniform\", \"seed\": null}}, \"bias_initializer\": {\"class_name\": \"Zeros\", \"config\": {}}, \"kernel_regularizer\": null, \"bias_regularizer\": null, \"activity_regularizer\": null, \"kernel_constraint\": null, \"bias_constraint\": null}, \"inbound_nodes\": [[[\"activation_45\", 0, 0, {}]]]}, {\"name\": \"batch_normalization_46\", \"class_name\": \"BatchNormalization\", \"config\": {\"name\": \"batch_normalization_46\", \"trainable\": true, \"axis\": -1, \"momentum\": 0.99, \"epsilon\": 0.001, \"center\": true, \"scale\": true, \"beta_initializer\": {\"class_name\": \"Zeros\", \"config\": {}}, \"gamma_initializer\": {\"class_name\": \"Ones\", \"config\": {}}, \"moving_mean_initializer\": {\"class_name\": \"Zeros\", \"config\": {}}, \"moving_variance_initializer\": {\"class_name\": \"Ones\", \"config\": {}}, \"beta_regularizer\": null, \"gamma_regularizer\": null, \"beta_constraint\": null, \"gamma_constraint\": null}, \"inbound_nodes\": [[[\"conv2d_46\", 0, 0, {}]]]}, {\"name\": \"activation_46\", \"class_name\": \"Activation\", \"config\": {\"name\": \"activation_46\", \"trainable\": true, \"activation\": \"relu\"}, \"inbound_nodes\": [[[\"batch_normalization_46\", 0, 0, {}]]]}, {\"name\": \"conv2d_47\", \"class_name\": \"Conv2D\", \"config\": {\"name\": \"conv2d_47\", \"trainable\": true, \"filters\": 12, \"kernel_size\": [3, 3], \"strides\": [1, 1], \"padding\": \"same\", \"data_format\": \"channels_last\", \"dilation_rate\": [1, 1], \"activation\": \"linear\", \"use_bias\": false, \"kernel_initializer\": {\"class_name\": \"VarianceScaling\", \"config\": {\"scale\": 1.0, \"mode\": \"fan_avg\", \"distribution\": \"uniform\", \"seed\": null}}, \"bias_initializer\": {\"class_name\": \"Zeros\", \"config\": {}}, \"kernel_regularizer\": null, \"bias_regularizer\": null, \"activity_regularizer\": null, \"kernel_constraint\": null, \"bias_constraint\": null}, \"inbound_nodes\": [[[\"activation_46\", 0, 0, {}]]]}, {\"name\": \"dropout_24\", \"class_name\": \"Dropout\", \"config\": {\"name\": \"dropout_24\", \"trainable\": true, \"rate\": 0.2, \"noise_shape\": null, \"seed\": null}, \"inbound_nodes\": [[[\"conv2d_47\", 0, 0, {}]]]}, {\"name\": \"concatenate_22\", \"class_name\": \"Concatenate\", \"config\": {\"name\": \"concatenate_22\", \"trainable\": true, \"axis\": -1}, \"inbound_nodes\": [[[\"concatenate_21\", 0, 0, {}], [\"dropout_24\", 0, 0, {}]]]}, {\"name\": \"batch_normalization_47\", \"class_name\": \"BatchNormalization\", \"config\": {\"name\": \"batch_normalization_47\", \"trainable\": true, \"axis\": -1, \"momentum\": 0.99, \"epsilon\": 0.001, \"center\": true, \"scale\": true, \"beta_initializer\": {\"class_name\": \"Zeros\", \"config\": {}}, \"gamma_initializer\": {\"class_name\": \"Ones\", \"config\": {}}, \"moving_mean_initializer\": {\"class_name\": \"Zeros\", \"config\": {}}, \"moving_variance_initializer\": {\"class_name\": \"Ones\", \"config\": {}}, \"beta_regularizer\": null, \"gamma_regularizer\": null, \"beta_constraint\": null, \"gamma_constraint\": null}, \"inbound_nodes\": [[[\"concatenate_22\", 0, 0, {}]]]}, {\"name\": \"activation_47\", \"class_name\": \"Activation\", \"config\": {\"name\": \"activation_47\", \"trainable\": true, \"activation\": \"relu\"}, \"inbound_nodes\": [[[\"batch_normalization_47\", 0, 0, {}]]]}, {\"name\": \"conv2d_48\", \"class_name\": \"Conv2D\", \"config\": {\"name\": \"conv2d_48\", \"trainable\": true, \"filters\": 12, \"kernel_size\": [1, 1], \"strides\": [1, 1], \"padding\": \"same\", \"data_format\": \"channels_last\", \"dilation_rate\": [1, 1], \"activation\": \"linear\", \"use_bias\": false, \"kernel_initializer\": {\"class_name\": \"VarianceScaling\", \"config\": {\"scale\": 1.0, \"mode\": \"fan_avg\", \"distribution\": \"uniform\", \"seed\": null}}, \"bias_initializer\": {\"class_name\": \"Zeros\", \"config\": {}}, \"kernel_regularizer\": null, \"bias_regularizer\": null, \"activity_regularizer\": null, \"kernel_constraint\": null, \"bias_constraint\": null}, \"inbound_nodes\": [[[\"activation_47\", 0, 0, {}]]]}, {\"name\": \"batch_normalization_48\", \"class_name\": \"BatchNormalization\", \"config\": {\"name\": \"batch_normalization_48\", \"trainable\": true, \"axis\": -1, \"momentum\": 0.99, \"epsilon\": 0.001, \"center\": true, \"scale\": true, \"beta_initializer\": {\"class_name\": \"Zeros\", \"config\": {}}, \"gamma_initializer\": {\"class_name\": \"Ones\", \"config\": {}}, \"moving_mean_initializer\": {\"class_name\": \"Zeros\", \"config\": {}}, \"moving_variance_initializer\": {\"class_name\": \"Ones\", \"config\": {}}, \"beta_regularizer\": null, \"gamma_regularizer\": null, \"beta_constraint\": null, \"gamma_constraint\": null}, \"inbound_nodes\": [[[\"conv2d_48\", 0, 0, {}]]]}, {\"name\": \"activation_48\", \"class_name\": \"Activation\", \"config\": {\"name\": \"activation_48\", \"trainable\": true, \"activation\": \"relu\"}, \"inbound_nodes\": [[[\"batch_normalization_48\", 0, 0, {}]]]}, {\"name\": \"conv2d_49\", \"class_name\": \"Conv2D\", \"config\": {\"name\": \"conv2d_49\", \"trainable\": true, \"filters\": 12, \"kernel_size\": [3, 3], \"strides\": [1, 1], \"padding\": \"same\", \"data_format\": \"channels_last\", \"dilation_rate\": [1, 1], \"activation\": \"linear\", \"use_bias\": false, \"kernel_initializer\": {\"class_name\": \"VarianceScaling\", \"config\": {\"scale\": 1.0, \"mode\": \"fan_avg\", \"distribution\": \"uniform\", \"seed\": null}}, \"bias_initializer\": {\"class_name\": \"Zeros\", \"config\": {}}, \"kernel_regularizer\": null, \"bias_regularizer\": null, \"activity_regularizer\": null, \"kernel_constraint\": null, \"bias_constraint\": null}, \"inbound_nodes\": [[[\"activation_48\", 0, 0, {}]]]}, {\"name\": \"dropout_25\", \"class_name\": \"Dropout\", \"config\": {\"name\": \"dropout_25\", \"trainable\": true, \"rate\": 0.2, \"noise_shape\": null, \"seed\": null}, \"inbound_nodes\": [[[\"conv2d_49\", 0, 0, {}]]]}, {\"name\": \"concatenate_23\", \"class_name\": \"Concatenate\", \"config\": {\"name\": \"concatenate_23\", \"trainable\": true, \"axis\": -1}, \"inbound_nodes\": [[[\"concatenate_22\", 0, 0, {}], [\"dropout_25\", 0, 0, {}]]]}, {\"name\": \"batch_normalization_49\", \"class_name\": \"BatchNormalization\", \"config\": {\"name\": \"batch_normalization_49\", \"trainable\": true, \"axis\": -1, \"momentum\": 0.99, \"epsilon\": 0.001, \"center\": true, \"scale\": true, \"beta_initializer\": {\"class_name\": \"Zeros\", \"config\": {}}, \"gamma_initializer\": {\"class_name\": \"Ones\", \"config\": {}}, \"moving_mean_initializer\": {\"class_name\": \"Zeros\", \"config\": {}}, \"moving_variance_initializer\": {\"class_name\": \"Ones\", \"config\": {}}, \"beta_regularizer\": null, \"gamma_regularizer\": null, \"beta_constraint\": null, \"gamma_constraint\": null}, \"inbound_nodes\": [[[\"concatenate_23\", 0, 0, {}]]]}, {\"name\": \"activation_49\", \"class_name\": \"Activation\", \"config\": {\"name\": \"activation_49\", \"trainable\": true, \"activation\": \"relu\"}, \"inbound_nodes\": [[[\"batch_normalization_49\", 0, 0, {}]]]}, {\"name\": \"conv2d_50\", \"class_name\": \"Conv2D\", \"config\": {\"name\": \"conv2d_50\", \"trainable\": true, \"filters\": 12, \"kernel_size\": [1, 1], \"strides\": [1, 1], \"padding\": \"same\", \"data_format\": \"channels_last\", \"dilation_rate\": [1, 1], \"activation\": \"linear\", \"use_bias\": false, \"kernel_initializer\": {\"class_name\": \"VarianceScaling\", \"config\": {\"scale\": 1.0, \"mode\": \"fan_avg\", \"distribution\": \"uniform\", \"seed\": null}}, \"bias_initializer\": {\"class_name\": \"Zeros\", \"config\": {}}, \"kernel_regularizer\": null, \"bias_regularizer\": null, \"activity_regularizer\": null, \"kernel_constraint\": null, \"bias_constraint\": null}, \"inbound_nodes\": [[[\"activation_49\", 0, 0, {}]]]}, {\"name\": \"batch_normalization_50\", \"class_name\": \"BatchNormalization\", \"config\": {\"name\": \"batch_normalization_50\", \"trainable\": true, \"axis\": -1, \"momentum\": 0.99, \"epsilon\": 0.001, \"center\": true, \"scale\": true, \"beta_initializer\": {\"class_name\": \"Zeros\", \"config\": {}}, \"gamma_initializer\": {\"class_name\": \"Ones\", \"config\": {}}, \"moving_mean_initializer\": {\"class_name\": \"Zeros\", \"config\": {}}, \"moving_variance_initializer\": {\"class_name\": \"Ones\", \"config\": {}}, \"beta_regularizer\": null, \"gamma_regularizer\": null, \"beta_constraint\": null, \"gamma_constraint\": null}, \"inbound_nodes\": [[[\"conv2d_50\", 0, 0, {}]]]}, {\"name\": \"activation_50\", \"class_name\": \"Activation\", \"config\": {\"name\": \"activation_50\", \"trainable\": true, \"activation\": \"relu\"}, \"inbound_nodes\": [[[\"batch_normalization_50\", 0, 0, {}]]]}, {\"name\": \"conv2d_51\", \"class_name\": \"Conv2D\", \"config\": {\"name\": \"conv2d_51\", \"trainable\": true, \"filters\": 12, \"kernel_size\": [3, 3], \"strides\": [1, 1], \"padding\": \"same\", \"data_format\": \"channels_last\", \"dilation_rate\": [1, 1], \"activation\": \"linear\", \"use_bias\": false, \"kernel_initializer\": {\"class_name\": \"VarianceScaling\", \"config\": {\"scale\": 1.0, \"mode\": \"fan_avg\", \"distribution\": \"uniform\", \"seed\": null}}, \"bias_initializer\": {\"class_name\": \"Zeros\", \"config\": {}}, \"kernel_regularizer\": null, \"bias_regularizer\": null, \"activity_regularizer\": null, \"kernel_constraint\": null, \"bias_constraint\": null}, \"inbound_nodes\": [[[\"activation_50\", 0, 0, {}]]]}, {\"name\": \"dropout_26\", \"class_name\": \"Dropout\", \"config\": {\"name\": \"dropout_26\", \"trainable\": true, \"rate\": 0.2, \"noise_shape\": null, \"seed\": null}, \"inbound_nodes\": [[[\"conv2d_51\", 0, 0, {}]]]}, {\"name\": \"concatenate_24\", \"class_name\": \"Concatenate\", \"config\": {\"name\": \"concatenate_24\", \"trainable\": true, \"axis\": -1}, \"inbound_nodes\": [[[\"concatenate_23\", 0, 0, {}], [\"dropout_26\", 0, 0, {}]]]}, {\"name\": \"batch_normalization_51\", \"class_name\": \"BatchNormalization\", \"config\": {\"name\": \"batch_normalization_51\", \"trainable\": true, \"axis\": -1, \"momentum\": 0.99, \"epsilon\": 0.001, \"center\": true, \"scale\": true, \"beta_initializer\": {\"class_name\": \"Zeros\", \"config\": {}}, \"gamma_initializer\": {\"class_name\": \"Ones\", \"config\": {}}, \"moving_mean_initializer\": {\"class_name\": \"Zeros\", \"config\": {}}, \"moving_variance_initializer\": {\"class_name\": \"Ones\", \"config\": {}}, \"beta_regularizer\": null, \"gamma_regularizer\": null, \"beta_constraint\": null, \"gamma_constraint\": null}, \"inbound_nodes\": [[[\"concatenate_24\", 0, 0, {}]]]}, {\"name\": \"activation_51\", \"class_name\": \"Activation\", \"config\": {\"name\": \"activation_51\", \"trainable\": true, \"activation\": \"relu\"}, \"inbound_nodes\": [[[\"batch_normalization_51\", 0, 0, {}]]]}, {\"name\": \"conv2d_52\", \"class_name\": \"Conv2D\", \"config\": {\"name\": \"conv2d_52\", \"trainable\": true, \"filters\": 12, \"kernel_size\": [1, 1], \"strides\": [1, 1], \"padding\": \"same\", \"data_format\": \"channels_last\", \"dilation_rate\": [1, 1], \"activation\": \"linear\", \"use_bias\": false, \"kernel_initializer\": {\"class_name\": \"VarianceScaling\", \"config\": {\"scale\": 1.0, \"mode\": \"fan_avg\", \"distribution\": \"uniform\", \"seed\": null}}, \"bias_initializer\": {\"class_name\": \"Zeros\", \"config\": {}}, \"kernel_regularizer\": null, \"bias_regularizer\": null, \"activity_regularizer\": null, \"kernel_constraint\": null, \"bias_constraint\": null}, \"inbound_nodes\": [[[\"activation_51\", 0, 0, {}]]]}, {\"name\": \"batch_normalization_52\", \"class_name\": \"BatchNormalization\", \"config\": {\"name\": \"batch_normalization_52\", \"trainable\": true, \"axis\": -1, \"momentum\": 0.99, \"epsilon\": 0.001, \"center\": true, \"scale\": true, \"beta_initializer\": {\"class_name\": \"Zeros\", \"config\": {}}, \"gamma_initializer\": {\"class_name\": \"Ones\", \"config\": {}}, \"moving_mean_initializer\": {\"class_name\": \"Zeros\", \"config\": {}}, \"moving_variance_initializer\": {\"class_name\": \"Ones\", \"config\": {}}, \"beta_regularizer\": null, \"gamma_regularizer\": null, \"beta_constraint\": null, \"gamma_constraint\": null}, \"inbound_nodes\": [[[\"conv2d_52\", 0, 0, {}]]]}, {\"name\": \"activation_52\", \"class_name\": \"Activation\", \"config\": {\"name\": \"activation_52\", \"trainable\": true, \"activation\": \"relu\"}, \"inbound_nodes\": [[[\"batch_normalization_52\", 0, 0, {}]]]}, {\"name\": \"conv2d_53\", \"class_name\": \"Conv2D\", \"config\": {\"name\": \"conv2d_53\", \"trainable\": true, \"filters\": 12, \"kernel_size\": [3, 3], \"strides\": [1, 1], \"padding\": \"same\", \"data_format\": \"channels_last\", \"dilation_rate\": [1, 1], \"activation\": \"linear\", \"use_bias\": false, \"kernel_initializer\": {\"class_name\": \"VarianceScaling\", \"config\": {\"scale\": 1.0, \"mode\": \"fan_avg\", \"distribution\": \"uniform\", \"seed\": null}}, \"bias_initializer\": {\"class_name\": \"Zeros\", \"config\": {}}, \"kernel_regularizer\": null, \"bias_regularizer\": null, \"activity_regularizer\": null, \"kernel_constraint\": null, \"bias_constraint\": null}, \"inbound_nodes\": [[[\"activation_52\", 0, 0, {}]]]}, {\"name\": \"dropout_27\", \"class_name\": \"Dropout\", \"config\": {\"name\": \"dropout_27\", \"trainable\": true, \"rate\": 0.2, \"noise_shape\": null, \"seed\": null}, \"inbound_nodes\": [[[\"conv2d_53\", 0, 0, {}]]]}, {\"name\": \"concatenate_25\", \"class_name\": \"Concatenate\", \"config\": {\"name\": \"concatenate_25\", \"trainable\": true, \"axis\": -1}, \"inbound_nodes\": [[[\"concatenate_24\", 0, 0, {}], [\"dropout_27\", 0, 0, {}]]]}, {\"name\": \"batch_normalization_53\", \"class_name\": \"BatchNormalization\", \"config\": {\"name\": \"batch_normalization_53\", \"trainable\": true, \"axis\": -1, \"momentum\": 0.99, \"epsilon\": 0.001, \"center\": true, \"scale\": true, \"beta_initializer\": {\"class_name\": \"Zeros\", \"config\": {}}, \"gamma_initializer\": {\"class_name\": \"Ones\", \"config\": {}}, \"moving_mean_initializer\": {\"class_name\": \"Zeros\", \"config\": {}}, \"moving_variance_initializer\": {\"class_name\": \"Ones\", \"config\": {}}, \"beta_regularizer\": null, \"gamma_regularizer\": null, \"beta_constraint\": null, \"gamma_constraint\": null}, \"inbound_nodes\": [[[\"concatenate_25\", 0, 0, {}]]]}, {\"name\": \"activation_53\", \"class_name\": \"Activation\", \"config\": {\"name\": \"activation_53\", \"trainable\": true, \"activation\": \"relu\"}, \"inbound_nodes\": [[[\"batch_normalization_53\", 0, 0, {}]]]}, {\"name\": \"conv2d_54\", \"class_name\": \"Conv2D\", \"config\": {\"name\": \"conv2d_54\", \"trainable\": true, \"filters\": 12, \"kernel_size\": [1, 1], \"strides\": [1, 1], \"padding\": \"same\", \"data_format\": \"channels_last\", \"dilation_rate\": [1, 1], \"activation\": \"linear\", \"use_bias\": false, \"kernel_initializer\": {\"class_name\": \"VarianceScaling\", \"config\": {\"scale\": 1.0, \"mode\": \"fan_avg\", \"distribution\": \"uniform\", \"seed\": null}}, \"bias_initializer\": {\"class_name\": \"Zeros\", \"config\": {}}, \"kernel_regularizer\": null, \"bias_regularizer\": null, \"activity_regularizer\": null, \"kernel_constraint\": null, \"bias_constraint\": null}, \"inbound_nodes\": [[[\"activation_53\", 0, 0, {}]]]}, {\"name\": \"batch_normalization_54\", \"class_name\": \"BatchNormalization\", \"config\": {\"name\": \"batch_normalization_54\", \"trainable\": true, \"axis\": -1, \"momentum\": 0.99, \"epsilon\": 0.001, \"center\": true, \"scale\": true, \"beta_initializer\": {\"class_name\": \"Zeros\", \"config\": {}}, \"gamma_initializer\": {\"class_name\": \"Ones\", \"config\": {}}, \"moving_mean_initializer\": {\"class_name\": \"Zeros\", \"config\": {}}, \"moving_variance_initializer\": {\"class_name\": \"Ones\", \"config\": {}}, \"beta_regularizer\": null, \"gamma_regularizer\": null, \"beta_constraint\": null, \"gamma_constraint\": null}, \"inbound_nodes\": [[[\"conv2d_54\", 0, 0, {}]]]}, {\"name\": \"activation_54\", \"class_name\": \"Activation\", \"config\": {\"name\": \"activation_54\", \"trainable\": true, \"activation\": \"relu\"}, \"inbound_nodes\": [[[\"batch_normalization_54\", 0, 0, {}]]]}, {\"name\": \"conv2d_55\", \"class_name\": \"Conv2D\", \"config\": {\"name\": \"conv2d_55\", \"trainable\": true, \"filters\": 12, \"kernel_size\": [3, 3], \"strides\": [1, 1], \"padding\": \"same\", \"data_format\": \"channels_last\", \"dilation_rate\": [1, 1], \"activation\": \"linear\", \"use_bias\": false, \"kernel_initializer\": {\"class_name\": \"VarianceScaling\", \"config\": {\"scale\": 1.0, \"mode\": \"fan_avg\", \"distribution\": \"uniform\", \"seed\": null}}, \"bias_initializer\": {\"class_name\": \"Zeros\", \"config\": {}}, \"kernel_regularizer\": null, \"bias_regularizer\": null, \"activity_regularizer\": null, \"kernel_constraint\": null, \"bias_constraint\": null}, \"inbound_nodes\": [[[\"activation_54\", 0, 0, {}]]]}, {\"name\": \"dropout_28\", \"class_name\": \"Dropout\", \"config\": {\"name\": \"dropout_28\", \"trainable\": true, \"rate\": 0.2, \"noise_shape\": null, \"seed\": null}, \"inbound_nodes\": [[[\"conv2d_55\", 0, 0, {}]]]}, {\"name\": \"concatenate_26\", \"class_name\": \"Concatenate\", \"config\": {\"name\": \"concatenate_26\", \"trainable\": true, \"axis\": -1}, \"inbound_nodes\": [[[\"concatenate_25\", 0, 0, {}], [\"dropout_28\", 0, 0, {}]]]}, {\"name\": \"batch_normalization_55\", \"class_name\": \"BatchNormalization\", \"config\": {\"name\": \"batch_normalization_55\", \"trainable\": true, \"axis\": -1, \"momentum\": 0.99, \"epsilon\": 0.001, \"center\": true, \"scale\": true, \"beta_initializer\": {\"class_name\": \"Zeros\", \"config\": {}}, \"gamma_initializer\": {\"class_name\": \"Ones\", \"config\": {}}, \"moving_mean_initializer\": {\"class_name\": \"Zeros\", \"config\": {}}, \"moving_variance_initializer\": {\"class_name\": \"Ones\", \"config\": {}}, \"beta_regularizer\": null, \"gamma_regularizer\": null, \"beta_constraint\": null, \"gamma_constraint\": null}, \"inbound_nodes\": [[[\"concatenate_26\", 0, 0, {}]]]}, {\"name\": \"activation_55\", \"class_name\": \"Activation\", \"config\": {\"name\": \"activation_55\", \"trainable\": true, \"activation\": \"relu\"}, \"inbound_nodes\": [[[\"batch_normalization_55\", 0, 0, {}]]]}, {\"name\": \"conv2d_56\", \"class_name\": \"Conv2D\", \"config\": {\"name\": \"conv2d_56\", \"trainable\": true, \"filters\": 12, \"kernel_size\": [1, 1], \"strides\": [1, 1], \"padding\": \"same\", \"data_format\": \"channels_last\", \"dilation_rate\": [1, 1], \"activation\": \"linear\", \"use_bias\": false, \"kernel_initializer\": {\"class_name\": \"VarianceScaling\", \"config\": {\"scale\": 1.0, \"mode\": \"fan_avg\", \"distribution\": \"uniform\", \"seed\": null}}, \"bias_initializer\": {\"class_name\": \"Zeros\", \"config\": {}}, \"kernel_regularizer\": null, \"bias_regularizer\": null, \"activity_regularizer\": null, \"kernel_constraint\": null, \"bias_constraint\": null}, \"inbound_nodes\": [[[\"activation_55\", 0, 0, {}]]]}, {\"name\": \"batch_normalization_56\", \"class_name\": \"BatchNormalization\", \"config\": {\"name\": \"batch_normalization_56\", \"trainable\": true, \"axis\": -1, \"momentum\": 0.99, \"epsilon\": 0.001, \"center\": true, \"scale\": true, \"beta_initializer\": {\"class_name\": \"Zeros\", \"config\": {}}, \"gamma_initializer\": {\"class_name\": \"Ones\", \"config\": {}}, \"moving_mean_initializer\": {\"class_name\": \"Zeros\", \"config\": {}}, \"moving_variance_initializer\": {\"class_name\": \"Ones\", \"config\": {}}, \"beta_regularizer\": null, \"gamma_regularizer\": null, \"beta_constraint\": null, \"gamma_constraint\": null}, \"inbound_nodes\": [[[\"conv2d_56\", 0, 0, {}]]]}, {\"name\": \"activation_56\", \"class_name\": \"Activation\", \"config\": {\"name\": \"activation_56\", \"trainable\": true, \"activation\": \"relu\"}, \"inbound_nodes\": [[[\"batch_normalization_56\", 0, 0, {}]]]}, {\"name\": \"conv2d_57\", \"class_name\": \"Conv2D\", \"config\": {\"name\": \"conv2d_57\", \"trainable\": true, \"filters\": 12, \"kernel_size\": [3, 3], \"strides\": [1, 1], \"padding\": \"same\", \"data_format\": \"channels_last\", \"dilation_rate\": [1, 1], \"activation\": \"linear\", \"use_bias\": false, \"kernel_initializer\": {\"class_name\": \"VarianceScaling\", \"config\": {\"scale\": 1.0, \"mode\": \"fan_avg\", \"distribution\": \"uniform\", \"seed\": null}}, \"bias_initializer\": {\"class_name\": \"Zeros\", \"config\": {}}, \"kernel_regularizer\": null, \"bias_regularizer\": null, \"activity_regularizer\": null, \"kernel_constraint\": null, \"bias_constraint\": null}, \"inbound_nodes\": [[[\"activation_56\", 0, 0, {}]]]}, {\"name\": \"dropout_29\", \"class_name\": \"Dropout\", \"config\": {\"name\": \"dropout_29\", \"trainable\": true, \"rate\": 0.2, \"noise_shape\": null, \"seed\": null}, \"inbound_nodes\": [[[\"conv2d_57\", 0, 0, {}]]]}, {\"name\": \"concatenate_27\", \"class_name\": \"Concatenate\", \"config\": {\"name\": \"concatenate_27\", \"trainable\": true, \"axis\": -1}, \"inbound_nodes\": [[[\"concatenate_26\", 0, 0, {}], [\"dropout_29\", 0, 0, {}]]]}, {\"name\": \"batch_normalization_57\", \"class_name\": \"BatchNormalization\", \"config\": {\"name\": \"batch_normalization_57\", \"trainable\": true, \"axis\": -1, \"momentum\": 0.99, \"epsilon\": 0.001, \"center\": true, \"scale\": true, \"beta_initializer\": {\"class_name\": \"Zeros\", \"config\": {}}, \"gamma_initializer\": {\"class_name\": \"Ones\", \"config\": {}}, \"moving_mean_initializer\": {\"class_name\": \"Zeros\", \"config\": {}}, \"moving_variance_initializer\": {\"class_name\": \"Ones\", \"config\": {}}, \"beta_regularizer\": null, \"gamma_regularizer\": null, \"beta_constraint\": null, \"gamma_constraint\": null}, \"inbound_nodes\": [[[\"concatenate_27\", 0, 0, {}]]]}, {\"name\": \"activation_57\", \"class_name\": \"Activation\", \"config\": {\"name\": \"activation_57\", \"trainable\": true, \"activation\": \"relu\"}, \"inbound_nodes\": [[[\"batch_normalization_57\", 0, 0, {}]]]}, {\"name\": \"conv2d_58\", \"class_name\": \"Conv2D\", \"config\": {\"name\": \"conv2d_58\", \"trainable\": true, \"filters\": 12, \"kernel_size\": [1, 1], \"strides\": [1, 1], \"padding\": \"same\", \"data_format\": \"channels_last\", \"dilation_rate\": [1, 1], \"activation\": \"linear\", \"use_bias\": false, \"kernel_initializer\": {\"class_name\": \"VarianceScaling\", \"config\": {\"scale\": 1.0, \"mode\": \"fan_avg\", \"distribution\": \"uniform\", \"seed\": null}}, \"bias_initializer\": {\"class_name\": \"Zeros\", \"config\": {}}, \"kernel_regularizer\": null, \"bias_regularizer\": null, \"activity_regularizer\": null, \"kernel_constraint\": null, \"bias_constraint\": null}, \"inbound_nodes\": [[[\"activation_57\", 0, 0, {}]]]}, {\"name\": \"batch_normalization_58\", \"class_name\": \"BatchNormalization\", \"config\": {\"name\": \"batch_normalization_58\", \"trainable\": true, \"axis\": -1, \"momentum\": 0.99, \"epsilon\": 0.001, \"center\": true, \"scale\": true, \"beta_initializer\": {\"class_name\": \"Zeros\", \"config\": {}}, \"gamma_initializer\": {\"class_name\": \"Ones\", \"config\": {}}, \"moving_mean_initializer\": {\"class_name\": \"Zeros\", \"config\": {}}, \"moving_variance_initializer\": {\"class_name\": \"Ones\", \"config\": {}}, \"beta_regularizer\": null, \"gamma_regularizer\": null, \"beta_constraint\": null, \"gamma_constraint\": null}, \"inbound_nodes\": [[[\"conv2d_58\", 0, 0, {}]]]}, {\"name\": \"activation_58\", \"class_name\": \"Activation\", \"config\": {\"name\": \"activation_58\", \"trainable\": true, \"activation\": \"relu\"}, \"inbound_nodes\": [[[\"batch_normalization_58\", 0, 0, {}]]]}, {\"name\": \"conv2d_59\", \"class_name\": \"Conv2D\", \"config\": {\"name\": \"conv2d_59\", \"trainable\": true, \"filters\": 12, \"kernel_size\": [3, 3], \"strides\": [1, 1], \"padding\": \"same\", \"data_format\": \"channels_last\", \"dilation_rate\": [1, 1], \"activation\": \"linear\", \"use_bias\": false, \"kernel_initializer\": {\"class_name\": \"VarianceScaling\", \"config\": {\"scale\": 1.0, \"mode\": \"fan_avg\", \"distribution\": \"uniform\", \"seed\": null}}, \"bias_initializer\": {\"class_name\": \"Zeros\", \"config\": {}}, \"kernel_regularizer\": null, \"bias_regularizer\": null, \"activity_regularizer\": null, \"kernel_constraint\": null, \"bias_constraint\": null}, \"inbound_nodes\": [[[\"activation_58\", 0, 0, {}]]]}, {\"name\": \"dropout_30\", \"class_name\": \"Dropout\", \"config\": {\"name\": \"dropout_30\", \"trainable\": true, \"rate\": 0.2, \"noise_shape\": null, \"seed\": null}, \"inbound_nodes\": [[[\"conv2d_59\", 0, 0, {}]]]}, {\"name\": \"concatenate_28\", \"class_name\": \"Concatenate\", \"config\": {\"name\": \"concatenate_28\", \"trainable\": true, \"axis\": -1}, \"inbound_nodes\": [[[\"concatenate_27\", 0, 0, {}], [\"dropout_30\", 0, 0, {}]]]}, {\"name\": \"batch_normalization_59\", \"class_name\": \"BatchNormalization\", \"config\": {\"name\": \"batch_normalization_59\", \"trainable\": true, \"axis\": -1, \"momentum\": 0.99, \"epsilon\": 0.001, \"center\": true, \"scale\": true, \"beta_initializer\": {\"class_name\": \"Zeros\", \"config\": {}}, \"gamma_initializer\": {\"class_name\": \"Ones\", \"config\": {}}, \"moving_mean_initializer\": {\"class_name\": \"Zeros\", \"config\": {}}, \"moving_variance_initializer\": {\"class_name\": \"Ones\", \"config\": {}}, \"beta_regularizer\": null, \"gamma_regularizer\": null, \"beta_constraint\": null, \"gamma_constraint\": null}, \"inbound_nodes\": [[[\"concatenate_28\", 0, 0, {}]]]}, {\"name\": \"activation_59\", \"class_name\": \"Activation\", \"config\": {\"name\": \"activation_59\", \"trainable\": true, \"activation\": \"relu\"}, \"inbound_nodes\": [[[\"batch_normalization_59\", 0, 0, {}]]]}, {\"name\": \"conv2d_60\", \"class_name\": \"Conv2D\", \"config\": {\"name\": \"conv2d_60\", \"trainable\": true, \"filters\": 12, \"kernel_size\": [1, 1], \"strides\": [1, 1], \"padding\": \"same\", \"data_format\": \"channels_last\", \"dilation_rate\": [1, 1], \"activation\": \"linear\", \"use_bias\": false, \"kernel_initializer\": {\"class_name\": \"VarianceScaling\", \"config\": {\"scale\": 1.0, \"mode\": \"fan_avg\", \"distribution\": \"uniform\", \"seed\": null}}, \"bias_initializer\": {\"class_name\": \"Zeros\", \"config\": {}}, \"kernel_regularizer\": null, \"bias_regularizer\": null, \"activity_regularizer\": null, \"kernel_constraint\": null, \"bias_constraint\": null}, \"inbound_nodes\": [[[\"activation_59\", 0, 0, {}]]]}, {\"name\": \"batch_normalization_60\", \"class_name\": \"BatchNormalization\", \"config\": {\"name\": \"batch_normalization_60\", \"trainable\": true, \"axis\": -1, \"momentum\": 0.99, \"epsilon\": 0.001, \"center\": true, \"scale\": true, \"beta_initializer\": {\"class_name\": \"Zeros\", \"config\": {}}, \"gamma_initializer\": {\"class_name\": \"Ones\", \"config\": {}}, \"moving_mean_initializer\": {\"class_name\": \"Zeros\", \"config\": {}}, \"moving_variance_initializer\": {\"class_name\": \"Ones\", \"config\": {}}, \"beta_regularizer\": null, \"gamma_regularizer\": null, \"beta_constraint\": null, \"gamma_constraint\": null}, \"inbound_nodes\": [[[\"conv2d_60\", 0, 0, {}]]]}, {\"name\": \"activation_60\", \"class_name\": \"Activation\", \"config\": {\"name\": \"activation_60\", \"trainable\": true, \"activation\": \"relu\"}, \"inbound_nodes\": [[[\"batch_normalization_60\", 0, 0, {}]]]}, {\"name\": \"conv2d_61\", \"class_name\": \"Conv2D\", \"config\": {\"name\": \"conv2d_61\", \"trainable\": true, \"filters\": 12, \"kernel_size\": [3, 3], \"strides\": [1, 1], \"padding\": \"same\", \"data_format\": \"channels_last\", \"dilation_rate\": [1, 1], \"activation\": \"linear\", \"use_bias\": false, \"kernel_initializer\": {\"class_name\": \"VarianceScaling\", \"config\": {\"scale\": 1.0, \"mode\": \"fan_avg\", \"distribution\": \"uniform\", \"seed\": null}}, \"bias_initializer\": {\"class_name\": \"Zeros\", \"config\": {}}, \"kernel_regularizer\": null, \"bias_regularizer\": null, \"activity_regularizer\": null, \"kernel_constraint\": null, \"bias_constraint\": null}, \"inbound_nodes\": [[[\"activation_60\", 0, 0, {}]]]}, {\"name\": \"dropout_31\", \"class_name\": \"Dropout\", \"config\": {\"name\": \"dropout_31\", \"trainable\": true, \"rate\": 0.2, \"noise_shape\": null, \"seed\": null}, \"inbound_nodes\": [[[\"conv2d_61\", 0, 0, {}]]]}, {\"name\": \"concatenate_29\", \"class_name\": \"Concatenate\", \"config\": {\"name\": \"concatenate_29\", \"trainable\": true, \"axis\": -1}, \"inbound_nodes\": [[[\"concatenate_28\", 0, 0, {}], [\"dropout_31\", 0, 0, {}]]]}, {\"name\": \"batch_normalization_61\", \"class_name\": \"BatchNormalization\", \"config\": {\"name\": \"batch_normalization_61\", \"trainable\": true, \"axis\": -1, \"momentum\": 0.99, \"epsilon\": 0.001, \"center\": true, \"scale\": true, \"beta_initializer\": {\"class_name\": \"Zeros\", \"config\": {}}, \"gamma_initializer\": {\"class_name\": \"Ones\", \"config\": {}}, \"moving_mean_initializer\": {\"class_name\": \"Zeros\", \"config\": {}}, \"moving_variance_initializer\": {\"class_name\": \"Ones\", \"config\": {}}, \"beta_regularizer\": null, \"gamma_regularizer\": null, \"beta_constraint\": null, \"gamma_constraint\": null}, \"inbound_nodes\": [[[\"concatenate_29\", 0, 0, {}]]]}, {\"name\": \"activation_61\", \"class_name\": \"Activation\", \"config\": {\"name\": \"activation_61\", \"trainable\": true, \"activation\": \"relu\"}, \"inbound_nodes\": [[[\"batch_normalization_61\", 0, 0, {}]]]}, {\"name\": \"conv2d_62\", \"class_name\": \"Conv2D\", \"config\": {\"name\": \"conv2d_62\", \"trainable\": true, \"filters\": 12, \"kernel_size\": [1, 1], \"strides\": [1, 1], \"padding\": \"same\", \"data_format\": \"channels_last\", \"dilation_rate\": [1, 1], \"activation\": \"linear\", \"use_bias\": false, \"kernel_initializer\": {\"class_name\": \"VarianceScaling\", \"config\": {\"scale\": 1.0, \"mode\": \"fan_avg\", \"distribution\": \"uniform\", \"seed\": null}}, \"bias_initializer\": {\"class_name\": \"Zeros\", \"config\": {}}, \"kernel_regularizer\": null, \"bias_regularizer\": null, \"activity_regularizer\": null, \"kernel_constraint\": null, \"bias_constraint\": null}, \"inbound_nodes\": [[[\"activation_61\", 0, 0, {}]]]}, {\"name\": \"batch_normalization_62\", \"class_name\": \"BatchNormalization\", \"config\": {\"name\": \"batch_normalization_62\", \"trainable\": true, \"axis\": -1, \"momentum\": 0.99, \"epsilon\": 0.001, \"center\": true, \"scale\": true, \"beta_initializer\": {\"class_name\": \"Zeros\", \"config\": {}}, \"gamma_initializer\": {\"class_name\": \"Ones\", \"config\": {}}, \"moving_mean_initializer\": {\"class_name\": \"Zeros\", \"config\": {}}, \"moving_variance_initializer\": {\"class_name\": \"Ones\", \"config\": {}}, \"beta_regularizer\": null, \"gamma_regularizer\": null, \"beta_constraint\": null, \"gamma_constraint\": null}, \"inbound_nodes\": [[[\"conv2d_62\", 0, 0, {}]]]}, {\"name\": \"activation_62\", \"class_name\": \"Activation\", \"config\": {\"name\": \"activation_62\", \"trainable\": true, \"activation\": \"relu\"}, \"inbound_nodes\": [[[\"batch_normalization_62\", 0, 0, {}]]]}, {\"name\": \"conv2d_63\", \"class_name\": \"Conv2D\", \"config\": {\"name\": \"conv2d_63\", \"trainable\": true, \"filters\": 12, \"kernel_size\": [3, 3], \"strides\": [1, 1], \"padding\": \"same\", \"data_format\": \"channels_last\", \"dilation_rate\": [1, 1], \"activation\": \"linear\", \"use_bias\": false, \"kernel_initializer\": {\"class_name\": \"VarianceScaling\", \"config\": {\"scale\": 1.0, \"mode\": \"fan_avg\", \"distribution\": \"uniform\", \"seed\": null}}, \"bias_initializer\": {\"class_name\": \"Zeros\", \"config\": {}}, \"kernel_regularizer\": null, \"bias_regularizer\": null, \"activity_regularizer\": null, \"kernel_constraint\": null, \"bias_constraint\": null}, \"inbound_nodes\": [[[\"activation_62\", 0, 0, {}]]]}, {\"name\": \"dropout_32\", \"class_name\": \"Dropout\", \"config\": {\"name\": \"dropout_32\", \"trainable\": true, \"rate\": 0.2, \"noise_shape\": null, \"seed\": null}, \"inbound_nodes\": [[[\"conv2d_63\", 0, 0, {}]]]}, {\"name\": \"concatenate_30\", \"class_name\": \"Concatenate\", \"config\": {\"name\": \"concatenate_30\", \"trainable\": true, \"axis\": -1}, \"inbound_nodes\": [[[\"concatenate_29\", 0, 0, {}], [\"dropout_32\", 0, 0, {}]]]}, {\"name\": \"batch_normalization_63\", \"class_name\": \"BatchNormalization\", \"config\": {\"name\": \"batch_normalization_63\", \"trainable\": true, \"axis\": -1, \"momentum\": 0.99, \"epsilon\": 0.001, \"center\": true, \"scale\": true, \"beta_initializer\": {\"class_name\": \"Zeros\", \"config\": {}}, \"gamma_initializer\": {\"class_name\": \"Ones\", \"config\": {}}, \"moving_mean_initializer\": {\"class_name\": \"Zeros\", \"config\": {}}, \"moving_variance_initializer\": {\"class_name\": \"Ones\", \"config\": {}}, \"beta_regularizer\": null, \"gamma_regularizer\": null, \"beta_constraint\": null, \"gamma_constraint\": null}, \"inbound_nodes\": [[[\"concatenate_30\", 0, 0, {}]]]}, {\"name\": \"activation_63\", \"class_name\": \"Activation\", \"config\": {\"name\": \"activation_63\", \"trainable\": true, \"activation\": \"relu\"}, \"inbound_nodes\": [[[\"batch_normalization_63\", 0, 0, {}]]]}, {\"name\": \"conv2d_64\", \"class_name\": \"Conv2D\", \"config\": {\"name\": \"conv2d_64\", \"trainable\": true, \"filters\": 12, \"kernel_size\": [1, 1], \"strides\": [1, 1], \"padding\": \"same\", \"data_format\": \"channels_last\", \"dilation_rate\": [1, 1], \"activation\": \"linear\", \"use_bias\": false, \"kernel_initializer\": {\"class_name\": \"VarianceScaling\", \"config\": {\"scale\": 1.0, \"mode\": \"fan_avg\", \"distribution\": \"uniform\", \"seed\": null}}, \"bias_initializer\": {\"class_name\": \"Zeros\", \"config\": {}}, \"kernel_regularizer\": null, \"bias_regularizer\": null, \"activity_regularizer\": null, \"kernel_constraint\": null, \"bias_constraint\": null}, \"inbound_nodes\": [[[\"activation_63\", 0, 0, {}]]]}, {\"name\": \"batch_normalization_64\", \"class_name\": \"BatchNormalization\", \"config\": {\"name\": \"batch_normalization_64\", \"trainable\": true, \"axis\": -1, \"momentum\": 0.99, \"epsilon\": 0.001, \"center\": true, \"scale\": true, \"beta_initializer\": {\"class_name\": \"Zeros\", \"config\": {}}, \"gamma_initializer\": {\"class_name\": \"Ones\", \"config\": {}}, \"moving_mean_initializer\": {\"class_name\": \"Zeros\", \"config\": {}}, \"moving_variance_initializer\": {\"class_name\": \"Ones\", \"config\": {}}, \"beta_regularizer\": null, \"gamma_regularizer\": null, \"beta_constraint\": null, \"gamma_constraint\": null}, \"inbound_nodes\": [[[\"conv2d_64\", 0, 0, {}]]]}, {\"name\": \"activation_64\", \"class_name\": \"Activation\", \"config\": {\"name\": \"activation_64\", \"trainable\": true, \"activation\": \"relu\"}, \"inbound_nodes\": [[[\"batch_normalization_64\", 0, 0, {}]]]}, {\"name\": \"conv2d_65\", \"class_name\": \"Conv2D\", \"config\": {\"name\": \"conv2d_65\", \"trainable\": true, \"filters\": 12, \"kernel_size\": [3, 3], \"strides\": [1, 1], \"padding\": \"same\", \"data_format\": \"channels_last\", \"dilation_rate\": [1, 1], \"activation\": \"linear\", \"use_bias\": false, \"kernel_initializer\": {\"class_name\": \"VarianceScaling\", \"config\": {\"scale\": 1.0, \"mode\": \"fan_avg\", \"distribution\": \"uniform\", \"seed\": null}}, \"bias_initializer\": {\"class_name\": \"Zeros\", \"config\": {}}, \"kernel_regularizer\": null, \"bias_regularizer\": null, \"activity_regularizer\": null, \"kernel_constraint\": null, \"bias_constraint\": null}, \"inbound_nodes\": [[[\"activation_64\", 0, 0, {}]]]}, {\"name\": \"dropout_33\", \"class_name\": \"Dropout\", \"config\": {\"name\": \"dropout_33\", \"trainable\": true, \"rate\": 0.2, \"noise_shape\": null, \"seed\": null}, \"inbound_nodes\": [[[\"conv2d_65\", 0, 0, {}]]]}, {\"name\": \"concatenate_31\", \"class_name\": \"Concatenate\", \"config\": {\"name\": \"concatenate_31\", \"trainable\": true, \"axis\": -1}, \"inbound_nodes\": [[[\"concatenate_30\", 0, 0, {}], [\"dropout_33\", 0, 0, {}]]]}, {\"name\": \"batch_normalization_65\", \"class_name\": \"BatchNormalization\", \"config\": {\"name\": \"batch_normalization_65\", \"trainable\": true, \"axis\": -1, \"momentum\": 0.99, \"epsilon\": 0.001, \"center\": true, \"scale\": true, \"beta_initializer\": {\"class_name\": \"Zeros\", \"config\": {}}, \"gamma_initializer\": {\"class_name\": \"Ones\", \"config\": {}}, \"moving_mean_initializer\": {\"class_name\": \"Zeros\", \"config\": {}}, \"moving_variance_initializer\": {\"class_name\": \"Ones\", \"config\": {}}, \"beta_regularizer\": null, \"gamma_regularizer\": null, \"beta_constraint\": null, \"gamma_constraint\": null}, \"inbound_nodes\": [[[\"concatenate_31\", 0, 0, {}]]]}, {\"name\": \"activation_65\", \"class_name\": \"Activation\", \"config\": {\"name\": \"activation_65\", \"trainable\": true, \"activation\": \"relu\"}, \"inbound_nodes\": [[[\"batch_normalization_65\", 0, 0, {}]]]}, {\"name\": \"conv2d_66\", \"class_name\": \"Conv2D\", \"config\": {\"name\": \"conv2d_66\", \"trainable\": true, \"filters\": 12, \"kernel_size\": [1, 1], \"strides\": [1, 1], \"padding\": \"same\", \"data_format\": \"channels_last\", \"dilation_rate\": [1, 1], \"activation\": \"linear\", \"use_bias\": false, \"kernel_initializer\": {\"class_name\": \"VarianceScaling\", \"config\": {\"scale\": 1.0, \"mode\": \"fan_avg\", \"distribution\": \"uniform\", \"seed\": null}}, \"bias_initializer\": {\"class_name\": \"Zeros\", \"config\": {}}, \"kernel_regularizer\": null, \"bias_regularizer\": null, \"activity_regularizer\": null, \"kernel_constraint\": null, \"bias_constraint\": null}, \"inbound_nodes\": [[[\"activation_65\", 0, 0, {}]]]}, {\"name\": \"batch_normalization_66\", \"class_name\": \"BatchNormalization\", \"config\": {\"name\": \"batch_normalization_66\", \"trainable\": true, \"axis\": -1, \"momentum\": 0.99, \"epsilon\": 0.001, \"center\": true, \"scale\": true, \"beta_initializer\": {\"class_name\": \"Zeros\", \"config\": {}}, \"gamma_initializer\": {\"class_name\": \"Ones\", \"config\": {}}, \"moving_mean_initializer\": {\"class_name\": \"Zeros\", \"config\": {}}, \"moving_variance_initializer\": {\"class_name\": \"Ones\", \"config\": {}}, \"beta_regularizer\": null, \"gamma_regularizer\": null, \"beta_constraint\": null, \"gamma_constraint\": null}, \"inbound_nodes\": [[[\"conv2d_66\", 0, 0, {}]]]}, {\"name\": \"activation_66\", \"class_name\": \"Activation\", \"config\": {\"name\": \"activation_66\", \"trainable\": true, \"activation\": \"relu\"}, \"inbound_nodes\": [[[\"batch_normalization_66\", 0, 0, {}]]]}, {\"name\": \"conv2d_67\", \"class_name\": \"Conv2D\", \"config\": {\"name\": \"conv2d_67\", \"trainable\": true, \"filters\": 12, \"kernel_size\": [3, 3], \"strides\": [1, 1], \"padding\": \"same\", \"data_format\": \"channels_last\", \"dilation_rate\": [1, 1], \"activation\": \"linear\", \"use_bias\": false, \"kernel_initializer\": {\"class_name\": \"VarianceScaling\", \"config\": {\"scale\": 1.0, \"mode\": \"fan_avg\", \"distribution\": \"uniform\", \"seed\": null}}, \"bias_initializer\": {\"class_name\": \"Zeros\", \"config\": {}}, \"kernel_regularizer\": null, \"bias_regularizer\": null, \"activity_regularizer\": null, \"kernel_constraint\": null, \"bias_constraint\": null}, \"inbound_nodes\": [[[\"activation_66\", 0, 0, {}]]]}, {\"name\": \"dropout_34\", \"class_name\": \"Dropout\", \"config\": {\"name\": \"dropout_34\", \"trainable\": true, \"rate\": 0.2, \"noise_shape\": null, \"seed\": null}, \"inbound_nodes\": [[[\"conv2d_67\", 0, 0, {}]]]}, {\"name\": \"concatenate_32\", \"class_name\": \"Concatenate\", \"config\": {\"name\": \"concatenate_32\", \"trainable\": true, \"axis\": -1}, \"inbound_nodes\": [[[\"concatenate_31\", 0, 0, {}], [\"dropout_34\", 0, 0, {}]]]}, {\"name\": \"batch_normalization_67\", \"class_name\": \"BatchNormalization\", \"config\": {\"name\": \"batch_normalization_67\", \"trainable\": true, \"axis\": -1, \"momentum\": 0.99, \"epsilon\": 0.001, \"center\": true, \"scale\": true, \"beta_initializer\": {\"class_name\": \"Zeros\", \"config\": {}}, \"gamma_initializer\": {\"class_name\": \"Ones\", \"config\": {}}, \"moving_mean_initializer\": {\"class_name\": \"Zeros\", \"config\": {}}, \"moving_variance_initializer\": {\"class_name\": \"Ones\", \"config\": {}}, \"beta_regularizer\": null, \"gamma_regularizer\": null, \"beta_constraint\": null, \"gamma_constraint\": null}, \"inbound_nodes\": [[[\"concatenate_32\", 0, 0, {}]]]}, {\"name\": \"activation_67\", \"class_name\": \"Activation\", \"config\": {\"name\": \"activation_67\", \"trainable\": true, \"activation\": \"relu\"}, \"inbound_nodes\": [[[\"batch_normalization_67\", 0, 0, {}]]]}, {\"name\": \"conv2d_68\", \"class_name\": \"Conv2D\", \"config\": {\"name\": \"conv2d_68\", \"trainable\": true, \"filters\": 12, \"kernel_size\": [1, 1], \"strides\": [1, 1], \"padding\": \"same\", \"data_format\": \"channels_last\", \"dilation_rate\": [1, 1], \"activation\": \"linear\", \"use_bias\": false, \"kernel_initializer\": {\"class_name\": \"VarianceScaling\", \"config\": {\"scale\": 1.0, \"mode\": \"fan_avg\", \"distribution\": \"uniform\", \"seed\": null}}, \"bias_initializer\": {\"class_name\": \"Zeros\", \"config\": {}}, \"kernel_regularizer\": null, \"bias_regularizer\": null, \"activity_regularizer\": null, \"kernel_constraint\": null, \"bias_constraint\": null}, \"inbound_nodes\": [[[\"activation_67\", 0, 0, {}]]]}, {\"name\": \"batch_normalization_68\", \"class_name\": \"BatchNormalization\", \"config\": {\"name\": \"batch_normalization_68\", \"trainable\": true, \"axis\": -1, \"momentum\": 0.99, \"epsilon\": 0.001, \"center\": true, \"scale\": true, \"beta_initializer\": {\"class_name\": \"Zeros\", \"config\": {}}, \"gamma_initializer\": {\"class_name\": \"Ones\", \"config\": {}}, \"moving_mean_initializer\": {\"class_name\": \"Zeros\", \"config\": {}}, \"moving_variance_initializer\": {\"class_name\": \"Ones\", \"config\": {}}, \"beta_regularizer\": null, \"gamma_regularizer\": null, \"beta_constraint\": null, \"gamma_constraint\": null}, \"inbound_nodes\": [[[\"conv2d_68\", 0, 0, {}]]]}, {\"name\": \"activation_68\", \"class_name\": \"Activation\", \"config\": {\"name\": \"activation_68\", \"trainable\": true, \"activation\": \"relu\"}, \"inbound_nodes\": [[[\"batch_normalization_68\", 0, 0, {}]]]}, {\"name\": \"conv2d_69\", \"class_name\": \"Conv2D\", \"config\": {\"name\": \"conv2d_69\", \"trainable\": true, \"filters\": 12, \"kernel_size\": [3, 3], \"strides\": [1, 1], \"padding\": \"same\", \"data_format\": \"channels_last\", \"dilation_rate\": [1, 1], \"activation\": \"linear\", \"use_bias\": false, \"kernel_initializer\": {\"class_name\": \"VarianceScaling\", \"config\": {\"scale\": 1.0, \"mode\": \"fan_avg\", \"distribution\": \"uniform\", \"seed\": null}}, \"bias_initializer\": {\"class_name\": \"Zeros\", \"config\": {}}, \"kernel_regularizer\": null, \"bias_regularizer\": null, \"activity_regularizer\": null, \"kernel_constraint\": null, \"bias_constraint\": null}, \"inbound_nodes\": [[[\"activation_68\", 0, 0, {}]]]}, {\"name\": \"dropout_35\", \"class_name\": \"Dropout\", \"config\": {\"name\": \"dropout_35\", \"trainable\": true, \"rate\": 0.2, \"noise_shape\": null, \"seed\": null}, \"inbound_nodes\": [[[\"conv2d_69\", 0, 0, {}]]]}, {\"name\": \"concatenate_33\", \"class_name\": \"Concatenate\", \"config\": {\"name\": \"concatenate_33\", \"trainable\": true, \"axis\": -1}, \"inbound_nodes\": [[[\"concatenate_32\", 0, 0, {}], [\"dropout_35\", 0, 0, {}]]]}, {\"name\": \"batch_normalization_69\", \"class_name\": \"BatchNormalization\", \"config\": {\"name\": \"batch_normalization_69\", \"trainable\": true, \"axis\": -1, \"momentum\": 0.99, \"epsilon\": 0.001, \"center\": true, \"scale\": true, \"beta_initializer\": {\"class_name\": \"Zeros\", \"config\": {}}, \"gamma_initializer\": {\"class_name\": \"Ones\", \"config\": {}}, \"moving_mean_initializer\": {\"class_name\": \"Zeros\", \"config\": {}}, \"moving_variance_initializer\": {\"class_name\": \"Ones\", \"config\": {}}, \"beta_regularizer\": null, \"gamma_regularizer\": null, \"beta_constraint\": null, \"gamma_constraint\": null}, \"inbound_nodes\": [[[\"concatenate_33\", 0, 0, {}]]]}, {\"name\": \"activation_69\", \"class_name\": \"Activation\", \"config\": {\"name\": \"activation_69\", \"trainable\": true, \"activation\": \"relu\"}, \"inbound_nodes\": [[[\"batch_normalization_69\", 0, 0, {}]]]}, {\"name\": \"conv2d_70\", \"class_name\": \"Conv2D\", \"config\": {\"name\": \"conv2d_70\", \"trainable\": true, \"filters\": 12, \"kernel_size\": [1, 1], \"strides\": [1, 1], \"padding\": \"same\", \"data_format\": \"channels_last\", \"dilation_rate\": [1, 1], \"activation\": \"linear\", \"use_bias\": false, \"kernel_initializer\": {\"class_name\": \"VarianceScaling\", \"config\": {\"scale\": 1.0, \"mode\": \"fan_avg\", \"distribution\": \"uniform\", \"seed\": null}}, \"bias_initializer\": {\"class_name\": \"Zeros\", \"config\": {}}, \"kernel_regularizer\": null, \"bias_regularizer\": null, \"activity_regularizer\": null, \"kernel_constraint\": null, \"bias_constraint\": null}, \"inbound_nodes\": [[[\"activation_69\", 0, 0, {}]]]}, {\"name\": \"batch_normalization_70\", \"class_name\": \"BatchNormalization\", \"config\": {\"name\": \"batch_normalization_70\", \"trainable\": true, \"axis\": -1, \"momentum\": 0.99, \"epsilon\": 0.001, \"center\": true, \"scale\": true, \"beta_initializer\": {\"class_name\": \"Zeros\", \"config\": {}}, \"gamma_initializer\": {\"class_name\": \"Ones\", \"config\": {}}, \"moving_mean_initializer\": {\"class_name\": \"Zeros\", \"config\": {}}, \"moving_variance_initializer\": {\"class_name\": \"Ones\", \"config\": {}}, \"beta_regularizer\": null, \"gamma_regularizer\": null, \"beta_constraint\": null, \"gamma_constraint\": null}, \"inbound_nodes\": [[[\"conv2d_70\", 0, 0, {}]]]}, {\"name\": \"activation_70\", \"class_name\": \"Activation\", \"config\": {\"name\": \"activation_70\", \"trainable\": true, \"activation\": \"relu\"}, \"inbound_nodes\": [[[\"batch_normalization_70\", 0, 0, {}]]]}, {\"name\": \"conv2d_71\", \"class_name\": \"Conv2D\", \"config\": {\"name\": \"conv2d_71\", \"trainable\": true, \"filters\": 12, \"kernel_size\": [3, 3], \"strides\": [1, 1], \"padding\": \"same\", \"data_format\": \"channels_last\", \"dilation_rate\": [1, 1], \"activation\": \"linear\", \"use_bias\": false, \"kernel_initializer\": {\"class_name\": \"VarianceScaling\", \"config\": {\"scale\": 1.0, \"mode\": \"fan_avg\", \"distribution\": \"uniform\", \"seed\": null}}, \"bias_initializer\": {\"class_name\": \"Zeros\", \"config\": {}}, \"kernel_regularizer\": null, \"bias_regularizer\": null, \"activity_regularizer\": null, \"kernel_constraint\": null, \"bias_constraint\": null}, \"inbound_nodes\": [[[\"activation_70\", 0, 0, {}]]]}, {\"name\": \"dropout_36\", \"class_name\": \"Dropout\", \"config\": {\"name\": \"dropout_36\", \"trainable\": true, \"rate\": 0.2, \"noise_shape\": null, \"seed\": null}, \"inbound_nodes\": [[[\"conv2d_71\", 0, 0, {}]]]}, {\"name\": \"concatenate_34\", \"class_name\": \"Concatenate\", \"config\": {\"name\": \"concatenate_34\", \"trainable\": true, \"axis\": -1}, \"inbound_nodes\": [[[\"concatenate_33\", 0, 0, {}], [\"dropout_36\", 0, 0, {}]]]}, {\"name\": \"batch_normalization_71\", \"class_name\": \"BatchNormalization\", \"config\": {\"name\": \"batch_normalization_71\", \"trainable\": true, \"axis\": -1, \"momentum\": 0.99, \"epsilon\": 0.001, \"center\": true, \"scale\": true, \"beta_initializer\": {\"class_name\": \"Zeros\", \"config\": {}}, \"gamma_initializer\": {\"class_name\": \"Ones\", \"config\": {}}, \"moving_mean_initializer\": {\"class_name\": \"Zeros\", \"config\": {}}, \"moving_variance_initializer\": {\"class_name\": \"Ones\", \"config\": {}}, \"beta_regularizer\": null, \"gamma_regularizer\": null, \"beta_constraint\": null, \"gamma_constraint\": null}, \"inbound_nodes\": [[[\"concatenate_34\", 0, 0, {}]]]}, {\"name\": \"activation_71\", \"class_name\": \"Activation\", \"config\": {\"name\": \"activation_71\", \"trainable\": true, \"activation\": \"relu\"}, \"inbound_nodes\": [[[\"batch_normalization_71\", 0, 0, {}]]]}, {\"name\": \"conv2d_72\", \"class_name\": \"Conv2D\", \"config\": {\"name\": \"conv2d_72\", \"trainable\": true, \"filters\": 12, \"kernel_size\": [1, 1], \"strides\": [1, 1], \"padding\": \"same\", \"data_format\": \"channels_last\", \"dilation_rate\": [1, 1], \"activation\": \"linear\", \"use_bias\": false, \"kernel_initializer\": {\"class_name\": \"VarianceScaling\", \"config\": {\"scale\": 1.0, \"mode\": \"fan_avg\", \"distribution\": \"uniform\", \"seed\": null}}, \"bias_initializer\": {\"class_name\": \"Zeros\", \"config\": {}}, \"kernel_regularizer\": null, \"bias_regularizer\": null, \"activity_regularizer\": null, \"kernel_constraint\": null, \"bias_constraint\": null}, \"inbound_nodes\": [[[\"activation_71\", 0, 0, {}]]]}, {\"name\": \"dropout_37\", \"class_name\": \"Dropout\", \"config\": {\"name\": \"dropout_37\", \"trainable\": true, \"rate\": 0.2, \"noise_shape\": null, \"seed\": null}, \"inbound_nodes\": [[[\"conv2d_72\", 0, 0, {}]]]}, {\"name\": \"average_pooling2d_3\", \"class_name\": \"AveragePooling2D\", \"config\": {\"name\": \"average_pooling2d_3\", \"trainable\": true, \"pool_size\": [2, 2], \"padding\": \"valid\", \"strides\": [2, 2], \"data_format\": \"channels_last\"}, \"inbound_nodes\": [[[\"dropout_37\", 0, 0, {}]]]}, {\"name\": \"batch_normalization_72\", \"class_name\": \"BatchNormalization\", \"config\": {\"name\": \"batch_normalization_72\", \"trainable\": true, \"axis\": -1, \"momentum\": 0.99, \"epsilon\": 0.001, \"center\": true, \"scale\": true, \"beta_initializer\": {\"class_name\": \"Zeros\", \"config\": {}}, \"gamma_initializer\": {\"class_name\": \"Ones\", \"config\": {}}, \"moving_mean_initializer\": {\"class_name\": \"Zeros\", \"config\": {}}, \"moving_variance_initializer\": {\"class_name\": \"Ones\", \"config\": {}}, \"beta_regularizer\": null, \"gamma_regularizer\": null, \"beta_constraint\": null, \"gamma_constraint\": null}, \"inbound_nodes\": [[[\"average_pooling2d_3\", 0, 0, {}]]]}, {\"name\": \"activation_72\", \"class_name\": \"Activation\", \"config\": {\"name\": \"activation_72\", \"trainable\": true, \"activation\": \"relu\"}, \"inbound_nodes\": [[[\"batch_normalization_72\", 0, 0, {}]]]}, {\"name\": \"conv2d_73\", \"class_name\": \"Conv2D\", \"config\": {\"name\": \"conv2d_73\", \"trainable\": true, \"filters\": 12, \"kernel_size\": [1, 1], \"strides\": [1, 1], \"padding\": \"same\", \"data_format\": \"channels_last\", \"dilation_rate\": [1, 1], \"activation\": \"linear\", \"use_bias\": false, \"kernel_initializer\": {\"class_name\": \"VarianceScaling\", \"config\": {\"scale\": 1.0, \"mode\": \"fan_avg\", \"distribution\": \"uniform\", \"seed\": null}}, \"bias_initializer\": {\"class_name\": \"Zeros\", \"config\": {}}, \"kernel_regularizer\": null, \"bias_regularizer\": null, \"activity_regularizer\": null, \"kernel_constraint\": null, \"bias_constraint\": null}, \"inbound_nodes\": [[[\"activation_72\", 0, 0, {}]]]}, {\"name\": \"batch_normalization_73\", \"class_name\": \"BatchNormalization\", \"config\": {\"name\": \"batch_normalization_73\", \"trainable\": true, \"axis\": -1, \"momentum\": 0.99, \"epsilon\": 0.001, \"center\": true, \"scale\": true, \"beta_initializer\": {\"class_name\": \"Zeros\", \"config\": {}}, \"gamma_initializer\": {\"class_name\": \"Ones\", \"config\": {}}, \"moving_mean_initializer\": {\"class_name\": \"Zeros\", \"config\": {}}, \"moving_variance_initializer\": {\"class_name\": \"Ones\", \"config\": {}}, \"beta_regularizer\": null, \"gamma_regularizer\": null, \"beta_constraint\": null, \"gamma_constraint\": null}, \"inbound_nodes\": [[[\"conv2d_73\", 0, 0, {}]]]}, {\"name\": \"activation_73\", \"class_name\": \"Activation\", \"config\": {\"name\": \"activation_73\", \"trainable\": true, \"activation\": \"relu\"}, \"inbound_nodes\": [[[\"batch_normalization_73\", 0, 0, {}]]]}, {\"name\": \"conv2d_74\", \"class_name\": \"Conv2D\", \"config\": {\"name\": \"conv2d_74\", \"trainable\": true, \"filters\": 12, \"kernel_size\": [3, 3], \"strides\": [1, 1], \"padding\": \"same\", \"data_format\": \"channels_last\", \"dilation_rate\": [1, 1], \"activation\": \"linear\", \"use_bias\": false, \"kernel_initializer\": {\"class_name\": \"VarianceScaling\", \"config\": {\"scale\": 1.0, \"mode\": \"fan_avg\", \"distribution\": \"uniform\", \"seed\": null}}, \"bias_initializer\": {\"class_name\": \"Zeros\", \"config\": {}}, \"kernel_regularizer\": null, \"bias_regularizer\": null, \"activity_regularizer\": null, \"kernel_constraint\": null, \"bias_constraint\": null}, \"inbound_nodes\": [[[\"activation_73\", 0, 0, {}]]]}, {\"name\": \"dropout_38\", \"class_name\": \"Dropout\", \"config\": {\"name\": \"dropout_38\", \"trainable\": true, \"rate\": 0.2, \"noise_shape\": null, \"seed\": null}, \"inbound_nodes\": [[[\"conv2d_74\", 0, 0, {}]]]}, {\"name\": \"concatenate_35\", \"class_name\": \"Concatenate\", \"config\": {\"name\": \"concatenate_35\", \"trainable\": true, \"axis\": -1}, \"inbound_nodes\": [[[\"average_pooling2d_3\", 0, 0, {}], [\"dropout_38\", 0, 0, {}]]]}, {\"name\": \"batch_normalization_74\", \"class_name\": \"BatchNormalization\", \"config\": {\"name\": \"batch_normalization_74\", \"trainable\": true, \"axis\": -1, \"momentum\": 0.99, \"epsilon\": 0.001, \"center\": true, \"scale\": true, \"beta_initializer\": {\"class_name\": \"Zeros\", \"config\": {}}, \"gamma_initializer\": {\"class_name\": \"Ones\", \"config\": {}}, \"moving_mean_initializer\": {\"class_name\": \"Zeros\", \"config\": {}}, \"moving_variance_initializer\": {\"class_name\": \"Ones\", \"config\": {}}, \"beta_regularizer\": null, \"gamma_regularizer\": null, \"beta_constraint\": null, \"gamma_constraint\": null}, \"inbound_nodes\": [[[\"concatenate_35\", 0, 0, {}]]]}, {\"name\": \"activation_74\", \"class_name\": \"Activation\", \"config\": {\"name\": \"activation_74\", \"trainable\": true, \"activation\": \"relu\"}, \"inbound_nodes\": [[[\"batch_normalization_74\", 0, 0, {}]]]}, {\"name\": \"conv2d_75\", \"class_name\": \"Conv2D\", \"config\": {\"name\": \"conv2d_75\", \"trainable\": true, \"filters\": 12, \"kernel_size\": [1, 1], \"strides\": [1, 1], \"padding\": \"same\", \"data_format\": \"channels_last\", \"dilation_rate\": [1, 1], \"activation\": \"linear\", \"use_bias\": false, \"kernel_initializer\": {\"class_name\": \"VarianceScaling\", \"config\": {\"scale\": 1.0, \"mode\": \"fan_avg\", \"distribution\": \"uniform\", \"seed\": null}}, \"bias_initializer\": {\"class_name\": \"Zeros\", \"config\": {}}, \"kernel_regularizer\": null, \"bias_regularizer\": null, \"activity_regularizer\": null, \"kernel_constraint\": null, \"bias_constraint\": null}, \"inbound_nodes\": [[[\"activation_74\", 0, 0, {}]]]}, {\"name\": \"batch_normalization_75\", \"class_name\": \"BatchNormalization\", \"config\": {\"name\": \"batch_normalization_75\", \"trainable\": true, \"axis\": -1, \"momentum\": 0.99, \"epsilon\": 0.001, \"center\": true, \"scale\": true, \"beta_initializer\": {\"class_name\": \"Zeros\", \"config\": {}}, \"gamma_initializer\": {\"class_name\": \"Ones\", \"config\": {}}, \"moving_mean_initializer\": {\"class_name\": \"Zeros\", \"config\": {}}, \"moving_variance_initializer\": {\"class_name\": \"Ones\", \"config\": {}}, \"beta_regularizer\": null, \"gamma_regularizer\": null, \"beta_constraint\": null, \"gamma_constraint\": null}, \"inbound_nodes\": [[[\"conv2d_75\", 0, 0, {}]]]}, {\"name\": \"activation_75\", \"class_name\": \"Activation\", \"config\": {\"name\": \"activation_75\", \"trainable\": true, \"activation\": \"relu\"}, \"inbound_nodes\": [[[\"batch_normalization_75\", 0, 0, {}]]]}, {\"name\": \"conv2d_76\", \"class_name\": \"Conv2D\", \"config\": {\"name\": \"conv2d_76\", \"trainable\": true, \"filters\": 12, \"kernel_size\": [3, 3], \"strides\": [1, 1], \"padding\": \"same\", \"data_format\": \"channels_last\", \"dilation_rate\": [1, 1], \"activation\": \"linear\", \"use_bias\": false, \"kernel_initializer\": {\"class_name\": \"VarianceScaling\", \"config\": {\"scale\": 1.0, \"mode\": \"fan_avg\", \"distribution\": \"uniform\", \"seed\": null}}, \"bias_initializer\": {\"class_name\": \"Zeros\", \"config\": {}}, \"kernel_regularizer\": null, \"bias_regularizer\": null, \"activity_regularizer\": null, \"kernel_constraint\": null, \"bias_constraint\": null}, \"inbound_nodes\": [[[\"activation_75\", 0, 0, {}]]]}, {\"name\": \"dropout_39\", \"class_name\": \"Dropout\", \"config\": {\"name\": \"dropout_39\", \"trainable\": true, \"rate\": 0.2, \"noise_shape\": null, \"seed\": null}, \"inbound_nodes\": [[[\"conv2d_76\", 0, 0, {}]]]}, {\"name\": \"concatenate_36\", \"class_name\": \"Concatenate\", \"config\": {\"name\": \"concatenate_36\", \"trainable\": true, \"axis\": -1}, \"inbound_nodes\": [[[\"concatenate_35\", 0, 0, {}], [\"dropout_39\", 0, 0, {}]]]}, {\"name\": \"batch_normalization_76\", \"class_name\": \"BatchNormalization\", \"config\": {\"name\": \"batch_normalization_76\", \"trainable\": true, \"axis\": -1, \"momentum\": 0.99, \"epsilon\": 0.001, \"center\": true, \"scale\": true, \"beta_initializer\": {\"class_name\": \"Zeros\", \"config\": {}}, \"gamma_initializer\": {\"class_name\": \"Ones\", \"config\": {}}, \"moving_mean_initializer\": {\"class_name\": \"Zeros\", \"config\": {}}, \"moving_variance_initializer\": {\"class_name\": \"Ones\", \"config\": {}}, \"beta_regularizer\": null, \"gamma_regularizer\": null, \"beta_constraint\": null, \"gamma_constraint\": null}, \"inbound_nodes\": [[[\"concatenate_36\", 0, 0, {}]]]}, {\"name\": \"activation_76\", \"class_name\": \"Activation\", \"config\": {\"name\": \"activation_76\", \"trainable\": true, \"activation\": \"relu\"}, \"inbound_nodes\": [[[\"batch_normalization_76\", 0, 0, {}]]]}, {\"name\": \"conv2d_77\", \"class_name\": \"Conv2D\", \"config\": {\"name\": \"conv2d_77\", \"trainable\": true, \"filters\": 12, \"kernel_size\": [1, 1], \"strides\": [1, 1], \"padding\": \"same\", \"data_format\": \"channels_last\", \"dilation_rate\": [1, 1], \"activation\": \"linear\", \"use_bias\": false, \"kernel_initializer\": {\"class_name\": \"VarianceScaling\", \"config\": {\"scale\": 1.0, \"mode\": \"fan_avg\", \"distribution\": \"uniform\", \"seed\": null}}, \"bias_initializer\": {\"class_name\": \"Zeros\", \"config\": {}}, \"kernel_regularizer\": null, \"bias_regularizer\": null, \"activity_regularizer\": null, \"kernel_constraint\": null, \"bias_constraint\": null}, \"inbound_nodes\": [[[\"activation_76\", 0, 0, {}]]]}, {\"name\": \"batch_normalization_77\", \"class_name\": \"BatchNormalization\", \"config\": {\"name\": \"batch_normalization_77\", \"trainable\": true, \"axis\": -1, \"momentum\": 0.99, \"epsilon\": 0.001, \"center\": true, \"scale\": true, \"beta_initializer\": {\"class_name\": \"Zeros\", \"config\": {}}, \"gamma_initializer\": {\"class_name\": \"Ones\", \"config\": {}}, \"moving_mean_initializer\": {\"class_name\": \"Zeros\", \"config\": {}}, \"moving_variance_initializer\": {\"class_name\": \"Ones\", \"config\": {}}, \"beta_regularizer\": null, \"gamma_regularizer\": null, \"beta_constraint\": null, \"gamma_constraint\": null}, \"inbound_nodes\": [[[\"conv2d_77\", 0, 0, {}]]]}, {\"name\": \"activation_77\", \"class_name\": \"Activation\", \"config\": {\"name\": \"activation_77\", \"trainable\": true, \"activation\": \"relu\"}, \"inbound_nodes\": [[[\"batch_normalization_77\", 0, 0, {}]]]}, {\"name\": \"conv2d_78\", \"class_name\": \"Conv2D\", \"config\": {\"name\": \"conv2d_78\", \"trainable\": true, \"filters\": 12, \"kernel_size\": [3, 3], \"strides\": [1, 1], \"padding\": \"same\", \"data_format\": \"channels_last\", \"dilation_rate\": [1, 1], \"activation\": \"linear\", \"use_bias\": false, \"kernel_initializer\": {\"class_name\": \"VarianceScaling\", \"config\": {\"scale\": 1.0, \"mode\": \"fan_avg\", \"distribution\": \"uniform\", \"seed\": null}}, \"bias_initializer\": {\"class_name\": \"Zeros\", \"config\": {}}, \"kernel_regularizer\": null, \"bias_regularizer\": null, \"activity_regularizer\": null, \"kernel_constraint\": null, \"bias_constraint\": null}, \"inbound_nodes\": [[[\"activation_77\", 0, 0, {}]]]}, {\"name\": \"dropout_40\", \"class_name\": \"Dropout\", \"config\": {\"name\": \"dropout_40\", \"trainable\": true, \"rate\": 0.2, \"noise_shape\": null, \"seed\": null}, \"inbound_nodes\": [[[\"conv2d_78\", 0, 0, {}]]]}, {\"name\": \"concatenate_37\", \"class_name\": \"Concatenate\", \"config\": {\"name\": \"concatenate_37\", \"trainable\": true, \"axis\": -1}, \"inbound_nodes\": [[[\"concatenate_36\", 0, 0, {}], [\"dropout_40\", 0, 0, {}]]]}, {\"name\": \"batch_normalization_78\", \"class_name\": \"BatchNormalization\", \"config\": {\"name\": \"batch_normalization_78\", \"trainable\": true, \"axis\": -1, \"momentum\": 0.99, \"epsilon\": 0.001, \"center\": true, \"scale\": true, \"beta_initializer\": {\"class_name\": \"Zeros\", \"config\": {}}, \"gamma_initializer\": {\"class_name\": \"Ones\", \"config\": {}}, \"moving_mean_initializer\": {\"class_name\": \"Zeros\", \"config\": {}}, \"moving_variance_initializer\": {\"class_name\": \"Ones\", \"config\": {}}, \"beta_regularizer\": null, \"gamma_regularizer\": null, \"beta_constraint\": null, \"gamma_constraint\": null}, \"inbound_nodes\": [[[\"concatenate_37\", 0, 0, {}]]]}, {\"name\": \"activation_78\", \"class_name\": \"Activation\", \"config\": {\"name\": \"activation_78\", \"trainable\": true, \"activation\": \"relu\"}, \"inbound_nodes\": [[[\"batch_normalization_78\", 0, 0, {}]]]}, {\"name\": \"conv2d_79\", \"class_name\": \"Conv2D\", \"config\": {\"name\": \"conv2d_79\", \"trainable\": true, \"filters\": 12, \"kernel_size\": [1, 1], \"strides\": [1, 1], \"padding\": \"same\", \"data_format\": \"channels_last\", \"dilation_rate\": [1, 1], \"activation\": \"linear\", \"use_bias\": false, \"kernel_initializer\": {\"class_name\": \"VarianceScaling\", \"config\": {\"scale\": 1.0, \"mode\": \"fan_avg\", \"distribution\": \"uniform\", \"seed\": null}}, \"bias_initializer\": {\"class_name\": \"Zeros\", \"config\": {}}, \"kernel_regularizer\": null, \"bias_regularizer\": null, \"activity_regularizer\": null, \"kernel_constraint\": null, \"bias_constraint\": null}, \"inbound_nodes\": [[[\"activation_78\", 0, 0, {}]]]}, {\"name\": \"batch_normalization_79\", \"class_name\": \"BatchNormalization\", \"config\": {\"name\": \"batch_normalization_79\", \"trainable\": true, \"axis\": -1, \"momentum\": 0.99, \"epsilon\": 0.001, \"center\": true, \"scale\": true, \"beta_initializer\": {\"class_name\": \"Zeros\", \"config\": {}}, \"gamma_initializer\": {\"class_name\": \"Ones\", \"config\": {}}, \"moving_mean_initializer\": {\"class_name\": \"Zeros\", \"config\": {}}, \"moving_variance_initializer\": {\"class_name\": \"Ones\", \"config\": {}}, \"beta_regularizer\": null, \"gamma_regularizer\": null, \"beta_constraint\": null, \"gamma_constraint\": null}, \"inbound_nodes\": [[[\"conv2d_79\", 0, 0, {}]]]}, {\"name\": \"activation_79\", \"class_name\": \"Activation\", \"config\": {\"name\": \"activation_79\", \"trainable\": true, \"activation\": \"relu\"}, \"inbound_nodes\": [[[\"batch_normalization_79\", 0, 0, {}]]]}, {\"name\": \"conv2d_80\", \"class_name\": \"Conv2D\", \"config\": {\"name\": \"conv2d_80\", \"trainable\": true, \"filters\": 12, \"kernel_size\": [3, 3], \"strides\": [1, 1], \"padding\": \"same\", \"data_format\": \"channels_last\", \"dilation_rate\": [1, 1], \"activation\": \"linear\", \"use_bias\": false, \"kernel_initializer\": {\"class_name\": \"VarianceScaling\", \"config\": {\"scale\": 1.0, \"mode\": \"fan_avg\", \"distribution\": \"uniform\", \"seed\": null}}, \"bias_initializer\": {\"class_name\": \"Zeros\", \"config\": {}}, \"kernel_regularizer\": null, \"bias_regularizer\": null, \"activity_regularizer\": null, \"kernel_constraint\": null, \"bias_constraint\": null}, \"inbound_nodes\": [[[\"activation_79\", 0, 0, {}]]]}, {\"name\": \"dropout_41\", \"class_name\": \"Dropout\", \"config\": {\"name\": \"dropout_41\", \"trainable\": true, \"rate\": 0.2, \"noise_shape\": null, \"seed\": null}, \"inbound_nodes\": [[[\"conv2d_80\", 0, 0, {}]]]}, {\"name\": \"concatenate_38\", \"class_name\": \"Concatenate\", \"config\": {\"name\": \"concatenate_38\", \"trainable\": true, \"axis\": -1}, \"inbound_nodes\": [[[\"concatenate_37\", 0, 0, {}], [\"dropout_41\", 0, 0, {}]]]}, {\"name\": \"batch_normalization_80\", \"class_name\": \"BatchNormalization\", \"config\": {\"name\": \"batch_normalization_80\", \"trainable\": true, \"axis\": -1, \"momentum\": 0.99, \"epsilon\": 0.001, \"center\": true, \"scale\": true, \"beta_initializer\": {\"class_name\": \"Zeros\", \"config\": {}}, \"gamma_initializer\": {\"class_name\": \"Ones\", \"config\": {}}, \"moving_mean_initializer\": {\"class_name\": \"Zeros\", \"config\": {}}, \"moving_variance_initializer\": {\"class_name\": \"Ones\", \"config\": {}}, \"beta_regularizer\": null, \"gamma_regularizer\": null, \"beta_constraint\": null, \"gamma_constraint\": null}, \"inbound_nodes\": [[[\"concatenate_38\", 0, 0, {}]]]}, {\"name\": \"activation_80\", \"class_name\": \"Activation\", \"config\": {\"name\": \"activation_80\", \"trainable\": true, \"activation\": \"relu\"}, \"inbound_nodes\": [[[\"batch_normalization_80\", 0, 0, {}]]]}, {\"name\": \"conv2d_81\", \"class_name\": \"Conv2D\", \"config\": {\"name\": \"conv2d_81\", \"trainable\": true, \"filters\": 12, \"kernel_size\": [1, 1], \"strides\": [1, 1], \"padding\": \"same\", \"data_format\": \"channels_last\", \"dilation_rate\": [1, 1], \"activation\": \"linear\", \"use_bias\": false, \"kernel_initializer\": {\"class_name\": \"VarianceScaling\", \"config\": {\"scale\": 1.0, \"mode\": \"fan_avg\", \"distribution\": \"uniform\", \"seed\": null}}, \"bias_initializer\": {\"class_name\": \"Zeros\", \"config\": {}}, \"kernel_regularizer\": null, \"bias_regularizer\": null, \"activity_regularizer\": null, \"kernel_constraint\": null, \"bias_constraint\": null}, \"inbound_nodes\": [[[\"activation_80\", 0, 0, {}]]]}, {\"name\": \"batch_normalization_81\", \"class_name\": \"BatchNormalization\", \"config\": {\"name\": \"batch_normalization_81\", \"trainable\": true, \"axis\": -1, \"momentum\": 0.99, \"epsilon\": 0.001, \"center\": true, \"scale\": true, \"beta_initializer\": {\"class_name\": \"Zeros\", \"config\": {}}, \"gamma_initializer\": {\"class_name\": \"Ones\", \"config\": {}}, \"moving_mean_initializer\": {\"class_name\": \"Zeros\", \"config\": {}}, \"moving_variance_initializer\": {\"class_name\": \"Ones\", \"config\": {}}, \"beta_regularizer\": null, \"gamma_regularizer\": null, \"beta_constraint\": null, \"gamma_constraint\": null}, \"inbound_nodes\": [[[\"conv2d_81\", 0, 0, {}]]]}, {\"name\": \"activation_81\", \"class_name\": \"Activation\", \"config\": {\"name\": \"activation_81\", \"trainable\": true, \"activation\": \"relu\"}, \"inbound_nodes\": [[[\"batch_normalization_81\", 0, 0, {}]]]}, {\"name\": \"conv2d_82\", \"class_name\": \"Conv2D\", \"config\": {\"name\": \"conv2d_82\", \"trainable\": true, \"filters\": 12, \"kernel_size\": [3, 3], \"strides\": [1, 1], \"padding\": \"same\", \"data_format\": \"channels_last\", \"dilation_rate\": [1, 1], \"activation\": \"linear\", \"use_bias\": false, \"kernel_initializer\": {\"class_name\": \"VarianceScaling\", \"config\": {\"scale\": 1.0, \"mode\": \"fan_avg\", \"distribution\": \"uniform\", \"seed\": null}}, \"bias_initializer\": {\"class_name\": \"Zeros\", \"config\": {}}, \"kernel_regularizer\": null, \"bias_regularizer\": null, \"activity_regularizer\": null, \"kernel_constraint\": null, \"bias_constraint\": null}, \"inbound_nodes\": [[[\"activation_81\", 0, 0, {}]]]}, {\"name\": \"dropout_42\", \"class_name\": \"Dropout\", \"config\": {\"name\": \"dropout_42\", \"trainable\": true, \"rate\": 0.2, \"noise_shape\": null, \"seed\": null}, \"inbound_nodes\": [[[\"conv2d_82\", 0, 0, {}]]]}, {\"name\": \"concatenate_39\", \"class_name\": \"Concatenate\", \"config\": {\"name\": \"concatenate_39\", \"trainable\": true, \"axis\": -1}, \"inbound_nodes\": [[[\"concatenate_38\", 0, 0, {}], [\"dropout_42\", 0, 0, {}]]]}, {\"name\": \"batch_normalization_82\", \"class_name\": \"BatchNormalization\", \"config\": {\"name\": \"batch_normalization_82\", \"trainable\": true, \"axis\": -1, \"momentum\": 0.99, \"epsilon\": 0.001, \"center\": true, \"scale\": true, \"beta_initializer\": {\"class_name\": \"Zeros\", \"config\": {}}, \"gamma_initializer\": {\"class_name\": \"Ones\", \"config\": {}}, \"moving_mean_initializer\": {\"class_name\": \"Zeros\", \"config\": {}}, \"moving_variance_initializer\": {\"class_name\": \"Ones\", \"config\": {}}, \"beta_regularizer\": null, \"gamma_regularizer\": null, \"beta_constraint\": null, \"gamma_constraint\": null}, \"inbound_nodes\": [[[\"concatenate_39\", 0, 0, {}]]]}, {\"name\": \"activation_82\", \"class_name\": \"Activation\", \"config\": {\"name\": \"activation_82\", \"trainable\": true, \"activation\": \"relu\"}, \"inbound_nodes\": [[[\"batch_normalization_82\", 0, 0, {}]]]}, {\"name\": \"conv2d_83\", \"class_name\": \"Conv2D\", \"config\": {\"name\": \"conv2d_83\", \"trainable\": true, \"filters\": 12, \"kernel_size\": [1, 1], \"strides\": [1, 1], \"padding\": \"same\", \"data_format\": \"channels_last\", \"dilation_rate\": [1, 1], \"activation\": \"linear\", \"use_bias\": false, \"kernel_initializer\": {\"class_name\": \"VarianceScaling\", \"config\": {\"scale\": 1.0, \"mode\": \"fan_avg\", \"distribution\": \"uniform\", \"seed\": null}}, \"bias_initializer\": {\"class_name\": \"Zeros\", \"config\": {}}, \"kernel_regularizer\": null, \"bias_regularizer\": null, \"activity_regularizer\": null, \"kernel_constraint\": null, \"bias_constraint\": null}, \"inbound_nodes\": [[[\"activation_82\", 0, 0, {}]]]}, {\"name\": \"batch_normalization_83\", \"class_name\": \"BatchNormalization\", \"config\": {\"name\": \"batch_normalization_83\", \"trainable\": true, \"axis\": -1, \"momentum\": 0.99, \"epsilon\": 0.001, \"center\": true, \"scale\": true, \"beta_initializer\": {\"class_name\": \"Zeros\", \"config\": {}}, \"gamma_initializer\": {\"class_name\": \"Ones\", \"config\": {}}, \"moving_mean_initializer\": {\"class_name\": \"Zeros\", \"config\": {}}, \"moving_variance_initializer\": {\"class_name\": \"Ones\", \"config\": {}}, \"beta_regularizer\": null, \"gamma_regularizer\": null, \"beta_constraint\": null, \"gamma_constraint\": null}, \"inbound_nodes\": [[[\"conv2d_83\", 0, 0, {}]]]}, {\"name\": \"activation_83\", \"class_name\": \"Activation\", \"config\": {\"name\": \"activation_83\", \"trainable\": true, \"activation\": \"relu\"}, \"inbound_nodes\": [[[\"batch_normalization_83\", 0, 0, {}]]]}, {\"name\": \"conv2d_84\", \"class_name\": \"Conv2D\", \"config\": {\"name\": \"conv2d_84\", \"trainable\": true, \"filters\": 12, \"kernel_size\": [3, 3], \"strides\": [1, 1], \"padding\": \"same\", \"data_format\": \"channels_last\", \"dilation_rate\": [1, 1], \"activation\": \"linear\", \"use_bias\": false, \"kernel_initializer\": {\"class_name\": \"VarianceScaling\", \"config\": {\"scale\": 1.0, \"mode\": \"fan_avg\", \"distribution\": \"uniform\", \"seed\": null}}, \"bias_initializer\": {\"class_name\": \"Zeros\", \"config\": {}}, \"kernel_regularizer\": null, \"bias_regularizer\": null, \"activity_regularizer\": null, \"kernel_constraint\": null, \"bias_constraint\": null}, \"inbound_nodes\": [[[\"activation_83\", 0, 0, {}]]]}, {\"name\": \"dropout_43\", \"class_name\": \"Dropout\", \"config\": {\"name\": \"dropout_43\", \"trainable\": true, \"rate\": 0.2, \"noise_shape\": null, \"seed\": null}, \"inbound_nodes\": [[[\"conv2d_84\", 0, 0, {}]]]}, {\"name\": \"concatenate_40\", \"class_name\": \"Concatenate\", \"config\": {\"name\": \"concatenate_40\", \"trainable\": true, \"axis\": -1}, \"inbound_nodes\": [[[\"concatenate_39\", 0, 0, {}], [\"dropout_43\", 0, 0, {}]]]}, {\"name\": \"batch_normalization_84\", \"class_name\": \"BatchNormalization\", \"config\": {\"name\": \"batch_normalization_84\", \"trainable\": true, \"axis\": -1, \"momentum\": 0.99, \"epsilon\": 0.001, \"center\": true, \"scale\": true, \"beta_initializer\": {\"class_name\": \"Zeros\", \"config\": {}}, \"gamma_initializer\": {\"class_name\": \"Ones\", \"config\": {}}, \"moving_mean_initializer\": {\"class_name\": \"Zeros\", \"config\": {}}, \"moving_variance_initializer\": {\"class_name\": \"Ones\", \"config\": {}}, \"beta_regularizer\": null, \"gamma_regularizer\": null, \"beta_constraint\": null, \"gamma_constraint\": null}, \"inbound_nodes\": [[[\"concatenate_40\", 0, 0, {}]]]}, {\"name\": \"activation_84\", \"class_name\": \"Activation\", \"config\": {\"name\": \"activation_84\", \"trainable\": true, \"activation\": \"relu\"}, \"inbound_nodes\": [[[\"batch_normalization_84\", 0, 0, {}]]]}, {\"name\": \"conv2d_85\", \"class_name\": \"Conv2D\", \"config\": {\"name\": \"conv2d_85\", \"trainable\": true, \"filters\": 12, \"kernel_size\": [1, 1], \"strides\": [1, 1], \"padding\": \"same\", \"data_format\": \"channels_last\", \"dilation_rate\": [1, 1], \"activation\": \"linear\", \"use_bias\": false, \"kernel_initializer\": {\"class_name\": \"VarianceScaling\", \"config\": {\"scale\": 1.0, \"mode\": \"fan_avg\", \"distribution\": \"uniform\", \"seed\": null}}, \"bias_initializer\": {\"class_name\": \"Zeros\", \"config\": {}}, \"kernel_regularizer\": null, \"bias_regularizer\": null, \"activity_regularizer\": null, \"kernel_constraint\": null, \"bias_constraint\": null}, \"inbound_nodes\": [[[\"activation_84\", 0, 0, {}]]]}, {\"name\": \"batch_normalization_85\", \"class_name\": \"BatchNormalization\", \"config\": {\"name\": \"batch_normalization_85\", \"trainable\": true, \"axis\": -1, \"momentum\": 0.99, \"epsilon\": 0.001, \"center\": true, \"scale\": true, \"beta_initializer\": {\"class_name\": \"Zeros\", \"config\": {}}, \"gamma_initializer\": {\"class_name\": \"Ones\", \"config\": {}}, \"moving_mean_initializer\": {\"class_name\": \"Zeros\", \"config\": {}}, \"moving_variance_initializer\": {\"class_name\": \"Ones\", \"config\": {}}, \"beta_regularizer\": null, \"gamma_regularizer\": null, \"beta_constraint\": null, \"gamma_constraint\": null}, \"inbound_nodes\": [[[\"conv2d_85\", 0, 0, {}]]]}, {\"name\": \"activation_85\", \"class_name\": \"Activation\", \"config\": {\"name\": \"activation_85\", \"trainable\": true, \"activation\": \"relu\"}, \"inbound_nodes\": [[[\"batch_normalization_85\", 0, 0, {}]]]}, {\"name\": \"conv2d_86\", \"class_name\": \"Conv2D\", \"config\": {\"name\": \"conv2d_86\", \"trainable\": true, \"filters\": 12, \"kernel_size\": [3, 3], \"strides\": [1, 1], \"padding\": \"same\", \"data_format\": \"channels_last\", \"dilation_rate\": [1, 1], \"activation\": \"linear\", \"use_bias\": false, \"kernel_initializer\": {\"class_name\": \"VarianceScaling\", \"config\": {\"scale\": 1.0, \"mode\": \"fan_avg\", \"distribution\": \"uniform\", \"seed\": null}}, \"bias_initializer\": {\"class_name\": \"Zeros\", \"config\": {}}, \"kernel_regularizer\": null, \"bias_regularizer\": null, \"activity_regularizer\": null, \"kernel_constraint\": null, \"bias_constraint\": null}, \"inbound_nodes\": [[[\"activation_85\", 0, 0, {}]]]}, {\"name\": \"dropout_44\", \"class_name\": \"Dropout\", \"config\": {\"name\": \"dropout_44\", \"trainable\": true, \"rate\": 0.2, \"noise_shape\": null, \"seed\": null}, \"inbound_nodes\": [[[\"conv2d_86\", 0, 0, {}]]]}, {\"name\": \"concatenate_41\", \"class_name\": \"Concatenate\", \"config\": {\"name\": \"concatenate_41\", \"trainable\": true, \"axis\": -1}, \"inbound_nodes\": [[[\"concatenate_40\", 0, 0, {}], [\"dropout_44\", 0, 0, {}]]]}, {\"name\": \"batch_normalization_86\", \"class_name\": \"BatchNormalization\", \"config\": {\"name\": \"batch_normalization_86\", \"trainable\": true, \"axis\": -1, \"momentum\": 0.99, \"epsilon\": 0.001, \"center\": true, \"scale\": true, \"beta_initializer\": {\"class_name\": \"Zeros\", \"config\": {}}, \"gamma_initializer\": {\"class_name\": \"Ones\", \"config\": {}}, \"moving_mean_initializer\": {\"class_name\": \"Zeros\", \"config\": {}}, \"moving_variance_initializer\": {\"class_name\": \"Ones\", \"config\": {}}, \"beta_regularizer\": null, \"gamma_regularizer\": null, \"beta_constraint\": null, \"gamma_constraint\": null}, \"inbound_nodes\": [[[\"concatenate_41\", 0, 0, {}]]]}, {\"name\": \"activation_86\", \"class_name\": \"Activation\", \"config\": {\"name\": \"activation_86\", \"trainable\": true, \"activation\": \"relu\"}, \"inbound_nodes\": [[[\"batch_normalization_86\", 0, 0, {}]]]}, {\"name\": \"conv2d_87\", \"class_name\": \"Conv2D\", \"config\": {\"name\": \"conv2d_87\", \"trainable\": true, \"filters\": 12, \"kernel_size\": [1, 1], \"strides\": [1, 1], \"padding\": \"same\", \"data_format\": \"channels_last\", \"dilation_rate\": [1, 1], \"activation\": \"linear\", \"use_bias\": false, \"kernel_initializer\": {\"class_name\": \"VarianceScaling\", \"config\": {\"scale\": 1.0, \"mode\": \"fan_avg\", \"distribution\": \"uniform\", \"seed\": null}}, \"bias_initializer\": {\"class_name\": \"Zeros\", \"config\": {}}, \"kernel_regularizer\": null, \"bias_regularizer\": null, \"activity_regularizer\": null, \"kernel_constraint\": null, \"bias_constraint\": null}, \"inbound_nodes\": [[[\"activation_86\", 0, 0, {}]]]}, {\"name\": \"batch_normalization_87\", \"class_name\": \"BatchNormalization\", \"config\": {\"name\": \"batch_normalization_87\", \"trainable\": true, \"axis\": -1, \"momentum\": 0.99, \"epsilon\": 0.001, \"center\": true, \"scale\": true, \"beta_initializer\": {\"class_name\": \"Zeros\", \"config\": {}}, \"gamma_initializer\": {\"class_name\": \"Ones\", \"config\": {}}, \"moving_mean_initializer\": {\"class_name\": \"Zeros\", \"config\": {}}, \"moving_variance_initializer\": {\"class_name\": \"Ones\", \"config\": {}}, \"beta_regularizer\": null, \"gamma_regularizer\": null, \"beta_constraint\": null, \"gamma_constraint\": null}, \"inbound_nodes\": [[[\"conv2d_87\", 0, 0, {}]]]}, {\"name\": \"activation_87\", \"class_name\": \"Activation\", \"config\": {\"name\": \"activation_87\", \"trainable\": true, \"activation\": \"relu\"}, \"inbound_nodes\": [[[\"batch_normalization_87\", 0, 0, {}]]]}, {\"name\": \"conv2d_88\", \"class_name\": \"Conv2D\", \"config\": {\"name\": \"conv2d_88\", \"trainable\": true, \"filters\": 12, \"kernel_size\": [3, 3], \"strides\": [1, 1], \"padding\": \"same\", \"data_format\": \"channels_last\", \"dilation_rate\": [1, 1], \"activation\": \"linear\", \"use_bias\": false, \"kernel_initializer\": {\"class_name\": \"VarianceScaling\", \"config\": {\"scale\": 1.0, \"mode\": \"fan_avg\", \"distribution\": \"uniform\", \"seed\": null}}, \"bias_initializer\": {\"class_name\": \"Zeros\", \"config\": {}}, \"kernel_regularizer\": null, \"bias_regularizer\": null, \"activity_regularizer\": null, \"kernel_constraint\": null, \"bias_constraint\": null}, \"inbound_nodes\": [[[\"activation_87\", 0, 0, {}]]]}, {\"name\": \"dropout_45\", \"class_name\": \"Dropout\", \"config\": {\"name\": \"dropout_45\", \"trainable\": true, \"rate\": 0.2, \"noise_shape\": null, \"seed\": null}, \"inbound_nodes\": [[[\"conv2d_88\", 0, 0, {}]]]}, {\"name\": \"concatenate_42\", \"class_name\": \"Concatenate\", \"config\": {\"name\": \"concatenate_42\", \"trainable\": true, \"axis\": -1}, \"inbound_nodes\": [[[\"concatenate_41\", 0, 0, {}], [\"dropout_45\", 0, 0, {}]]]}, {\"name\": \"batch_normalization_88\", \"class_name\": \"BatchNormalization\", \"config\": {\"name\": \"batch_normalization_88\", \"trainable\": true, \"axis\": -1, \"momentum\": 0.99, \"epsilon\": 0.001, \"center\": true, \"scale\": true, \"beta_initializer\": {\"class_name\": \"Zeros\", \"config\": {}}, \"gamma_initializer\": {\"class_name\": \"Ones\", \"config\": {}}, \"moving_mean_initializer\": {\"class_name\": \"Zeros\", \"config\": {}}, \"moving_variance_initializer\": {\"class_name\": \"Ones\", \"config\": {}}, \"beta_regularizer\": null, \"gamma_regularizer\": null, \"beta_constraint\": null, \"gamma_constraint\": null}, \"inbound_nodes\": [[[\"concatenate_42\", 0, 0, {}]]]}, {\"name\": \"activation_88\", \"class_name\": \"Activation\", \"config\": {\"name\": \"activation_88\", \"trainable\": true, \"activation\": \"relu\"}, \"inbound_nodes\": [[[\"batch_normalization_88\", 0, 0, {}]]]}, {\"name\": \"conv2d_89\", \"class_name\": \"Conv2D\", \"config\": {\"name\": \"conv2d_89\", \"trainable\": true, \"filters\": 12, \"kernel_size\": [1, 1], \"strides\": [1, 1], \"padding\": \"same\", \"data_format\": \"channels_last\", \"dilation_rate\": [1, 1], \"activation\": \"linear\", \"use_bias\": false, \"kernel_initializer\": {\"class_name\": \"VarianceScaling\", \"config\": {\"scale\": 1.0, \"mode\": \"fan_avg\", \"distribution\": \"uniform\", \"seed\": null}}, \"bias_initializer\": {\"class_name\": \"Zeros\", \"config\": {}}, \"kernel_regularizer\": null, \"bias_regularizer\": null, \"activity_regularizer\": null, \"kernel_constraint\": null, \"bias_constraint\": null}, \"inbound_nodes\": [[[\"activation_88\", 0, 0, {}]]]}, {\"name\": \"batch_normalization_89\", \"class_name\": \"BatchNormalization\", \"config\": {\"name\": \"batch_normalization_89\", \"trainable\": true, \"axis\": -1, \"momentum\": 0.99, \"epsilon\": 0.001, \"center\": true, \"scale\": true, \"beta_initializer\": {\"class_name\": \"Zeros\", \"config\": {}}, \"gamma_initializer\": {\"class_name\": \"Ones\", \"config\": {}}, \"moving_mean_initializer\": {\"class_name\": \"Zeros\", \"config\": {}}, \"moving_variance_initializer\": {\"class_name\": \"Ones\", \"config\": {}}, \"beta_regularizer\": null, \"gamma_regularizer\": null, \"beta_constraint\": null, \"gamma_constraint\": null}, \"inbound_nodes\": [[[\"conv2d_89\", 0, 0, {}]]]}, {\"name\": \"activation_89\", \"class_name\": \"Activation\", \"config\": {\"name\": \"activation_89\", \"trainable\": true, \"activation\": \"relu\"}, \"inbound_nodes\": [[[\"batch_normalization_89\", 0, 0, {}]]]}, {\"name\": \"conv2d_90\", \"class_name\": \"Conv2D\", \"config\": {\"name\": \"conv2d_90\", \"trainable\": true, \"filters\": 12, \"kernel_size\": [3, 3], \"strides\": [1, 1], \"padding\": \"same\", \"data_format\": \"channels_last\", \"dilation_rate\": [1, 1], \"activation\": \"linear\", \"use_bias\": false, \"kernel_initializer\": {\"class_name\": \"VarianceScaling\", \"config\": {\"scale\": 1.0, \"mode\": \"fan_avg\", \"distribution\": \"uniform\", \"seed\": null}}, \"bias_initializer\": {\"class_name\": \"Zeros\", \"config\": {}}, \"kernel_regularizer\": null, \"bias_regularizer\": null, \"activity_regularizer\": null, \"kernel_constraint\": null, \"bias_constraint\": null}, \"inbound_nodes\": [[[\"activation_89\", 0, 0, {}]]]}, {\"name\": \"dropout_46\", \"class_name\": \"Dropout\", \"config\": {\"name\": \"dropout_46\", \"trainable\": true, \"rate\": 0.2, \"noise_shape\": null, \"seed\": null}, \"inbound_nodes\": [[[\"conv2d_90\", 0, 0, {}]]]}, {\"name\": \"concatenate_43\", \"class_name\": \"Concatenate\", \"config\": {\"name\": \"concatenate_43\", \"trainable\": true, \"axis\": -1}, \"inbound_nodes\": [[[\"concatenate_42\", 0, 0, {}], [\"dropout_46\", 0, 0, {}]]]}, {\"name\": \"batch_normalization_90\", \"class_name\": \"BatchNormalization\", \"config\": {\"name\": \"batch_normalization_90\", \"trainable\": true, \"axis\": -1, \"momentum\": 0.99, \"epsilon\": 0.001, \"center\": true, \"scale\": true, \"beta_initializer\": {\"class_name\": \"Zeros\", \"config\": {}}, \"gamma_initializer\": {\"class_name\": \"Ones\", \"config\": {}}, \"moving_mean_initializer\": {\"class_name\": \"Zeros\", \"config\": {}}, \"moving_variance_initializer\": {\"class_name\": \"Ones\", \"config\": {}}, \"beta_regularizer\": null, \"gamma_regularizer\": null, \"beta_constraint\": null, \"gamma_constraint\": null}, \"inbound_nodes\": [[[\"concatenate_43\", 0, 0, {}]]]}, {\"name\": \"activation_90\", \"class_name\": \"Activation\", \"config\": {\"name\": \"activation_90\", \"trainable\": true, \"activation\": \"relu\"}, \"inbound_nodes\": [[[\"batch_normalization_90\", 0, 0, {}]]]}, {\"name\": \"conv2d_91\", \"class_name\": \"Conv2D\", \"config\": {\"name\": \"conv2d_91\", \"trainable\": true, \"filters\": 12, \"kernel_size\": [1, 1], \"strides\": [1, 1], \"padding\": \"same\", \"data_format\": \"channels_last\", \"dilation_rate\": [1, 1], \"activation\": \"linear\", \"use_bias\": false, \"kernel_initializer\": {\"class_name\": \"VarianceScaling\", \"config\": {\"scale\": 1.0, \"mode\": \"fan_avg\", \"distribution\": \"uniform\", \"seed\": null}}, \"bias_initializer\": {\"class_name\": \"Zeros\", \"config\": {}}, \"kernel_regularizer\": null, \"bias_regularizer\": null, \"activity_regularizer\": null, \"kernel_constraint\": null, \"bias_constraint\": null}, \"inbound_nodes\": [[[\"activation_90\", 0, 0, {}]]]}, {\"name\": \"batch_normalization_91\", \"class_name\": \"BatchNormalization\", \"config\": {\"name\": \"batch_normalization_91\", \"trainable\": true, \"axis\": -1, \"momentum\": 0.99, \"epsilon\": 0.001, \"center\": true, \"scale\": true, \"beta_initializer\": {\"class_name\": \"Zeros\", \"config\": {}}, \"gamma_initializer\": {\"class_name\": \"Ones\", \"config\": {}}, \"moving_mean_initializer\": {\"class_name\": \"Zeros\", \"config\": {}}, \"moving_variance_initializer\": {\"class_name\": \"Ones\", \"config\": {}}, \"beta_regularizer\": null, \"gamma_regularizer\": null, \"beta_constraint\": null, \"gamma_constraint\": null}, \"inbound_nodes\": [[[\"conv2d_91\", 0, 0, {}]]]}, {\"name\": \"activation_91\", \"class_name\": \"Activation\", \"config\": {\"name\": \"activation_91\", \"trainable\": true, \"activation\": \"relu\"}, \"inbound_nodes\": [[[\"batch_normalization_91\", 0, 0, {}]]]}, {\"name\": \"conv2d_92\", \"class_name\": \"Conv2D\", \"config\": {\"name\": \"conv2d_92\", \"trainable\": true, \"filters\": 12, \"kernel_size\": [3, 3], \"strides\": [1, 1], \"padding\": \"same\", \"data_format\": \"channels_last\", \"dilation_rate\": [1, 1], \"activation\": \"linear\", \"use_bias\": false, \"kernel_initializer\": {\"class_name\": \"VarianceScaling\", \"config\": {\"scale\": 1.0, \"mode\": \"fan_avg\", \"distribution\": \"uniform\", \"seed\": null}}, \"bias_initializer\": {\"class_name\": \"Zeros\", \"config\": {}}, \"kernel_regularizer\": null, \"bias_regularizer\": null, \"activity_regularizer\": null, \"kernel_constraint\": null, \"bias_constraint\": null}, \"inbound_nodes\": [[[\"activation_91\", 0, 0, {}]]]}, {\"name\": \"dropout_47\", \"class_name\": \"Dropout\", \"config\": {\"name\": \"dropout_47\", \"trainable\": true, \"rate\": 0.2, \"noise_shape\": null, \"seed\": null}, \"inbound_nodes\": [[[\"conv2d_92\", 0, 0, {}]]]}, {\"name\": \"concatenate_44\", \"class_name\": \"Concatenate\", \"config\": {\"name\": \"concatenate_44\", \"trainable\": true, \"axis\": -1}, \"inbound_nodes\": [[[\"concatenate_43\", 0, 0, {}], [\"dropout_47\", 0, 0, {}]]]}, {\"name\": \"batch_normalization_92\", \"class_name\": \"BatchNormalization\", \"config\": {\"name\": \"batch_normalization_92\", \"trainable\": true, \"axis\": -1, \"momentum\": 0.99, \"epsilon\": 0.001, \"center\": true, \"scale\": true, \"beta_initializer\": {\"class_name\": \"Zeros\", \"config\": {}}, \"gamma_initializer\": {\"class_name\": \"Ones\", \"config\": {}}, \"moving_mean_initializer\": {\"class_name\": \"Zeros\", \"config\": {}}, \"moving_variance_initializer\": {\"class_name\": \"Ones\", \"config\": {}}, \"beta_regularizer\": null, \"gamma_regularizer\": null, \"beta_constraint\": null, \"gamma_constraint\": null}, \"inbound_nodes\": [[[\"concatenate_44\", 0, 0, {}]]]}, {\"name\": \"activation_92\", \"class_name\": \"Activation\", \"config\": {\"name\": \"activation_92\", \"trainable\": true, \"activation\": \"relu\"}, \"inbound_nodes\": [[[\"batch_normalization_92\", 0, 0, {}]]]}, {\"name\": \"conv2d_93\", \"class_name\": \"Conv2D\", \"config\": {\"name\": \"conv2d_93\", \"trainable\": true, \"filters\": 12, \"kernel_size\": [1, 1], \"strides\": [1, 1], \"padding\": \"same\", \"data_format\": \"channels_last\", \"dilation_rate\": [1, 1], \"activation\": \"linear\", \"use_bias\": false, \"kernel_initializer\": {\"class_name\": \"VarianceScaling\", \"config\": {\"scale\": 1.0, \"mode\": \"fan_avg\", \"distribution\": \"uniform\", \"seed\": null}}, \"bias_initializer\": {\"class_name\": \"Zeros\", \"config\": {}}, \"kernel_regularizer\": null, \"bias_regularizer\": null, \"activity_regularizer\": null, \"kernel_constraint\": null, \"bias_constraint\": null}, \"inbound_nodes\": [[[\"activation_92\", 0, 0, {}]]]}, {\"name\": \"batch_normalization_93\", \"class_name\": \"BatchNormalization\", \"config\": {\"name\": \"batch_normalization_93\", \"trainable\": true, \"axis\": -1, \"momentum\": 0.99, \"epsilon\": 0.001, \"center\": true, \"scale\": true, \"beta_initializer\": {\"class_name\": \"Zeros\", \"config\": {}}, \"gamma_initializer\": {\"class_name\": \"Ones\", \"config\": {}}, \"moving_mean_initializer\": {\"class_name\": \"Zeros\", \"config\": {}}, \"moving_variance_initializer\": {\"class_name\": \"Ones\", \"config\": {}}, \"beta_regularizer\": null, \"gamma_regularizer\": null, \"beta_constraint\": null, \"gamma_constraint\": null}, \"inbound_nodes\": [[[\"conv2d_93\", 0, 0, {}]]]}, {\"name\": \"activation_93\", \"class_name\": \"Activation\", \"config\": {\"name\": \"activation_93\", \"trainable\": true, \"activation\": \"relu\"}, \"inbound_nodes\": [[[\"batch_normalization_93\", 0, 0, {}]]]}, {\"name\": \"conv2d_94\", \"class_name\": \"Conv2D\", \"config\": {\"name\": \"conv2d_94\", \"trainable\": true, \"filters\": 12, \"kernel_size\": [3, 3], \"strides\": [1, 1], \"padding\": \"same\", \"data_format\": \"channels_last\", \"dilation_rate\": [1, 1], \"activation\": \"linear\", \"use_bias\": false, \"kernel_initializer\": {\"class_name\": \"VarianceScaling\", \"config\": {\"scale\": 1.0, \"mode\": \"fan_avg\", \"distribution\": \"uniform\", \"seed\": null}}, \"bias_initializer\": {\"class_name\": \"Zeros\", \"config\": {}}, \"kernel_regularizer\": null, \"bias_regularizer\": null, \"activity_regularizer\": null, \"kernel_constraint\": null, \"bias_constraint\": null}, \"inbound_nodes\": [[[\"activation_93\", 0, 0, {}]]]}, {\"name\": \"dropout_48\", \"class_name\": \"Dropout\", \"config\": {\"name\": \"dropout_48\", \"trainable\": true, \"rate\": 0.2, \"noise_shape\": null, \"seed\": null}, \"inbound_nodes\": [[[\"conv2d_94\", 0, 0, {}]]]}, {\"name\": \"concatenate_45\", \"class_name\": \"Concatenate\", \"config\": {\"name\": \"concatenate_45\", \"trainable\": true, \"axis\": -1}, \"inbound_nodes\": [[[\"concatenate_44\", 0, 0, {}], [\"dropout_48\", 0, 0, {}]]]}, {\"name\": \"batch_normalization_94\", \"class_name\": \"BatchNormalization\", \"config\": {\"name\": \"batch_normalization_94\", \"trainable\": true, \"axis\": -1, \"momentum\": 0.99, \"epsilon\": 0.001, \"center\": true, \"scale\": true, \"beta_initializer\": {\"class_name\": \"Zeros\", \"config\": {}}, \"gamma_initializer\": {\"class_name\": \"Ones\", \"config\": {}}, \"moving_mean_initializer\": {\"class_name\": \"Zeros\", \"config\": {}}, \"moving_variance_initializer\": {\"class_name\": \"Ones\", \"config\": {}}, \"beta_regularizer\": null, \"gamma_regularizer\": null, \"beta_constraint\": null, \"gamma_constraint\": null}, \"inbound_nodes\": [[[\"concatenate_45\", 0, 0, {}]]]}, {\"name\": \"activation_94\", \"class_name\": \"Activation\", \"config\": {\"name\": \"activation_94\", \"trainable\": true, \"activation\": \"relu\"}, \"inbound_nodes\": [[[\"batch_normalization_94\", 0, 0, {}]]]}, {\"name\": \"conv2d_95\", \"class_name\": \"Conv2D\", \"config\": {\"name\": \"conv2d_95\", \"trainable\": true, \"filters\": 12, \"kernel_size\": [1, 1], \"strides\": [1, 1], \"padding\": \"same\", \"data_format\": \"channels_last\", \"dilation_rate\": [1, 1], \"activation\": \"linear\", \"use_bias\": false, \"kernel_initializer\": {\"class_name\": \"VarianceScaling\", \"config\": {\"scale\": 1.0, \"mode\": \"fan_avg\", \"distribution\": \"uniform\", \"seed\": null}}, \"bias_initializer\": {\"class_name\": \"Zeros\", \"config\": {}}, \"kernel_regularizer\": null, \"bias_regularizer\": null, \"activity_regularizer\": null, \"kernel_constraint\": null, \"bias_constraint\": null}, \"inbound_nodes\": [[[\"activation_94\", 0, 0, {}]]]}, {\"name\": \"batch_normalization_95\", \"class_name\": \"BatchNormalization\", \"config\": {\"name\": \"batch_normalization_95\", \"trainable\": true, \"axis\": -1, \"momentum\": 0.99, \"epsilon\": 0.001, \"center\": true, \"scale\": true, \"beta_initializer\": {\"class_name\": \"Zeros\", \"config\": {}}, \"gamma_initializer\": {\"class_name\": \"Ones\", \"config\": {}}, \"moving_mean_initializer\": {\"class_name\": \"Zeros\", \"config\": {}}, \"moving_variance_initializer\": {\"class_name\": \"Ones\", \"config\": {}}, \"beta_regularizer\": null, \"gamma_regularizer\": null, \"beta_constraint\": null, \"gamma_constraint\": null}, \"inbound_nodes\": [[[\"conv2d_95\", 0, 0, {}]]]}, {\"name\": \"activation_95\", \"class_name\": \"Activation\", \"config\": {\"name\": \"activation_95\", \"trainable\": true, \"activation\": \"relu\"}, \"inbound_nodes\": [[[\"batch_normalization_95\", 0, 0, {}]]]}, {\"name\": \"conv2d_96\", \"class_name\": \"Conv2D\", \"config\": {\"name\": \"conv2d_96\", \"trainable\": true, \"filters\": 12, \"kernel_size\": [3, 3], \"strides\": [1, 1], \"padding\": \"same\", \"data_format\": \"channels_last\", \"dilation_rate\": [1, 1], \"activation\": \"linear\", \"use_bias\": false, \"kernel_initializer\": {\"class_name\": \"VarianceScaling\", \"config\": {\"scale\": 1.0, \"mode\": \"fan_avg\", \"distribution\": \"uniform\", \"seed\": null}}, \"bias_initializer\": {\"class_name\": \"Zeros\", \"config\": {}}, \"kernel_regularizer\": null, \"bias_regularizer\": null, \"activity_regularizer\": null, \"kernel_constraint\": null, \"bias_constraint\": null}, \"inbound_nodes\": [[[\"activation_95\", 0, 0, {}]]]}, {\"name\": \"dropout_49\", \"class_name\": \"Dropout\", \"config\": {\"name\": \"dropout_49\", \"trainable\": true, \"rate\": 0.2, \"noise_shape\": null, \"seed\": null}, \"inbound_nodes\": [[[\"conv2d_96\", 0, 0, {}]]]}, {\"name\": \"concatenate_46\", \"class_name\": \"Concatenate\", \"config\": {\"name\": \"concatenate_46\", \"trainable\": true, \"axis\": -1}, \"inbound_nodes\": [[[\"concatenate_45\", 0, 0, {}], [\"dropout_49\", 0, 0, {}]]]}, {\"name\": \"batch_normalization_96\", \"class_name\": \"BatchNormalization\", \"config\": {\"name\": \"batch_normalization_96\", \"trainable\": true, \"axis\": -1, \"momentum\": 0.99, \"epsilon\": 0.001, \"center\": true, \"scale\": true, \"beta_initializer\": {\"class_name\": \"Zeros\", \"config\": {}}, \"gamma_initializer\": {\"class_name\": \"Ones\", \"config\": {}}, \"moving_mean_initializer\": {\"class_name\": \"Zeros\", \"config\": {}}, \"moving_variance_initializer\": {\"class_name\": \"Ones\", \"config\": {}}, \"beta_regularizer\": null, \"gamma_regularizer\": null, \"beta_constraint\": null, \"gamma_constraint\": null}, \"inbound_nodes\": [[[\"concatenate_46\", 0, 0, {}]]]}, {\"name\": \"activation_96\", \"class_name\": \"Activation\", \"config\": {\"name\": \"activation_96\", \"trainable\": true, \"activation\": \"relu\"}, \"inbound_nodes\": [[[\"batch_normalization_96\", 0, 0, {}]]]}, {\"name\": \"average_pooling2d_4\", \"class_name\": \"AveragePooling2D\", \"config\": {\"name\": \"average_pooling2d_4\", \"trainable\": true, \"pool_size\": [2, 2], \"padding\": \"valid\", \"strides\": [2, 2], \"data_format\": \"channels_last\"}, \"inbound_nodes\": [[[\"activation_96\", 0, 0, {}]]]}, {\"name\": \"flatten_1\", \"class_name\": \"Flatten\", \"config\": {\"name\": \"flatten_1\", \"trainable\": true, \"data_format\": \"channels_last\"}, \"inbound_nodes\": [[[\"average_pooling2d_4\", 0, 0, {}]]]}, {\"name\": \"dense_1\", \"class_name\": \"Dense\", \"config\": {\"name\": \"dense_1\", \"trainable\": true, \"units\": 10, \"activation\": \"softmax\", \"use_bias\": true, \"kernel_initializer\": {\"class_name\": \"VarianceScaling\", \"config\": {\"scale\": 1.0, \"mode\": \"fan_avg\", \"distribution\": \"uniform\", \"seed\": null}}, \"bias_initializer\": {\"class_name\": \"Zeros\", \"config\": {}}, \"kernel_regularizer\": null, \"bias_regularizer\": null, \"activity_regularizer\": null, \"kernel_constraint\": null, \"bias_constraint\": null}, \"inbound_nodes\": [[[\"flatten_1\", 0, 0, {}]]]}], \"input_layers\": [[\"input_1\", 0, 0]], \"output_layers\": [[\"dense_1\", 0, 0]]}, \"keras_version\": \"2.1.6\", \"backend\": \"tensorflow\"}\n"
     ]
    }
   ],
   "source": [
    "from keras.models import model_from_json\n",
    "json_model1= model.to_json()#saving model_1 with variable value of l=6,12,16,12 through 4 dense blocks, dropout_rate= 0.2\n",
    "print('model 1: \\n',json_model1)"
   ]
  },
  {
   "cell_type": "markdown",
   "metadata": {},
   "source": [
    "### Model Compilation: defining loss function, preferred optimizer fucntion"
   ]
  },
  {
   "cell_type": "code",
   "execution_count": 0,
   "metadata": {
    "colab": {
     "autoexec": {
      "startup": false,
      "wait_interval": 0
     }
    },
    "colab_type": "code",
    "id": "JJ9rGxwJjF-b"
   },
   "outputs": [],
   "source": [
    "# determine Loss function and Optimizer\n",
    "model.compile(loss='categorical_crossentropy',\n",
    "              optimizer=Adam(),\n",
    "              metrics=['accuracy'])"
   ]
  },
  {
   "cell_type": "markdown",
   "metadata": {},
   "source": [
    "### Training and saving the model intermittently:\n",
    "* using 70k training images as x_train & labels as y_train.\n",
    "* with batch_size 128.\n",
    "* and limited number of epochs each time."
   ]
  },
  {
   "cell_type": "code",
   "execution_count": 0,
   "metadata": {
    "colab": {
     "autoexec": {
      "startup": false,
      "wait_interval": 0
     },
     "base_uri": "https://localhost:8080/",
     "height": 241
    },
    "colab_type": "code",
    "executionInfo": {
     "elapsed": 2186513,
     "status": "ok",
     "timestamp": 1526386870020,
     "user": {
      "displayName": "Prakash Bisht",
      "photoUrl": "https://lh3.googleusercontent.com/a/default-user=s128",
      "userId": "117570314048106771115"
     },
     "user_tz": -330
    },
    "id": "JoerlbxojI6Q",
    "outputId": "7fa091a8-0d91-48fb-c06f-2d3645d7d2a6"
   },
   "outputs": [
    {
     "name": "stdout",
     "output_type": "stream",
     "text": [
      "Train on 70000 samples, validate on 10000 samples\n",
      "Epoch 1/5\n",
      "44032/70000 [=================>............] - ETA: 2:46 - loss: 1.9464 - acc: 0.281370000/70000 [==============================] - 451s 6ms/step - loss: 1.8553 - acc: 0.3171 - val_loss: 1.7733 - val_acc: 0.3979\n",
      "Epoch 2/5\n",
      "18816/70000 [=======>......................] - ETA: 5:08 - loss: 1.6184 - acc: 0.406770000/70000 [==============================] - 430s 6ms/step - loss: 1.5439 - acc: 0.4380 - val_loss: 1.3793 - val_acc: 0.5110\n",
      "Epoch 3/5\n",
      " 9152/70000 [==>...........................] - ETA: 6:03 - loss: 1.4393 - acc: 0.479170000/70000 [==============================] - 428s 6ms/step - loss: 1.3920 - acc: 0.4971 - val_loss: 1.1563 - val_acc: 0.5885\n",
      "Epoch 4/5\n",
      " 5440/70000 [=>............................] - ETA: 6:28 - loss: 1.3020 - acc: 0.534670000/70000 [==============================] - 432s 6ms/step - loss: 1.2663 - acc: 0.5485 - val_loss: 1.4486 - val_acc: 0.5224\n",
      "Epoch 5/5\n",
      " 4032/70000 [>.............................] - ETA: 6:26 - loss: 1.2351 - acc: 0.559370000/70000 [==============================] - 431s 6ms/step - loss: 1.1804 - acc: 0.5804 - val_loss: 1.1322 - val_acc: 0.6197\n"
     ]
    },
    {
     "data": {
      "text/plain": [
       "<keras.callbacks.History at 0x7efe50889438>"
      ]
     },
     "execution_count": 23,
     "metadata": {
      "tags": []
     },
     "output_type": "execute_result"
    }
   ],
   "source": [
    "#training model on 70k training images with Batch size = 128, epochs=5,dropout_rate= 0.2\n",
    "model.fit(x_new, y_new, batch_size=batch_size, epochs=5, verbose=1, validation_data=(x_test, y_test))\n",
    "\n",
    "from keras.models import load_model\n",
    "\n",
    "model.save(\"./model127k_epoch1to5.h5\") #saving model with architecture, weights and current state of optimizer"
   ]
  },
  {
   "cell_type": "markdown",
   "metadata": {},
   "source": [
    "#### reloading the previously saved model and first training for 5 epochs then 8 more epochs"
   ]
  },
  {
   "cell_type": "code",
   "execution_count": 0,
   "metadata": {
    "colab": {
     "autoexec": {
      "startup": false,
      "wait_interval": 0
     },
     "base_uri": "https://localhost:8080/",
     "height": 241
    },
    "colab_type": "code",
    "executionInfo": {
     "elapsed": 2186749,
     "status": "ok",
     "timestamp": 1526389883457,
     "user": {
      "displayName": "Prakash Bisht",
      "photoUrl": "https://lh3.googleusercontent.com/a/default-user=s128",
      "userId": "117570314048106771115"
     },
     "user_tz": -330
    },
    "id": "NLYJ14_Cy2OJ",
    "outputId": "1729fdcb-7788-4979-a6db-bbc0ec23d0c4"
   },
   "outputs": [
    {
     "name": "stdout",
     "output_type": "stream",
     "text": [
      "Train on 70000 samples, validate on 10000 samples\n",
      "Epoch 1/5\n",
      "44032/70000 [=================>............] - ETA: 2:46 - loss: 1.1170 - acc: 0.603570000/70000 [==============================] - 451s 6ms/step - loss: 1.1085 - acc: 0.6072 - val_loss: 0.9613 - val_acc: 0.6603\n",
      "Epoch 2/5\n",
      "18816/70000 [=======>......................] - ETA: 5:09 - loss: 1.0672 - acc: 0.621770000/70000 [==============================] - 431s 6ms/step - loss: 1.0549 - acc: 0.6285 - val_loss: 0.8957 - val_acc: 0.6998\n",
      "Epoch 3/5\n",
      " 9152/70000 [==>...........................] - ETA: 6:07 - loss: 1.0053 - acc: 0.642070000/70000 [==============================] - 435s 6ms/step - loss: 1.0121 - acc: 0.6414 - val_loss: 1.0942 - val_acc: 0.6543\n",
      "Epoch 4/5\n",
      " 5440/70000 [=>............................] - ETA: 6:25 - loss: 0.9871 - acc: 0.649370000/70000 [==============================] - 433s 6ms/step - loss: 0.9698 - acc: 0.6588 - val_loss: 0.9538 - val_acc: 0.6916\n",
      "Epoch 5/5\n",
      " 4032/70000 [>.............................] - ETA: 6:39 - loss: 0.8869 - acc: 0.682070000/70000 [==============================] - 436s 6ms/step - loss: 0.9340 - acc: 0.6732 - val_loss: 0.7591 - val_acc: 0.7429\n"
     ]
    },
    {
     "data": {
      "text/plain": [
       "<keras.callbacks.History at 0x7efe1aedb940>"
      ]
     },
     "execution_count": 33,
     "metadata": {
      "tags": []
     },
     "output_type": "execute_result"
    }
   ],
   "source": [
    "#training model 2nd time on 70k training images with Batch size = 128, epochs=5, dropout_rate=0.20\n",
    "from google.colab import files\n",
    "\n",
    "model= load_model(\"model127k_epoch1to5.h5\") #loading model with weights from training epoch 1 to 5 \n",
    "model.fit(x_new, y_new,\n",
    "                    batch_size=batch_size,\n",
    "                    epochs=5,\n",
    "                    verbose=1,\n",
    "                    validation_data=(x_test, y_test))\n",
    "model.save('./model127k_epoch1t10.h5')\n",
    "files.download('model127k_epoch1t10.h5')"
   ]
  },
  {
   "cell_type": "code",
   "execution_count": 0,
   "metadata": {
    "colab": {
     "autoexec": {
      "startup": false,
      "wait_interval": 0
     },
     "base_uri": "https://localhost:8080/",
     "height": 343
    },
    "colab_type": "code",
    "executionInfo": {
     "elapsed": 2071985,
     "status": "ok",
     "timestamp": 1526392223878,
     "user": {
      "displayName": "Prakash Bisht",
      "photoUrl": "https://lh3.googleusercontent.com/a/default-user=s128",
      "userId": "117570314048106771115"
     },
     "user_tz": -330
    },
    "id": "Avo40pfY7-8I",
    "outputId": "727d4779-2e2d-40ed-d457-fcc227a41f10"
   },
   "outputs": [
    {
     "name": "stdout",
     "output_type": "stream",
     "text": [
      "Train on 70000 samples, validate on 10000 samples\n",
      "Epoch 1/8\n",
      "70000/70000 [==============================] - 268s 4ms/step - loss: 0.8577 - acc: 0.6991 - val_loss: 0.9228 - val_acc: 0.6962\n",
      "Epoch 2/8\n",
      " 9216/70000 [==>...........................] - ETA: 3:36 - loss: 0.8325 - acc: 0.709470000/70000 [==============================] - 258s 4ms/step - loss: 0.8459 - acc: 0.7046 - val_loss: 0.7356 - val_acc: 0.7495\n",
      "Epoch 3/8\n",
      "34304/70000 [=============>................] - ETA: 2:07 - loss: 0.8264 - acc: 0.710670000/70000 [==============================] - 259s 4ms/step - loss: 0.8270 - acc: 0.7108 - val_loss: 0.7767 - val_acc: 0.7453\n",
      "Epoch 4/8\n",
      "43904/70000 [=================>............] - ETA: 1:32 - loss: 0.8151 - acc: 0.717370000/70000 [==============================] - 258s 4ms/step - loss: 0.8154 - acc: 0.7156 - val_loss: 0.7683 - val_acc: 0.7386\n",
      "Epoch 5/8\n",
      "47488/70000 [===================>..........] - ETA: 1:20 - loss: 0.7987 - acc: 0.720670000/70000 [==============================] - 258s 4ms/step - loss: 0.7992 - acc: 0.7211 - val_loss: 0.8065 - val_acc: 0.7383\n",
      "Epoch 6/8\n",
      "48896/70000 [===================>..........] - ETA: 1:15 - loss: 0.7917 - acc: 0.723270000/70000 [==============================] - 259s 4ms/step - loss: 0.7912 - acc: 0.7237 - val_loss: 0.7709 - val_acc: 0.7453\n",
      "Epoch 7/8\n",
      "49408/70000 [====================>.........] - ETA: 1:13 - loss: 0.7807 - acc: 0.726070000/70000 [==============================] - 258s 4ms/step - loss: 0.7743 - acc: 0.7288 - val_loss: 0.9436 - val_acc: 0.7220\n",
      "Epoch 8/8\n",
      "49664/70000 [====================>.........] - ETA: 1:10 - loss: 0.7575 - acc: 0.735070000/70000 [==============================] - 254s 4ms/step - loss: 0.7640 - acc: 0.7339 - val_loss: 0.6169 - val_acc: 0.7916\n"
     ]
    },
    {
     "data": {
      "text/plain": [
       "<keras.callbacks.History at 0x7efe507e4da0>"
      ]
     },
     "execution_count": 37,
     "metadata": {
      "tags": []
     },
     "output_type": "execute_result"
    }
   ],
   "source": [
    "#training model 3rd time on 70k training images with Batch size = 128, epochs=8, dropout_rate=0.20\n",
    "\n",
    "model= load_model(\"model127k_epoch1t10.h5\") #loading model with pretrained weights from epoch 1 to 10\n",
    "model.fit(x_new, y_new,\n",
    "                    batch_size=128,\n",
    "                    epochs=8,\n",
    "                    verbose=1,\n",
    "                    validation_data=(x_test, y_test))\n",
    "model.save('./model127k_epoch1t18.h5') #saving the complete model\n",
    "files.download('model127k_epoch1t18.h5')"
   ]
  },
  {
   "cell_type": "code",
   "execution_count": 14,
   "metadata": {
    "colab": {
     "autoexec": {
      "startup": false,
      "wait_interval": 0
     },
     "base_uri": "https://localhost:8080/",
     "height": 89,
     "resources": {
      "http://localhost:8080/nbextensions/google.colab/files.js": {
       "data": "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",
       "headers": [
        [
         "content-type",
         "application/javascript"
        ]
       ],
       "ok": true,
       "status": 200,
       "status_text": ""
      }
     }
    },
    "colab_type": "code",
    "executionInfo": {
     "elapsed": 86125,
     "status": "ok",
     "timestamp": 1526457461863,
     "user": {
      "displayName": "Prakash Bisht",
      "photoUrl": "https://lh3.googleusercontent.com/a/default-user=s128",
      "userId": "117570314048106771115"
     },
     "user_tz": -330
    },
    "id": "5WMmxD9r8V1_",
    "outputId": "25a0fd24-3719-4458-82a2-5bd977542467"
   },
   "outputs": [
    {
     "data": {
      "text/html": [
       "\n",
       "     <input type=\"file\" id=\"files-78012ca0-8e9e-4ab0-ac5a-dac7eca9e826\" name=\"files[]\" multiple disabled />\n",
       "     <output id=\"result-78012ca0-8e9e-4ab0-ac5a-dac7eca9e826\">\n",
       "      Upload widget is only available when the cell has been executed in the\n",
       "      current browser session. Please rerun this cell to enable.\n",
       "      </output>\n",
       "      <script src=\"/nbextensions/google.colab/files.js\"></script> "
      ],
      "text/plain": [
       "<IPython.core.display.HTML object>"
      ]
     },
     "metadata": {
      "tags": []
     },
     "output_type": "display_data"
    },
    {
     "name": "stdout",
     "output_type": "stream",
     "text": [
      "Saving model127k_ep1t18.h5 to model127k_ep1t18.h5\n",
      "User uploaded file \"model127k_ep1t18.h5\" with length 2885848 bytes\n"
     ]
    }
   ],
   "source": [
    "from google.colab import files\n",
    "uploaded = files.upload()\n",
    "for fn in uploaded.keys():\n",
    "  print('User uploaded file \"{name}\" with length {length} bytes'.format(\n",
    "      name=fn, length=len(uploaded[fn])))"
   ]
  },
  {
   "cell_type": "markdown",
   "metadata": {},
   "source": [
    "### Saving only weights, discarding network architecture from recently trained model \"model127k_ep1t18.h5, as the dropout value has to be changed from 0.2 to 0.3."
   ]
  },
  {
   "cell_type": "code",
   "execution_count": 0,
   "metadata": {
    "colab": {
     "autoexec": {
      "startup": false,
      "wait_interval": 0
     }
    },
    "colab_type": "code",
    "id": "mK8RJLkL8-HU"
   },
   "outputs": [],
   "source": [
    "model= uploaded[\"model127k_ep1t18.h5\"]\n",
    "\n",
    "model= load_model(\"model127k_ep1t18.h5\") #this loads the complete previous model \"model127k_ep1t18.h5\" with architecture, weights & state of optimizer \n",
    "model.save_weights(\"model127k_weights_ep1t18.h5\")"
   ]
  },
  {
   "cell_type": "code",
   "execution_count": 25,
   "metadata": {
    "colab": {
     "autoexec": {
      "startup": false,
      "wait_interval": 0
     },
     "base_uri": "https://localhost:8080/",
     "height": 34
    },
    "colab_type": "code",
    "executionInfo": {
     "elapsed": 2488,
     "status": "ok",
     "timestamp": 1526459348527,
     "user": {
      "displayName": "Prakash Bisht",
      "photoUrl": "https://lh3.googleusercontent.com/a/default-user=s128",
      "userId": "117570314048106771115"
     },
     "user_tz": -330
    },
    "id": "6I1jsr4N9hV-",
    "outputId": "ad7b2bb8-cbed-49f2-a530-52edd5064d0c"
   },
   "outputs": [
    {
     "name": "stdout",
     "output_type": "stream",
     "text": [
      "datalab  model127k_ep1t18.h5  model127k_weights_ep1t18.h5\r\n"
     ]
    }
   ],
   "source": [
    "!ls"
   ]
  },
  {
   "cell_type": "markdown",
   "metadata": {},
   "source": [
    "#### Differentiating model from previous one with dropout value =0.30\n",
    "* So far the model has been trained for 18 epochs with dropout value=0.20."
   ]
  },
  {
   "cell_type": "code",
   "execution_count": 0,
   "metadata": {
    "colab": {
     "autoexec": {
      "startup": false,
      "wait_interval": 0
     }
    },
    "colab_type": "code",
    "id": "Od2zUzbE-EPe"
   },
   "outputs": [],
   "source": [
    "num_filter = 24\n",
    "dropout_rate = 0.3\n",
    "#l = 12\n",
    "input = Input(shape=(img_height, img_width, channel,))\n",
    "First_Conv2D = Conv2D(16, (3,3), use_bias=False ,padding='same', kernel_initializer='glorot_uniform', bias_initializer='zeros')(input)\n",
    "\n",
    "First_Block = add_denseblock(First_Conv2D, 6 , num_filter, dropout_rate)\n",
    "First_Transition = add_transition(First_Block, num_filter, dropout_rate)\n",
    "\n",
    "Second_Block = add_denseblock(First_Transition,12, num_filter, dropout_rate)\n",
    "Second_Transition = add_transition(Second_Block, num_filter, dropout_rate)\n",
    "\n",
    "Third_Block = add_denseblock(Second_Transition,16, num_filter, dropout_rate)\n",
    "Third_Transition = add_transition(Third_Block, num_filter, dropout_rate)\n",
    "\n",
    "Last_Block = add_denseblock(Third_Transition,12, num_filter, dropout_rate)\n",
    "output = output_layer(Last_Block)\n",
    "\n",
    "model = Model(inputs=[input], outputs=[output])# model 2 with variable depth, l=6,12,16,12 and dropout 0.30\n"
   ]
  },
  {
   "cell_type": "code",
   "execution_count": 0,
   "metadata": {
    "colab": {
     "autoexec": {
      "startup": false,
      "wait_interval": 0
     }
    },
    "colab_type": "code",
    "id": "n-vYHhah-fna"
   },
   "outputs": [],
   "source": [
    "model.load_weights(\"model127k_weights_ep1t18.h5\") #adding pretrained weights \"model127k_weights_ep1t18.h5\" to new model with dropout 0.3"
   ]
  },
  {
   "cell_type": "markdown",
   "metadata": {},
   "source": [
    "### Model Compilation: defining loss function, preferred optimizer fucntion"
   ]
  },
  {
   "cell_type": "code",
   "execution_count": 0,
   "metadata": {
    "colab": {
     "autoexec": {
      "startup": false,
      "wait_interval": 0
     }
    },
    "colab_type": "code",
    "id": "J66pWhrfIOaw"
   },
   "outputs": [],
   "source": [
    "#compiling new model\n",
    "model.compile(loss='categorical_crossentropy',\n",
    "              optimizer=Adam(),\n",
    "              metrics=['accuracy'])"
   ]
  },
  {
   "cell_type": "markdown",
   "metadata": {},
   "source": [
    "#### evaluating accuracy of the loaded model"
   ]
  },
  {
   "cell_type": "code",
   "execution_count": 37,
   "metadata": {
    "colab": {
     "autoexec": {
      "startup": false,
      "wait_interval": 0
     },
     "base_uri": "https://localhost:8080/",
     "height": 68
    },
    "colab_type": "code",
    "executionInfo": {
     "elapsed": 24221,
     "status": "ok",
     "timestamp": 1526463313942,
     "user": {
      "displayName": "Prakash Bisht",
      "photoUrl": "https://lh3.googleusercontent.com/a/default-user=s128",
      "userId": "117570314048106771115"
     },
     "user_tz": -330
    },
    "id": "8I6XPrMrHo5C",
    "outputId": "409c1ea9-be10-4885-d138-1410a3fa9f96"
   },
   "outputs": [
    {
     "name": "stdout",
     "output_type": "stream",
     "text": [
      "10000/10000 [==============================] - 23s 2ms/step\n",
      "Test loss: 0.6169136631727219\n",
      "Test accuracy: 0.7916\n"
     ]
    }
   ],
   "source": [
    "score = model.evaluate(x_test, y_test, verbose=1) #val. accuracy arising from \"model127k_weights_ep1t18.h5\" pretrained weights\n",
    "print('Test loss:', score[0])\n",
    "print('Test accuracy:', score[1])"
   ]
  },
  {
   "cell_type": "markdown",
   "metadata": {},
   "source": [
    "### Model summary of above defined densenet architecture"
   ]
  },
  {
   "cell_type": "code",
   "execution_count": 38,
   "metadata": {
    "colab": {
     "autoexec": {
      "startup": false,
      "wait_interval": 0
     },
     "base_uri": "https://localhost:8080/",
     "height": 14178
    },
    "colab_type": "code",
    "executionInfo": {
     "elapsed": 1228,
     "status": "ok",
     "timestamp": 1526463349174,
     "user": {
      "displayName": "Prakash Bisht",
      "photoUrl": "https://lh3.googleusercontent.com/a/default-user=s128",
      "userId": "117570314048106771115"
     },
     "user_tz": -330
    },
    "id": "UoeXpuOpIcBI",
    "outputId": "d5b3176e-9b43-4eda-bdfc-ff91aa4a0a3d"
   },
   "outputs": [
    {
     "name": "stdout",
     "output_type": "stream",
     "text": [
      "__________________________________________________________________________________________________\n",
      "Layer (type)                    Output Shape         Param #     Connected to                     \n",
      "==================================================================================================\n",
      "input_1 (InputLayer)            (None, 32, 32, 3)    0                                            \n",
      "__________________________________________________________________________________________________\n",
      "conv2d_1 (Conv2D)               (None, 32, 32, 16)   432         input_1[0][0]                    \n",
      "__________________________________________________________________________________________________\n",
      "batch_normalization_1 (BatchNor (None, 32, 32, 16)   64          conv2d_1[0][0]                   \n",
      "__________________________________________________________________________________________________\n",
      "activation_1 (Activation)       (None, 32, 32, 16)   0           batch_normalization_1[0][0]      \n",
      "__________________________________________________________________________________________________\n",
      "conv2d_2 (Conv2D)               (None, 32, 32, 12)   192         activation_1[0][0]               \n",
      "__________________________________________________________________________________________________\n",
      "batch_normalization_2 (BatchNor (None, 32, 32, 12)   48          conv2d_2[0][0]                   \n",
      "__________________________________________________________________________________________________\n",
      "activation_2 (Activation)       (None, 32, 32, 12)   0           batch_normalization_2[0][0]      \n",
      "__________________________________________________________________________________________________\n",
      "conv2d_3 (Conv2D)               (None, 32, 32, 12)   1296        activation_2[0][0]               \n",
      "__________________________________________________________________________________________________\n",
      "dropout_1 (Dropout)             (None, 32, 32, 12)   0           conv2d_3[0][0]                   \n",
      "__________________________________________________________________________________________________\n",
      "concatenate_1 (Concatenate)     (None, 32, 32, 28)   0           conv2d_1[0][0]                   \n",
      "                                                                 dropout_1[0][0]                  \n",
      "__________________________________________________________________________________________________\n",
      "batch_normalization_3 (BatchNor (None, 32, 32, 28)   112         concatenate_1[0][0]              \n",
      "__________________________________________________________________________________________________\n",
      "activation_3 (Activation)       (None, 32, 32, 28)   0           batch_normalization_3[0][0]      \n",
      "__________________________________________________________________________________________________\n",
      "conv2d_4 (Conv2D)               (None, 32, 32, 12)   336         activation_3[0][0]               \n",
      "__________________________________________________________________________________________________\n",
      "batch_normalization_4 (BatchNor (None, 32, 32, 12)   48          conv2d_4[0][0]                   \n",
      "__________________________________________________________________________________________________\n",
      "activation_4 (Activation)       (None, 32, 32, 12)   0           batch_normalization_4[0][0]      \n",
      "__________________________________________________________________________________________________\n",
      "conv2d_5 (Conv2D)               (None, 32, 32, 12)   1296        activation_4[0][0]               \n",
      "__________________________________________________________________________________________________\n",
      "dropout_2 (Dropout)             (None, 32, 32, 12)   0           conv2d_5[0][0]                   \n",
      "__________________________________________________________________________________________________\n",
      "concatenate_2 (Concatenate)     (None, 32, 32, 40)   0           concatenate_1[0][0]              \n",
      "                                                                 dropout_2[0][0]                  \n",
      "__________________________________________________________________________________________________\n",
      "batch_normalization_5 (BatchNor (None, 32, 32, 40)   160         concatenate_2[0][0]              \n",
      "__________________________________________________________________________________________________\n",
      "activation_5 (Activation)       (None, 32, 32, 40)   0           batch_normalization_5[0][0]      \n",
      "__________________________________________________________________________________________________\n",
      "conv2d_6 (Conv2D)               (None, 32, 32, 12)   480         activation_5[0][0]               \n",
      "__________________________________________________________________________________________________\n",
      "batch_normalization_6 (BatchNor (None, 32, 32, 12)   48          conv2d_6[0][0]                   \n",
      "__________________________________________________________________________________________________\n",
      "activation_6 (Activation)       (None, 32, 32, 12)   0           batch_normalization_6[0][0]      \n",
      "__________________________________________________________________________________________________\n",
      "conv2d_7 (Conv2D)               (None, 32, 32, 12)   1296        activation_6[0][0]               \n",
      "__________________________________________________________________________________________________\n",
      "dropout_3 (Dropout)             (None, 32, 32, 12)   0           conv2d_7[0][0]                   \n",
      "__________________________________________________________________________________________________\n",
      "concatenate_3 (Concatenate)     (None, 32, 32, 52)   0           concatenate_2[0][0]              \n",
      "                                                                 dropout_3[0][0]                  \n",
      "__________________________________________________________________________________________________\n",
      "batch_normalization_7 (BatchNor (None, 32, 32, 52)   208         concatenate_3[0][0]              \n",
      "__________________________________________________________________________________________________\n",
      "activation_7 (Activation)       (None, 32, 32, 52)   0           batch_normalization_7[0][0]      \n",
      "__________________________________________________________________________________________________\n",
      "conv2d_8 (Conv2D)               (None, 32, 32, 12)   624         activation_7[0][0]               \n",
      "__________________________________________________________________________________________________\n",
      "batch_normalization_8 (BatchNor (None, 32, 32, 12)   48          conv2d_8[0][0]                   \n",
      "__________________________________________________________________________________________________\n",
      "activation_8 (Activation)       (None, 32, 32, 12)   0           batch_normalization_8[0][0]      \n",
      "__________________________________________________________________________________________________\n",
      "conv2d_9 (Conv2D)               (None, 32, 32, 12)   1296        activation_8[0][0]               \n",
      "__________________________________________________________________________________________________\n",
      "dropout_4 (Dropout)             (None, 32, 32, 12)   0           conv2d_9[0][0]                   \n",
      "__________________________________________________________________________________________________\n",
      "concatenate_4 (Concatenate)     (None, 32, 32, 64)   0           concatenate_3[0][0]              \n",
      "                                                                 dropout_4[0][0]                  \n",
      "__________________________________________________________________________________________________\n",
      "batch_normalization_9 (BatchNor (None, 32, 32, 64)   256         concatenate_4[0][0]              \n",
      "__________________________________________________________________________________________________\n",
      "activation_9 (Activation)       (None, 32, 32, 64)   0           batch_normalization_9[0][0]      \n",
      "__________________________________________________________________________________________________\n",
      "conv2d_10 (Conv2D)              (None, 32, 32, 12)   768         activation_9[0][0]               \n",
      "__________________________________________________________________________________________________\n",
      "batch_normalization_10 (BatchNo (None, 32, 32, 12)   48          conv2d_10[0][0]                  \n",
      "__________________________________________________________________________________________________\n",
      "activation_10 (Activation)      (None, 32, 32, 12)   0           batch_normalization_10[0][0]     \n",
      "__________________________________________________________________________________________________\n",
      "conv2d_11 (Conv2D)              (None, 32, 32, 12)   1296        activation_10[0][0]              \n",
      "__________________________________________________________________________________________________\n",
      "dropout_5 (Dropout)             (None, 32, 32, 12)   0           conv2d_11[0][0]                  \n",
      "__________________________________________________________________________________________________\n",
      "concatenate_5 (Concatenate)     (None, 32, 32, 76)   0           concatenate_4[0][0]              \n",
      "                                                                 dropout_5[0][0]                  \n",
      "__________________________________________________________________________________________________\n",
      "batch_normalization_11 (BatchNo (None, 32, 32, 76)   304         concatenate_5[0][0]              \n",
      "__________________________________________________________________________________________________\n",
      "activation_11 (Activation)      (None, 32, 32, 76)   0           batch_normalization_11[0][0]     \n",
      "__________________________________________________________________________________________________\n",
      "conv2d_12 (Conv2D)              (None, 32, 32, 12)   912         activation_11[0][0]              \n",
      "__________________________________________________________________________________________________\n",
      "batch_normalization_12 (BatchNo (None, 32, 32, 12)   48          conv2d_12[0][0]                  \n",
      "__________________________________________________________________________________________________\n",
      "activation_12 (Activation)      (None, 32, 32, 12)   0           batch_normalization_12[0][0]     \n",
      "__________________________________________________________________________________________________\n",
      "conv2d_13 (Conv2D)              (None, 32, 32, 12)   1296        activation_12[0][0]              \n",
      "__________________________________________________________________________________________________\n",
      "dropout_6 (Dropout)             (None, 32, 32, 12)   0           conv2d_13[0][0]                  \n",
      "__________________________________________________________________________________________________\n",
      "concatenate_6 (Concatenate)     (None, 32, 32, 88)   0           concatenate_5[0][0]              \n",
      "                                                                 dropout_6[0][0]                  \n",
      "__________________________________________________________________________________________________\n",
      "batch_normalization_13 (BatchNo (None, 32, 32, 88)   352         concatenate_6[0][0]              \n",
      "__________________________________________________________________________________________________\n",
      "activation_13 (Activation)      (None, 32, 32, 88)   0           batch_normalization_13[0][0]     \n",
      "__________________________________________________________________________________________________\n",
      "conv2d_14 (Conv2D)              (None, 32, 32, 12)   1056        activation_13[0][0]              \n",
      "__________________________________________________________________________________________________\n",
      "dropout_7 (Dropout)             (None, 32, 32, 12)   0           conv2d_14[0][0]                  \n",
      "__________________________________________________________________________________________________\n",
      "average_pooling2d_1 (AveragePoo (None, 16, 16, 12)   0           dropout_7[0][0]                  \n",
      "__________________________________________________________________________________________________\n",
      "batch_normalization_14 (BatchNo (None, 16, 16, 12)   48          average_pooling2d_1[0][0]        \n",
      "__________________________________________________________________________________________________\n",
      "activation_14 (Activation)      (None, 16, 16, 12)   0           batch_normalization_14[0][0]     \n",
      "__________________________________________________________________________________________________\n",
      "conv2d_15 (Conv2D)              (None, 16, 16, 12)   144         activation_14[0][0]              \n",
      "__________________________________________________________________________________________________\n",
      "batch_normalization_15 (BatchNo (None, 16, 16, 12)   48          conv2d_15[0][0]                  \n",
      "__________________________________________________________________________________________________\n",
      "activation_15 (Activation)      (None, 16, 16, 12)   0           batch_normalization_15[0][0]     \n",
      "__________________________________________________________________________________________________\n",
      "conv2d_16 (Conv2D)              (None, 16, 16, 12)   1296        activation_15[0][0]              \n",
      "__________________________________________________________________________________________________\n",
      "dropout_8 (Dropout)             (None, 16, 16, 12)   0           conv2d_16[0][0]                  \n",
      "__________________________________________________________________________________________________\n",
      "concatenate_7 (Concatenate)     (None, 16, 16, 24)   0           average_pooling2d_1[0][0]        \n",
      "                                                                 dropout_8[0][0]                  \n",
      "__________________________________________________________________________________________________\n",
      "batch_normalization_16 (BatchNo (None, 16, 16, 24)   96          concatenate_7[0][0]              \n",
      "__________________________________________________________________________________________________\n",
      "activation_16 (Activation)      (None, 16, 16, 24)   0           batch_normalization_16[0][0]     \n",
      "__________________________________________________________________________________________________\n",
      "conv2d_17 (Conv2D)              (None, 16, 16, 12)   288         activation_16[0][0]              \n",
      "__________________________________________________________________________________________________\n",
      "batch_normalization_17 (BatchNo (None, 16, 16, 12)   48          conv2d_17[0][0]                  \n",
      "__________________________________________________________________________________________________\n",
      "activation_17 (Activation)      (None, 16, 16, 12)   0           batch_normalization_17[0][0]     \n",
      "__________________________________________________________________________________________________\n",
      "conv2d_18 (Conv2D)              (None, 16, 16, 12)   1296        activation_17[0][0]              \n",
      "__________________________________________________________________________________________________\n",
      "dropout_9 (Dropout)             (None, 16, 16, 12)   0           conv2d_18[0][0]                  \n",
      "__________________________________________________________________________________________________\n",
      "concatenate_8 (Concatenate)     (None, 16, 16, 36)   0           concatenate_7[0][0]              \n",
      "                                                                 dropout_9[0][0]                  \n",
      "__________________________________________________________________________________________________\n",
      "batch_normalization_18 (BatchNo (None, 16, 16, 36)   144         concatenate_8[0][0]              \n",
      "__________________________________________________________________________________________________\n",
      "activation_18 (Activation)      (None, 16, 16, 36)   0           batch_normalization_18[0][0]     \n",
      "__________________________________________________________________________________________________\n",
      "conv2d_19 (Conv2D)              (None, 16, 16, 12)   432         activation_18[0][0]              \n",
      "__________________________________________________________________________________________________\n",
      "batch_normalization_19 (BatchNo (None, 16, 16, 12)   48          conv2d_19[0][0]                  \n",
      "__________________________________________________________________________________________________\n",
      "activation_19 (Activation)      (None, 16, 16, 12)   0           batch_normalization_19[0][0]     \n",
      "__________________________________________________________________________________________________\n",
      "conv2d_20 (Conv2D)              (None, 16, 16, 12)   1296        activation_19[0][0]              \n",
      "__________________________________________________________________________________________________\n",
      "dropout_10 (Dropout)            (None, 16, 16, 12)   0           conv2d_20[0][0]                  \n",
      "__________________________________________________________________________________________________\n",
      "concatenate_9 (Concatenate)     (None, 16, 16, 48)   0           concatenate_8[0][0]              \n",
      "                                                                 dropout_10[0][0]                 \n",
      "__________________________________________________________________________________________________\n",
      "batch_normalization_20 (BatchNo (None, 16, 16, 48)   192         concatenate_9[0][0]              \n",
      "__________________________________________________________________________________________________\n",
      "activation_20 (Activation)      (None, 16, 16, 48)   0           batch_normalization_20[0][0]     \n",
      "__________________________________________________________________________________________________\n",
      "conv2d_21 (Conv2D)              (None, 16, 16, 12)   576         activation_20[0][0]              \n",
      "__________________________________________________________________________________________________\n",
      "batch_normalization_21 (BatchNo (None, 16, 16, 12)   48          conv2d_21[0][0]                  \n",
      "__________________________________________________________________________________________________\n",
      "activation_21 (Activation)      (None, 16, 16, 12)   0           batch_normalization_21[0][0]     \n",
      "__________________________________________________________________________________________________\n",
      "conv2d_22 (Conv2D)              (None, 16, 16, 12)   1296        activation_21[0][0]              \n",
      "__________________________________________________________________________________________________\n",
      "dropout_11 (Dropout)            (None, 16, 16, 12)   0           conv2d_22[0][0]                  \n",
      "__________________________________________________________________________________________________\n",
      "concatenate_10 (Concatenate)    (None, 16, 16, 60)   0           concatenate_9[0][0]              \n",
      "                                                                 dropout_11[0][0]                 \n",
      "__________________________________________________________________________________________________\n",
      "batch_normalization_22 (BatchNo (None, 16, 16, 60)   240         concatenate_10[0][0]             \n",
      "__________________________________________________________________________________________________\n",
      "activation_22 (Activation)      (None, 16, 16, 60)   0           batch_normalization_22[0][0]     \n",
      "__________________________________________________________________________________________________\n",
      "conv2d_23 (Conv2D)              (None, 16, 16, 12)   720         activation_22[0][0]              \n",
      "__________________________________________________________________________________________________\n",
      "batch_normalization_23 (BatchNo (None, 16, 16, 12)   48          conv2d_23[0][0]                  \n",
      "__________________________________________________________________________________________________\n",
      "activation_23 (Activation)      (None, 16, 16, 12)   0           batch_normalization_23[0][0]     \n",
      "__________________________________________________________________________________________________\n",
      "conv2d_24 (Conv2D)              (None, 16, 16, 12)   1296        activation_23[0][0]              \n",
      "__________________________________________________________________________________________________\n",
      "dropout_12 (Dropout)            (None, 16, 16, 12)   0           conv2d_24[0][0]                  \n",
      "__________________________________________________________________________________________________\n",
      "concatenate_11 (Concatenate)    (None, 16, 16, 72)   0           concatenate_10[0][0]             \n",
      "                                                                 dropout_12[0][0]                 \n",
      "__________________________________________________________________________________________________\n",
      "batch_normalization_24 (BatchNo (None, 16, 16, 72)   288         concatenate_11[0][0]             \n",
      "__________________________________________________________________________________________________\n",
      "activation_24 (Activation)      (None, 16, 16, 72)   0           batch_normalization_24[0][0]     \n",
      "__________________________________________________________________________________________________\n",
      "conv2d_25 (Conv2D)              (None, 16, 16, 12)   864         activation_24[0][0]              \n",
      "__________________________________________________________________________________________________\n",
      "batch_normalization_25 (BatchNo (None, 16, 16, 12)   48          conv2d_25[0][0]                  \n",
      "__________________________________________________________________________________________________\n",
      "activation_25 (Activation)      (None, 16, 16, 12)   0           batch_normalization_25[0][0]     \n",
      "__________________________________________________________________________________________________\n",
      "conv2d_26 (Conv2D)              (None, 16, 16, 12)   1296        activation_25[0][0]              \n",
      "__________________________________________________________________________________________________\n",
      "dropout_13 (Dropout)            (None, 16, 16, 12)   0           conv2d_26[0][0]                  \n",
      "__________________________________________________________________________________________________\n",
      "concatenate_12 (Concatenate)    (None, 16, 16, 84)   0           concatenate_11[0][0]             \n",
      "                                                                 dropout_13[0][0]                 \n",
      "__________________________________________________________________________________________________\n",
      "batch_normalization_26 (BatchNo (None, 16, 16, 84)   336         concatenate_12[0][0]             \n",
      "__________________________________________________________________________________________________\n",
      "activation_26 (Activation)      (None, 16, 16, 84)   0           batch_normalization_26[0][0]     \n",
      "__________________________________________________________________________________________________\n",
      "conv2d_27 (Conv2D)              (None, 16, 16, 12)   1008        activation_26[0][0]              \n",
      "__________________________________________________________________________________________________\n",
      "batch_normalization_27 (BatchNo (None, 16, 16, 12)   48          conv2d_27[0][0]                  \n",
      "__________________________________________________________________________________________________\n",
      "activation_27 (Activation)      (None, 16, 16, 12)   0           batch_normalization_27[0][0]     \n",
      "__________________________________________________________________________________________________\n",
      "conv2d_28 (Conv2D)              (None, 16, 16, 12)   1296        activation_27[0][0]              \n",
      "__________________________________________________________________________________________________\n",
      "dropout_14 (Dropout)            (None, 16, 16, 12)   0           conv2d_28[0][0]                  \n",
      "__________________________________________________________________________________________________\n",
      "concatenate_13 (Concatenate)    (None, 16, 16, 96)   0           concatenate_12[0][0]             \n",
      "                                                                 dropout_14[0][0]                 \n",
      "__________________________________________________________________________________________________\n",
      "batch_normalization_28 (BatchNo (None, 16, 16, 96)   384         concatenate_13[0][0]             \n",
      "__________________________________________________________________________________________________\n",
      "activation_28 (Activation)      (None, 16, 16, 96)   0           batch_normalization_28[0][0]     \n",
      "__________________________________________________________________________________________________\n",
      "conv2d_29 (Conv2D)              (None, 16, 16, 12)   1152        activation_28[0][0]              \n",
      "__________________________________________________________________________________________________\n",
      "batch_normalization_29 (BatchNo (None, 16, 16, 12)   48          conv2d_29[0][0]                  \n",
      "__________________________________________________________________________________________________\n",
      "activation_29 (Activation)      (None, 16, 16, 12)   0           batch_normalization_29[0][0]     \n",
      "__________________________________________________________________________________________________\n",
      "conv2d_30 (Conv2D)              (None, 16, 16, 12)   1296        activation_29[0][0]              \n",
      "__________________________________________________________________________________________________\n",
      "dropout_15 (Dropout)            (None, 16, 16, 12)   0           conv2d_30[0][0]                  \n",
      "__________________________________________________________________________________________________\n",
      "concatenate_14 (Concatenate)    (None, 16, 16, 108)  0           concatenate_13[0][0]             \n",
      "                                                                 dropout_15[0][0]                 \n",
      "__________________________________________________________________________________________________\n",
      "batch_normalization_30 (BatchNo (None, 16, 16, 108)  432         concatenate_14[0][0]             \n",
      "__________________________________________________________________________________________________\n",
      "activation_30 (Activation)      (None, 16, 16, 108)  0           batch_normalization_30[0][0]     \n",
      "__________________________________________________________________________________________________\n",
      "conv2d_31 (Conv2D)              (None, 16, 16, 12)   1296        activation_30[0][0]              \n",
      "__________________________________________________________________________________________________\n",
      "batch_normalization_31 (BatchNo (None, 16, 16, 12)   48          conv2d_31[0][0]                  \n",
      "__________________________________________________________________________________________________\n",
      "activation_31 (Activation)      (None, 16, 16, 12)   0           batch_normalization_31[0][0]     \n",
      "__________________________________________________________________________________________________\n",
      "conv2d_32 (Conv2D)              (None, 16, 16, 12)   1296        activation_31[0][0]              \n",
      "__________________________________________________________________________________________________\n",
      "dropout_16 (Dropout)            (None, 16, 16, 12)   0           conv2d_32[0][0]                  \n",
      "__________________________________________________________________________________________________\n",
      "concatenate_15 (Concatenate)    (None, 16, 16, 120)  0           concatenate_14[0][0]             \n",
      "                                                                 dropout_16[0][0]                 \n",
      "__________________________________________________________________________________________________\n",
      "batch_normalization_32 (BatchNo (None, 16, 16, 120)  480         concatenate_15[0][0]             \n",
      "__________________________________________________________________________________________________\n",
      "activation_32 (Activation)      (None, 16, 16, 120)  0           batch_normalization_32[0][0]     \n",
      "__________________________________________________________________________________________________\n",
      "conv2d_33 (Conv2D)              (None, 16, 16, 12)   1440        activation_32[0][0]              \n",
      "__________________________________________________________________________________________________\n",
      "batch_normalization_33 (BatchNo (None, 16, 16, 12)   48          conv2d_33[0][0]                  \n",
      "__________________________________________________________________________________________________\n",
      "activation_33 (Activation)      (None, 16, 16, 12)   0           batch_normalization_33[0][0]     \n",
      "__________________________________________________________________________________________________\n",
      "conv2d_34 (Conv2D)              (None, 16, 16, 12)   1296        activation_33[0][0]              \n",
      "__________________________________________________________________________________________________\n",
      "dropout_17 (Dropout)            (None, 16, 16, 12)   0           conv2d_34[0][0]                  \n",
      "__________________________________________________________________________________________________\n",
      "concatenate_16 (Concatenate)    (None, 16, 16, 132)  0           concatenate_15[0][0]             \n",
      "                                                                 dropout_17[0][0]                 \n",
      "__________________________________________________________________________________________________\n",
      "batch_normalization_34 (BatchNo (None, 16, 16, 132)  528         concatenate_16[0][0]             \n",
      "__________________________________________________________________________________________________\n",
      "activation_34 (Activation)      (None, 16, 16, 132)  0           batch_normalization_34[0][0]     \n",
      "__________________________________________________________________________________________________\n",
      "conv2d_35 (Conv2D)              (None, 16, 16, 12)   1584        activation_34[0][0]              \n",
      "__________________________________________________________________________________________________\n",
      "batch_normalization_35 (BatchNo (None, 16, 16, 12)   48          conv2d_35[0][0]                  \n",
      "__________________________________________________________________________________________________\n",
      "activation_35 (Activation)      (None, 16, 16, 12)   0           batch_normalization_35[0][0]     \n",
      "__________________________________________________________________________________________________\n",
      "conv2d_36 (Conv2D)              (None, 16, 16, 12)   1296        activation_35[0][0]              \n",
      "__________________________________________________________________________________________________\n",
      "dropout_18 (Dropout)            (None, 16, 16, 12)   0           conv2d_36[0][0]                  \n",
      "__________________________________________________________________________________________________\n",
      "concatenate_17 (Concatenate)    (None, 16, 16, 144)  0           concatenate_16[0][0]             \n",
      "                                                                 dropout_18[0][0]                 \n",
      "__________________________________________________________________________________________________\n",
      "batch_normalization_36 (BatchNo (None, 16, 16, 144)  576         concatenate_17[0][0]             \n",
      "__________________________________________________________________________________________________\n",
      "activation_36 (Activation)      (None, 16, 16, 144)  0           batch_normalization_36[0][0]     \n",
      "__________________________________________________________________________________________________\n",
      "conv2d_37 (Conv2D)              (None, 16, 16, 12)   1728        activation_36[0][0]              \n",
      "__________________________________________________________________________________________________\n",
      "batch_normalization_37 (BatchNo (None, 16, 16, 12)   48          conv2d_37[0][0]                  \n",
      "__________________________________________________________________________________________________\n",
      "activation_37 (Activation)      (None, 16, 16, 12)   0           batch_normalization_37[0][0]     \n",
      "__________________________________________________________________________________________________\n",
      "conv2d_38 (Conv2D)              (None, 16, 16, 12)   1296        activation_37[0][0]              \n",
      "__________________________________________________________________________________________________\n",
      "dropout_19 (Dropout)            (None, 16, 16, 12)   0           conv2d_38[0][0]                  \n",
      "__________________________________________________________________________________________________\n",
      "concatenate_18 (Concatenate)    (None, 16, 16, 156)  0           concatenate_17[0][0]             \n",
      "                                                                 dropout_19[0][0]                 \n",
      "__________________________________________________________________________________________________\n",
      "batch_normalization_38 (BatchNo (None, 16, 16, 156)  624         concatenate_18[0][0]             \n",
      "__________________________________________________________________________________________________\n",
      "activation_38 (Activation)      (None, 16, 16, 156)  0           batch_normalization_38[0][0]     \n",
      "__________________________________________________________________________________________________\n",
      "conv2d_39 (Conv2D)              (None, 16, 16, 12)   1872        activation_38[0][0]              \n",
      "__________________________________________________________________________________________________\n",
      "dropout_20 (Dropout)            (None, 16, 16, 12)   0           conv2d_39[0][0]                  \n",
      "__________________________________________________________________________________________________\n",
      "average_pooling2d_2 (AveragePoo (None, 8, 8, 12)     0           dropout_20[0][0]                 \n",
      "__________________________________________________________________________________________________\n",
      "batch_normalization_39 (BatchNo (None, 8, 8, 12)     48          average_pooling2d_2[0][0]        \n",
      "__________________________________________________________________________________________________\n",
      "activation_39 (Activation)      (None, 8, 8, 12)     0           batch_normalization_39[0][0]     \n",
      "__________________________________________________________________________________________________\n",
      "conv2d_40 (Conv2D)              (None, 8, 8, 12)     144         activation_39[0][0]              \n",
      "__________________________________________________________________________________________________\n",
      "batch_normalization_40 (BatchNo (None, 8, 8, 12)     48          conv2d_40[0][0]                  \n",
      "__________________________________________________________________________________________________\n",
      "activation_40 (Activation)      (None, 8, 8, 12)     0           batch_normalization_40[0][0]     \n",
      "__________________________________________________________________________________________________\n",
      "conv2d_41 (Conv2D)              (None, 8, 8, 12)     1296        activation_40[0][0]              \n",
      "__________________________________________________________________________________________________\n",
      "dropout_21 (Dropout)            (None, 8, 8, 12)     0           conv2d_41[0][0]                  \n",
      "__________________________________________________________________________________________________\n",
      "concatenate_19 (Concatenate)    (None, 8, 8, 24)     0           average_pooling2d_2[0][0]        \n",
      "                                                                 dropout_21[0][0]                 \n",
      "__________________________________________________________________________________________________\n",
      "batch_normalization_41 (BatchNo (None, 8, 8, 24)     96          concatenate_19[0][0]             \n",
      "__________________________________________________________________________________________________\n",
      "activation_41 (Activation)      (None, 8, 8, 24)     0           batch_normalization_41[0][0]     \n",
      "__________________________________________________________________________________________________\n",
      "conv2d_42 (Conv2D)              (None, 8, 8, 12)     288         activation_41[0][0]              \n",
      "__________________________________________________________________________________________________\n",
      "batch_normalization_42 (BatchNo (None, 8, 8, 12)     48          conv2d_42[0][0]                  \n",
      "__________________________________________________________________________________________________\n",
      "activation_42 (Activation)      (None, 8, 8, 12)     0           batch_normalization_42[0][0]     \n",
      "__________________________________________________________________________________________________\n",
      "conv2d_43 (Conv2D)              (None, 8, 8, 12)     1296        activation_42[0][0]              \n",
      "__________________________________________________________________________________________________\n",
      "dropout_22 (Dropout)            (None, 8, 8, 12)     0           conv2d_43[0][0]                  \n",
      "__________________________________________________________________________________________________\n",
      "concatenate_20 (Concatenate)    (None, 8, 8, 36)     0           concatenate_19[0][0]             \n",
      "                                                                 dropout_22[0][0]                 \n",
      "__________________________________________________________________________________________________\n",
      "batch_normalization_43 (BatchNo (None, 8, 8, 36)     144         concatenate_20[0][0]             \n",
      "__________________________________________________________________________________________________\n",
      "activation_43 (Activation)      (None, 8, 8, 36)     0           batch_normalization_43[0][0]     \n",
      "__________________________________________________________________________________________________\n",
      "conv2d_44 (Conv2D)              (None, 8, 8, 12)     432         activation_43[0][0]              \n",
      "__________________________________________________________________________________________________\n",
      "batch_normalization_44 (BatchNo (None, 8, 8, 12)     48          conv2d_44[0][0]                  \n",
      "__________________________________________________________________________________________________\n",
      "activation_44 (Activation)      (None, 8, 8, 12)     0           batch_normalization_44[0][0]     \n",
      "__________________________________________________________________________________________________\n",
      "conv2d_45 (Conv2D)              (None, 8, 8, 12)     1296        activation_44[0][0]              \n",
      "__________________________________________________________________________________________________\n",
      "dropout_23 (Dropout)            (None, 8, 8, 12)     0           conv2d_45[0][0]                  \n",
      "__________________________________________________________________________________________________\n",
      "concatenate_21 (Concatenate)    (None, 8, 8, 48)     0           concatenate_20[0][0]             \n",
      "                                                                 dropout_23[0][0]                 \n",
      "__________________________________________________________________________________________________\n",
      "batch_normalization_45 (BatchNo (None, 8, 8, 48)     192         concatenate_21[0][0]             \n",
      "__________________________________________________________________________________________________\n",
      "activation_45 (Activation)      (None, 8, 8, 48)     0           batch_normalization_45[0][0]     \n",
      "__________________________________________________________________________________________________\n",
      "conv2d_46 (Conv2D)              (None, 8, 8, 12)     576         activation_45[0][0]              \n",
      "__________________________________________________________________________________________________\n",
      "batch_normalization_46 (BatchNo (None, 8, 8, 12)     48          conv2d_46[0][0]                  \n",
      "__________________________________________________________________________________________________\n",
      "activation_46 (Activation)      (None, 8, 8, 12)     0           batch_normalization_46[0][0]     \n",
      "__________________________________________________________________________________________________\n",
      "conv2d_47 (Conv2D)              (None, 8, 8, 12)     1296        activation_46[0][0]              \n",
      "__________________________________________________________________________________________________\n",
      "dropout_24 (Dropout)            (None, 8, 8, 12)     0           conv2d_47[0][0]                  \n",
      "__________________________________________________________________________________________________\n",
      "concatenate_22 (Concatenate)    (None, 8, 8, 60)     0           concatenate_21[0][0]             \n",
      "                                                                 dropout_24[0][0]                 \n",
      "__________________________________________________________________________________________________\n",
      "batch_normalization_47 (BatchNo (None, 8, 8, 60)     240         concatenate_22[0][0]             \n",
      "__________________________________________________________________________________________________\n",
      "activation_47 (Activation)      (None, 8, 8, 60)     0           batch_normalization_47[0][0]     \n",
      "__________________________________________________________________________________________________\n",
      "conv2d_48 (Conv2D)              (None, 8, 8, 12)     720         activation_47[0][0]              \n",
      "__________________________________________________________________________________________________\n",
      "batch_normalization_48 (BatchNo (None, 8, 8, 12)     48          conv2d_48[0][0]                  \n",
      "__________________________________________________________________________________________________\n",
      "activation_48 (Activation)      (None, 8, 8, 12)     0           batch_normalization_48[0][0]     \n",
      "__________________________________________________________________________________________________\n",
      "conv2d_49 (Conv2D)              (None, 8, 8, 12)     1296        activation_48[0][0]              \n",
      "__________________________________________________________________________________________________\n",
      "dropout_25 (Dropout)            (None, 8, 8, 12)     0           conv2d_49[0][0]                  \n",
      "__________________________________________________________________________________________________\n",
      "concatenate_23 (Concatenate)    (None, 8, 8, 72)     0           concatenate_22[0][0]             \n",
      "                                                                 dropout_25[0][0]                 \n",
      "__________________________________________________________________________________________________\n",
      "batch_normalization_49 (BatchNo (None, 8, 8, 72)     288         concatenate_23[0][0]             \n",
      "__________________________________________________________________________________________________\n",
      "activation_49 (Activation)      (None, 8, 8, 72)     0           batch_normalization_49[0][0]     \n",
      "__________________________________________________________________________________________________\n",
      "conv2d_50 (Conv2D)              (None, 8, 8, 12)     864         activation_49[0][0]              \n",
      "__________________________________________________________________________________________________\n",
      "batch_normalization_50 (BatchNo (None, 8, 8, 12)     48          conv2d_50[0][0]                  \n",
      "__________________________________________________________________________________________________\n",
      "activation_50 (Activation)      (None, 8, 8, 12)     0           batch_normalization_50[0][0]     \n",
      "__________________________________________________________________________________________________\n",
      "conv2d_51 (Conv2D)              (None, 8, 8, 12)     1296        activation_50[0][0]              \n",
      "__________________________________________________________________________________________________\n",
      "dropout_26 (Dropout)            (None, 8, 8, 12)     0           conv2d_51[0][0]                  \n",
      "__________________________________________________________________________________________________\n",
      "concatenate_24 (Concatenate)    (None, 8, 8, 84)     0           concatenate_23[0][0]             \n",
      "                                                                 dropout_26[0][0]                 \n",
      "__________________________________________________________________________________________________\n",
      "batch_normalization_51 (BatchNo (None, 8, 8, 84)     336         concatenate_24[0][0]             \n",
      "__________________________________________________________________________________________________\n",
      "activation_51 (Activation)      (None, 8, 8, 84)     0           batch_normalization_51[0][0]     \n",
      "__________________________________________________________________________________________________\n",
      "conv2d_52 (Conv2D)              (None, 8, 8, 12)     1008        activation_51[0][0]              \n",
      "__________________________________________________________________________________________________\n",
      "batch_normalization_52 (BatchNo (None, 8, 8, 12)     48          conv2d_52[0][0]                  \n",
      "__________________________________________________________________________________________________\n",
      "activation_52 (Activation)      (None, 8, 8, 12)     0           batch_normalization_52[0][0]     \n",
      "__________________________________________________________________________________________________\n",
      "conv2d_53 (Conv2D)              (None, 8, 8, 12)     1296        activation_52[0][0]              \n",
      "__________________________________________________________________________________________________\n",
      "dropout_27 (Dropout)            (None, 8, 8, 12)     0           conv2d_53[0][0]                  \n",
      "__________________________________________________________________________________________________\n",
      "concatenate_25 (Concatenate)    (None, 8, 8, 96)     0           concatenate_24[0][0]             \n",
      "                                                                 dropout_27[0][0]                 \n",
      "__________________________________________________________________________________________________\n",
      "batch_normalization_53 (BatchNo (None, 8, 8, 96)     384         concatenate_25[0][0]             \n",
      "__________________________________________________________________________________________________\n",
      "activation_53 (Activation)      (None, 8, 8, 96)     0           batch_normalization_53[0][0]     \n",
      "__________________________________________________________________________________________________\n",
      "conv2d_54 (Conv2D)              (None, 8, 8, 12)     1152        activation_53[0][0]              \n",
      "__________________________________________________________________________________________________\n",
      "batch_normalization_54 (BatchNo (None, 8, 8, 12)     48          conv2d_54[0][0]                  \n",
      "__________________________________________________________________________________________________\n",
      "activation_54 (Activation)      (None, 8, 8, 12)     0           batch_normalization_54[0][0]     \n",
      "__________________________________________________________________________________________________\n",
      "conv2d_55 (Conv2D)              (None, 8, 8, 12)     1296        activation_54[0][0]              \n",
      "__________________________________________________________________________________________________\n",
      "dropout_28 (Dropout)            (None, 8, 8, 12)     0           conv2d_55[0][0]                  \n",
      "__________________________________________________________________________________________________\n",
      "concatenate_26 (Concatenate)    (None, 8, 8, 108)    0           concatenate_25[0][0]             \n",
      "                                                                 dropout_28[0][0]                 \n",
      "__________________________________________________________________________________________________\n",
      "batch_normalization_55 (BatchNo (None, 8, 8, 108)    432         concatenate_26[0][0]             \n",
      "__________________________________________________________________________________________________\n",
      "activation_55 (Activation)      (None, 8, 8, 108)    0           batch_normalization_55[0][0]     \n",
      "__________________________________________________________________________________________________\n",
      "conv2d_56 (Conv2D)              (None, 8, 8, 12)     1296        activation_55[0][0]              \n",
      "__________________________________________________________________________________________________\n",
      "batch_normalization_56 (BatchNo (None, 8, 8, 12)     48          conv2d_56[0][0]                  \n",
      "__________________________________________________________________________________________________\n",
      "activation_56 (Activation)      (None, 8, 8, 12)     0           batch_normalization_56[0][0]     \n",
      "__________________________________________________________________________________________________\n",
      "conv2d_57 (Conv2D)              (None, 8, 8, 12)     1296        activation_56[0][0]              \n",
      "__________________________________________________________________________________________________\n",
      "dropout_29 (Dropout)            (None, 8, 8, 12)     0           conv2d_57[0][0]                  \n",
      "__________________________________________________________________________________________________\n",
      "concatenate_27 (Concatenate)    (None, 8, 8, 120)    0           concatenate_26[0][0]             \n",
      "                                                                 dropout_29[0][0]                 \n",
      "__________________________________________________________________________________________________\n",
      "batch_normalization_57 (BatchNo (None, 8, 8, 120)    480         concatenate_27[0][0]             \n",
      "__________________________________________________________________________________________________\n",
      "activation_57 (Activation)      (None, 8, 8, 120)    0           batch_normalization_57[0][0]     \n",
      "__________________________________________________________________________________________________\n",
      "conv2d_58 (Conv2D)              (None, 8, 8, 12)     1440        activation_57[0][0]              \n",
      "__________________________________________________________________________________________________\n",
      "batch_normalization_58 (BatchNo (None, 8, 8, 12)     48          conv2d_58[0][0]                  \n",
      "__________________________________________________________________________________________________\n",
      "activation_58 (Activation)      (None, 8, 8, 12)     0           batch_normalization_58[0][0]     \n",
      "__________________________________________________________________________________________________\n",
      "conv2d_59 (Conv2D)              (None, 8, 8, 12)     1296        activation_58[0][0]              \n",
      "__________________________________________________________________________________________________\n",
      "dropout_30 (Dropout)            (None, 8, 8, 12)     0           conv2d_59[0][0]                  \n",
      "__________________________________________________________________________________________________\n",
      "concatenate_28 (Concatenate)    (None, 8, 8, 132)    0           concatenate_27[0][0]             \n",
      "                                                                 dropout_30[0][0]                 \n",
      "__________________________________________________________________________________________________\n",
      "batch_normalization_59 (BatchNo (None, 8, 8, 132)    528         concatenate_28[0][0]             \n",
      "__________________________________________________________________________________________________\n",
      "activation_59 (Activation)      (None, 8, 8, 132)    0           batch_normalization_59[0][0]     \n",
      "__________________________________________________________________________________________________\n",
      "conv2d_60 (Conv2D)              (None, 8, 8, 12)     1584        activation_59[0][0]              \n",
      "__________________________________________________________________________________________________\n",
      "batch_normalization_60 (BatchNo (None, 8, 8, 12)     48          conv2d_60[0][0]                  \n",
      "__________________________________________________________________________________________________\n",
      "activation_60 (Activation)      (None, 8, 8, 12)     0           batch_normalization_60[0][0]     \n",
      "__________________________________________________________________________________________________\n",
      "conv2d_61 (Conv2D)              (None, 8, 8, 12)     1296        activation_60[0][0]              \n",
      "__________________________________________________________________________________________________\n",
      "dropout_31 (Dropout)            (None, 8, 8, 12)     0           conv2d_61[0][0]                  \n",
      "__________________________________________________________________________________________________\n",
      "concatenate_29 (Concatenate)    (None, 8, 8, 144)    0           concatenate_28[0][0]             \n",
      "                                                                 dropout_31[0][0]                 \n",
      "__________________________________________________________________________________________________\n",
      "batch_normalization_61 (BatchNo (None, 8, 8, 144)    576         concatenate_29[0][0]             \n",
      "__________________________________________________________________________________________________\n",
      "activation_61 (Activation)      (None, 8, 8, 144)    0           batch_normalization_61[0][0]     \n",
      "__________________________________________________________________________________________________\n",
      "conv2d_62 (Conv2D)              (None, 8, 8, 12)     1728        activation_61[0][0]              \n",
      "__________________________________________________________________________________________________\n",
      "batch_normalization_62 (BatchNo (None, 8, 8, 12)     48          conv2d_62[0][0]                  \n",
      "__________________________________________________________________________________________________\n",
      "activation_62 (Activation)      (None, 8, 8, 12)     0           batch_normalization_62[0][0]     \n",
      "__________________________________________________________________________________________________\n",
      "conv2d_63 (Conv2D)              (None, 8, 8, 12)     1296        activation_62[0][0]              \n",
      "__________________________________________________________________________________________________\n",
      "dropout_32 (Dropout)            (None, 8, 8, 12)     0           conv2d_63[0][0]                  \n",
      "__________________________________________________________________________________________________\n",
      "concatenate_30 (Concatenate)    (None, 8, 8, 156)    0           concatenate_29[0][0]             \n",
      "                                                                 dropout_32[0][0]                 \n",
      "__________________________________________________________________________________________________\n",
      "batch_normalization_63 (BatchNo (None, 8, 8, 156)    624         concatenate_30[0][0]             \n",
      "__________________________________________________________________________________________________\n",
      "activation_63 (Activation)      (None, 8, 8, 156)    0           batch_normalization_63[0][0]     \n",
      "__________________________________________________________________________________________________\n",
      "conv2d_64 (Conv2D)              (None, 8, 8, 12)     1872        activation_63[0][0]              \n",
      "__________________________________________________________________________________________________\n",
      "batch_normalization_64 (BatchNo (None, 8, 8, 12)     48          conv2d_64[0][0]                  \n",
      "__________________________________________________________________________________________________\n",
      "activation_64 (Activation)      (None, 8, 8, 12)     0           batch_normalization_64[0][0]     \n",
      "__________________________________________________________________________________________________\n",
      "conv2d_65 (Conv2D)              (None, 8, 8, 12)     1296        activation_64[0][0]              \n",
      "__________________________________________________________________________________________________\n",
      "dropout_33 (Dropout)            (None, 8, 8, 12)     0           conv2d_65[0][0]                  \n",
      "__________________________________________________________________________________________________\n",
      "concatenate_31 (Concatenate)    (None, 8, 8, 168)    0           concatenate_30[0][0]             \n",
      "                                                                 dropout_33[0][0]                 \n",
      "__________________________________________________________________________________________________\n",
      "batch_normalization_65 (BatchNo (None, 8, 8, 168)    672         concatenate_31[0][0]             \n",
      "__________________________________________________________________________________________________\n",
      "activation_65 (Activation)      (None, 8, 8, 168)    0           batch_normalization_65[0][0]     \n",
      "__________________________________________________________________________________________________\n",
      "conv2d_66 (Conv2D)              (None, 8, 8, 12)     2016        activation_65[0][0]              \n",
      "__________________________________________________________________________________________________\n",
      "batch_normalization_66 (BatchNo (None, 8, 8, 12)     48          conv2d_66[0][0]                  \n",
      "__________________________________________________________________________________________________\n",
      "activation_66 (Activation)      (None, 8, 8, 12)     0           batch_normalization_66[0][0]     \n",
      "__________________________________________________________________________________________________\n",
      "conv2d_67 (Conv2D)              (None, 8, 8, 12)     1296        activation_66[0][0]              \n",
      "__________________________________________________________________________________________________\n",
      "dropout_34 (Dropout)            (None, 8, 8, 12)     0           conv2d_67[0][0]                  \n",
      "__________________________________________________________________________________________________\n",
      "concatenate_32 (Concatenate)    (None, 8, 8, 180)    0           concatenate_31[0][0]             \n",
      "                                                                 dropout_34[0][0]                 \n",
      "__________________________________________________________________________________________________\n",
      "batch_normalization_67 (BatchNo (None, 8, 8, 180)    720         concatenate_32[0][0]             \n",
      "__________________________________________________________________________________________________\n",
      "activation_67 (Activation)      (None, 8, 8, 180)    0           batch_normalization_67[0][0]     \n",
      "__________________________________________________________________________________________________\n",
      "conv2d_68 (Conv2D)              (None, 8, 8, 12)     2160        activation_67[0][0]              \n",
      "__________________________________________________________________________________________________\n",
      "batch_normalization_68 (BatchNo (None, 8, 8, 12)     48          conv2d_68[0][0]                  \n",
      "__________________________________________________________________________________________________\n",
      "activation_68 (Activation)      (None, 8, 8, 12)     0           batch_normalization_68[0][0]     \n",
      "__________________________________________________________________________________________________\n",
      "conv2d_69 (Conv2D)              (None, 8, 8, 12)     1296        activation_68[0][0]              \n",
      "__________________________________________________________________________________________________\n",
      "dropout_35 (Dropout)            (None, 8, 8, 12)     0           conv2d_69[0][0]                  \n",
      "__________________________________________________________________________________________________\n",
      "concatenate_33 (Concatenate)    (None, 8, 8, 192)    0           concatenate_32[0][0]             \n",
      "                                                                 dropout_35[0][0]                 \n",
      "__________________________________________________________________________________________________\n",
      "batch_normalization_69 (BatchNo (None, 8, 8, 192)    768         concatenate_33[0][0]             \n",
      "__________________________________________________________________________________________________\n",
      "activation_69 (Activation)      (None, 8, 8, 192)    0           batch_normalization_69[0][0]     \n",
      "__________________________________________________________________________________________________\n",
      "conv2d_70 (Conv2D)              (None, 8, 8, 12)     2304        activation_69[0][0]              \n",
      "__________________________________________________________________________________________________\n",
      "batch_normalization_70 (BatchNo (None, 8, 8, 12)     48          conv2d_70[0][0]                  \n",
      "__________________________________________________________________________________________________\n",
      "activation_70 (Activation)      (None, 8, 8, 12)     0           batch_normalization_70[0][0]     \n",
      "__________________________________________________________________________________________________\n",
      "conv2d_71 (Conv2D)              (None, 8, 8, 12)     1296        activation_70[0][0]              \n",
      "__________________________________________________________________________________________________\n",
      "dropout_36 (Dropout)            (None, 8, 8, 12)     0           conv2d_71[0][0]                  \n",
      "__________________________________________________________________________________________________\n",
      "concatenate_34 (Concatenate)    (None, 8, 8, 204)    0           concatenate_33[0][0]             \n",
      "                                                                 dropout_36[0][0]                 \n",
      "__________________________________________________________________________________________________\n",
      "batch_normalization_71 (BatchNo (None, 8, 8, 204)    816         concatenate_34[0][0]             \n",
      "__________________________________________________________________________________________________\n",
      "activation_71 (Activation)      (None, 8, 8, 204)    0           batch_normalization_71[0][0]     \n",
      "__________________________________________________________________________________________________\n",
      "conv2d_72 (Conv2D)              (None, 8, 8, 12)     2448        activation_71[0][0]              \n",
      "__________________________________________________________________________________________________\n",
      "dropout_37 (Dropout)            (None, 8, 8, 12)     0           conv2d_72[0][0]                  \n",
      "__________________________________________________________________________________________________\n",
      "average_pooling2d_3 (AveragePoo (None, 4, 4, 12)     0           dropout_37[0][0]                 \n",
      "__________________________________________________________________________________________________\n",
      "batch_normalization_72 (BatchNo (None, 4, 4, 12)     48          average_pooling2d_3[0][0]        \n",
      "__________________________________________________________________________________________________\n",
      "activation_72 (Activation)      (None, 4, 4, 12)     0           batch_normalization_72[0][0]     \n",
      "__________________________________________________________________________________________________\n",
      "conv2d_73 (Conv2D)              (None, 4, 4, 12)     144         activation_72[0][0]              \n",
      "__________________________________________________________________________________________________\n",
      "batch_normalization_73 (BatchNo (None, 4, 4, 12)     48          conv2d_73[0][0]                  \n",
      "__________________________________________________________________________________________________\n",
      "activation_73 (Activation)      (None, 4, 4, 12)     0           batch_normalization_73[0][0]     \n",
      "__________________________________________________________________________________________________\n",
      "conv2d_74 (Conv2D)              (None, 4, 4, 12)     1296        activation_73[0][0]              \n",
      "__________________________________________________________________________________________________\n",
      "dropout_38 (Dropout)            (None, 4, 4, 12)     0           conv2d_74[0][0]                  \n",
      "__________________________________________________________________________________________________\n",
      "concatenate_35 (Concatenate)    (None, 4, 4, 24)     0           average_pooling2d_3[0][0]        \n",
      "                                                                 dropout_38[0][0]                 \n",
      "__________________________________________________________________________________________________\n",
      "batch_normalization_74 (BatchNo (None, 4, 4, 24)     96          concatenate_35[0][0]             \n",
      "__________________________________________________________________________________________________\n",
      "activation_74 (Activation)      (None, 4, 4, 24)     0           batch_normalization_74[0][0]     \n",
      "__________________________________________________________________________________________________\n",
      "conv2d_75 (Conv2D)              (None, 4, 4, 12)     288         activation_74[0][0]              \n",
      "__________________________________________________________________________________________________\n",
      "batch_normalization_75 (BatchNo (None, 4, 4, 12)     48          conv2d_75[0][0]                  \n",
      "__________________________________________________________________________________________________\n",
      "activation_75 (Activation)      (None, 4, 4, 12)     0           batch_normalization_75[0][0]     \n",
      "__________________________________________________________________________________________________\n",
      "conv2d_76 (Conv2D)              (None, 4, 4, 12)     1296        activation_75[0][0]              \n",
      "__________________________________________________________________________________________________\n",
      "dropout_39 (Dropout)            (None, 4, 4, 12)     0           conv2d_76[0][0]                  \n",
      "__________________________________________________________________________________________________\n",
      "concatenate_36 (Concatenate)    (None, 4, 4, 36)     0           concatenate_35[0][0]             \n",
      "                                                                 dropout_39[0][0]                 \n",
      "__________________________________________________________________________________________________\n",
      "batch_normalization_76 (BatchNo (None, 4, 4, 36)     144         concatenate_36[0][0]             \n",
      "__________________________________________________________________________________________________\n",
      "activation_76 (Activation)      (None, 4, 4, 36)     0           batch_normalization_76[0][0]     \n",
      "__________________________________________________________________________________________________\n",
      "conv2d_77 (Conv2D)              (None, 4, 4, 12)     432         activation_76[0][0]              \n",
      "__________________________________________________________________________________________________\n",
      "batch_normalization_77 (BatchNo (None, 4, 4, 12)     48          conv2d_77[0][0]                  \n",
      "__________________________________________________________________________________________________\n",
      "activation_77 (Activation)      (None, 4, 4, 12)     0           batch_normalization_77[0][0]     \n",
      "__________________________________________________________________________________________________\n",
      "conv2d_78 (Conv2D)              (None, 4, 4, 12)     1296        activation_77[0][0]              \n",
      "__________________________________________________________________________________________________\n",
      "dropout_40 (Dropout)            (None, 4, 4, 12)     0           conv2d_78[0][0]                  \n",
      "__________________________________________________________________________________________________\n",
      "concatenate_37 (Concatenate)    (None, 4, 4, 48)     0           concatenate_36[0][0]             \n",
      "                                                                 dropout_40[0][0]                 \n",
      "__________________________________________________________________________________________________\n",
      "batch_normalization_78 (BatchNo (None, 4, 4, 48)     192         concatenate_37[0][0]             \n",
      "__________________________________________________________________________________________________\n",
      "activation_78 (Activation)      (None, 4, 4, 48)     0           batch_normalization_78[0][0]     \n",
      "__________________________________________________________________________________________________\n",
      "conv2d_79 (Conv2D)              (None, 4, 4, 12)     576         activation_78[0][0]              \n",
      "__________________________________________________________________________________________________\n",
      "batch_normalization_79 (BatchNo (None, 4, 4, 12)     48          conv2d_79[0][0]                  \n",
      "__________________________________________________________________________________________________\n",
      "activation_79 (Activation)      (None, 4, 4, 12)     0           batch_normalization_79[0][0]     \n",
      "__________________________________________________________________________________________________\n",
      "conv2d_80 (Conv2D)              (None, 4, 4, 12)     1296        activation_79[0][0]              \n",
      "__________________________________________________________________________________________________\n",
      "dropout_41 (Dropout)            (None, 4, 4, 12)     0           conv2d_80[0][0]                  \n",
      "__________________________________________________________________________________________________\n",
      "concatenate_38 (Concatenate)    (None, 4, 4, 60)     0           concatenate_37[0][0]             \n",
      "                                                                 dropout_41[0][0]                 \n",
      "__________________________________________________________________________________________________\n",
      "batch_normalization_80 (BatchNo (None, 4, 4, 60)     240         concatenate_38[0][0]             \n",
      "__________________________________________________________________________________________________\n",
      "activation_80 (Activation)      (None, 4, 4, 60)     0           batch_normalization_80[0][0]     \n",
      "__________________________________________________________________________________________________\n",
      "conv2d_81 (Conv2D)              (None, 4, 4, 12)     720         activation_80[0][0]              \n",
      "__________________________________________________________________________________________________\n",
      "batch_normalization_81 (BatchNo (None, 4, 4, 12)     48          conv2d_81[0][0]                  \n",
      "__________________________________________________________________________________________________\n",
      "activation_81 (Activation)      (None, 4, 4, 12)     0           batch_normalization_81[0][0]     \n",
      "__________________________________________________________________________________________________\n",
      "conv2d_82 (Conv2D)              (None, 4, 4, 12)     1296        activation_81[0][0]              \n",
      "__________________________________________________________________________________________________\n",
      "dropout_42 (Dropout)            (None, 4, 4, 12)     0           conv2d_82[0][0]                  \n",
      "__________________________________________________________________________________________________\n",
      "concatenate_39 (Concatenate)    (None, 4, 4, 72)     0           concatenate_38[0][0]             \n",
      "                                                                 dropout_42[0][0]                 \n",
      "__________________________________________________________________________________________________\n",
      "batch_normalization_82 (BatchNo (None, 4, 4, 72)     288         concatenate_39[0][0]             \n",
      "__________________________________________________________________________________________________\n",
      "activation_82 (Activation)      (None, 4, 4, 72)     0           batch_normalization_82[0][0]     \n",
      "__________________________________________________________________________________________________\n",
      "conv2d_83 (Conv2D)              (None, 4, 4, 12)     864         activation_82[0][0]              \n",
      "__________________________________________________________________________________________________\n",
      "batch_normalization_83 (BatchNo (None, 4, 4, 12)     48          conv2d_83[0][0]                  \n",
      "__________________________________________________________________________________________________\n",
      "activation_83 (Activation)      (None, 4, 4, 12)     0           batch_normalization_83[0][0]     \n",
      "__________________________________________________________________________________________________\n",
      "conv2d_84 (Conv2D)              (None, 4, 4, 12)     1296        activation_83[0][0]              \n",
      "__________________________________________________________________________________________________\n",
      "dropout_43 (Dropout)            (None, 4, 4, 12)     0           conv2d_84[0][0]                  \n",
      "__________________________________________________________________________________________________\n",
      "concatenate_40 (Concatenate)    (None, 4, 4, 84)     0           concatenate_39[0][0]             \n",
      "                                                                 dropout_43[0][0]                 \n",
      "__________________________________________________________________________________________________\n",
      "batch_normalization_84 (BatchNo (None, 4, 4, 84)     336         concatenate_40[0][0]             \n",
      "__________________________________________________________________________________________________\n",
      "activation_84 (Activation)      (None, 4, 4, 84)     0           batch_normalization_84[0][0]     \n",
      "__________________________________________________________________________________________________\n",
      "conv2d_85 (Conv2D)              (None, 4, 4, 12)     1008        activation_84[0][0]              \n",
      "__________________________________________________________________________________________________\n",
      "batch_normalization_85 (BatchNo (None, 4, 4, 12)     48          conv2d_85[0][0]                  \n",
      "__________________________________________________________________________________________________\n",
      "activation_85 (Activation)      (None, 4, 4, 12)     0           batch_normalization_85[0][0]     \n",
      "__________________________________________________________________________________________________\n",
      "conv2d_86 (Conv2D)              (None, 4, 4, 12)     1296        activation_85[0][0]              \n",
      "__________________________________________________________________________________________________\n",
      "dropout_44 (Dropout)            (None, 4, 4, 12)     0           conv2d_86[0][0]                  \n",
      "__________________________________________________________________________________________________\n",
      "concatenate_41 (Concatenate)    (None, 4, 4, 96)     0           concatenate_40[0][0]             \n",
      "                                                                 dropout_44[0][0]                 \n",
      "__________________________________________________________________________________________________\n",
      "batch_normalization_86 (BatchNo (None, 4, 4, 96)     384         concatenate_41[0][0]             \n",
      "__________________________________________________________________________________________________\n",
      "activation_86 (Activation)      (None, 4, 4, 96)     0           batch_normalization_86[0][0]     \n",
      "__________________________________________________________________________________________________\n",
      "conv2d_87 (Conv2D)              (None, 4, 4, 12)     1152        activation_86[0][0]              \n",
      "__________________________________________________________________________________________________\n",
      "batch_normalization_87 (BatchNo (None, 4, 4, 12)     48          conv2d_87[0][0]                  \n",
      "__________________________________________________________________________________________________\n",
      "activation_87 (Activation)      (None, 4, 4, 12)     0           batch_normalization_87[0][0]     \n",
      "__________________________________________________________________________________________________\n",
      "conv2d_88 (Conv2D)              (None, 4, 4, 12)     1296        activation_87[0][0]              \n",
      "__________________________________________________________________________________________________\n",
      "dropout_45 (Dropout)            (None, 4, 4, 12)     0           conv2d_88[0][0]                  \n",
      "__________________________________________________________________________________________________\n",
      "concatenate_42 (Concatenate)    (None, 4, 4, 108)    0           concatenate_41[0][0]             \n",
      "                                                                 dropout_45[0][0]                 \n",
      "__________________________________________________________________________________________________\n",
      "batch_normalization_88 (BatchNo (None, 4, 4, 108)    432         concatenate_42[0][0]             \n",
      "__________________________________________________________________________________________________\n",
      "activation_88 (Activation)      (None, 4, 4, 108)    0           batch_normalization_88[0][0]     \n",
      "__________________________________________________________________________________________________\n",
      "conv2d_89 (Conv2D)              (None, 4, 4, 12)     1296        activation_88[0][0]              \n",
      "__________________________________________________________________________________________________\n",
      "batch_normalization_89 (BatchNo (None, 4, 4, 12)     48          conv2d_89[0][0]                  \n",
      "__________________________________________________________________________________________________\n",
      "activation_89 (Activation)      (None, 4, 4, 12)     0           batch_normalization_89[0][0]     \n",
      "__________________________________________________________________________________________________\n",
      "conv2d_90 (Conv2D)              (None, 4, 4, 12)     1296        activation_89[0][0]              \n",
      "__________________________________________________________________________________________________\n",
      "dropout_46 (Dropout)            (None, 4, 4, 12)     0           conv2d_90[0][0]                  \n",
      "__________________________________________________________________________________________________\n",
      "concatenate_43 (Concatenate)    (None, 4, 4, 120)    0           concatenate_42[0][0]             \n",
      "                                                                 dropout_46[0][0]                 \n",
      "__________________________________________________________________________________________________\n",
      "batch_normalization_90 (BatchNo (None, 4, 4, 120)    480         concatenate_43[0][0]             \n",
      "__________________________________________________________________________________________________\n",
      "activation_90 (Activation)      (None, 4, 4, 120)    0           batch_normalization_90[0][0]     \n",
      "__________________________________________________________________________________________________\n",
      "conv2d_91 (Conv2D)              (None, 4, 4, 12)     1440        activation_90[0][0]              \n",
      "__________________________________________________________________________________________________\n",
      "batch_normalization_91 (BatchNo (None, 4, 4, 12)     48          conv2d_91[0][0]                  \n",
      "__________________________________________________________________________________________________\n",
      "activation_91 (Activation)      (None, 4, 4, 12)     0           batch_normalization_91[0][0]     \n",
      "__________________________________________________________________________________________________\n",
      "conv2d_92 (Conv2D)              (None, 4, 4, 12)     1296        activation_91[0][0]              \n",
      "__________________________________________________________________________________________________\n",
      "dropout_47 (Dropout)            (None, 4, 4, 12)     0           conv2d_92[0][0]                  \n",
      "__________________________________________________________________________________________________\n",
      "concatenate_44 (Concatenate)    (None, 4, 4, 132)    0           concatenate_43[0][0]             \n",
      "                                                                 dropout_47[0][0]                 \n",
      "__________________________________________________________________________________________________\n",
      "batch_normalization_92 (BatchNo (None, 4, 4, 132)    528         concatenate_44[0][0]             \n",
      "__________________________________________________________________________________________________\n",
      "activation_92 (Activation)      (None, 4, 4, 132)    0           batch_normalization_92[0][0]     \n",
      "__________________________________________________________________________________________________\n",
      "conv2d_93 (Conv2D)              (None, 4, 4, 12)     1584        activation_92[0][0]              \n",
      "__________________________________________________________________________________________________\n",
      "batch_normalization_93 (BatchNo (None, 4, 4, 12)     48          conv2d_93[0][0]                  \n",
      "__________________________________________________________________________________________________\n",
      "activation_93 (Activation)      (None, 4, 4, 12)     0           batch_normalization_93[0][0]     \n",
      "__________________________________________________________________________________________________\n",
      "conv2d_94 (Conv2D)              (None, 4, 4, 12)     1296        activation_93[0][0]              \n",
      "__________________________________________________________________________________________________\n",
      "dropout_48 (Dropout)            (None, 4, 4, 12)     0           conv2d_94[0][0]                  \n",
      "__________________________________________________________________________________________________\n",
      "concatenate_45 (Concatenate)    (None, 4, 4, 144)    0           concatenate_44[0][0]             \n",
      "                                                                 dropout_48[0][0]                 \n",
      "__________________________________________________________________________________________________\n",
      "batch_normalization_94 (BatchNo (None, 4, 4, 144)    576         concatenate_45[0][0]             \n",
      "__________________________________________________________________________________________________\n",
      "activation_94 (Activation)      (None, 4, 4, 144)    0           batch_normalization_94[0][0]     \n",
      "__________________________________________________________________________________________________\n",
      "conv2d_95 (Conv2D)              (None, 4, 4, 12)     1728        activation_94[0][0]              \n",
      "__________________________________________________________________________________________________\n",
      "batch_normalization_95 (BatchNo (None, 4, 4, 12)     48          conv2d_95[0][0]                  \n",
      "__________________________________________________________________________________________________\n",
      "activation_95 (Activation)      (None, 4, 4, 12)     0           batch_normalization_95[0][0]     \n",
      "__________________________________________________________________________________________________\n",
      "conv2d_96 (Conv2D)              (None, 4, 4, 12)     1296        activation_95[0][0]              \n",
      "__________________________________________________________________________________________________\n",
      "dropout_49 (Dropout)            (None, 4, 4, 12)     0           conv2d_96[0][0]                  \n",
      "__________________________________________________________________________________________________\n",
      "concatenate_46 (Concatenate)    (None, 4, 4, 156)    0           concatenate_45[0][0]             \n",
      "                                                                 dropout_49[0][0]                 \n",
      "__________________________________________________________________________________________________\n",
      "batch_normalization_96 (BatchNo (None, 4, 4, 156)    624         concatenate_46[0][0]             \n",
      "__________________________________________________________________________________________________\n",
      "activation_96 (Activation)      (None, 4, 4, 156)    0           batch_normalization_96[0][0]     \n",
      "__________________________________________________________________________________________________\n",
      "average_pooling2d_4 (AveragePoo (None, 2, 2, 156)    0           activation_96[0][0]              \n",
      "__________________________________________________________________________________________________\n",
      "flatten_1 (Flatten)             (None, 624)          0           average_pooling2d_4[0][0]        \n",
      "__________________________________________________________________________________________________\n",
      "dense_1 (Dense)                 (None, 10)           6250        flatten_1[0][0]                  \n",
      "==================================================================================================\n",
      "Total params: 136,778\n",
      "Trainable params: 126,906\n",
      "Non-trainable params: 9,872\n",
      "__________________________________________________________________________________________________\n"
     ]
    }
   ],
   "source": [
    "model.summary()"
   ]
  },
  {
   "cell_type": "markdown",
   "metadata": {},
   "source": [
    "### Saving model architectures as json string"
   ]
  },
  {
   "cell_type": "code",
   "execution_count": 31,
   "metadata": {
    "colab": {
     "autoexec": {
      "startup": false,
      "wait_interval": 0
     },
     "base_uri": "https://localhost:8080/",
     "height": 71
    },
    "colab_type": "code",
    "executionInfo": {
     "elapsed": 1498,
     "status": "ok",
     "timestamp": 1526460526985,
     "user": {
      "displayName": "Prakash Bisht",
      "photoUrl": "https://lh3.googleusercontent.com/a/default-user=s128",
      "userId": "117570314048106771115"
     },
     "user_tz": -330
    },
    "id": "wHcYb9a9Iedw",
    "outputId": "bc6576f0-fdd7-4b14-f537-261022c698ad"
   },
   "outputs": [
    {
     "name": "stdout",
     "output_type": "stream",
     "text": [
      "model 2: \n",
      " {\"class_name\": \"Model\", \"config\": {\"name\": \"model_1\", \"layers\": [{\"name\": \"input_1\", \"class_name\": \"InputLayer\", \"config\": {\"batch_input_shape\": [null, 32, 32, 3], \"dtype\": \"float32\", \"sparse\": false, \"name\": \"input_1\"}, \"inbound_nodes\": []}, {\"name\": \"conv2d_1\", \"class_name\": \"Conv2D\", \"config\": {\"name\": \"conv2d_1\", \"trainable\": true, \"filters\": 16, \"kernel_size\": [3, 3], \"strides\": [1, 1], \"padding\": \"same\", \"data_format\": \"channels_last\", \"dilation_rate\": [1, 1], \"activation\": \"linear\", \"use_bias\": false, \"kernel_initializer\": {\"class_name\": \"VarianceScaling\", \"config\": {\"scale\": 1.0, \"mode\": \"fan_avg\", \"distribution\": \"uniform\", \"seed\": null}}, \"bias_initializer\": {\"class_name\": \"Zeros\", \"config\": {}}, \"kernel_regularizer\": null, \"bias_regularizer\": null, \"activity_regularizer\": null, \"kernel_constraint\": null, \"bias_constraint\": null}, \"inbound_nodes\": [[[\"input_1\", 0, 0, {}]]]}, {\"name\": \"batch_normalization_1\", \"class_name\": \"BatchNormalization\", \"config\": {\"name\": \"batch_normalization_1\", \"trainable\": true, \"axis\": -1, \"momentum\": 0.99, \"epsilon\": 0.001, \"center\": true, \"scale\": true, \"beta_initializer\": {\"class_name\": \"Zeros\", \"config\": {}}, \"gamma_initializer\": {\"class_name\": \"Ones\", \"config\": {}}, \"moving_mean_initializer\": {\"class_name\": \"Zeros\", \"config\": {}}, \"moving_variance_initializer\": {\"class_name\": \"Ones\", \"config\": {}}, \"beta_regularizer\": null, \"gamma_regularizer\": null, \"beta_constraint\": null, \"gamma_constraint\": null}, \"inbound_nodes\": [[[\"conv2d_1\", 0, 0, {}]]]}, {\"name\": \"activation_1\", \"class_name\": \"Activation\", \"config\": {\"name\": \"activation_1\", \"trainable\": true, \"activation\": \"relu\"}, \"inbound_nodes\": [[[\"batch_normalization_1\", 0, 0, {}]]]}, {\"name\": \"conv2d_2\", \"class_name\": \"Conv2D\", \"config\": {\"name\": \"conv2d_2\", \"trainable\": true, \"filters\": 12, \"kernel_size\": [1, 1], \"strides\": [1, 1], \"padding\": \"same\", \"data_format\": \"channels_last\", \"dilation_rate\": [1, 1], \"activation\": \"linear\", \"use_bias\": false, \"kernel_initializer\": {\"class_name\": \"VarianceScaling\", \"config\": {\"scale\": 1.0, \"mode\": \"fan_avg\", \"distribution\": \"uniform\", \"seed\": null}}, \"bias_initializer\": {\"class_name\": \"Zeros\", \"config\": {}}, \"kernel_regularizer\": null, \"bias_regularizer\": null, \"activity_regularizer\": null, \"kernel_constraint\": null, \"bias_constraint\": null}, \"inbound_nodes\": [[[\"activation_1\", 0, 0, {}]]]}, {\"name\": \"batch_normalization_2\", \"class_name\": \"BatchNormalization\", \"config\": {\"name\": \"batch_normalization_2\", \"trainable\": true, \"axis\": -1, \"momentum\": 0.99, \"epsilon\": 0.001, \"center\": true, \"scale\": true, \"beta_initializer\": {\"class_name\": \"Zeros\", \"config\": {}}, \"gamma_initializer\": {\"class_name\": \"Ones\", \"config\": {}}, \"moving_mean_initializer\": {\"class_name\": \"Zeros\", \"config\": {}}, \"moving_variance_initializer\": {\"class_name\": \"Ones\", \"config\": {}}, \"beta_regularizer\": null, \"gamma_regularizer\": null, \"beta_constraint\": null, \"gamma_constraint\": null}, \"inbound_nodes\": [[[\"conv2d_2\", 0, 0, {}]]]}, {\"name\": \"activation_2\", \"class_name\": \"Activation\", \"config\": {\"name\": \"activation_2\", \"trainable\": true, \"activation\": \"relu\"}, \"inbound_nodes\": [[[\"batch_normalization_2\", 0, 0, {}]]]}, {\"name\": \"conv2d_3\", \"class_name\": \"Conv2D\", \"config\": {\"name\": \"conv2d_3\", \"trainable\": true, \"filters\": 12, \"kernel_size\": [3, 3], \"strides\": [1, 1], \"padding\": \"same\", \"data_format\": \"channels_last\", \"dilation_rate\": [1, 1], \"activation\": \"linear\", \"use_bias\": false, \"kernel_initializer\": {\"class_name\": \"VarianceScaling\", \"config\": {\"scale\": 1.0, \"mode\": \"fan_avg\", \"distribution\": \"uniform\", \"seed\": null}}, \"bias_initializer\": {\"class_name\": \"Zeros\", \"config\": {}}, \"kernel_regularizer\": null, \"bias_regularizer\": null, \"activity_regularizer\": null, \"kernel_constraint\": null, \"bias_constraint\": null}, \"inbound_nodes\": [[[\"activation_2\", 0, 0, {}]]]}, {\"name\": \"dropout_1\", \"class_name\": \"Dropout\", \"config\": {\"name\": \"dropout_1\", \"trainable\": true, \"rate\": 0.3, \"noise_shape\": null, \"seed\": null}, \"inbound_nodes\": [[[\"conv2d_3\", 0, 0, {}]]]}, {\"name\": \"concatenate_1\", \"class_name\": \"Concatenate\", \"config\": {\"name\": \"concatenate_1\", \"trainable\": true, \"axis\": -1}, \"inbound_nodes\": [[[\"conv2d_1\", 0, 0, {}], [\"dropout_1\", 0, 0, {}]]]}, {\"name\": \"batch_normalization_3\", \"class_name\": \"BatchNormalization\", \"config\": {\"name\": \"batch_normalization_3\", \"trainable\": true, \"axis\": -1, \"momentum\": 0.99, \"epsilon\": 0.001, \"center\": true, \"scale\": true, \"beta_initializer\": {\"class_name\": \"Zeros\", \"config\": {}}, \"gamma_initializer\": {\"class_name\": \"Ones\", \"config\": {}}, \"moving_mean_initializer\": {\"class_name\": \"Zeros\", \"config\": {}}, \"moving_variance_initializer\": {\"class_name\": \"Ones\", \"config\": {}}, \"beta_regularizer\": null, \"gamma_regularizer\": null, \"beta_constraint\": null, \"gamma_constraint\": null}, \"inbound_nodes\": [[[\"concatenate_1\", 0, 0, {}]]]}, {\"name\": \"activation_3\", \"class_name\": \"Activation\", \"config\": {\"name\": \"activation_3\", \"trainable\": true, \"activation\": \"relu\"}, \"inbound_nodes\": [[[\"batch_normalization_3\", 0, 0, {}]]]}, {\"name\": \"conv2d_4\", \"class_name\": \"Conv2D\", \"config\": {\"name\": \"conv2d_4\", \"trainable\": true, \"filters\": 12, \"kernel_size\": [1, 1], \"strides\": [1, 1], \"padding\": \"same\", \"data_format\": \"channels_last\", \"dilation_rate\": [1, 1], \"activation\": \"linear\", \"use_bias\": false, \"kernel_initializer\": {\"class_name\": \"VarianceScaling\", \"config\": {\"scale\": 1.0, \"mode\": \"fan_avg\", \"distribution\": \"uniform\", \"seed\": null}}, \"bias_initializer\": {\"class_name\": \"Zeros\", \"config\": {}}, \"kernel_regularizer\": null, \"bias_regularizer\": null, \"activity_regularizer\": null, \"kernel_constraint\": null, \"bias_constraint\": null}, \"inbound_nodes\": [[[\"activation_3\", 0, 0, {}]]]}, {\"name\": \"batch_normalization_4\", \"class_name\": \"BatchNormalization\", \"config\": {\"name\": \"batch_normalization_4\", \"trainable\": true, \"axis\": -1, \"momentum\": 0.99, \"epsilon\": 0.001, \"center\": true, \"scale\": true, \"beta_initializer\": {\"class_name\": \"Zeros\", \"config\": {}}, \"gamma_initializer\": {\"class_name\": \"Ones\", \"config\": {}}, \"moving_mean_initializer\": {\"class_name\": \"Zeros\", \"config\": {}}, \"moving_variance_initializer\": {\"class_name\": \"Ones\", \"config\": {}}, \"beta_regularizer\": null, \"gamma_regularizer\": null, \"beta_constraint\": null, \"gamma_constraint\": null}, \"inbound_nodes\": [[[\"conv2d_4\", 0, 0, {}]]]}, {\"name\": \"activation_4\", \"class_name\": \"Activation\", \"config\": {\"name\": \"activation_4\", \"trainable\": true, \"activation\": \"relu\"}, \"inbound_nodes\": [[[\"batch_normalization_4\", 0, 0, {}]]]}, {\"name\": \"conv2d_5\", \"class_name\": \"Conv2D\", \"config\": {\"name\": \"conv2d_5\", \"trainable\": true, \"filters\": 12, \"kernel_size\": [3, 3], \"strides\": [1, 1], \"padding\": \"same\", \"data_format\": \"channels_last\", \"dilation_rate\": [1, 1], \"activation\": \"linear\", \"use_bias\": false, \"kernel_initializer\": {\"class_name\": \"VarianceScaling\", \"config\": {\"scale\": 1.0, \"mode\": \"fan_avg\", \"distribution\": \"uniform\", \"seed\": null}}, \"bias_initializer\": {\"class_name\": \"Zeros\", \"config\": {}}, \"kernel_regularizer\": null, \"bias_regularizer\": null, \"activity_regularizer\": null, \"kernel_constraint\": null, \"bias_constraint\": null}, \"inbound_nodes\": [[[\"activation_4\", 0, 0, {}]]]}, {\"name\": \"dropout_2\", \"class_name\": \"Dropout\", \"config\": {\"name\": \"dropout_2\", \"trainable\": true, \"rate\": 0.3, \"noise_shape\": null, \"seed\": null}, \"inbound_nodes\": [[[\"conv2d_5\", 0, 0, {}]]]}, {\"name\": \"concatenate_2\", \"class_name\": \"Concatenate\", \"config\": {\"name\": \"concatenate_2\", \"trainable\": true, \"axis\": -1}, \"inbound_nodes\": [[[\"concatenate_1\", 0, 0, {}], [\"dropout_2\", 0, 0, {}]]]}, {\"name\": \"batch_normalization_5\", \"class_name\": \"BatchNormalization\", \"config\": {\"name\": \"batch_normalization_5\", \"trainable\": true, \"axis\": -1, \"momentum\": 0.99, \"epsilon\": 0.001, \"center\": true, \"scale\": true, \"beta_initializer\": {\"class_name\": \"Zeros\", \"config\": {}}, \"gamma_initializer\": {\"class_name\": \"Ones\", \"config\": {}}, \"moving_mean_initializer\": {\"class_name\": \"Zeros\", \"config\": {}}, \"moving_variance_initializer\": {\"class_name\": \"Ones\", \"config\": {}}, \"beta_regularizer\": null, \"gamma_regularizer\": null, \"beta_constraint\": null, \"gamma_constraint\": null}, \"inbound_nodes\": [[[\"concatenate_2\", 0, 0, {}]]]}, {\"name\": \"activation_5\", \"class_name\": \"Activation\", \"config\": {\"name\": \"activation_5\", \"trainable\": true, \"activation\": \"relu\"}, \"inbound_nodes\": [[[\"batch_normalization_5\", 0, 0, {}]]]}, {\"name\": \"conv2d_6\", \"class_name\": \"Conv2D\", \"config\": {\"name\": \"conv2d_6\", \"trainable\": true, \"filters\": 12, \"kernel_size\": [1, 1], \"strides\": [1, 1], \"padding\": \"same\", \"data_format\": \"channels_last\", \"dilation_rate\": [1, 1], \"activation\": \"linear\", \"use_bias\": false, \"kernel_initializer\": {\"class_name\": \"VarianceScaling\", \"config\": {\"scale\": 1.0, \"mode\": \"fan_avg\", \"distribution\": \"uniform\", \"seed\": null}}, \"bias_initializer\": {\"class_name\": \"Zeros\", \"config\": {}}, \"kernel_regularizer\": null, \"bias_regularizer\": null, \"activity_regularizer\": null, \"kernel_constraint\": null, \"bias_constraint\": null}, \"inbound_nodes\": [[[\"activation_5\", 0, 0, {}]]]}, {\"name\": \"batch_normalization_6\", \"class_name\": \"BatchNormalization\", \"config\": {\"name\": \"batch_normalization_6\", \"trainable\": true, \"axis\": -1, \"momentum\": 0.99, \"epsilon\": 0.001, \"center\": true, \"scale\": true, \"beta_initializer\": {\"class_name\": \"Zeros\", \"config\": {}}, \"gamma_initializer\": {\"class_name\": \"Ones\", \"config\": {}}, \"moving_mean_initializer\": {\"class_name\": \"Zeros\", \"config\": {}}, \"moving_variance_initializer\": {\"class_name\": \"Ones\", \"config\": {}}, \"beta_regularizer\": null, \"gamma_regularizer\": null, \"beta_constraint\": null, \"gamma_constraint\": null}, \"inbound_nodes\": [[[\"conv2d_6\", 0, 0, {}]]]}, {\"name\": \"activation_6\", \"class_name\": \"Activation\", \"config\": {\"name\": \"activation_6\", \"trainable\": true, \"activation\": \"relu\"}, \"inbound_nodes\": [[[\"batch_normalization_6\", 0, 0, {}]]]}, {\"name\": \"conv2d_7\", \"class_name\": \"Conv2D\", \"config\": {\"name\": \"conv2d_7\", \"trainable\": true, \"filters\": 12, \"kernel_size\": [3, 3], \"strides\": [1, 1], \"padding\": \"same\", \"data_format\": \"channels_last\", \"dilation_rate\": [1, 1], \"activation\": \"linear\", \"use_bias\": false, \"kernel_initializer\": {\"class_name\": \"VarianceScaling\", \"config\": {\"scale\": 1.0, \"mode\": \"fan_avg\", \"distribution\": \"uniform\", \"seed\": null}}, \"bias_initializer\": {\"class_name\": \"Zeros\", \"config\": {}}, \"kernel_regularizer\": null, \"bias_regularizer\": null, \"activity_regularizer\": null, \"kernel_constraint\": null, \"bias_constraint\": null}, \"inbound_nodes\": [[[\"activation_6\", 0, 0, {}]]]}, {\"name\": \"dropout_3\", \"class_name\": \"Dropout\", \"config\": {\"name\": \"dropout_3\", \"trainable\": true, \"rate\": 0.3, \"noise_shape\": null, \"seed\": null}, \"inbound_nodes\": [[[\"conv2d_7\", 0, 0, {}]]]}, {\"name\": \"concatenate_3\", \"class_name\": \"Concatenate\", \"config\": {\"name\": \"concatenate_3\", \"trainable\": true, \"axis\": -1}, \"inbound_nodes\": [[[\"concatenate_2\", 0, 0, {}], [\"dropout_3\", 0, 0, {}]]]}, {\"name\": \"batch_normalization_7\", \"class_name\": \"BatchNormalization\", \"config\": {\"name\": \"batch_normalization_7\", \"trainable\": true, \"axis\": -1, \"momentum\": 0.99, \"epsilon\": 0.001, \"center\": true, \"scale\": true, \"beta_initializer\": {\"class_name\": \"Zeros\", \"config\": {}}, \"gamma_initializer\": {\"class_name\": \"Ones\", \"config\": {}}, \"moving_mean_initializer\": {\"class_name\": \"Zeros\", \"config\": {}}, \"moving_variance_initializer\": {\"class_name\": \"Ones\", \"config\": {}}, \"beta_regularizer\": null, \"gamma_regularizer\": null, \"beta_constraint\": null, \"gamma_constraint\": null}, \"inbound_nodes\": [[[\"concatenate_3\", 0, 0, {}]]]}, {\"name\": \"activation_7\", \"class_name\": \"Activation\", \"config\": {\"name\": \"activation_7\", \"trainable\": true, \"activation\": \"relu\"}, \"inbound_nodes\": [[[\"batch_normalization_7\", 0, 0, {}]]]}, {\"name\": \"conv2d_8\", \"class_name\": \"Conv2D\", \"config\": {\"name\": \"conv2d_8\", \"trainable\": true, \"filters\": 12, \"kernel_size\": [1, 1], \"strides\": [1, 1], \"padding\": \"same\", \"data_format\": \"channels_last\", \"dilation_rate\": [1, 1], \"activation\": \"linear\", \"use_bias\": false, \"kernel_initializer\": {\"class_name\": \"VarianceScaling\", \"config\": {\"scale\": 1.0, \"mode\": \"fan_avg\", \"distribution\": \"uniform\", \"seed\": null}}, \"bias_initializer\": {\"class_name\": \"Zeros\", \"config\": {}}, \"kernel_regularizer\": null, \"bias_regularizer\": null, \"activity_regularizer\": null, \"kernel_constraint\": null, \"bias_constraint\": null}, \"inbound_nodes\": [[[\"activation_7\", 0, 0, {}]]]}, {\"name\": \"batch_normalization_8\", \"class_name\": \"BatchNormalization\", \"config\": {\"name\": \"batch_normalization_8\", \"trainable\": true, \"axis\": -1, \"momentum\": 0.99, \"epsilon\": 0.001, \"center\": true, \"scale\": true, \"beta_initializer\": {\"class_name\": \"Zeros\", \"config\": {}}, \"gamma_initializer\": {\"class_name\": \"Ones\", \"config\": {}}, \"moving_mean_initializer\": {\"class_name\": \"Zeros\", \"config\": {}}, \"moving_variance_initializer\": {\"class_name\": \"Ones\", \"config\": {}}, \"beta_regularizer\": null, \"gamma_regularizer\": null, \"beta_constraint\": null, \"gamma_constraint\": null}, \"inbound_nodes\": [[[\"conv2d_8\", 0, 0, {}]]]}, {\"name\": \"activation_8\", \"class_name\": \"Activation\", \"config\": {\"name\": \"activation_8\", \"trainable\": true, \"activation\": \"relu\"}, \"inbound_nodes\": [[[\"batch_normalization_8\", 0, 0, {}]]]}, {\"name\": \"conv2d_9\", \"class_name\": \"Conv2D\", \"config\": {\"name\": \"conv2d_9\", \"trainable\": true, \"filters\": 12, \"kernel_size\": [3, 3], \"strides\": [1, 1], \"padding\": \"same\", \"data_format\": \"channels_last\", \"dilation_rate\": [1, 1], \"activation\": \"linear\", \"use_bias\": false, \"kernel_initializer\": {\"class_name\": \"VarianceScaling\", \"config\": {\"scale\": 1.0, \"mode\": \"fan_avg\", \"distribution\": \"uniform\", \"seed\": null}}, \"bias_initializer\": {\"class_name\": \"Zeros\", \"config\": {}}, \"kernel_regularizer\": null, \"bias_regularizer\": null, \"activity_regularizer\": null, \"kernel_constraint\": null, \"bias_constraint\": null}, \"inbound_nodes\": [[[\"activation_8\", 0, 0, {}]]]}, {\"name\": \"dropout_4\", \"class_name\": \"Dropout\", \"config\": {\"name\": \"dropout_4\", \"trainable\": true, \"rate\": 0.3, \"noise_shape\": null, \"seed\": null}, \"inbound_nodes\": [[[\"conv2d_9\", 0, 0, {}]]]}, {\"name\": \"concatenate_4\", \"class_name\": \"Concatenate\", \"config\": {\"name\": \"concatenate_4\", \"trainable\": true, \"axis\": -1}, \"inbound_nodes\": [[[\"concatenate_3\", 0, 0, {}], [\"dropout_4\", 0, 0, {}]]]}, {\"name\": \"batch_normalization_9\", \"class_name\": \"BatchNormalization\", \"config\": {\"name\": \"batch_normalization_9\", \"trainable\": true, \"axis\": -1, \"momentum\": 0.99, \"epsilon\": 0.001, \"center\": true, \"scale\": true, \"beta_initializer\": {\"class_name\": \"Zeros\", \"config\": {}}, \"gamma_initializer\": {\"class_name\": \"Ones\", \"config\": {}}, \"moving_mean_initializer\": {\"class_name\": \"Zeros\", \"config\": {}}, \"moving_variance_initializer\": {\"class_name\": \"Ones\", \"config\": {}}, \"beta_regularizer\": null, \"gamma_regularizer\": null, \"beta_constraint\": null, \"gamma_constraint\": null}, \"inbound_nodes\": [[[\"concatenate_4\", 0, 0, {}]]]}, {\"name\": \"activation_9\", \"class_name\": \"Activation\", \"config\": {\"name\": \"activation_9\", \"trainable\": true, \"activation\": \"relu\"}, \"inbound_nodes\": [[[\"batch_normalization_9\", 0, 0, {}]]]}, {\"name\": \"conv2d_10\", \"class_name\": \"Conv2D\", \"config\": {\"name\": \"conv2d_10\", \"trainable\": true, \"filters\": 12, \"kernel_size\": [1, 1], \"strides\": [1, 1], \"padding\": \"same\", \"data_format\": \"channels_last\", \"dilation_rate\": [1, 1], \"activation\": \"linear\", \"use_bias\": false, \"kernel_initializer\": {\"class_name\": \"VarianceScaling\", \"config\": {\"scale\": 1.0, \"mode\": \"fan_avg\", \"distribution\": \"uniform\", \"seed\": null}}, \"bias_initializer\": {\"class_name\": \"Zeros\", \"config\": {}}, \"kernel_regularizer\": null, \"bias_regularizer\": null, \"activity_regularizer\": null, \"kernel_constraint\": null, \"bias_constraint\": null}, \"inbound_nodes\": [[[\"activation_9\", 0, 0, {}]]]}, {\"name\": \"batch_normalization_10\", \"class_name\": \"BatchNormalization\", \"config\": {\"name\": \"batch_normalization_10\", \"trainable\": true, \"axis\": -1, \"momentum\": 0.99, \"epsilon\": 0.001, \"center\": true, \"scale\": true, \"beta_initializer\": {\"class_name\": \"Zeros\", \"config\": {}}, \"gamma_initializer\": {\"class_name\": \"Ones\", \"config\": {}}, \"moving_mean_initializer\": {\"class_name\": \"Zeros\", \"config\": {}}, \"moving_variance_initializer\": {\"class_name\": \"Ones\", \"config\": {}}, \"beta_regularizer\": null, \"gamma_regularizer\": null, \"beta_constraint\": null, \"gamma_constraint\": null}, \"inbound_nodes\": [[[\"conv2d_10\", 0, 0, {}]]]}, {\"name\": \"activation_10\", \"class_name\": \"Activation\", \"config\": {\"name\": \"activation_10\", \"trainable\": true, \"activation\": \"relu\"}, \"inbound_nodes\": [[[\"batch_normalization_10\", 0, 0, {}]]]}, {\"name\": \"conv2d_11\", \"class_name\": \"Conv2D\", \"config\": {\"name\": \"conv2d_11\", \"trainable\": true, \"filters\": 12, \"kernel_size\": [3, 3], \"strides\": [1, 1], \"padding\": \"same\", \"data_format\": \"channels_last\", \"dilation_rate\": [1, 1], \"activation\": \"linear\", \"use_bias\": false, \"kernel_initializer\": {\"class_name\": \"VarianceScaling\", \"config\": {\"scale\": 1.0, \"mode\": \"fan_avg\", \"distribution\": \"uniform\", \"seed\": null}}, \"bias_initializer\": {\"class_name\": \"Zeros\", \"config\": {}}, \"kernel_regularizer\": null, \"bias_regularizer\": null, \"activity_regularizer\": null, \"kernel_constraint\": null, \"bias_constraint\": null}, \"inbound_nodes\": [[[\"activation_10\", 0, 0, {}]]]}, {\"name\": \"dropout_5\", \"class_name\": \"Dropout\", \"config\": {\"name\": \"dropout_5\", \"trainable\": true, \"rate\": 0.3, \"noise_shape\": null, \"seed\": null}, \"inbound_nodes\": [[[\"conv2d_11\", 0, 0, {}]]]}, {\"name\": \"concatenate_5\", \"class_name\": \"Concatenate\", \"config\": {\"name\": \"concatenate_5\", \"trainable\": true, \"axis\": -1}, \"inbound_nodes\": [[[\"concatenate_4\", 0, 0, {}], [\"dropout_5\", 0, 0, {}]]]}, {\"name\": \"batch_normalization_11\", \"class_name\": \"BatchNormalization\", \"config\": {\"name\": \"batch_normalization_11\", \"trainable\": true, \"axis\": -1, \"momentum\": 0.99, \"epsilon\": 0.001, \"center\": true, \"scale\": true, \"beta_initializer\": {\"class_name\": \"Zeros\", \"config\": {}}, \"gamma_initializer\": {\"class_name\": \"Ones\", \"config\": {}}, \"moving_mean_initializer\": {\"class_name\": \"Zeros\", \"config\": {}}, \"moving_variance_initializer\": {\"class_name\": \"Ones\", \"config\": {}}, \"beta_regularizer\": null, \"gamma_regularizer\": null, \"beta_constraint\": null, \"gamma_constraint\": null}, \"inbound_nodes\": [[[\"concatenate_5\", 0, 0, {}]]]}, {\"name\": \"activation_11\", \"class_name\": \"Activation\", \"config\": {\"name\": \"activation_11\", \"trainable\": true, \"activation\": \"relu\"}, \"inbound_nodes\": [[[\"batch_normalization_11\", 0, 0, {}]]]}, {\"name\": \"conv2d_12\", \"class_name\": \"Conv2D\", \"config\": {\"name\": \"conv2d_12\", \"trainable\": true, \"filters\": 12, \"kernel_size\": [1, 1], \"strides\": [1, 1], \"padding\": \"same\", \"data_format\": \"channels_last\", \"dilation_rate\": [1, 1], \"activation\": \"linear\", \"use_bias\": false, \"kernel_initializer\": {\"class_name\": \"VarianceScaling\", \"config\": {\"scale\": 1.0, \"mode\": \"fan_avg\", \"distribution\": \"uniform\", \"seed\": null}}, \"bias_initializer\": {\"class_name\": \"Zeros\", \"config\": {}}, \"kernel_regularizer\": null, \"bias_regularizer\": null, \"activity_regularizer\": null, \"kernel_constraint\": null, \"bias_constraint\": null}, \"inbound_nodes\": [[[\"activation_11\", 0, 0, {}]]]}, {\"name\": \"batch_normalization_12\", \"class_name\": \"BatchNormalization\", \"config\": {\"name\": \"batch_normalization_12\", \"trainable\": true, \"axis\": -1, \"momentum\": 0.99, \"epsilon\": 0.001, \"center\": true, \"scale\": true, \"beta_initializer\": {\"class_name\": \"Zeros\", \"config\": {}}, \"gamma_initializer\": {\"class_name\": \"Ones\", \"config\": {}}, \"moving_mean_initializer\": {\"class_name\": \"Zeros\", \"config\": {}}, \"moving_variance_initializer\": {\"class_name\": \"Ones\", \"config\": {}}, \"beta_regularizer\": null, \"gamma_regularizer\": null, \"beta_constraint\": null, \"gamma_constraint\": null}, \"inbound_nodes\": [[[\"conv2d_12\", 0, 0, {}]]]}, {\"name\": \"activation_12\", \"class_name\": \"Activation\", \"config\": {\"name\": \"activation_12\", \"trainable\": true, \"activation\": \"relu\"}, \"inbound_nodes\": [[[\"batch_normalization_12\", 0, 0, {}]]]}, {\"name\": \"conv2d_13\", \"class_name\": \"Conv2D\", \"config\": {\"name\": \"conv2d_13\", \"trainable\": true, \"filters\": 12, \"kernel_size\": [3, 3], \"strides\": [1, 1], \"padding\": \"same\", \"data_format\": \"channels_last\", \"dilation_rate\": [1, 1], \"activation\": \"linear\", \"use_bias\": false, \"kernel_initializer\": {\"class_name\": \"VarianceScaling\", \"config\": {\"scale\": 1.0, \"mode\": \"fan_avg\", \"distribution\": \"uniform\", \"seed\": null}}, \"bias_initializer\": {\"class_name\": \"Zeros\", \"config\": {}}, \"kernel_regularizer\": null, \"bias_regularizer\": null, \"activity_regularizer\": null, \"kernel_constraint\": null, \"bias_constraint\": null}, \"inbound_nodes\": [[[\"activation_12\", 0, 0, {}]]]}, {\"name\": \"dropout_6\", \"class_name\": \"Dropout\", \"config\": {\"name\": \"dropout_6\", \"trainable\": true, \"rate\": 0.3, \"noise_shape\": null, \"seed\": null}, \"inbound_nodes\": [[[\"conv2d_13\", 0, 0, {}]]]}, {\"name\": \"concatenate_6\", \"class_name\": \"Concatenate\", \"config\": {\"name\": \"concatenate_6\", \"trainable\": true, \"axis\": -1}, \"inbound_nodes\": [[[\"concatenate_5\", 0, 0, {}], [\"dropout_6\", 0, 0, {}]]]}, {\"name\": \"batch_normalization_13\", \"class_name\": \"BatchNormalization\", \"config\": {\"name\": \"batch_normalization_13\", \"trainable\": true, \"axis\": -1, \"momentum\": 0.99, \"epsilon\": 0.001, \"center\": true, \"scale\": true, \"beta_initializer\": {\"class_name\": \"Zeros\", \"config\": {}}, \"gamma_initializer\": {\"class_name\": \"Ones\", \"config\": {}}, \"moving_mean_initializer\": {\"class_name\": \"Zeros\", \"config\": {}}, \"moving_variance_initializer\": {\"class_name\": \"Ones\", \"config\": {}}, \"beta_regularizer\": null, \"gamma_regularizer\": null, \"beta_constraint\": null, \"gamma_constraint\": null}, \"inbound_nodes\": [[[\"concatenate_6\", 0, 0, {}]]]}, {\"name\": \"activation_13\", \"class_name\": \"Activation\", \"config\": {\"name\": \"activation_13\", \"trainable\": true, \"activation\": \"relu\"}, \"inbound_nodes\": [[[\"batch_normalization_13\", 0, 0, {}]]]}, {\"name\": \"conv2d_14\", \"class_name\": \"Conv2D\", \"config\": {\"name\": \"conv2d_14\", \"trainable\": true, \"filters\": 12, \"kernel_size\": [1, 1], \"strides\": [1, 1], \"padding\": \"same\", \"data_format\": \"channels_last\", \"dilation_rate\": [1, 1], \"activation\": \"linear\", \"use_bias\": false, \"kernel_initializer\": {\"class_name\": \"VarianceScaling\", \"config\": {\"scale\": 1.0, \"mode\": \"fan_avg\", \"distribution\": \"uniform\", \"seed\": null}}, \"bias_initializer\": {\"class_name\": \"Zeros\", \"config\": {}}, \"kernel_regularizer\": null, \"bias_regularizer\": null, \"activity_regularizer\": null, \"kernel_constraint\": null, \"bias_constraint\": null}, \"inbound_nodes\": [[[\"activation_13\", 0, 0, {}]]]}, {\"name\": \"dropout_7\", \"class_name\": \"Dropout\", \"config\": {\"name\": \"dropout_7\", \"trainable\": true, \"rate\": 0.3, \"noise_shape\": null, \"seed\": null}, \"inbound_nodes\": [[[\"conv2d_14\", 0, 0, {}]]]}, {\"name\": \"average_pooling2d_1\", \"class_name\": \"AveragePooling2D\", \"config\": {\"name\": \"average_pooling2d_1\", \"trainable\": true, \"pool_size\": [2, 2], \"padding\": \"valid\", \"strides\": [2, 2], \"data_format\": \"channels_last\"}, \"inbound_nodes\": [[[\"dropout_7\", 0, 0, {}]]]}, {\"name\": \"batch_normalization_14\", \"class_name\": \"BatchNormalization\", \"config\": {\"name\": \"batch_normalization_14\", \"trainable\": true, \"axis\": -1, \"momentum\": 0.99, \"epsilon\": 0.001, \"center\": true, \"scale\": true, \"beta_initializer\": {\"class_name\": \"Zeros\", \"config\": {}}, \"gamma_initializer\": {\"class_name\": \"Ones\", \"config\": {}}, \"moving_mean_initializer\": {\"class_name\": \"Zeros\", \"config\": {}}, \"moving_variance_initializer\": {\"class_name\": \"Ones\", \"config\": {}}, \"beta_regularizer\": null, \"gamma_regularizer\": null, \"beta_constraint\": null, \"gamma_constraint\": null}, \"inbound_nodes\": [[[\"average_pooling2d_1\", 0, 0, {}]]]}, {\"name\": \"activation_14\", \"class_name\": \"Activation\", \"config\": {\"name\": \"activation_14\", \"trainable\": true, \"activation\": \"relu\"}, \"inbound_nodes\": [[[\"batch_normalization_14\", 0, 0, {}]]]}, {\"name\": \"conv2d_15\", \"class_name\": \"Conv2D\", \"config\": {\"name\": \"conv2d_15\", \"trainable\": true, \"filters\": 12, \"kernel_size\": [1, 1], \"strides\": [1, 1], \"padding\": \"same\", \"data_format\": \"channels_last\", \"dilation_rate\": [1, 1], \"activation\": \"linear\", \"use_bias\": false, \"kernel_initializer\": {\"class_name\": \"VarianceScaling\", \"config\": {\"scale\": 1.0, \"mode\": \"fan_avg\", \"distribution\": \"uniform\", \"seed\": null}}, \"bias_initializer\": {\"class_name\": \"Zeros\", \"config\": {}}, \"kernel_regularizer\": null, \"bias_regularizer\": null, \"activity_regularizer\": null, \"kernel_constraint\": null, \"bias_constraint\": null}, \"inbound_nodes\": [[[\"activation_14\", 0, 0, {}]]]}, {\"name\": \"batch_normalization_15\", \"class_name\": \"BatchNormalization\", \"config\": {\"name\": \"batch_normalization_15\", \"trainable\": true, \"axis\": -1, \"momentum\": 0.99, \"epsilon\": 0.001, \"center\": true, \"scale\": true, \"beta_initializer\": {\"class_name\": \"Zeros\", \"config\": {}}, \"gamma_initializer\": {\"class_name\": \"Ones\", \"config\": {}}, \"moving_mean_initializer\": {\"class_name\": \"Zeros\", \"config\": {}}, \"moving_variance_initializer\": {\"class_name\": \"Ones\", \"config\": {}}, \"beta_regularizer\": null, \"gamma_regularizer\": null, \"beta_constraint\": null, \"gamma_constraint\": null}, \"inbound_nodes\": [[[\"conv2d_15\", 0, 0, {}]]]}, {\"name\": \"activation_15\", \"class_name\": \"Activation\", \"config\": {\"name\": \"activation_15\", \"trainable\": true, \"activation\": \"relu\"}, \"inbound_nodes\": [[[\"batch_normalization_15\", 0, 0, {}]]]}, {\"name\": \"conv2d_16\", \"class_name\": \"Conv2D\", \"config\": {\"name\": \"conv2d_16\", \"trainable\": true, \"filters\": 12, \"kernel_size\": [3, 3], \"strides\": [1, 1], \"padding\": \"same\", \"data_format\": \"channels_last\", \"dilation_rate\": [1, 1], \"activation\": \"linear\", \"use_bias\": false, \"kernel_initializer\": {\"class_name\": \"VarianceScaling\", \"config\": {\"scale\": 1.0, \"mode\": \"fan_avg\", \"distribution\": \"uniform\", \"seed\": null}}, \"bias_initializer\": {\"class_name\": \"Zeros\", \"config\": {}}, \"kernel_regularizer\": null, \"bias_regularizer\": null, \"activity_regularizer\": null, \"kernel_constraint\": null, \"bias_constraint\": null}, \"inbound_nodes\": [[[\"activation_15\", 0, 0, {}]]]}, {\"name\": \"dropout_8\", \"class_name\": \"Dropout\", \"config\": {\"name\": \"dropout_8\", \"trainable\": true, \"rate\": 0.3, \"noise_shape\": null, \"seed\": null}, \"inbound_nodes\": [[[\"conv2d_16\", 0, 0, {}]]]}, {\"name\": \"concatenate_7\", \"class_name\": \"Concatenate\", \"config\": {\"name\": \"concatenate_7\", \"trainable\": true, \"axis\": -1}, \"inbound_nodes\": [[[\"average_pooling2d_1\", 0, 0, {}], [\"dropout_8\", 0, 0, {}]]]}, {\"name\": \"batch_normalization_16\", \"class_name\": \"BatchNormalization\", \"config\": {\"name\": \"batch_normalization_16\", \"trainable\": true, \"axis\": -1, \"momentum\": 0.99, \"epsilon\": 0.001, \"center\": true, \"scale\": true, \"beta_initializer\": {\"class_name\": \"Zeros\", \"config\": {}}, \"gamma_initializer\": {\"class_name\": \"Ones\", \"config\": {}}, \"moving_mean_initializer\": {\"class_name\": \"Zeros\", \"config\": {}}, \"moving_variance_initializer\": {\"class_name\": \"Ones\", \"config\": {}}, \"beta_regularizer\": null, \"gamma_regularizer\": null, \"beta_constraint\": null, \"gamma_constraint\": null}, \"inbound_nodes\": [[[\"concatenate_7\", 0, 0, {}]]]}, {\"name\": \"activation_16\", \"class_name\": \"Activation\", \"config\": {\"name\": \"activation_16\", \"trainable\": true, \"activation\": \"relu\"}, \"inbound_nodes\": [[[\"batch_normalization_16\", 0, 0, {}]]]}, {\"name\": \"conv2d_17\", \"class_name\": \"Conv2D\", \"config\": {\"name\": \"conv2d_17\", \"trainable\": true, \"filters\": 12, \"kernel_size\": [1, 1], \"strides\": [1, 1], \"padding\": \"same\", \"data_format\": \"channels_last\", \"dilation_rate\": [1, 1], \"activation\": \"linear\", \"use_bias\": false, \"kernel_initializer\": {\"class_name\": \"VarianceScaling\", \"config\": {\"scale\": 1.0, \"mode\": \"fan_avg\", \"distribution\": \"uniform\", \"seed\": null}}, \"bias_initializer\": {\"class_name\": \"Zeros\", \"config\": {}}, \"kernel_regularizer\": null, \"bias_regularizer\": null, \"activity_regularizer\": null, \"kernel_constraint\": null, \"bias_constraint\": null}, \"inbound_nodes\": [[[\"activation_16\", 0, 0, {}]]]}, {\"name\": \"batch_normalization_17\", \"class_name\": \"BatchNormalization\", \"config\": {\"name\": \"batch_normalization_17\", \"trainable\": true, \"axis\": -1, \"momentum\": 0.99, \"epsilon\": 0.001, \"center\": true, \"scale\": true, \"beta_initializer\": {\"class_name\": \"Zeros\", \"config\": {}}, \"gamma_initializer\": {\"class_name\": \"Ones\", \"config\": {}}, \"moving_mean_initializer\": {\"class_name\": \"Zeros\", \"config\": {}}, \"moving_variance_initializer\": {\"class_name\": \"Ones\", \"config\": {}}, \"beta_regularizer\": null, \"gamma_regularizer\": null, \"beta_constraint\": null, \"gamma_constraint\": null}, \"inbound_nodes\": [[[\"conv2d_17\", 0, 0, {}]]]}, {\"name\": \"activation_17\", \"class_name\": \"Activation\", \"config\": {\"name\": \"activation_17\", \"trainable\": true, \"activation\": \"relu\"}, \"inbound_nodes\": [[[\"batch_normalization_17\", 0, 0, {}]]]}, {\"name\": \"conv2d_18\", \"class_name\": \"Conv2D\", \"config\": {\"name\": \"conv2d_18\", \"trainable\": true, \"filters\": 12, \"kernel_size\": [3, 3], \"strides\": [1, 1], \"padding\": \"same\", \"data_format\": \"channels_last\", \"dilation_rate\": [1, 1], \"activation\": \"linear\", \"use_bias\": false, \"kernel_initializer\": {\"class_name\": \"VarianceScaling\", \"config\": {\"scale\": 1.0, \"mode\": \"fan_avg\", \"distribution\": \"uniform\", \"seed\": null}}, \"bias_initializer\": {\"class_name\": \"Zeros\", \"config\": {}}, \"kernel_regularizer\": null, \"bias_regularizer\": null, \"activity_regularizer\": null, \"kernel_constraint\": null, \"bias_constraint\": null}, \"inbound_nodes\": [[[\"activation_17\", 0, 0, {}]]]}, {\"name\": \"dropout_9\", \"class_name\": \"Dropout\", \"config\": {\"name\": \"dropout_9\", \"trainable\": true, \"rate\": 0.3, \"noise_shape\": null, \"seed\": null}, \"inbound_nodes\": [[[\"conv2d_18\", 0, 0, {}]]]}, {\"name\": \"concatenate_8\", \"class_name\": \"Concatenate\", \"config\": {\"name\": \"concatenate_8\", \"trainable\": true, \"axis\": -1}, \"inbound_nodes\": [[[\"concatenate_7\", 0, 0, {}], [\"dropout_9\", 0, 0, {}]]]}, {\"name\": \"batch_normalization_18\", \"class_name\": \"BatchNormalization\", \"config\": {\"name\": \"batch_normalization_18\", \"trainable\": true, \"axis\": -1, \"momentum\": 0.99, \"epsilon\": 0.001, \"center\": true, \"scale\": true, \"beta_initializer\": {\"class_name\": \"Zeros\", \"config\": {}}, \"gamma_initializer\": {\"class_name\": \"Ones\", \"config\": {}}, \"moving_mean_initializer\": {\"class_name\": \"Zeros\", \"config\": {}}, \"moving_variance_initializer\": {\"class_name\": \"Ones\", \"config\": {}}, \"beta_regularizer\": null, \"gamma_regularizer\": null, \"beta_constraint\": null, \"gamma_constraint\": null}, \"inbound_nodes\": [[[\"concatenate_8\", 0, 0, {}]]]}, {\"name\": \"activation_18\", \"class_name\": \"Activation\", \"config\": {\"name\": \"activation_18\", \"trainable\": true, \"activation\": \"relu\"}, \"inbound_nodes\": [[[\"batch_normalization_18\", 0, 0, {}]]]}, {\"name\": \"conv2d_19\", \"class_name\": \"Conv2D\", \"config\": {\"name\": \"conv2d_19\", \"trainable\": true, \"filters\": 12, \"kernel_size\": [1, 1], \"strides\": [1, 1], \"padding\": \"same\", \"data_format\": \"channels_last\", \"dilation_rate\": [1, 1], \"activation\": \"linear\", \"use_bias\": false, \"kernel_initializer\": {\"class_name\": \"VarianceScaling\", \"config\": {\"scale\": 1.0, \"mode\": \"fan_avg\", \"distribution\": \"uniform\", \"seed\": null}}, \"bias_initializer\": {\"class_name\": \"Zeros\", \"config\": {}}, \"kernel_regularizer\": null, \"bias_regularizer\": null, \"activity_regularizer\": null, \"kernel_constraint\": null, \"bias_constraint\": null}, \"inbound_nodes\": [[[\"activation_18\", 0, 0, {}]]]}, {\"name\": \"batch_normalization_19\", \"class_name\": \"BatchNormalization\", \"config\": {\"name\": \"batch_normalization_19\", \"trainable\": true, \"axis\": -1, \"momentum\": 0.99, \"epsilon\": 0.001, \"center\": true, \"scale\": true, \"beta_initializer\": {\"class_name\": \"Zeros\", \"config\": {}}, \"gamma_initializer\": {\"class_name\": \"Ones\", \"config\": {}}, \"moving_mean_initializer\": {\"class_name\": \"Zeros\", \"config\": {}}, \"moving_variance_initializer\": {\"class_name\": \"Ones\", \"config\": {}}, \"beta_regularizer\": null, \"gamma_regularizer\": null, \"beta_constraint\": null, \"gamma_constraint\": null}, \"inbound_nodes\": [[[\"conv2d_19\", 0, 0, {}]]]}, {\"name\": \"activation_19\", \"class_name\": \"Activation\", \"config\": {\"name\": \"activation_19\", \"trainable\": true, \"activation\": \"relu\"}, \"inbound_nodes\": [[[\"batch_normalization_19\", 0, 0, {}]]]}, {\"name\": \"conv2d_20\", \"class_name\": \"Conv2D\", \"config\": {\"name\": \"conv2d_20\", \"trainable\": true, \"filters\": 12, \"kernel_size\": [3, 3], \"strides\": [1, 1], \"padding\": \"same\", \"data_format\": \"channels_last\", \"dilation_rate\": [1, 1], \"activation\": \"linear\", \"use_bias\": false, \"kernel_initializer\": {\"class_name\": \"VarianceScaling\", \"config\": {\"scale\": 1.0, \"mode\": \"fan_avg\", \"distribution\": \"uniform\", \"seed\": null}}, \"bias_initializer\": {\"class_name\": \"Zeros\", \"config\": {}}, \"kernel_regularizer\": null, \"bias_regularizer\": null, \"activity_regularizer\": null, \"kernel_constraint\": null, \"bias_constraint\": null}, \"inbound_nodes\": [[[\"activation_19\", 0, 0, {}]]]}, {\"name\": \"dropout_10\", \"class_name\": \"Dropout\", \"config\": {\"name\": \"dropout_10\", \"trainable\": true, \"rate\": 0.3, \"noise_shape\": null, \"seed\": null}, \"inbound_nodes\": [[[\"conv2d_20\", 0, 0, {}]]]}, {\"name\": \"concatenate_9\", \"class_name\": \"Concatenate\", \"config\": {\"name\": \"concatenate_9\", \"trainable\": true, \"axis\": -1}, \"inbound_nodes\": [[[\"concatenate_8\", 0, 0, {}], [\"dropout_10\", 0, 0, {}]]]}, {\"name\": \"batch_normalization_20\", \"class_name\": \"BatchNormalization\", \"config\": {\"name\": \"batch_normalization_20\", \"trainable\": true, \"axis\": -1, \"momentum\": 0.99, \"epsilon\": 0.001, \"center\": true, \"scale\": true, \"beta_initializer\": {\"class_name\": \"Zeros\", \"config\": {}}, \"gamma_initializer\": {\"class_name\": \"Ones\", \"config\": {}}, \"moving_mean_initializer\": {\"class_name\": \"Zeros\", \"config\": {}}, \"moving_variance_initializer\": {\"class_name\": \"Ones\", \"config\": {}}, \"beta_regularizer\": null, \"gamma_regularizer\": null, \"beta_constraint\": null, \"gamma_constraint\": null}, \"inbound_nodes\": [[[\"concatenate_9\", 0, 0, {}]]]}, {\"name\": \"activation_20\", \"class_name\": \"Activation\", \"config\": {\"name\": \"activation_20\", \"trainable\": true, \"activation\": \"relu\"}, \"inbound_nodes\": [[[\"batch_normalization_20\", 0, 0, {}]]]}, {\"name\": \"conv2d_21\", \"class_name\": \"Conv2D\", \"config\": {\"name\": \"conv2d_21\", \"trainable\": true, \"filters\": 12, \"kernel_size\": [1, 1], \"strides\": [1, 1], \"padding\": \"same\", \"data_format\": \"channels_last\", \"dilation_rate\": [1, 1], \"activation\": \"linear\", \"use_bias\": false, \"kernel_initializer\": {\"class_name\": \"VarianceScaling\", \"config\": {\"scale\": 1.0, \"mode\": \"fan_avg\", \"distribution\": \"uniform\", \"seed\": null}}, \"bias_initializer\": {\"class_name\": \"Zeros\", \"config\": {}}, \"kernel_regularizer\": null, \"bias_regularizer\": null, \"activity_regularizer\": null, \"kernel_constraint\": null, \"bias_constraint\": null}, \"inbound_nodes\": [[[\"activation_20\", 0, 0, {}]]]}, {\"name\": \"batch_normalization_21\", \"class_name\": \"BatchNormalization\", \"config\": {\"name\": \"batch_normalization_21\", \"trainable\": true, \"axis\": -1, \"momentum\": 0.99, \"epsilon\": 0.001, \"center\": true, \"scale\": true, \"beta_initializer\": {\"class_name\": \"Zeros\", \"config\": {}}, \"gamma_initializer\": {\"class_name\": \"Ones\", \"config\": {}}, \"moving_mean_initializer\": {\"class_name\": \"Zeros\", \"config\": {}}, \"moving_variance_initializer\": {\"class_name\": \"Ones\", \"config\": {}}, \"beta_regularizer\": null, \"gamma_regularizer\": null, \"beta_constraint\": null, \"gamma_constraint\": null}, \"inbound_nodes\": [[[\"conv2d_21\", 0, 0, {}]]]}, {\"name\": \"activation_21\", \"class_name\": \"Activation\", \"config\": {\"name\": \"activation_21\", \"trainable\": true, \"activation\": \"relu\"}, \"inbound_nodes\": [[[\"batch_normalization_21\", 0, 0, {}]]]}, {\"name\": \"conv2d_22\", \"class_name\": \"Conv2D\", \"config\": {\"name\": \"conv2d_22\", \"trainable\": true, \"filters\": 12, \"kernel_size\": [3, 3], \"strides\": [1, 1], \"padding\": \"same\", \"data_format\": \"channels_last\", \"dilation_rate\": [1, 1], \"activation\": \"linear\", \"use_bias\": false, \"kernel_initializer\": {\"class_name\": \"VarianceScaling\", \"config\": {\"scale\": 1.0, \"mode\": \"fan_avg\", \"distribution\": \"uniform\", \"seed\": null}}, \"bias_initializer\": {\"class_name\": \"Zeros\", \"config\": {}}, \"kernel_regularizer\": null, \"bias_regularizer\": null, \"activity_regularizer\": null, \"kernel_constraint\": null, \"bias_constraint\": null}, \"inbound_nodes\": [[[\"activation_21\", 0, 0, {}]]]}, {\"name\": \"dropout_11\", \"class_name\": \"Dropout\", \"config\": {\"name\": \"dropout_11\", \"trainable\": true, \"rate\": 0.3, \"noise_shape\": null, \"seed\": null}, \"inbound_nodes\": [[[\"conv2d_22\", 0, 0, {}]]]}, {\"name\": \"concatenate_10\", \"class_name\": \"Concatenate\", \"config\": {\"name\": \"concatenate_10\", \"trainable\": true, \"axis\": -1}, \"inbound_nodes\": [[[\"concatenate_9\", 0, 0, {}], [\"dropout_11\", 0, 0, {}]]]}, {\"name\": \"batch_normalization_22\", \"class_name\": \"BatchNormalization\", \"config\": {\"name\": \"batch_normalization_22\", \"trainable\": true, \"axis\": -1, \"momentum\": 0.99, \"epsilon\": 0.001, \"center\": true, \"scale\": true, \"beta_initializer\": {\"class_name\": \"Zeros\", \"config\": {}}, \"gamma_initializer\": {\"class_name\": \"Ones\", \"config\": {}}, \"moving_mean_initializer\": {\"class_name\": \"Zeros\", \"config\": {}}, \"moving_variance_initializer\": {\"class_name\": \"Ones\", \"config\": {}}, \"beta_regularizer\": null, \"gamma_regularizer\": null, \"beta_constraint\": null, \"gamma_constraint\": null}, \"inbound_nodes\": [[[\"concatenate_10\", 0, 0, {}]]]}, {\"name\": \"activation_22\", \"class_name\": \"Activation\", \"config\": {\"name\": \"activation_22\", \"trainable\": true, \"activation\": \"relu\"}, \"inbound_nodes\": [[[\"batch_normalization_22\", 0, 0, {}]]]}, {\"name\": \"conv2d_23\", \"class_name\": \"Conv2D\", \"config\": {\"name\": \"conv2d_23\", \"trainable\": true, \"filters\": 12, \"kernel_size\": [1, 1], \"strides\": [1, 1], \"padding\": \"same\", \"data_format\": \"channels_last\", \"dilation_rate\": [1, 1], \"activation\": \"linear\", \"use_bias\": false, \"kernel_initializer\": {\"class_name\": \"VarianceScaling\", \"config\": {\"scale\": 1.0, \"mode\": \"fan_avg\", \"distribution\": \"uniform\", \"seed\": null}}, \"bias_initializer\": {\"class_name\": \"Zeros\", \"config\": {}}, \"kernel_regularizer\": null, \"bias_regularizer\": null, \"activity_regularizer\": null, \"kernel_constraint\": null, \"bias_constraint\": null}, \"inbound_nodes\": [[[\"activation_22\", 0, 0, {}]]]}, {\"name\": \"batch_normalization_23\", \"class_name\": \"BatchNormalization\", \"config\": {\"name\": \"batch_normalization_23\", \"trainable\": true, \"axis\": -1, \"momentum\": 0.99, \"epsilon\": 0.001, \"center\": true, \"scale\": true, \"beta_initializer\": {\"class_name\": \"Zeros\", \"config\": {}}, \"gamma_initializer\": {\"class_name\": \"Ones\", \"config\": {}}, \"moving_mean_initializer\": {\"class_name\": \"Zeros\", \"config\": {}}, \"moving_variance_initializer\": {\"class_name\": \"Ones\", \"config\": {}}, \"beta_regularizer\": null, \"gamma_regularizer\": null, \"beta_constraint\": null, \"gamma_constraint\": null}, \"inbound_nodes\": [[[\"conv2d_23\", 0, 0, {}]]]}, {\"name\": \"activation_23\", \"class_name\": \"Activation\", \"config\": {\"name\": \"activation_23\", \"trainable\": true, \"activation\": \"relu\"}, \"inbound_nodes\": [[[\"batch_normalization_23\", 0, 0, {}]]]}, {\"name\": \"conv2d_24\", \"class_name\": \"Conv2D\", \"config\": {\"name\": \"conv2d_24\", \"trainable\": true, \"filters\": 12, \"kernel_size\": [3, 3], \"strides\": [1, 1], \"padding\": \"same\", \"data_format\": \"channels_last\", \"dilation_rate\": [1, 1], \"activation\": \"linear\", \"use_bias\": false, \"kernel_initializer\": {\"class_name\": \"VarianceScaling\", \"config\": {\"scale\": 1.0, \"mode\": \"fan_avg\", \"distribution\": \"uniform\", \"seed\": null}}, \"bias_initializer\": {\"class_name\": \"Zeros\", \"config\": {}}, \"kernel_regularizer\": null, \"bias_regularizer\": null, \"activity_regularizer\": null, \"kernel_constraint\": null, \"bias_constraint\": null}, \"inbound_nodes\": [[[\"activation_23\", 0, 0, {}]]]}, {\"name\": \"dropout_12\", \"class_name\": \"Dropout\", \"config\": {\"name\": \"dropout_12\", \"trainable\": true, \"rate\": 0.3, \"noise_shape\": null, \"seed\": null}, \"inbound_nodes\": [[[\"conv2d_24\", 0, 0, {}]]]}, {\"name\": \"concatenate_11\", \"class_name\": \"Concatenate\", \"config\": {\"name\": \"concatenate_11\", \"trainable\": true, \"axis\": -1}, \"inbound_nodes\": [[[\"concatenate_10\", 0, 0, {}], [\"dropout_12\", 0, 0, {}]]]}, {\"name\": \"batch_normalization_24\", \"class_name\": \"BatchNormalization\", \"config\": {\"name\": \"batch_normalization_24\", \"trainable\": true, \"axis\": -1, \"momentum\": 0.99, \"epsilon\": 0.001, \"center\": true, \"scale\": true, \"beta_initializer\": {\"class_name\": \"Zeros\", \"config\": {}}, \"gamma_initializer\": {\"class_name\": \"Ones\", \"config\": {}}, \"moving_mean_initializer\": {\"class_name\": \"Zeros\", \"config\": {}}, \"moving_variance_initializer\": {\"class_name\": \"Ones\", \"config\": {}}, \"beta_regularizer\": null, \"gamma_regularizer\": null, \"beta_constraint\": null, \"gamma_constraint\": null}, \"inbound_nodes\": [[[\"concatenate_11\", 0, 0, {}]]]}, {\"name\": \"activation_24\", \"class_name\": \"Activation\", \"config\": {\"name\": \"activation_24\", \"trainable\": true, \"activation\": \"relu\"}, \"inbound_nodes\": [[[\"batch_normalization_24\", 0, 0, {}]]]}, {\"name\": \"conv2d_25\", \"class_name\": \"Conv2D\", \"config\": {\"name\": \"conv2d_25\", \"trainable\": true, \"filters\": 12, \"kernel_size\": [1, 1], \"strides\": [1, 1], \"padding\": \"same\", \"data_format\": \"channels_last\", \"dilation_rate\": [1, 1], \"activation\": \"linear\", \"use_bias\": false, \"kernel_initializer\": {\"class_name\": \"VarianceScaling\", \"config\": {\"scale\": 1.0, \"mode\": \"fan_avg\", \"distribution\": \"uniform\", \"seed\": null}}, \"bias_initializer\": {\"class_name\": \"Zeros\", \"config\": {}}, \"kernel_regularizer\": null, \"bias_regularizer\": null, \"activity_regularizer\": null, \"kernel_constraint\": null, \"bias_constraint\": null}, \"inbound_nodes\": [[[\"activation_24\", 0, 0, {}]]]}, {\"name\": \"batch_normalization_25\", \"class_name\": \"BatchNormalization\", \"config\": {\"name\": \"batch_normalization_25\", \"trainable\": true, \"axis\": -1, \"momentum\": 0.99, \"epsilon\": 0.001, \"center\": true, \"scale\": true, \"beta_initializer\": {\"class_name\": \"Zeros\", \"config\": {}}, \"gamma_initializer\": {\"class_name\": \"Ones\", \"config\": {}}, \"moving_mean_initializer\": {\"class_name\": \"Zeros\", \"config\": {}}, \"moving_variance_initializer\": {\"class_name\": \"Ones\", \"config\": {}}, \"beta_regularizer\": null, \"gamma_regularizer\": null, \"beta_constraint\": null, \"gamma_constraint\": null}, \"inbound_nodes\": [[[\"conv2d_25\", 0, 0, {}]]]}, {\"name\": \"activation_25\", \"class_name\": \"Activation\", \"config\": {\"name\": \"activation_25\", \"trainable\": true, \"activation\": \"relu\"}, \"inbound_nodes\": [[[\"batch_normalization_25\", 0, 0, {}]]]}, {\"name\": \"conv2d_26\", \"class_name\": \"Conv2D\", \"config\": {\"name\": \"conv2d_26\", \"trainable\": true, \"filters\": 12, \"kernel_size\": [3, 3], \"strides\": [1, 1], \"padding\": \"same\", \"data_format\": \"channels_last\", \"dilation_rate\": [1, 1], \"activation\": \"linear\", \"use_bias\": false, \"kernel_initializer\": {\"class_name\": \"VarianceScaling\", \"config\": {\"scale\": 1.0, \"mode\": \"fan_avg\", \"distribution\": \"uniform\", \"seed\": null}}, \"bias_initializer\": {\"class_name\": \"Zeros\", \"config\": {}}, \"kernel_regularizer\": null, \"bias_regularizer\": null, \"activity_regularizer\": null, \"kernel_constraint\": null, \"bias_constraint\": null}, \"inbound_nodes\": [[[\"activation_25\", 0, 0, {}]]]}, {\"name\": \"dropout_13\", \"class_name\": \"Dropout\", \"config\": {\"name\": \"dropout_13\", \"trainable\": true, \"rate\": 0.3, \"noise_shape\": null, \"seed\": null}, \"inbound_nodes\": [[[\"conv2d_26\", 0, 0, {}]]]}, {\"name\": \"concatenate_12\", \"class_name\": \"Concatenate\", \"config\": {\"name\": \"concatenate_12\", \"trainable\": true, \"axis\": -1}, \"inbound_nodes\": [[[\"concatenate_11\", 0, 0, {}], [\"dropout_13\", 0, 0, {}]]]}, {\"name\": \"batch_normalization_26\", \"class_name\": \"BatchNormalization\", \"config\": {\"name\": \"batch_normalization_26\", \"trainable\": true, \"axis\": -1, \"momentum\": 0.99, \"epsilon\": 0.001, \"center\": true, \"scale\": true, \"beta_initializer\": {\"class_name\": \"Zeros\", \"config\": {}}, \"gamma_initializer\": {\"class_name\": \"Ones\", \"config\": {}}, \"moving_mean_initializer\": {\"class_name\": \"Zeros\", \"config\": {}}, \"moving_variance_initializer\": {\"class_name\": \"Ones\", \"config\": {}}, \"beta_regularizer\": null, \"gamma_regularizer\": null, \"beta_constraint\": null, \"gamma_constraint\": null}, \"inbound_nodes\": [[[\"concatenate_12\", 0, 0, {}]]]}, {\"name\": \"activation_26\", \"class_name\": \"Activation\", \"config\": {\"name\": \"activation_26\", \"trainable\": true, \"activation\": \"relu\"}, \"inbound_nodes\": [[[\"batch_normalization_26\", 0, 0, {}]]]}, {\"name\": \"conv2d_27\", \"class_name\": \"Conv2D\", \"config\": {\"name\": \"conv2d_27\", \"trainable\": true, \"filters\": 12, \"kernel_size\": [1, 1], \"strides\": [1, 1], \"padding\": \"same\", \"data_format\": \"channels_last\", \"dilation_rate\": [1, 1], \"activation\": \"linear\", \"use_bias\": false, \"kernel_initializer\": {\"class_name\": \"VarianceScaling\", \"config\": {\"scale\": 1.0, \"mode\": \"fan_avg\", \"distribution\": \"uniform\", \"seed\": null}}, \"bias_initializer\": {\"class_name\": \"Zeros\", \"config\": {}}, \"kernel_regularizer\": null, \"bias_regularizer\": null, \"activity_regularizer\": null, \"kernel_constraint\": null, \"bias_constraint\": null}, \"inbound_nodes\": [[[\"activation_26\", 0, 0, {}]]]}, {\"name\": \"batch_normalization_27\", \"class_name\": \"BatchNormalization\", \"config\": {\"name\": \"batch_normalization_27\", \"trainable\": true, \"axis\": -1, \"momentum\": 0.99, \"epsilon\": 0.001, \"center\": true, \"scale\": true, \"beta_initializer\": {\"class_name\": \"Zeros\", \"config\": {}}, \"gamma_initializer\": {\"class_name\": \"Ones\", \"config\": {}}, \"moving_mean_initializer\": {\"class_name\": \"Zeros\", \"config\": {}}, \"moving_variance_initializer\": {\"class_name\": \"Ones\", \"config\": {}}, \"beta_regularizer\": null, \"gamma_regularizer\": null, \"beta_constraint\": null, \"gamma_constraint\": null}, \"inbound_nodes\": [[[\"conv2d_27\", 0, 0, {}]]]}, {\"name\": \"activation_27\", \"class_name\": \"Activation\", \"config\": {\"name\": \"activation_27\", \"trainable\": true, \"activation\": \"relu\"}, \"inbound_nodes\": [[[\"batch_normalization_27\", 0, 0, {}]]]}, {\"name\": \"conv2d_28\", \"class_name\": \"Conv2D\", \"config\": {\"name\": \"conv2d_28\", \"trainable\": true, \"filters\": 12, \"kernel_size\": [3, 3], \"strides\": [1, 1], \"padding\": \"same\", \"data_format\": \"channels_last\", \"dilation_rate\": [1, 1], \"activation\": \"linear\", \"use_bias\": false, \"kernel_initializer\": {\"class_name\": \"VarianceScaling\", \"config\": {\"scale\": 1.0, \"mode\": \"fan_avg\", \"distribution\": \"uniform\", \"seed\": null}}, \"bias_initializer\": {\"class_name\": \"Zeros\", \"config\": {}}, \"kernel_regularizer\": null, \"bias_regularizer\": null, \"activity_regularizer\": null, \"kernel_constraint\": null, \"bias_constraint\": null}, \"inbound_nodes\": [[[\"activation_27\", 0, 0, {}]]]}, {\"name\": \"dropout_14\", \"class_name\": \"Dropout\", \"config\": {\"name\": \"dropout_14\", \"trainable\": true, \"rate\": 0.3, \"noise_shape\": null, \"seed\": null}, \"inbound_nodes\": [[[\"conv2d_28\", 0, 0, {}]]]}, {\"name\": \"concatenate_13\", \"class_name\": \"Concatenate\", \"config\": {\"name\": \"concatenate_13\", \"trainable\": true, \"axis\": -1}, \"inbound_nodes\": [[[\"concatenate_12\", 0, 0, {}], [\"dropout_14\", 0, 0, {}]]]}, {\"name\": \"batch_normalization_28\", \"class_name\": \"BatchNormalization\", \"config\": {\"name\": \"batch_normalization_28\", \"trainable\": true, \"axis\": -1, \"momentum\": 0.99, \"epsilon\": 0.001, \"center\": true, \"scale\": true, \"beta_initializer\": {\"class_name\": \"Zeros\", \"config\": {}}, \"gamma_initializer\": {\"class_name\": \"Ones\", \"config\": {}}, \"moving_mean_initializer\": {\"class_name\": \"Zeros\", \"config\": {}}, \"moving_variance_initializer\": {\"class_name\": \"Ones\", \"config\": {}}, \"beta_regularizer\": null, \"gamma_regularizer\": null, \"beta_constraint\": null, \"gamma_constraint\": null}, \"inbound_nodes\": [[[\"concatenate_13\", 0, 0, {}]]]}, {\"name\": \"activation_28\", \"class_name\": \"Activation\", \"config\": {\"name\": \"activation_28\", \"trainable\": true, \"activation\": \"relu\"}, \"inbound_nodes\": [[[\"batch_normalization_28\", 0, 0, {}]]]}, {\"name\": \"conv2d_29\", \"class_name\": \"Conv2D\", \"config\": {\"name\": \"conv2d_29\", \"trainable\": true, \"filters\": 12, \"kernel_size\": [1, 1], \"strides\": [1, 1], \"padding\": \"same\", \"data_format\": \"channels_last\", \"dilation_rate\": [1, 1], \"activation\": \"linear\", \"use_bias\": false, \"kernel_initializer\": {\"class_name\": \"VarianceScaling\", \"config\": {\"scale\": 1.0, \"mode\": \"fan_avg\", \"distribution\": \"uniform\", \"seed\": null}}, \"bias_initializer\": {\"class_name\": \"Zeros\", \"config\": {}}, \"kernel_regularizer\": null, \"bias_regularizer\": null, \"activity_regularizer\": null, \"kernel_constraint\": null, \"bias_constraint\": null}, \"inbound_nodes\": [[[\"activation_28\", 0, 0, {}]]]}, {\"name\": \"batch_normalization_29\", \"class_name\": \"BatchNormalization\", \"config\": {\"name\": \"batch_normalization_29\", \"trainable\": true, \"axis\": -1, \"momentum\": 0.99, \"epsilon\": 0.001, \"center\": true, \"scale\": true, \"beta_initializer\": {\"class_name\": \"Zeros\", \"config\": {}}, \"gamma_initializer\": {\"class_name\": \"Ones\", \"config\": {}}, \"moving_mean_initializer\": {\"class_name\": \"Zeros\", \"config\": {}}, \"moving_variance_initializer\": {\"class_name\": \"Ones\", \"config\": {}}, \"beta_regularizer\": null, \"gamma_regularizer\": null, \"beta_constraint\": null, \"gamma_constraint\": null}, \"inbound_nodes\": [[[\"conv2d_29\", 0, 0, {}]]]}, {\"name\": \"activation_29\", \"class_name\": \"Activation\", \"config\": {\"name\": \"activation_29\", \"trainable\": true, \"activation\": \"relu\"}, \"inbound_nodes\": [[[\"batch_normalization_29\", 0, 0, {}]]]}, {\"name\": \"conv2d_30\", \"class_name\": \"Conv2D\", \"config\": {\"name\": \"conv2d_30\", \"trainable\": true, \"filters\": 12, \"kernel_size\": [3, 3], \"strides\": [1, 1], \"padding\": \"same\", \"data_format\": \"channels_last\", \"dilation_rate\": [1, 1], \"activation\": \"linear\", \"use_bias\": false, \"kernel_initializer\": {\"class_name\": \"VarianceScaling\", \"config\": {\"scale\": 1.0, \"mode\": \"fan_avg\", \"distribution\": \"uniform\", \"seed\": null}}, \"bias_initializer\": {\"class_name\": \"Zeros\", \"config\": {}}, \"kernel_regularizer\": null, \"bias_regularizer\": null, \"activity_regularizer\": null, \"kernel_constraint\": null, \"bias_constraint\": null}, \"inbound_nodes\": [[[\"activation_29\", 0, 0, {}]]]}, {\"name\": \"dropout_15\", \"class_name\": \"Dropout\", \"config\": {\"name\": \"dropout_15\", \"trainable\": true, \"rate\": 0.3, \"noise_shape\": null, \"seed\": null}, \"inbound_nodes\": [[[\"conv2d_30\", 0, 0, {}]]]}, {\"name\": \"concatenate_14\", \"class_name\": \"Concatenate\", \"config\": {\"name\": \"concatenate_14\", \"trainable\": true, \"axis\": -1}, \"inbound_nodes\": [[[\"concatenate_13\", 0, 0, {}], [\"dropout_15\", 0, 0, {}]]]}, {\"name\": \"batch_normalization_30\", \"class_name\": \"BatchNormalization\", \"config\": {\"name\": \"batch_normalization_30\", \"trainable\": true, \"axis\": -1, \"momentum\": 0.99, \"epsilon\": 0.001, \"center\": true, \"scale\": true, \"beta_initializer\": {\"class_name\": \"Zeros\", \"config\": {}}, \"gamma_initializer\": {\"class_name\": \"Ones\", \"config\": {}}, \"moving_mean_initializer\": {\"class_name\": \"Zeros\", \"config\": {}}, \"moving_variance_initializer\": {\"class_name\": \"Ones\", \"config\": {}}, \"beta_regularizer\": null, \"gamma_regularizer\": null, \"beta_constraint\": null, \"gamma_constraint\": null}, \"inbound_nodes\": [[[\"concatenate_14\", 0, 0, {}]]]}, {\"name\": \"activation_30\", \"class_name\": \"Activation\", \"config\": {\"name\": \"activation_30\", \"trainable\": true, \"activation\": \"relu\"}, \"inbound_nodes\": [[[\"batch_normalization_30\", 0, 0, {}]]]}, {\"name\": \"conv2d_31\", \"class_name\": \"Conv2D\", \"config\": {\"name\": \"conv2d_31\", \"trainable\": true, \"filters\": 12, \"kernel_size\": [1, 1], \"strides\": [1, 1], \"padding\": \"same\", \"data_format\": \"channels_last\", \"dilation_rate\": [1, 1], \"activation\": \"linear\", \"use_bias\": false, \"kernel_initializer\": {\"class_name\": \"VarianceScaling\", \"config\": {\"scale\": 1.0, \"mode\": \"fan_avg\", \"distribution\": \"uniform\", \"seed\": null}}, \"bias_initializer\": {\"class_name\": \"Zeros\", \"config\": {}}, \"kernel_regularizer\": null, \"bias_regularizer\": null, \"activity_regularizer\": null, \"kernel_constraint\": null, \"bias_constraint\": null}, \"inbound_nodes\": [[[\"activation_30\", 0, 0, {}]]]}, {\"name\": \"batch_normalization_31\", \"class_name\": \"BatchNormalization\", \"config\": {\"name\": \"batch_normalization_31\", \"trainable\": true, \"axis\": -1, \"momentum\": 0.99, \"epsilon\": 0.001, \"center\": true, \"scale\": true, \"beta_initializer\": {\"class_name\": \"Zeros\", \"config\": {}}, \"gamma_initializer\": {\"class_name\": \"Ones\", \"config\": {}}, \"moving_mean_initializer\": {\"class_name\": \"Zeros\", \"config\": {}}, \"moving_variance_initializer\": {\"class_name\": \"Ones\", \"config\": {}}, \"beta_regularizer\": null, \"gamma_regularizer\": null, \"beta_constraint\": null, \"gamma_constraint\": null}, \"inbound_nodes\": [[[\"conv2d_31\", 0, 0, {}]]]}, {\"name\": \"activation_31\", \"class_name\": \"Activation\", \"config\": {\"name\": \"activation_31\", \"trainable\": true, \"activation\": \"relu\"}, \"inbound_nodes\": [[[\"batch_normalization_31\", 0, 0, {}]]]}, {\"name\": \"conv2d_32\", \"class_name\": \"Conv2D\", \"config\": {\"name\": \"conv2d_32\", \"trainable\": true, \"filters\": 12, \"kernel_size\": [3, 3], \"strides\": [1, 1], \"padding\": \"same\", \"data_format\": \"channels_last\", \"dilation_rate\": [1, 1], \"activation\": \"linear\", \"use_bias\": false, \"kernel_initializer\": {\"class_name\": \"VarianceScaling\", \"config\": {\"scale\": 1.0, \"mode\": \"fan_avg\", \"distribution\": \"uniform\", \"seed\": null}}, \"bias_initializer\": {\"class_name\": \"Zeros\", \"config\": {}}, \"kernel_regularizer\": null, \"bias_regularizer\": null, \"activity_regularizer\": null, \"kernel_constraint\": null, \"bias_constraint\": null}, \"inbound_nodes\": [[[\"activation_31\", 0, 0, {}]]]}, {\"name\": \"dropout_16\", \"class_name\": \"Dropout\", \"config\": {\"name\": \"dropout_16\", \"trainable\": true, \"rate\": 0.3, \"noise_shape\": null, \"seed\": null}, \"inbound_nodes\": [[[\"conv2d_32\", 0, 0, {}]]]}, {\"name\": \"concatenate_15\", \"class_name\": \"Concatenate\", \"config\": {\"name\": \"concatenate_15\", \"trainable\": true, \"axis\": -1}, \"inbound_nodes\": [[[\"concatenate_14\", 0, 0, {}], [\"dropout_16\", 0, 0, {}]]]}, {\"name\": \"batch_normalization_32\", \"class_name\": \"BatchNormalization\", \"config\": {\"name\": \"batch_normalization_32\", \"trainable\": true, \"axis\": -1, \"momentum\": 0.99, \"epsilon\": 0.001, \"center\": true, \"scale\": true, \"beta_initializer\": {\"class_name\": \"Zeros\", \"config\": {}}, \"gamma_initializer\": {\"class_name\": \"Ones\", \"config\": {}}, \"moving_mean_initializer\": {\"class_name\": \"Zeros\", \"config\": {}}, \"moving_variance_initializer\": {\"class_name\": \"Ones\", \"config\": {}}, \"beta_regularizer\": null, \"gamma_regularizer\": null, \"beta_constraint\": null, \"gamma_constraint\": null}, \"inbound_nodes\": [[[\"concatenate_15\", 0, 0, {}]]]}, {\"name\": \"activation_32\", \"class_name\": \"Activation\", \"config\": {\"name\": \"activation_32\", \"trainable\": true, \"activation\": \"relu\"}, \"inbound_nodes\": [[[\"batch_normalization_32\", 0, 0, {}]]]}, {\"name\": \"conv2d_33\", \"class_name\": \"Conv2D\", \"config\": {\"name\": \"conv2d_33\", \"trainable\": true, \"filters\": 12, \"kernel_size\": [1, 1], \"strides\": [1, 1], \"padding\": \"same\", \"data_format\": \"channels_last\", \"dilation_rate\": [1, 1], \"activation\": \"linear\", \"use_bias\": false, \"kernel_initializer\": {\"class_name\": \"VarianceScaling\", \"config\": {\"scale\": 1.0, \"mode\": \"fan_avg\", \"distribution\": \"uniform\", \"seed\": null}}, \"bias_initializer\": {\"class_name\": \"Zeros\", \"config\": {}}, \"kernel_regularizer\": null, \"bias_regularizer\": null, \"activity_regularizer\": null, \"kernel_constraint\": null, \"bias_constraint\": null}, \"inbound_nodes\": [[[\"activation_32\", 0, 0, {}]]]}, {\"name\": \"batch_normalization_33\", \"class_name\": \"BatchNormalization\", \"config\": {\"name\": \"batch_normalization_33\", \"trainable\": true, \"axis\": -1, \"momentum\": 0.99, \"epsilon\": 0.001, \"center\": true, \"scale\": true, \"beta_initializer\": {\"class_name\": \"Zeros\", \"config\": {}}, \"gamma_initializer\": {\"class_name\": \"Ones\", \"config\": {}}, \"moving_mean_initializer\": {\"class_name\": \"Zeros\", \"config\": {}}, \"moving_variance_initializer\": {\"class_name\": \"Ones\", \"config\": {}}, \"beta_regularizer\": null, \"gamma_regularizer\": null, \"beta_constraint\": null, \"gamma_constraint\": null}, \"inbound_nodes\": [[[\"conv2d_33\", 0, 0, {}]]]}, {\"name\": \"activation_33\", \"class_name\": \"Activation\", \"config\": {\"name\": \"activation_33\", \"trainable\": true, \"activation\": \"relu\"}, \"inbound_nodes\": [[[\"batch_normalization_33\", 0, 0, {}]]]}, {\"name\": \"conv2d_34\", \"class_name\": \"Conv2D\", \"config\": {\"name\": \"conv2d_34\", \"trainable\": true, \"filters\": 12, \"kernel_size\": [3, 3], \"strides\": [1, 1], \"padding\": \"same\", \"data_format\": \"channels_last\", \"dilation_rate\": [1, 1], \"activation\": \"linear\", \"use_bias\": false, \"kernel_initializer\": {\"class_name\": \"VarianceScaling\", \"config\": {\"scale\": 1.0, \"mode\": \"fan_avg\", \"distribution\": \"uniform\", \"seed\": null}}, \"bias_initializer\": {\"class_name\": \"Zeros\", \"config\": {}}, \"kernel_regularizer\": null, \"bias_regularizer\": null, \"activity_regularizer\": null, \"kernel_constraint\": null, \"bias_constraint\": null}, \"inbound_nodes\": [[[\"activation_33\", 0, 0, {}]]]}, {\"name\": \"dropout_17\", \"class_name\": \"Dropout\", \"config\": {\"name\": \"dropout_17\", \"trainable\": true, \"rate\": 0.3, \"noise_shape\": null, \"seed\": null}, \"inbound_nodes\": [[[\"conv2d_34\", 0, 0, {}]]]}, {\"name\": \"concatenate_16\", \"class_name\": \"Concatenate\", \"config\": {\"name\": \"concatenate_16\", \"trainable\": true, \"axis\": -1}, \"inbound_nodes\": [[[\"concatenate_15\", 0, 0, {}], [\"dropout_17\", 0, 0, {}]]]}, {\"name\": \"batch_normalization_34\", \"class_name\": \"BatchNormalization\", \"config\": {\"name\": \"batch_normalization_34\", \"trainable\": true, \"axis\": -1, \"momentum\": 0.99, \"epsilon\": 0.001, \"center\": true, \"scale\": true, \"beta_initializer\": {\"class_name\": \"Zeros\", \"config\": {}}, \"gamma_initializer\": {\"class_name\": \"Ones\", \"config\": {}}, \"moving_mean_initializer\": {\"class_name\": \"Zeros\", \"config\": {}}, \"moving_variance_initializer\": {\"class_name\": \"Ones\", \"config\": {}}, \"beta_regularizer\": null, \"gamma_regularizer\": null, \"beta_constraint\": null, \"gamma_constraint\": null}, \"inbound_nodes\": [[[\"concatenate_16\", 0, 0, {}]]]}, {\"name\": \"activation_34\", \"class_name\": \"Activation\", \"config\": {\"name\": \"activation_34\", \"trainable\": true, \"activation\": \"relu\"}, \"inbound_nodes\": [[[\"batch_normalization_34\", 0, 0, {}]]]}, {\"name\": \"conv2d_35\", \"class_name\": \"Conv2D\", \"config\": {\"name\": \"conv2d_35\", \"trainable\": true, \"filters\": 12, \"kernel_size\": [1, 1], \"strides\": [1, 1], \"padding\": \"same\", \"data_format\": \"channels_last\", \"dilation_rate\": [1, 1], \"activation\": \"linear\", \"use_bias\": false, \"kernel_initializer\": {\"class_name\": \"VarianceScaling\", \"config\": {\"scale\": 1.0, \"mode\": \"fan_avg\", \"distribution\": \"uniform\", \"seed\": null}}, \"bias_initializer\": {\"class_name\": \"Zeros\", \"config\": {}}, \"kernel_regularizer\": null, \"bias_regularizer\": null, \"activity_regularizer\": null, \"kernel_constraint\": null, \"bias_constraint\": null}, \"inbound_nodes\": [[[\"activation_34\", 0, 0, {}]]]}, {\"name\": \"batch_normalization_35\", \"class_name\": \"BatchNormalization\", \"config\": {\"name\": \"batch_normalization_35\", \"trainable\": true, \"axis\": -1, \"momentum\": 0.99, \"epsilon\": 0.001, \"center\": true, \"scale\": true, \"beta_initializer\": {\"class_name\": \"Zeros\", \"config\": {}}, \"gamma_initializer\": {\"class_name\": \"Ones\", \"config\": {}}, \"moving_mean_initializer\": {\"class_name\": \"Zeros\", \"config\": {}}, \"moving_variance_initializer\": {\"class_name\": \"Ones\", \"config\": {}}, \"beta_regularizer\": null, \"gamma_regularizer\": null, \"beta_constraint\": null, \"gamma_constraint\": null}, \"inbound_nodes\": [[[\"conv2d_35\", 0, 0, {}]]]}, {\"name\": \"activation_35\", \"class_name\": \"Activation\", \"config\": {\"name\": \"activation_35\", \"trainable\": true, \"activation\": \"relu\"}, \"inbound_nodes\": [[[\"batch_normalization_35\", 0, 0, {}]]]}, {\"name\": \"conv2d_36\", \"class_name\": \"Conv2D\", \"config\": {\"name\": \"conv2d_36\", \"trainable\": true, \"filters\": 12, \"kernel_size\": [3, 3], \"strides\": [1, 1], \"padding\": \"same\", \"data_format\": \"channels_last\", \"dilation_rate\": [1, 1], \"activation\": \"linear\", \"use_bias\": false, \"kernel_initializer\": {\"class_name\": \"VarianceScaling\", \"config\": {\"scale\": 1.0, \"mode\": \"fan_avg\", \"distribution\": \"uniform\", \"seed\": null}}, \"bias_initializer\": {\"class_name\": \"Zeros\", \"config\": {}}, \"kernel_regularizer\": null, \"bias_regularizer\": null, \"activity_regularizer\": null, \"kernel_constraint\": null, \"bias_constraint\": null}, \"inbound_nodes\": [[[\"activation_35\", 0, 0, {}]]]}, {\"name\": \"dropout_18\", \"class_name\": \"Dropout\", \"config\": {\"name\": \"dropout_18\", \"trainable\": true, \"rate\": 0.3, \"noise_shape\": null, \"seed\": null}, \"inbound_nodes\": [[[\"conv2d_36\", 0, 0, {}]]]}, {\"name\": \"concatenate_17\", \"class_name\": \"Concatenate\", \"config\": {\"name\": \"concatenate_17\", \"trainable\": true, \"axis\": -1}, \"inbound_nodes\": [[[\"concatenate_16\", 0, 0, {}], [\"dropout_18\", 0, 0, {}]]]}, {\"name\": \"batch_normalization_36\", \"class_name\": \"BatchNormalization\", \"config\": {\"name\": \"batch_normalization_36\", \"trainable\": true, \"axis\": -1, \"momentum\": 0.99, \"epsilon\": 0.001, \"center\": true, \"scale\": true, \"beta_initializer\": {\"class_name\": \"Zeros\", \"config\": {}}, \"gamma_initializer\": {\"class_name\": \"Ones\", \"config\": {}}, \"moving_mean_initializer\": {\"class_name\": \"Zeros\", \"config\": {}}, \"moving_variance_initializer\": {\"class_name\": \"Ones\", \"config\": {}}, \"beta_regularizer\": null, \"gamma_regularizer\": null, \"beta_constraint\": null, \"gamma_constraint\": null}, \"inbound_nodes\": [[[\"concatenate_17\", 0, 0, {}]]]}, {\"name\": \"activation_36\", \"class_name\": \"Activation\", \"config\": {\"name\": \"activation_36\", \"trainable\": true, \"activation\": \"relu\"}, \"inbound_nodes\": [[[\"batch_normalization_36\", 0, 0, {}]]]}, {\"name\": \"conv2d_37\", \"class_name\": \"Conv2D\", \"config\": {\"name\": \"conv2d_37\", \"trainable\": true, \"filters\": 12, \"kernel_size\": [1, 1], \"strides\": [1, 1], \"padding\": \"same\", \"data_format\": \"channels_last\", \"dilation_rate\": [1, 1], \"activation\": \"linear\", \"use_bias\": false, \"kernel_initializer\": {\"class_name\": \"VarianceScaling\", \"config\": {\"scale\": 1.0, \"mode\": \"fan_avg\", \"distribution\": \"uniform\", \"seed\": null}}, \"bias_initializer\": {\"class_name\": \"Zeros\", \"config\": {}}, \"kernel_regularizer\": null, \"bias_regularizer\": null, \"activity_regularizer\": null, \"kernel_constraint\": null, \"bias_constraint\": null}, \"inbound_nodes\": [[[\"activation_36\", 0, 0, {}]]]}, {\"name\": \"batch_normalization_37\", \"class_name\": \"BatchNormalization\", \"config\": {\"name\": \"batch_normalization_37\", \"trainable\": true, \"axis\": -1, \"momentum\": 0.99, \"epsilon\": 0.001, \"center\": true, \"scale\": true, \"beta_initializer\": {\"class_name\": \"Zeros\", \"config\": {}}, \"gamma_initializer\": {\"class_name\": \"Ones\", \"config\": {}}, \"moving_mean_initializer\": {\"class_name\": \"Zeros\", \"config\": {}}, \"moving_variance_initializer\": {\"class_name\": \"Ones\", \"config\": {}}, \"beta_regularizer\": null, \"gamma_regularizer\": null, \"beta_constraint\": null, \"gamma_constraint\": null}, \"inbound_nodes\": [[[\"conv2d_37\", 0, 0, {}]]]}, {\"name\": \"activation_37\", \"class_name\": \"Activation\", \"config\": {\"name\": \"activation_37\", \"trainable\": true, \"activation\": \"relu\"}, \"inbound_nodes\": [[[\"batch_normalization_37\", 0, 0, {}]]]}, {\"name\": \"conv2d_38\", \"class_name\": \"Conv2D\", \"config\": {\"name\": \"conv2d_38\", \"trainable\": true, \"filters\": 12, \"kernel_size\": [3, 3], \"strides\": [1, 1], \"padding\": \"same\", \"data_format\": \"channels_last\", \"dilation_rate\": [1, 1], \"activation\": \"linear\", \"use_bias\": false, \"kernel_initializer\": {\"class_name\": \"VarianceScaling\", \"config\": {\"scale\": 1.0, \"mode\": \"fan_avg\", \"distribution\": \"uniform\", \"seed\": null}}, \"bias_initializer\": {\"class_name\": \"Zeros\", \"config\": {}}, \"kernel_regularizer\": null, \"bias_regularizer\": null, \"activity_regularizer\": null, \"kernel_constraint\": null, \"bias_constraint\": null}, \"inbound_nodes\": [[[\"activation_37\", 0, 0, {}]]]}, {\"name\": \"dropout_19\", \"class_name\": \"Dropout\", \"config\": {\"name\": \"dropout_19\", \"trainable\": true, \"rate\": 0.3, \"noise_shape\": null, \"seed\": null}, \"inbound_nodes\": [[[\"conv2d_38\", 0, 0, {}]]]}, {\"name\": \"concatenate_18\", \"class_name\": \"Concatenate\", \"config\": {\"name\": \"concatenate_18\", \"trainable\": true, \"axis\": -1}, \"inbound_nodes\": [[[\"concatenate_17\", 0, 0, {}], [\"dropout_19\", 0, 0, {}]]]}, {\"name\": \"batch_normalization_38\", \"class_name\": \"BatchNormalization\", \"config\": {\"name\": \"batch_normalization_38\", \"trainable\": true, \"axis\": -1, \"momentum\": 0.99, \"epsilon\": 0.001, \"center\": true, \"scale\": true, \"beta_initializer\": {\"class_name\": \"Zeros\", \"config\": {}}, \"gamma_initializer\": {\"class_name\": \"Ones\", \"config\": {}}, \"moving_mean_initializer\": {\"class_name\": \"Zeros\", \"config\": {}}, \"moving_variance_initializer\": {\"class_name\": \"Ones\", \"config\": {}}, \"beta_regularizer\": null, \"gamma_regularizer\": null, \"beta_constraint\": null, \"gamma_constraint\": null}, \"inbound_nodes\": [[[\"concatenate_18\", 0, 0, {}]]]}, {\"name\": \"activation_38\", \"class_name\": \"Activation\", \"config\": {\"name\": \"activation_38\", \"trainable\": true, \"activation\": \"relu\"}, \"inbound_nodes\": [[[\"batch_normalization_38\", 0, 0, {}]]]}, {\"name\": \"conv2d_39\", \"class_name\": \"Conv2D\", \"config\": {\"name\": \"conv2d_39\", \"trainable\": true, \"filters\": 12, \"kernel_size\": [1, 1], \"strides\": [1, 1], \"padding\": \"same\", \"data_format\": \"channels_last\", \"dilation_rate\": [1, 1], \"activation\": \"linear\", \"use_bias\": false, \"kernel_initializer\": {\"class_name\": \"VarianceScaling\", \"config\": {\"scale\": 1.0, \"mode\": \"fan_avg\", \"distribution\": \"uniform\", \"seed\": null}}, \"bias_initializer\": {\"class_name\": \"Zeros\", \"config\": {}}, \"kernel_regularizer\": null, \"bias_regularizer\": null, \"activity_regularizer\": null, \"kernel_constraint\": null, \"bias_constraint\": null}, \"inbound_nodes\": [[[\"activation_38\", 0, 0, {}]]]}, {\"name\": \"dropout_20\", \"class_name\": \"Dropout\", \"config\": {\"name\": \"dropout_20\", \"trainable\": true, \"rate\": 0.3, \"noise_shape\": null, \"seed\": null}, \"inbound_nodes\": [[[\"conv2d_39\", 0, 0, {}]]]}, {\"name\": \"average_pooling2d_2\", \"class_name\": \"AveragePooling2D\", \"config\": {\"name\": \"average_pooling2d_2\", \"trainable\": true, \"pool_size\": [2, 2], \"padding\": \"valid\", \"strides\": [2, 2], \"data_format\": \"channels_last\"}, \"inbound_nodes\": [[[\"dropout_20\", 0, 0, {}]]]}, {\"name\": \"batch_normalization_39\", \"class_name\": \"BatchNormalization\", \"config\": {\"name\": \"batch_normalization_39\", \"trainable\": true, \"axis\": -1, \"momentum\": 0.99, \"epsilon\": 0.001, \"center\": true, \"scale\": true, \"beta_initializer\": {\"class_name\": \"Zeros\", \"config\": {}}, \"gamma_initializer\": {\"class_name\": \"Ones\", \"config\": {}}, \"moving_mean_initializer\": {\"class_name\": \"Zeros\", \"config\": {}}, \"moving_variance_initializer\": {\"class_name\": \"Ones\", \"config\": {}}, \"beta_regularizer\": null, \"gamma_regularizer\": null, \"beta_constraint\": null, \"gamma_constraint\": null}, \"inbound_nodes\": [[[\"average_pooling2d_2\", 0, 0, {}]]]}, {\"name\": \"activation_39\", \"class_name\": \"Activation\", \"config\": {\"name\": \"activation_39\", \"trainable\": true, \"activation\": \"relu\"}, \"inbound_nodes\": [[[\"batch_normalization_39\", 0, 0, {}]]]}, {\"name\": \"conv2d_40\", \"class_name\": \"Conv2D\", \"config\": {\"name\": \"conv2d_40\", \"trainable\": true, \"filters\": 12, \"kernel_size\": [1, 1], \"strides\": [1, 1], \"padding\": \"same\", \"data_format\": \"channels_last\", \"dilation_rate\": [1, 1], \"activation\": \"linear\", \"use_bias\": false, \"kernel_initializer\": {\"class_name\": \"VarianceScaling\", \"config\": {\"scale\": 1.0, \"mode\": \"fan_avg\", \"distribution\": \"uniform\", \"seed\": null}}, \"bias_initializer\": {\"class_name\": \"Zeros\", \"config\": {}}, \"kernel_regularizer\": null, \"bias_regularizer\": null, \"activity_regularizer\": null, \"kernel_constraint\": null, \"bias_constraint\": null}, \"inbound_nodes\": [[[\"activation_39\", 0, 0, {}]]]}, {\"name\": \"batch_normalization_40\", \"class_name\": \"BatchNormalization\", \"config\": {\"name\": \"batch_normalization_40\", \"trainable\": true, \"axis\": -1, \"momentum\": 0.99, \"epsilon\": 0.001, \"center\": true, \"scale\": true, \"beta_initializer\": {\"class_name\": \"Zeros\", \"config\": {}}, \"gamma_initializer\": {\"class_name\": \"Ones\", \"config\": {}}, \"moving_mean_initializer\": {\"class_name\": \"Zeros\", \"config\": {}}, \"moving_variance_initializer\": {\"class_name\": \"Ones\", \"config\": {}}, \"beta_regularizer\": null, \"gamma_regularizer\": null, \"beta_constraint\": null, \"gamma_constraint\": null}, \"inbound_nodes\": [[[\"conv2d_40\", 0, 0, {}]]]}, {\"name\": \"activation_40\", \"class_name\": \"Activation\", \"config\": {\"name\": \"activation_40\", \"trainable\": true, \"activation\": \"relu\"}, \"inbound_nodes\": [[[\"batch_normalization_40\", 0, 0, {}]]]}, {\"name\": \"conv2d_41\", \"class_name\": \"Conv2D\", \"config\": {\"name\": \"conv2d_41\", \"trainable\": true, \"filters\": 12, \"kernel_size\": [3, 3], \"strides\": [1, 1], \"padding\": \"same\", \"data_format\": \"channels_last\", \"dilation_rate\": [1, 1], \"activation\": \"linear\", \"use_bias\": false, \"kernel_initializer\": {\"class_name\": \"VarianceScaling\", \"config\": {\"scale\": 1.0, \"mode\": \"fan_avg\", \"distribution\": \"uniform\", \"seed\": null}}, \"bias_initializer\": {\"class_name\": \"Zeros\", \"config\": {}}, \"kernel_regularizer\": null, \"bias_regularizer\": null, \"activity_regularizer\": null, \"kernel_constraint\": null, \"bias_constraint\": null}, \"inbound_nodes\": [[[\"activation_40\", 0, 0, {}]]]}, {\"name\": \"dropout_21\", \"class_name\": \"Dropout\", \"config\": {\"name\": \"dropout_21\", \"trainable\": true, \"rate\": 0.3, \"noise_shape\": null, \"seed\": null}, \"inbound_nodes\": [[[\"conv2d_41\", 0, 0, {}]]]}, {\"name\": \"concatenate_19\", \"class_name\": \"Concatenate\", \"config\": {\"name\": \"concatenate_19\", \"trainable\": true, \"axis\": -1}, \"inbound_nodes\": [[[\"average_pooling2d_2\", 0, 0, {}], [\"dropout_21\", 0, 0, {}]]]}, {\"name\": \"batch_normalization_41\", \"class_name\": \"BatchNormalization\", \"config\": {\"name\": \"batch_normalization_41\", \"trainable\": true, \"axis\": -1, \"momentum\": 0.99, \"epsilon\": 0.001, \"center\": true, \"scale\": true, \"beta_initializer\": {\"class_name\": \"Zeros\", \"config\": {}}, \"gamma_initializer\": {\"class_name\": \"Ones\", \"config\": {}}, \"moving_mean_initializer\": {\"class_name\": \"Zeros\", \"config\": {}}, \"moving_variance_initializer\": {\"class_name\": \"Ones\", \"config\": {}}, \"beta_regularizer\": null, \"gamma_regularizer\": null, \"beta_constraint\": null, \"gamma_constraint\": null}, \"inbound_nodes\": [[[\"concatenate_19\", 0, 0, {}]]]}, {\"name\": \"activation_41\", \"class_name\": \"Activation\", \"config\": {\"name\": \"activation_41\", \"trainable\": true, \"activation\": \"relu\"}, \"inbound_nodes\": [[[\"batch_normalization_41\", 0, 0, {}]]]}, {\"name\": \"conv2d_42\", \"class_name\": \"Conv2D\", \"config\": {\"name\": \"conv2d_42\", \"trainable\": true, \"filters\": 12, \"kernel_size\": [1, 1], \"strides\": [1, 1], \"padding\": \"same\", \"data_format\": \"channels_last\", \"dilation_rate\": [1, 1], \"activation\": \"linear\", \"use_bias\": false, \"kernel_initializer\": {\"class_name\": \"VarianceScaling\", \"config\": {\"scale\": 1.0, \"mode\": \"fan_avg\", \"distribution\": \"uniform\", \"seed\": null}}, \"bias_initializer\": {\"class_name\": \"Zeros\", \"config\": {}}, \"kernel_regularizer\": null, \"bias_regularizer\": null, \"activity_regularizer\": null, \"kernel_constraint\": null, \"bias_constraint\": null}, \"inbound_nodes\": [[[\"activation_41\", 0, 0, {}]]]}, {\"name\": \"batch_normalization_42\", \"class_name\": \"BatchNormalization\", \"config\": {\"name\": \"batch_normalization_42\", \"trainable\": true, \"axis\": -1, \"momentum\": 0.99, \"epsilon\": 0.001, \"center\": true, \"scale\": true, \"beta_initializer\": {\"class_name\": \"Zeros\", \"config\": {}}, \"gamma_initializer\": {\"class_name\": \"Ones\", \"config\": {}}, \"moving_mean_initializer\": {\"class_name\": \"Zeros\", \"config\": {}}, \"moving_variance_initializer\": {\"class_name\": \"Ones\", \"config\": {}}, \"beta_regularizer\": null, \"gamma_regularizer\": null, \"beta_constraint\": null, \"gamma_constraint\": null}, \"inbound_nodes\": [[[\"conv2d_42\", 0, 0, {}]]]}, {\"name\": \"activation_42\", \"class_name\": \"Activation\", \"config\": {\"name\": \"activation_42\", \"trainable\": true, \"activation\": \"relu\"}, \"inbound_nodes\": [[[\"batch_normalization_42\", 0, 0, {}]]]}, {\"name\": \"conv2d_43\", \"class_name\": \"Conv2D\", \"config\": {\"name\": \"conv2d_43\", \"trainable\": true, \"filters\": 12, \"kernel_size\": [3, 3], \"strides\": [1, 1], \"padding\": \"same\", \"data_format\": \"channels_last\", \"dilation_rate\": [1, 1], \"activation\": \"linear\", \"use_bias\": false, \"kernel_initializer\": {\"class_name\": \"VarianceScaling\", \"config\": {\"scale\": 1.0, \"mode\": \"fan_avg\", \"distribution\": \"uniform\", \"seed\": null}}, \"bias_initializer\": {\"class_name\": \"Zeros\", \"config\": {}}, \"kernel_regularizer\": null, \"bias_regularizer\": null, \"activity_regularizer\": null, \"kernel_constraint\": null, \"bias_constraint\": null}, \"inbound_nodes\": [[[\"activation_42\", 0, 0, {}]]]}, {\"name\": \"dropout_22\", \"class_name\": \"Dropout\", \"config\": {\"name\": \"dropout_22\", \"trainable\": true, \"rate\": 0.3, \"noise_shape\": null, \"seed\": null}, \"inbound_nodes\": [[[\"conv2d_43\", 0, 0, {}]]]}, {\"name\": \"concatenate_20\", \"class_name\": \"Concatenate\", \"config\": {\"name\": \"concatenate_20\", \"trainable\": true, \"axis\": -1}, \"inbound_nodes\": [[[\"concatenate_19\", 0, 0, {}], [\"dropout_22\", 0, 0, {}]]]}, {\"name\": \"batch_normalization_43\", \"class_name\": \"BatchNormalization\", \"config\": {\"name\": \"batch_normalization_43\", \"trainable\": true, \"axis\": -1, \"momentum\": 0.99, \"epsilon\": 0.001, \"center\": true, \"scale\": true, \"beta_initializer\": {\"class_name\": \"Zeros\", \"config\": {}}, \"gamma_initializer\": {\"class_name\": \"Ones\", \"config\": {}}, \"moving_mean_initializer\": {\"class_name\": \"Zeros\", \"config\": {}}, \"moving_variance_initializer\": {\"class_name\": \"Ones\", \"config\": {}}, \"beta_regularizer\": null, \"gamma_regularizer\": null, \"beta_constraint\": null, \"gamma_constraint\": null}, \"inbound_nodes\": [[[\"concatenate_20\", 0, 0, {}]]]}, {\"name\": \"activation_43\", \"class_name\": \"Activation\", \"config\": {\"name\": \"activation_43\", \"trainable\": true, \"activation\": \"relu\"}, \"inbound_nodes\": [[[\"batch_normalization_43\", 0, 0, {}]]]}, {\"name\": \"conv2d_44\", \"class_name\": \"Conv2D\", \"config\": {\"name\": \"conv2d_44\", \"trainable\": true, \"filters\": 12, \"kernel_size\": [1, 1], \"strides\": [1, 1], \"padding\": \"same\", \"data_format\": \"channels_last\", \"dilation_rate\": [1, 1], \"activation\": \"linear\", \"use_bias\": false, \"kernel_initializer\": {\"class_name\": \"VarianceScaling\", \"config\": {\"scale\": 1.0, \"mode\": \"fan_avg\", \"distribution\": \"uniform\", \"seed\": null}}, \"bias_initializer\": {\"class_name\": \"Zeros\", \"config\": {}}, \"kernel_regularizer\": null, \"bias_regularizer\": null, \"activity_regularizer\": null, \"kernel_constraint\": null, \"bias_constraint\": null}, \"inbound_nodes\": [[[\"activation_43\", 0, 0, {}]]]}, {\"name\": \"batch_normalization_44\", \"class_name\": \"BatchNormalization\", \"config\": {\"name\": \"batch_normalization_44\", \"trainable\": true, \"axis\": -1, \"momentum\": 0.99, \"epsilon\": 0.001, \"center\": true, \"scale\": true, \"beta_initializer\": {\"class_name\": \"Zeros\", \"config\": {}}, \"gamma_initializer\": {\"class_name\": \"Ones\", \"config\": {}}, \"moving_mean_initializer\": {\"class_name\": \"Zeros\", \"config\": {}}, \"moving_variance_initializer\": {\"class_name\": \"Ones\", \"config\": {}}, \"beta_regularizer\": null, \"gamma_regularizer\": null, \"beta_constraint\": null, \"gamma_constraint\": null}, \"inbound_nodes\": [[[\"conv2d_44\", 0, 0, {}]]]}, {\"name\": \"activation_44\", \"class_name\": \"Activation\", \"config\": {\"name\": \"activation_44\", \"trainable\": true, \"activation\": \"relu\"}, \"inbound_nodes\": [[[\"batch_normalization_44\", 0, 0, {}]]]}, {\"name\": \"conv2d_45\", \"class_name\": \"Conv2D\", \"config\": {\"name\": \"conv2d_45\", \"trainable\": true, \"filters\": 12, \"kernel_size\": [3, 3], \"strides\": [1, 1], \"padding\": \"same\", \"data_format\": \"channels_last\", \"dilation_rate\": [1, 1], \"activation\": \"linear\", \"use_bias\": false, \"kernel_initializer\": {\"class_name\": \"VarianceScaling\", \"config\": {\"scale\": 1.0, \"mode\": \"fan_avg\", \"distribution\": \"uniform\", \"seed\": null}}, \"bias_initializer\": {\"class_name\": \"Zeros\", \"config\": {}}, \"kernel_regularizer\": null, \"bias_regularizer\": null, \"activity_regularizer\": null, \"kernel_constraint\": null, \"bias_constraint\": null}, \"inbound_nodes\": [[[\"activation_44\", 0, 0, {}]]]}, {\"name\": \"dropout_23\", \"class_name\": \"Dropout\", \"config\": {\"name\": \"dropout_23\", \"trainable\": true, \"rate\": 0.3, \"noise_shape\": null, \"seed\": null}, \"inbound_nodes\": [[[\"conv2d_45\", 0, 0, {}]]]}, {\"name\": \"concatenate_21\", \"class_name\": \"Concatenate\", \"config\": {\"name\": \"concatenate_21\", \"trainable\": true, \"axis\": -1}, \"inbound_nodes\": [[[\"concatenate_20\", 0, 0, {}], [\"dropout_23\", 0, 0, {}]]]}, {\"name\": \"batch_normalization_45\", \"class_name\": \"BatchNormalization\", \"config\": {\"name\": \"batch_normalization_45\", \"trainable\": true, \"axis\": -1, \"momentum\": 0.99, \"epsilon\": 0.001, \"center\": true, \"scale\": true, \"beta_initializer\": {\"class_name\": \"Zeros\", \"config\": {}}, \"gamma_initializer\": {\"class_name\": \"Ones\", \"config\": {}}, \"moving_mean_initializer\": {\"class_name\": \"Zeros\", \"config\": {}}, \"moving_variance_initializer\": {\"class_name\": \"Ones\", \"config\": {}}, \"beta_regularizer\": null, \"gamma_regularizer\": null, \"beta_constraint\": null, \"gamma_constraint\": null}, \"inbound_nodes\": [[[\"concatenate_21\", 0, 0, {}]]]}, {\"name\": \"activation_45\", \"class_name\": \"Activation\", \"config\": {\"name\": \"activation_45\", \"trainable\": true, \"activation\": \"relu\"}, \"inbound_nodes\": [[[\"batch_normalization_45\", 0, 0, {}]]]}, {\"name\": \"conv2d_46\", \"class_name\": \"Conv2D\", \"config\": {\"name\": \"conv2d_46\", \"trainable\": true, \"filters\": 12, \"kernel_size\": [1, 1], \"strides\": [1, 1], \"padding\": \"same\", \"data_format\": \"channels_last\", \"dilation_rate\": [1, 1], \"activation\": \"linear\", \"use_bias\": false, \"kernel_initializer\": {\"class_name\": \"VarianceScaling\", \"config\": {\"scale\": 1.0, \"mode\": \"fan_avg\", \"distribution\": \"uniform\", \"seed\": null}}, \"bias_initializer\": {\"class_name\": \"Zeros\", \"config\": {}}, \"kernel_regularizer\": null, \"bias_regularizer\": null, \"activity_regularizer\": null, \"kernel_constraint\": null, \"bias_constraint\": null}, \"inbound_nodes\": [[[\"activation_45\", 0, 0, {}]]]}, {\"name\": \"batch_normalization_46\", \"class_name\": \"BatchNormalization\", \"config\": {\"name\": \"batch_normalization_46\", \"trainable\": true, \"axis\": -1, \"momentum\": 0.99, \"epsilon\": 0.001, \"center\": true, \"scale\": true, \"beta_initializer\": {\"class_name\": \"Zeros\", \"config\": {}}, \"gamma_initializer\": {\"class_name\": \"Ones\", \"config\": {}}, \"moving_mean_initializer\": {\"class_name\": \"Zeros\", \"config\": {}}, \"moving_variance_initializer\": {\"class_name\": \"Ones\", \"config\": {}}, \"beta_regularizer\": null, \"gamma_regularizer\": null, \"beta_constraint\": null, \"gamma_constraint\": null}, \"inbound_nodes\": [[[\"conv2d_46\", 0, 0, {}]]]}, {\"name\": \"activation_46\", \"class_name\": \"Activation\", \"config\": {\"name\": \"activation_46\", \"trainable\": true, \"activation\": \"relu\"}, \"inbound_nodes\": [[[\"batch_normalization_46\", 0, 0, {}]]]}, {\"name\": \"conv2d_47\", \"class_name\": \"Conv2D\", \"config\": {\"name\": \"conv2d_47\", \"trainable\": true, \"filters\": 12, \"kernel_size\": [3, 3], \"strides\": [1, 1], \"padding\": \"same\", \"data_format\": \"channels_last\", \"dilation_rate\": [1, 1], \"activation\": \"linear\", \"use_bias\": false, \"kernel_initializer\": {\"class_name\": \"VarianceScaling\", \"config\": {\"scale\": 1.0, \"mode\": \"fan_avg\", \"distribution\": \"uniform\", \"seed\": null}}, \"bias_initializer\": {\"class_name\": \"Zeros\", \"config\": {}}, \"kernel_regularizer\": null, \"bias_regularizer\": null, \"activity_regularizer\": null, \"kernel_constraint\": null, \"bias_constraint\": null}, \"inbound_nodes\": [[[\"activation_46\", 0, 0, {}]]]}, {\"name\": \"dropout_24\", \"class_name\": \"Dropout\", \"config\": {\"name\": \"dropout_24\", \"trainable\": true, \"rate\": 0.3, \"noise_shape\": null, \"seed\": null}, \"inbound_nodes\": [[[\"conv2d_47\", 0, 0, {}]]]}, {\"name\": \"concatenate_22\", \"class_name\": \"Concatenate\", \"config\": {\"name\": \"concatenate_22\", \"trainable\": true, \"axis\": -1}, \"inbound_nodes\": [[[\"concatenate_21\", 0, 0, {}], [\"dropout_24\", 0, 0, {}]]]}, {\"name\": \"batch_normalization_47\", \"class_name\": \"BatchNormalization\", \"config\": {\"name\": \"batch_normalization_47\", \"trainable\": true, \"axis\": -1, \"momentum\": 0.99, \"epsilon\": 0.001, \"center\": true, \"scale\": true, \"beta_initializer\": {\"class_name\": \"Zeros\", \"config\": {}}, \"gamma_initializer\": {\"class_name\": \"Ones\", \"config\": {}}, \"moving_mean_initializer\": {\"class_name\": \"Zeros\", \"config\": {}}, \"moving_variance_initializer\": {\"class_name\": \"Ones\", \"config\": {}}, \"beta_regularizer\": null, \"gamma_regularizer\": null, \"beta_constraint\": null, \"gamma_constraint\": null}, \"inbound_nodes\": [[[\"concatenate_22\", 0, 0, {}]]]}, {\"name\": \"activation_47\", \"class_name\": \"Activation\", \"config\": {\"name\": \"activation_47\", \"trainable\": true, \"activation\": \"relu\"}, \"inbound_nodes\": [[[\"batch_normalization_47\", 0, 0, {}]]]}, {\"name\": \"conv2d_48\", \"class_name\": \"Conv2D\", \"config\": {\"name\": \"conv2d_48\", \"trainable\": true, \"filters\": 12, \"kernel_size\": [1, 1], \"strides\": [1, 1], \"padding\": \"same\", \"data_format\": \"channels_last\", \"dilation_rate\": [1, 1], \"activation\": \"linear\", \"use_bias\": false, \"kernel_initializer\": {\"class_name\": \"VarianceScaling\", \"config\": {\"scale\": 1.0, \"mode\": \"fan_avg\", \"distribution\": \"uniform\", \"seed\": null}}, \"bias_initializer\": {\"class_name\": \"Zeros\", \"config\": {}}, \"kernel_regularizer\": null, \"bias_regularizer\": null, \"activity_regularizer\": null, \"kernel_constraint\": null, \"bias_constraint\": null}, \"inbound_nodes\": [[[\"activation_47\", 0, 0, {}]]]}, {\"name\": \"batch_normalization_48\", \"class_name\": \"BatchNormalization\", \"config\": {\"name\": \"batch_normalization_48\", \"trainable\": true, \"axis\": -1, \"momentum\": 0.99, \"epsilon\": 0.001, \"center\": true, \"scale\": true, \"beta_initializer\": {\"class_name\": \"Zeros\", \"config\": {}}, \"gamma_initializer\": {\"class_name\": \"Ones\", \"config\": {}}, \"moving_mean_initializer\": {\"class_name\": \"Zeros\", \"config\": {}}, \"moving_variance_initializer\": {\"class_name\": \"Ones\", \"config\": {}}, \"beta_regularizer\": null, \"gamma_regularizer\": null, \"beta_constraint\": null, \"gamma_constraint\": null}, \"inbound_nodes\": [[[\"conv2d_48\", 0, 0, {}]]]}, {\"name\": \"activation_48\", \"class_name\": \"Activation\", \"config\": {\"name\": \"activation_48\", \"trainable\": true, \"activation\": \"relu\"}, \"inbound_nodes\": [[[\"batch_normalization_48\", 0, 0, {}]]]}, {\"name\": \"conv2d_49\", \"class_name\": \"Conv2D\", \"config\": {\"name\": \"conv2d_49\", \"trainable\": true, \"filters\": 12, \"kernel_size\": [3, 3], \"strides\": [1, 1], \"padding\": \"same\", \"data_format\": \"channels_last\", \"dilation_rate\": [1, 1], \"activation\": \"linear\", \"use_bias\": false, \"kernel_initializer\": {\"class_name\": \"VarianceScaling\", \"config\": {\"scale\": 1.0, \"mode\": \"fan_avg\", \"distribution\": \"uniform\", \"seed\": null}}, \"bias_initializer\": {\"class_name\": \"Zeros\", \"config\": {}}, \"kernel_regularizer\": null, \"bias_regularizer\": null, \"activity_regularizer\": null, \"kernel_constraint\": null, \"bias_constraint\": null}, \"inbound_nodes\": [[[\"activation_48\", 0, 0, {}]]]}, {\"name\": \"dropout_25\", \"class_name\": \"Dropout\", \"config\": {\"name\": \"dropout_25\", \"trainable\": true, \"rate\": 0.3, \"noise_shape\": null, \"seed\": null}, \"inbound_nodes\": [[[\"conv2d_49\", 0, 0, {}]]]}, {\"name\": \"concatenate_23\", \"class_name\": \"Concatenate\", \"config\": {\"name\": \"concatenate_23\", \"trainable\": true, \"axis\": -1}, \"inbound_nodes\": [[[\"concatenate_22\", 0, 0, {}], [\"dropout_25\", 0, 0, {}]]]}, {\"name\": \"batch_normalization_49\", \"class_name\": \"BatchNormalization\", \"config\": {\"name\": \"batch_normalization_49\", \"trainable\": true, \"axis\": -1, \"momentum\": 0.99, \"epsilon\": 0.001, \"center\": true, \"scale\": true, \"beta_initializer\": {\"class_name\": \"Zeros\", \"config\": {}}, \"gamma_initializer\": {\"class_name\": \"Ones\", \"config\": {}}, \"moving_mean_initializer\": {\"class_name\": \"Zeros\", \"config\": {}}, \"moving_variance_initializer\": {\"class_name\": \"Ones\", \"config\": {}}, \"beta_regularizer\": null, \"gamma_regularizer\": null, \"beta_constraint\": null, \"gamma_constraint\": null}, \"inbound_nodes\": [[[\"concatenate_23\", 0, 0, {}]]]}, {\"name\": \"activation_49\", \"class_name\": \"Activation\", \"config\": {\"name\": \"activation_49\", \"trainable\": true, \"activation\": \"relu\"}, \"inbound_nodes\": [[[\"batch_normalization_49\", 0, 0, {}]]]}, {\"name\": \"conv2d_50\", \"class_name\": \"Conv2D\", \"config\": {\"name\": \"conv2d_50\", \"trainable\": true, \"filters\": 12, \"kernel_size\": [1, 1], \"strides\": [1, 1], \"padding\": \"same\", \"data_format\": \"channels_last\", \"dilation_rate\": [1, 1], \"activation\": \"linear\", \"use_bias\": false, \"kernel_initializer\": {\"class_name\": \"VarianceScaling\", \"config\": {\"scale\": 1.0, \"mode\": \"fan_avg\", \"distribution\": \"uniform\", \"seed\": null}}, \"bias_initializer\": {\"class_name\": \"Zeros\", \"config\": {}}, \"kernel_regularizer\": null, \"bias_regularizer\": null, \"activity_regularizer\": null, \"kernel_constraint\": null, \"bias_constraint\": null}, \"inbound_nodes\": [[[\"activation_49\", 0, 0, {}]]]}, {\"name\": \"batch_normalization_50\", \"class_name\": \"BatchNormalization\", \"config\": {\"name\": \"batch_normalization_50\", \"trainable\": true, \"axis\": -1, \"momentum\": 0.99, \"epsilon\": 0.001, \"center\": true, \"scale\": true, \"beta_initializer\": {\"class_name\": \"Zeros\", \"config\": {}}, \"gamma_initializer\": {\"class_name\": \"Ones\", \"config\": {}}, \"moving_mean_initializer\": {\"class_name\": \"Zeros\", \"config\": {}}, \"moving_variance_initializer\": {\"class_name\": \"Ones\", \"config\": {}}, \"beta_regularizer\": null, \"gamma_regularizer\": null, \"beta_constraint\": null, \"gamma_constraint\": null}, \"inbound_nodes\": [[[\"conv2d_50\", 0, 0, {}]]]}, {\"name\": \"activation_50\", \"class_name\": \"Activation\", \"config\": {\"name\": \"activation_50\", \"trainable\": true, \"activation\": \"relu\"}, \"inbound_nodes\": [[[\"batch_normalization_50\", 0, 0, {}]]]}, {\"name\": \"conv2d_51\", \"class_name\": \"Conv2D\", \"config\": {\"name\": \"conv2d_51\", \"trainable\": true, \"filters\": 12, \"kernel_size\": [3, 3], \"strides\": [1, 1], \"padding\": \"same\", \"data_format\": \"channels_last\", \"dilation_rate\": [1, 1], \"activation\": \"linear\", \"use_bias\": false, \"kernel_initializer\": {\"class_name\": \"VarianceScaling\", \"config\": {\"scale\": 1.0, \"mode\": \"fan_avg\", \"distribution\": \"uniform\", \"seed\": null}}, \"bias_initializer\": {\"class_name\": \"Zeros\", \"config\": {}}, \"kernel_regularizer\": null, \"bias_regularizer\": null, \"activity_regularizer\": null, \"kernel_constraint\": null, \"bias_constraint\": null}, \"inbound_nodes\": [[[\"activation_50\", 0, 0, {}]]]}, {\"name\": \"dropout_26\", \"class_name\": \"Dropout\", \"config\": {\"name\": \"dropout_26\", \"trainable\": true, \"rate\": 0.3, \"noise_shape\": null, \"seed\": null}, \"inbound_nodes\": [[[\"conv2d_51\", 0, 0, {}]]]}, {\"name\": \"concatenate_24\", \"class_name\": \"Concatenate\", \"config\": {\"name\": \"concatenate_24\", \"trainable\": true, \"axis\": -1}, \"inbound_nodes\": [[[\"concatenate_23\", 0, 0, {}], [\"dropout_26\", 0, 0, {}]]]}, {\"name\": \"batch_normalization_51\", \"class_name\": \"BatchNormalization\", \"config\": {\"name\": \"batch_normalization_51\", \"trainable\": true, \"axis\": -1, \"momentum\": 0.99, \"epsilon\": 0.001, \"center\": true, \"scale\": true, \"beta_initializer\": {\"class_name\": \"Zeros\", \"config\": {}}, \"gamma_initializer\": {\"class_name\": \"Ones\", \"config\": {}}, \"moving_mean_initializer\": {\"class_name\": \"Zeros\", \"config\": {}}, \"moving_variance_initializer\": {\"class_name\": \"Ones\", \"config\": {}}, \"beta_regularizer\": null, \"gamma_regularizer\": null, \"beta_constraint\": null, \"gamma_constraint\": null}, \"inbound_nodes\": [[[\"concatenate_24\", 0, 0, {}]]]}, {\"name\": \"activation_51\", \"class_name\": \"Activation\", \"config\": {\"name\": \"activation_51\", \"trainable\": true, \"activation\": \"relu\"}, \"inbound_nodes\": [[[\"batch_normalization_51\", 0, 0, {}]]]}, {\"name\": \"conv2d_52\", \"class_name\": \"Conv2D\", \"config\": {\"name\": \"conv2d_52\", \"trainable\": true, \"filters\": 12, \"kernel_size\": [1, 1], \"strides\": [1, 1], \"padding\": \"same\", \"data_format\": \"channels_last\", \"dilation_rate\": [1, 1], \"activation\": \"linear\", \"use_bias\": false, \"kernel_initializer\": {\"class_name\": \"VarianceScaling\", \"config\": {\"scale\": 1.0, \"mode\": \"fan_avg\", \"distribution\": \"uniform\", \"seed\": null}}, \"bias_initializer\": {\"class_name\": \"Zeros\", \"config\": {}}, \"kernel_regularizer\": null, \"bias_regularizer\": null, \"activity_regularizer\": null, \"kernel_constraint\": null, \"bias_constraint\": null}, \"inbound_nodes\": [[[\"activation_51\", 0, 0, {}]]]}, {\"name\": \"batch_normalization_52\", \"class_name\": \"BatchNormalization\", \"config\": {\"name\": \"batch_normalization_52\", \"trainable\": true, \"axis\": -1, \"momentum\": 0.99, \"epsilon\": 0.001, \"center\": true, \"scale\": true, \"beta_initializer\": {\"class_name\": \"Zeros\", \"config\": {}}, \"gamma_initializer\": {\"class_name\": \"Ones\", \"config\": {}}, \"moving_mean_initializer\": {\"class_name\": \"Zeros\", \"config\": {}}, \"moving_variance_initializer\": {\"class_name\": \"Ones\", \"config\": {}}, \"beta_regularizer\": null, \"gamma_regularizer\": null, \"beta_constraint\": null, \"gamma_constraint\": null}, \"inbound_nodes\": [[[\"conv2d_52\", 0, 0, {}]]]}, {\"name\": \"activation_52\", \"class_name\": \"Activation\", \"config\": {\"name\": \"activation_52\", \"trainable\": true, \"activation\": \"relu\"}, \"inbound_nodes\": [[[\"batch_normalization_52\", 0, 0, {}]]]}, {\"name\": \"conv2d_53\", \"class_name\": \"Conv2D\", \"config\": {\"name\": \"conv2d_53\", \"trainable\": true, \"filters\": 12, \"kernel_size\": [3, 3], \"strides\": [1, 1], \"padding\": \"same\", \"data_format\": \"channels_last\", \"dilation_rate\": [1, 1], \"activation\": \"linear\", \"use_bias\": false, \"kernel_initializer\": {\"class_name\": \"VarianceScaling\", \"config\": {\"scale\": 1.0, \"mode\": \"fan_avg\", \"distribution\": \"uniform\", \"seed\": null}}, \"bias_initializer\": {\"class_name\": \"Zeros\", \"config\": {}}, \"kernel_regularizer\": null, \"bias_regularizer\": null, \"activity_regularizer\": null, \"kernel_constraint\": null, \"bias_constraint\": null}, \"inbound_nodes\": [[[\"activation_52\", 0, 0, {}]]]}, {\"name\": \"dropout_27\", \"class_name\": \"Dropout\", \"config\": {\"name\": \"dropout_27\", \"trainable\": true, \"rate\": 0.3, \"noise_shape\": null, \"seed\": null}, \"inbound_nodes\": [[[\"conv2d_53\", 0, 0, {}]]]}, {\"name\": \"concatenate_25\", \"class_name\": \"Concatenate\", \"config\": {\"name\": \"concatenate_25\", \"trainable\": true, \"axis\": -1}, \"inbound_nodes\": [[[\"concatenate_24\", 0, 0, {}], [\"dropout_27\", 0, 0, {}]]]}, {\"name\": \"batch_normalization_53\", \"class_name\": \"BatchNormalization\", \"config\": {\"name\": \"batch_normalization_53\", \"trainable\": true, \"axis\": -1, \"momentum\": 0.99, \"epsilon\": 0.001, \"center\": true, \"scale\": true, \"beta_initializer\": {\"class_name\": \"Zeros\", \"config\": {}}, \"gamma_initializer\": {\"class_name\": \"Ones\", \"config\": {}}, \"moving_mean_initializer\": {\"class_name\": \"Zeros\", \"config\": {}}, \"moving_variance_initializer\": {\"class_name\": \"Ones\", \"config\": {}}, \"beta_regularizer\": null, \"gamma_regularizer\": null, \"beta_constraint\": null, \"gamma_constraint\": null}, \"inbound_nodes\": [[[\"concatenate_25\", 0, 0, {}]]]}, {\"name\": \"activation_53\", \"class_name\": \"Activation\", \"config\": {\"name\": \"activation_53\", \"trainable\": true, \"activation\": \"relu\"}, \"inbound_nodes\": [[[\"batch_normalization_53\", 0, 0, {}]]]}, {\"name\": \"conv2d_54\", \"class_name\": \"Conv2D\", \"config\": {\"name\": \"conv2d_54\", \"trainable\": true, \"filters\": 12, \"kernel_size\": [1, 1], \"strides\": [1, 1], \"padding\": \"same\", \"data_format\": \"channels_last\", \"dilation_rate\": [1, 1], \"activation\": \"linear\", \"use_bias\": false, \"kernel_initializer\": {\"class_name\": \"VarianceScaling\", \"config\": {\"scale\": 1.0, \"mode\": \"fan_avg\", \"distribution\": \"uniform\", \"seed\": null}}, \"bias_initializer\": {\"class_name\": \"Zeros\", \"config\": {}}, \"kernel_regularizer\": null, \"bias_regularizer\": null, \"activity_regularizer\": null, \"kernel_constraint\": null, \"bias_constraint\": null}, \"inbound_nodes\": [[[\"activation_53\", 0, 0, {}]]]}, {\"name\": \"batch_normalization_54\", \"class_name\": \"BatchNormalization\", \"config\": {\"name\": \"batch_normalization_54\", \"trainable\": true, \"axis\": -1, \"momentum\": 0.99, \"epsilon\": 0.001, \"center\": true, \"scale\": true, \"beta_initializer\": {\"class_name\": \"Zeros\", \"config\": {}}, \"gamma_initializer\": {\"class_name\": \"Ones\", \"config\": {}}, \"moving_mean_initializer\": {\"class_name\": \"Zeros\", \"config\": {}}, \"moving_variance_initializer\": {\"class_name\": \"Ones\", \"config\": {}}, \"beta_regularizer\": null, \"gamma_regularizer\": null, \"beta_constraint\": null, \"gamma_constraint\": null}, \"inbound_nodes\": [[[\"conv2d_54\", 0, 0, {}]]]}, {\"name\": \"activation_54\", \"class_name\": \"Activation\", \"config\": {\"name\": \"activation_54\", \"trainable\": true, \"activation\": \"relu\"}, \"inbound_nodes\": [[[\"batch_normalization_54\", 0, 0, {}]]]}, {\"name\": \"conv2d_55\", \"class_name\": \"Conv2D\", \"config\": {\"name\": \"conv2d_55\", \"trainable\": true, \"filters\": 12, \"kernel_size\": [3, 3], \"strides\": [1, 1], \"padding\": \"same\", \"data_format\": \"channels_last\", \"dilation_rate\": [1, 1], \"activation\": \"linear\", \"use_bias\": false, \"kernel_initializer\": {\"class_name\": \"VarianceScaling\", \"config\": {\"scale\": 1.0, \"mode\": \"fan_avg\", \"distribution\": \"uniform\", \"seed\": null}}, \"bias_initializer\": {\"class_name\": \"Zeros\", \"config\": {}}, \"kernel_regularizer\": null, \"bias_regularizer\": null, \"activity_regularizer\": null, \"kernel_constraint\": null, \"bias_constraint\": null}, \"inbound_nodes\": [[[\"activation_54\", 0, 0, {}]]]}, {\"name\": \"dropout_28\", \"class_name\": \"Dropout\", \"config\": {\"name\": \"dropout_28\", \"trainable\": true, \"rate\": 0.3, \"noise_shape\": null, \"seed\": null}, \"inbound_nodes\": [[[\"conv2d_55\", 0, 0, {}]]]}, {\"name\": \"concatenate_26\", \"class_name\": \"Concatenate\", \"config\": {\"name\": \"concatenate_26\", \"trainable\": true, \"axis\": -1}, \"inbound_nodes\": [[[\"concatenate_25\", 0, 0, {}], [\"dropout_28\", 0, 0, {}]]]}, {\"name\": \"batch_normalization_55\", \"class_name\": \"BatchNormalization\", \"config\": {\"name\": \"batch_normalization_55\", \"trainable\": true, \"axis\": -1, \"momentum\": 0.99, \"epsilon\": 0.001, \"center\": true, \"scale\": true, \"beta_initializer\": {\"class_name\": \"Zeros\", \"config\": {}}, \"gamma_initializer\": {\"class_name\": \"Ones\", \"config\": {}}, \"moving_mean_initializer\": {\"class_name\": \"Zeros\", \"config\": {}}, \"moving_variance_initializer\": {\"class_name\": \"Ones\", \"config\": {}}, \"beta_regularizer\": null, \"gamma_regularizer\": null, \"beta_constraint\": null, \"gamma_constraint\": null}, \"inbound_nodes\": [[[\"concatenate_26\", 0, 0, {}]]]}, {\"name\": \"activation_55\", \"class_name\": \"Activation\", \"config\": {\"name\": \"activation_55\", \"trainable\": true, \"activation\": \"relu\"}, \"inbound_nodes\": [[[\"batch_normalization_55\", 0, 0, {}]]]}, {\"name\": \"conv2d_56\", \"class_name\": \"Conv2D\", \"config\": {\"name\": \"conv2d_56\", \"trainable\": true, \"filters\": 12, \"kernel_size\": [1, 1], \"strides\": [1, 1], \"padding\": \"same\", \"data_format\": \"channels_last\", \"dilation_rate\": [1, 1], \"activation\": \"linear\", \"use_bias\": false, \"kernel_initializer\": {\"class_name\": \"VarianceScaling\", \"config\": {\"scale\": 1.0, \"mode\": \"fan_avg\", \"distribution\": \"uniform\", \"seed\": null}}, \"bias_initializer\": {\"class_name\": \"Zeros\", \"config\": {}}, \"kernel_regularizer\": null, \"bias_regularizer\": null, \"activity_regularizer\": null, \"kernel_constraint\": null, \"bias_constraint\": null}, \"inbound_nodes\": [[[\"activation_55\", 0, 0, {}]]]}, {\"name\": \"batch_normalization_56\", \"class_name\": \"BatchNormalization\", \"config\": {\"name\": \"batch_normalization_56\", \"trainable\": true, \"axis\": -1, \"momentum\": 0.99, \"epsilon\": 0.001, \"center\": true, \"scale\": true, \"beta_initializer\": {\"class_name\": \"Zeros\", \"config\": {}}, \"gamma_initializer\": {\"class_name\": \"Ones\", \"config\": {}}, \"moving_mean_initializer\": {\"class_name\": \"Zeros\", \"config\": {}}, \"moving_variance_initializer\": {\"class_name\": \"Ones\", \"config\": {}}, \"beta_regularizer\": null, \"gamma_regularizer\": null, \"beta_constraint\": null, \"gamma_constraint\": null}, \"inbound_nodes\": [[[\"conv2d_56\", 0, 0, {}]]]}, {\"name\": \"activation_56\", \"class_name\": \"Activation\", \"config\": {\"name\": \"activation_56\", \"trainable\": true, \"activation\": \"relu\"}, \"inbound_nodes\": [[[\"batch_normalization_56\", 0, 0, {}]]]}, {\"name\": \"conv2d_57\", \"class_name\": \"Conv2D\", \"config\": {\"name\": \"conv2d_57\", \"trainable\": true, \"filters\": 12, \"kernel_size\": [3, 3], \"strides\": [1, 1], \"padding\": \"same\", \"data_format\": \"channels_last\", \"dilation_rate\": [1, 1], \"activation\": \"linear\", \"use_bias\": false, \"kernel_initializer\": {\"class_name\": \"VarianceScaling\", \"config\": {\"scale\": 1.0, \"mode\": \"fan_avg\", \"distribution\": \"uniform\", \"seed\": null}}, \"bias_initializer\": {\"class_name\": \"Zeros\", \"config\": {}}, \"kernel_regularizer\": null, \"bias_regularizer\": null, \"activity_regularizer\": null, \"kernel_constraint\": null, \"bias_constraint\": null}, \"inbound_nodes\": [[[\"activation_56\", 0, 0, {}]]]}, {\"name\": \"dropout_29\", \"class_name\": \"Dropout\", \"config\": {\"name\": \"dropout_29\", \"trainable\": true, \"rate\": 0.3, \"noise_shape\": null, \"seed\": null}, \"inbound_nodes\": [[[\"conv2d_57\", 0, 0, {}]]]}, {\"name\": \"concatenate_27\", \"class_name\": \"Concatenate\", \"config\": {\"name\": \"concatenate_27\", \"trainable\": true, \"axis\": -1}, \"inbound_nodes\": [[[\"concatenate_26\", 0, 0, {}], [\"dropout_29\", 0, 0, {}]]]}, {\"name\": \"batch_normalization_57\", \"class_name\": \"BatchNormalization\", \"config\": {\"name\": \"batch_normalization_57\", \"trainable\": true, \"axis\": -1, \"momentum\": 0.99, \"epsilon\": 0.001, \"center\": true, \"scale\": true, \"beta_initializer\": {\"class_name\": \"Zeros\", \"config\": {}}, \"gamma_initializer\": {\"class_name\": \"Ones\", \"config\": {}}, \"moving_mean_initializer\": {\"class_name\": \"Zeros\", \"config\": {}}, \"moving_variance_initializer\": {\"class_name\": \"Ones\", \"config\": {}}, \"beta_regularizer\": null, \"gamma_regularizer\": null, \"beta_constraint\": null, \"gamma_constraint\": null}, \"inbound_nodes\": [[[\"concatenate_27\", 0, 0, {}]]]}, {\"name\": \"activation_57\", \"class_name\": \"Activation\", \"config\": {\"name\": \"activation_57\", \"trainable\": true, \"activation\": \"relu\"}, \"inbound_nodes\": [[[\"batch_normalization_57\", 0, 0, {}]]]}, {\"name\": \"conv2d_58\", \"class_name\": \"Conv2D\", \"config\": {\"name\": \"conv2d_58\", \"trainable\": true, \"filters\": 12, \"kernel_size\": [1, 1], \"strides\": [1, 1], \"padding\": \"same\", \"data_format\": \"channels_last\", \"dilation_rate\": [1, 1], \"activation\": \"linear\", \"use_bias\": false, \"kernel_initializer\": {\"class_name\": \"VarianceScaling\", \"config\": {\"scale\": 1.0, \"mode\": \"fan_avg\", \"distribution\": \"uniform\", \"seed\": null}}, \"bias_initializer\": {\"class_name\": \"Zeros\", \"config\": {}}, \"kernel_regularizer\": null, \"bias_regularizer\": null, \"activity_regularizer\": null, \"kernel_constraint\": null, \"bias_constraint\": null}, \"inbound_nodes\": [[[\"activation_57\", 0, 0, {}]]]}, {\"name\": \"batch_normalization_58\", \"class_name\": \"BatchNormalization\", \"config\": {\"name\": \"batch_normalization_58\", \"trainable\": true, \"axis\": -1, \"momentum\": 0.99, \"epsilon\": 0.001, \"center\": true, \"scale\": true, \"beta_initializer\": {\"class_name\": \"Zeros\", \"config\": {}}, \"gamma_initializer\": {\"class_name\": \"Ones\", \"config\": {}}, \"moving_mean_initializer\": {\"class_name\": \"Zeros\", \"config\": {}}, \"moving_variance_initializer\": {\"class_name\": \"Ones\", \"config\": {}}, \"beta_regularizer\": null, \"gamma_regularizer\": null, \"beta_constraint\": null, \"gamma_constraint\": null}, \"inbound_nodes\": [[[\"conv2d_58\", 0, 0, {}]]]}, {\"name\": \"activation_58\", \"class_name\": \"Activation\", \"config\": {\"name\": \"activation_58\", \"trainable\": true, \"activation\": \"relu\"}, \"inbound_nodes\": [[[\"batch_normalization_58\", 0, 0, {}]]]}, {\"name\": \"conv2d_59\", \"class_name\": \"Conv2D\", \"config\": {\"name\": \"conv2d_59\", \"trainable\": true, \"filters\": 12, \"kernel_size\": [3, 3], \"strides\": [1, 1], \"padding\": \"same\", \"data_format\": \"channels_last\", \"dilation_rate\": [1, 1], \"activation\": \"linear\", \"use_bias\": false, \"kernel_initializer\": {\"class_name\": \"VarianceScaling\", \"config\": {\"scale\": 1.0, \"mode\": \"fan_avg\", \"distribution\": \"uniform\", \"seed\": null}}, \"bias_initializer\": {\"class_name\": \"Zeros\", \"config\": {}}, \"kernel_regularizer\": null, \"bias_regularizer\": null, \"activity_regularizer\": null, \"kernel_constraint\": null, \"bias_constraint\": null}, \"inbound_nodes\": [[[\"activation_58\", 0, 0, {}]]]}, {\"name\": \"dropout_30\", \"class_name\": \"Dropout\", \"config\": {\"name\": \"dropout_30\", \"trainable\": true, \"rate\": 0.3, \"noise_shape\": null, \"seed\": null}, \"inbound_nodes\": [[[\"conv2d_59\", 0, 0, {}]]]}, {\"name\": \"concatenate_28\", \"class_name\": \"Concatenate\", \"config\": {\"name\": \"concatenate_28\", \"trainable\": true, \"axis\": -1}, \"inbound_nodes\": [[[\"concatenate_27\", 0, 0, {}], [\"dropout_30\", 0, 0, {}]]]}, {\"name\": \"batch_normalization_59\", \"class_name\": \"BatchNormalization\", \"config\": {\"name\": \"batch_normalization_59\", \"trainable\": true, \"axis\": -1, \"momentum\": 0.99, \"epsilon\": 0.001, \"center\": true, \"scale\": true, \"beta_initializer\": {\"class_name\": \"Zeros\", \"config\": {}}, \"gamma_initializer\": {\"class_name\": \"Ones\", \"config\": {}}, \"moving_mean_initializer\": {\"class_name\": \"Zeros\", \"config\": {}}, \"moving_variance_initializer\": {\"class_name\": \"Ones\", \"config\": {}}, \"beta_regularizer\": null, \"gamma_regularizer\": null, \"beta_constraint\": null, \"gamma_constraint\": null}, \"inbound_nodes\": [[[\"concatenate_28\", 0, 0, {}]]]}, {\"name\": \"activation_59\", \"class_name\": \"Activation\", \"config\": {\"name\": \"activation_59\", \"trainable\": true, \"activation\": \"relu\"}, \"inbound_nodes\": [[[\"batch_normalization_59\", 0, 0, {}]]]}, {\"name\": \"conv2d_60\", \"class_name\": \"Conv2D\", \"config\": {\"name\": \"conv2d_60\", \"trainable\": true, \"filters\": 12, \"kernel_size\": [1, 1], \"strides\": [1, 1], \"padding\": \"same\", \"data_format\": \"channels_last\", \"dilation_rate\": [1, 1], \"activation\": \"linear\", \"use_bias\": false, \"kernel_initializer\": {\"class_name\": \"VarianceScaling\", \"config\": {\"scale\": 1.0, \"mode\": \"fan_avg\", \"distribution\": \"uniform\", \"seed\": null}}, \"bias_initializer\": {\"class_name\": \"Zeros\", \"config\": {}}, \"kernel_regularizer\": null, \"bias_regularizer\": null, \"activity_regularizer\": null, \"kernel_constraint\": null, \"bias_constraint\": null}, \"inbound_nodes\": [[[\"activation_59\", 0, 0, {}]]]}, {\"name\": \"batch_normalization_60\", \"class_name\": \"BatchNormalization\", \"config\": {\"name\": \"batch_normalization_60\", \"trainable\": true, \"axis\": -1, \"momentum\": 0.99, \"epsilon\": 0.001, \"center\": true, \"scale\": true, \"beta_initializer\": {\"class_name\": \"Zeros\", \"config\": {}}, \"gamma_initializer\": {\"class_name\": \"Ones\", \"config\": {}}, \"moving_mean_initializer\": {\"class_name\": \"Zeros\", \"config\": {}}, \"moving_variance_initializer\": {\"class_name\": \"Ones\", \"config\": {}}, \"beta_regularizer\": null, \"gamma_regularizer\": null, \"beta_constraint\": null, \"gamma_constraint\": null}, \"inbound_nodes\": [[[\"conv2d_60\", 0, 0, {}]]]}, {\"name\": \"activation_60\", \"class_name\": \"Activation\", \"config\": {\"name\": \"activation_60\", \"trainable\": true, \"activation\": \"relu\"}, \"inbound_nodes\": [[[\"batch_normalization_60\", 0, 0, {}]]]}, {\"name\": \"conv2d_61\", \"class_name\": \"Conv2D\", \"config\": {\"name\": \"conv2d_61\", \"trainable\": true, \"filters\": 12, \"kernel_size\": [3, 3], \"strides\": [1, 1], \"padding\": \"same\", \"data_format\": \"channels_last\", \"dilation_rate\": [1, 1], \"activation\": \"linear\", \"use_bias\": false, \"kernel_initializer\": {\"class_name\": \"VarianceScaling\", \"config\": {\"scale\": 1.0, \"mode\": \"fan_avg\", \"distribution\": \"uniform\", \"seed\": null}}, \"bias_initializer\": {\"class_name\": \"Zeros\", \"config\": {}}, \"kernel_regularizer\": null, \"bias_regularizer\": null, \"activity_regularizer\": null, \"kernel_constraint\": null, \"bias_constraint\": null}, \"inbound_nodes\": [[[\"activation_60\", 0, 0, {}]]]}, {\"name\": \"dropout_31\", \"class_name\": \"Dropout\", \"config\": {\"name\": \"dropout_31\", \"trainable\": true, \"rate\": 0.3, \"noise_shape\": null, \"seed\": null}, \"inbound_nodes\": [[[\"conv2d_61\", 0, 0, {}]]]}, {\"name\": \"concatenate_29\", \"class_name\": \"Concatenate\", \"config\": {\"name\": \"concatenate_29\", \"trainable\": true, \"axis\": -1}, \"inbound_nodes\": [[[\"concatenate_28\", 0, 0, {}], [\"dropout_31\", 0, 0, {}]]]}, {\"name\": \"batch_normalization_61\", \"class_name\": \"BatchNormalization\", \"config\": {\"name\": \"batch_normalization_61\", \"trainable\": true, \"axis\": -1, \"momentum\": 0.99, \"epsilon\": 0.001, \"center\": true, \"scale\": true, \"beta_initializer\": {\"class_name\": \"Zeros\", \"config\": {}}, \"gamma_initializer\": {\"class_name\": \"Ones\", \"config\": {}}, \"moving_mean_initializer\": {\"class_name\": \"Zeros\", \"config\": {}}, \"moving_variance_initializer\": {\"class_name\": \"Ones\", \"config\": {}}, \"beta_regularizer\": null, \"gamma_regularizer\": null, \"beta_constraint\": null, \"gamma_constraint\": null}, \"inbound_nodes\": [[[\"concatenate_29\", 0, 0, {}]]]}, {\"name\": \"activation_61\", \"class_name\": \"Activation\", \"config\": {\"name\": \"activation_61\", \"trainable\": true, \"activation\": \"relu\"}, \"inbound_nodes\": [[[\"batch_normalization_61\", 0, 0, {}]]]}, {\"name\": \"conv2d_62\", \"class_name\": \"Conv2D\", \"config\": {\"name\": \"conv2d_62\", \"trainable\": true, \"filters\": 12, \"kernel_size\": [1, 1], \"strides\": [1, 1], \"padding\": \"same\", \"data_format\": \"channels_last\", \"dilation_rate\": [1, 1], \"activation\": \"linear\", \"use_bias\": false, \"kernel_initializer\": {\"class_name\": \"VarianceScaling\", \"config\": {\"scale\": 1.0, \"mode\": \"fan_avg\", \"distribution\": \"uniform\", \"seed\": null}}, \"bias_initializer\": {\"class_name\": \"Zeros\", \"config\": {}}, \"kernel_regularizer\": null, \"bias_regularizer\": null, \"activity_regularizer\": null, \"kernel_constraint\": null, \"bias_constraint\": null}, \"inbound_nodes\": [[[\"activation_61\", 0, 0, {}]]]}, {\"name\": \"batch_normalization_62\", \"class_name\": \"BatchNormalization\", \"config\": {\"name\": \"batch_normalization_62\", \"trainable\": true, \"axis\": -1, \"momentum\": 0.99, \"epsilon\": 0.001, \"center\": true, \"scale\": true, \"beta_initializer\": {\"class_name\": \"Zeros\", \"config\": {}}, \"gamma_initializer\": {\"class_name\": \"Ones\", \"config\": {}}, \"moving_mean_initializer\": {\"class_name\": \"Zeros\", \"config\": {}}, \"moving_variance_initializer\": {\"class_name\": \"Ones\", \"config\": {}}, \"beta_regularizer\": null, \"gamma_regularizer\": null, \"beta_constraint\": null, \"gamma_constraint\": null}, \"inbound_nodes\": [[[\"conv2d_62\", 0, 0, {}]]]}, {\"name\": \"activation_62\", \"class_name\": \"Activation\", \"config\": {\"name\": \"activation_62\", \"trainable\": true, \"activation\": \"relu\"}, \"inbound_nodes\": [[[\"batch_normalization_62\", 0, 0, {}]]]}, {\"name\": \"conv2d_63\", \"class_name\": \"Conv2D\", \"config\": {\"name\": \"conv2d_63\", \"trainable\": true, \"filters\": 12, \"kernel_size\": [3, 3], \"strides\": [1, 1], \"padding\": \"same\", \"data_format\": \"channels_last\", \"dilation_rate\": [1, 1], \"activation\": \"linear\", \"use_bias\": false, \"kernel_initializer\": {\"class_name\": \"VarianceScaling\", \"config\": {\"scale\": 1.0, \"mode\": \"fan_avg\", \"distribution\": \"uniform\", \"seed\": null}}, \"bias_initializer\": {\"class_name\": \"Zeros\", \"config\": {}}, \"kernel_regularizer\": null, \"bias_regularizer\": null, \"activity_regularizer\": null, \"kernel_constraint\": null, \"bias_constraint\": null}, \"inbound_nodes\": [[[\"activation_62\", 0, 0, {}]]]}, {\"name\": \"dropout_32\", \"class_name\": \"Dropout\", \"config\": {\"name\": \"dropout_32\", \"trainable\": true, \"rate\": 0.3, \"noise_shape\": null, \"seed\": null}, \"inbound_nodes\": [[[\"conv2d_63\", 0, 0, {}]]]}, {\"name\": \"concatenate_30\", \"class_name\": \"Concatenate\", \"config\": {\"name\": \"concatenate_30\", \"trainable\": true, \"axis\": -1}, \"inbound_nodes\": [[[\"concatenate_29\", 0, 0, {}], [\"dropout_32\", 0, 0, {}]]]}, {\"name\": \"batch_normalization_63\", \"class_name\": \"BatchNormalization\", \"config\": {\"name\": \"batch_normalization_63\", \"trainable\": true, \"axis\": -1, \"momentum\": 0.99, \"epsilon\": 0.001, \"center\": true, \"scale\": true, \"beta_initializer\": {\"class_name\": \"Zeros\", \"config\": {}}, \"gamma_initializer\": {\"class_name\": \"Ones\", \"config\": {}}, \"moving_mean_initializer\": {\"class_name\": \"Zeros\", \"config\": {}}, \"moving_variance_initializer\": {\"class_name\": \"Ones\", \"config\": {}}, \"beta_regularizer\": null, \"gamma_regularizer\": null, \"beta_constraint\": null, \"gamma_constraint\": null}, \"inbound_nodes\": [[[\"concatenate_30\", 0, 0, {}]]]}, {\"name\": \"activation_63\", \"class_name\": \"Activation\", \"config\": {\"name\": \"activation_63\", \"trainable\": true, \"activation\": \"relu\"}, \"inbound_nodes\": [[[\"batch_normalization_63\", 0, 0, {}]]]}, {\"name\": \"conv2d_64\", \"class_name\": \"Conv2D\", \"config\": {\"name\": \"conv2d_64\", \"trainable\": true, \"filters\": 12, \"kernel_size\": [1, 1], \"strides\": [1, 1], \"padding\": \"same\", \"data_format\": \"channels_last\", \"dilation_rate\": [1, 1], \"activation\": \"linear\", \"use_bias\": false, \"kernel_initializer\": {\"class_name\": \"VarianceScaling\", \"config\": {\"scale\": 1.0, \"mode\": \"fan_avg\", \"distribution\": \"uniform\", \"seed\": null}}, \"bias_initializer\": {\"class_name\": \"Zeros\", \"config\": {}}, \"kernel_regularizer\": null, \"bias_regularizer\": null, \"activity_regularizer\": null, \"kernel_constraint\": null, \"bias_constraint\": null}, \"inbound_nodes\": [[[\"activation_63\", 0, 0, {}]]]}, {\"name\": \"batch_normalization_64\", \"class_name\": \"BatchNormalization\", \"config\": {\"name\": \"batch_normalization_64\", \"trainable\": true, \"axis\": -1, \"momentum\": 0.99, \"epsilon\": 0.001, \"center\": true, \"scale\": true, \"beta_initializer\": {\"class_name\": \"Zeros\", \"config\": {}}, \"gamma_initializer\": {\"class_name\": \"Ones\", \"config\": {}}, \"moving_mean_initializer\": {\"class_name\": \"Zeros\", \"config\": {}}, \"moving_variance_initializer\": {\"class_name\": \"Ones\", \"config\": {}}, \"beta_regularizer\": null, \"gamma_regularizer\": null, \"beta_constraint\": null, \"gamma_constraint\": null}, \"inbound_nodes\": [[[\"conv2d_64\", 0, 0, {}]]]}, {\"name\": \"activation_64\", \"class_name\": \"Activation\", \"config\": {\"name\": \"activation_64\", \"trainable\": true, \"activation\": \"relu\"}, \"inbound_nodes\": [[[\"batch_normalization_64\", 0, 0, {}]]]}, {\"name\": \"conv2d_65\", \"class_name\": \"Conv2D\", \"config\": {\"name\": \"conv2d_65\", \"trainable\": true, \"filters\": 12, \"kernel_size\": [3, 3], \"strides\": [1, 1], \"padding\": \"same\", \"data_format\": \"channels_last\", \"dilation_rate\": [1, 1], \"activation\": \"linear\", \"use_bias\": false, \"kernel_initializer\": {\"class_name\": \"VarianceScaling\", \"config\": {\"scale\": 1.0, \"mode\": \"fan_avg\", \"distribution\": \"uniform\", \"seed\": null}}, \"bias_initializer\": {\"class_name\": \"Zeros\", \"config\": {}}, \"kernel_regularizer\": null, \"bias_regularizer\": null, \"activity_regularizer\": null, \"kernel_constraint\": null, \"bias_constraint\": null}, \"inbound_nodes\": [[[\"activation_64\", 0, 0, {}]]]}, {\"name\": \"dropout_33\", \"class_name\": \"Dropout\", \"config\": {\"name\": \"dropout_33\", \"trainable\": true, \"rate\": 0.3, \"noise_shape\": null, \"seed\": null}, \"inbound_nodes\": [[[\"conv2d_65\", 0, 0, {}]]]}, {\"name\": \"concatenate_31\", \"class_name\": \"Concatenate\", \"config\": {\"name\": \"concatenate_31\", \"trainable\": true, \"axis\": -1}, \"inbound_nodes\": [[[\"concatenate_30\", 0, 0, {}], [\"dropout_33\", 0, 0, {}]]]}, {\"name\": \"batch_normalization_65\", \"class_name\": \"BatchNormalization\", \"config\": {\"name\": \"batch_normalization_65\", \"trainable\": true, \"axis\": -1, \"momentum\": 0.99, \"epsilon\": 0.001, \"center\": true, \"scale\": true, \"beta_initializer\": {\"class_name\": \"Zeros\", \"config\": {}}, \"gamma_initializer\": {\"class_name\": \"Ones\", \"config\": {}}, \"moving_mean_initializer\": {\"class_name\": \"Zeros\", \"config\": {}}, \"moving_variance_initializer\": {\"class_name\": \"Ones\", \"config\": {}}, \"beta_regularizer\": null, \"gamma_regularizer\": null, \"beta_constraint\": null, \"gamma_constraint\": null}, \"inbound_nodes\": [[[\"concatenate_31\", 0, 0, {}]]]}, {\"name\": \"activation_65\", \"class_name\": \"Activation\", \"config\": {\"name\": \"activation_65\", \"trainable\": true, \"activation\": \"relu\"}, \"inbound_nodes\": [[[\"batch_normalization_65\", 0, 0, {}]]]}, {\"name\": \"conv2d_66\", \"class_name\": \"Conv2D\", \"config\": {\"name\": \"conv2d_66\", \"trainable\": true, \"filters\": 12, \"kernel_size\": [1, 1], \"strides\": [1, 1], \"padding\": \"same\", \"data_format\": \"channels_last\", \"dilation_rate\": [1, 1], \"activation\": \"linear\", \"use_bias\": false, \"kernel_initializer\": {\"class_name\": \"VarianceScaling\", \"config\": {\"scale\": 1.0, \"mode\": \"fan_avg\", \"distribution\": \"uniform\", \"seed\": null}}, \"bias_initializer\": {\"class_name\": \"Zeros\", \"config\": {}}, \"kernel_regularizer\": null, \"bias_regularizer\": null, \"activity_regularizer\": null, \"kernel_constraint\": null, \"bias_constraint\": null}, \"inbound_nodes\": [[[\"activation_65\", 0, 0, {}]]]}, {\"name\": \"batch_normalization_66\", \"class_name\": \"BatchNormalization\", \"config\": {\"name\": \"batch_normalization_66\", \"trainable\": true, \"axis\": -1, \"momentum\": 0.99, \"epsilon\": 0.001, \"center\": true, \"scale\": true, \"beta_initializer\": {\"class_name\": \"Zeros\", \"config\": {}}, \"gamma_initializer\": {\"class_name\": \"Ones\", \"config\": {}}, \"moving_mean_initializer\": {\"class_name\": \"Zeros\", \"config\": {}}, \"moving_variance_initializer\": {\"class_name\": \"Ones\", \"config\": {}}, \"beta_regularizer\": null, \"gamma_regularizer\": null, \"beta_constraint\": null, \"gamma_constraint\": null}, \"inbound_nodes\": [[[\"conv2d_66\", 0, 0, {}]]]}, {\"name\": \"activation_66\", \"class_name\": \"Activation\", \"config\": {\"name\": \"activation_66\", \"trainable\": true, \"activation\": \"relu\"}, \"inbound_nodes\": [[[\"batch_normalization_66\", 0, 0, {}]]]}, {\"name\": \"conv2d_67\", \"class_name\": \"Conv2D\", \"config\": {\"name\": \"conv2d_67\", \"trainable\": true, \"filters\": 12, \"kernel_size\": [3, 3], \"strides\": [1, 1], \"padding\": \"same\", \"data_format\": \"channels_last\", \"dilation_rate\": [1, 1], \"activation\": \"linear\", \"use_bias\": false, \"kernel_initializer\": {\"class_name\": \"VarianceScaling\", \"config\": {\"scale\": 1.0, \"mode\": \"fan_avg\", \"distribution\": \"uniform\", \"seed\": null}}, \"bias_initializer\": {\"class_name\": \"Zeros\", \"config\": {}}, \"kernel_regularizer\": null, \"bias_regularizer\": null, \"activity_regularizer\": null, \"kernel_constraint\": null, \"bias_constraint\": null}, \"inbound_nodes\": [[[\"activation_66\", 0, 0, {}]]]}, {\"name\": \"dropout_34\", \"class_name\": \"Dropout\", \"config\": {\"name\": \"dropout_34\", \"trainable\": true, \"rate\": 0.3, \"noise_shape\": null, \"seed\": null}, \"inbound_nodes\": [[[\"conv2d_67\", 0, 0, {}]]]}, {\"name\": \"concatenate_32\", \"class_name\": \"Concatenate\", \"config\": {\"name\": \"concatenate_32\", \"trainable\": true, \"axis\": -1}, \"inbound_nodes\": [[[\"concatenate_31\", 0, 0, {}], [\"dropout_34\", 0, 0, {}]]]}, {\"name\": \"batch_normalization_67\", \"class_name\": \"BatchNormalization\", \"config\": {\"name\": \"batch_normalization_67\", \"trainable\": true, \"axis\": -1, \"momentum\": 0.99, \"epsilon\": 0.001, \"center\": true, \"scale\": true, \"beta_initializer\": {\"class_name\": \"Zeros\", \"config\": {}}, \"gamma_initializer\": {\"class_name\": \"Ones\", \"config\": {}}, \"moving_mean_initializer\": {\"class_name\": \"Zeros\", \"config\": {}}, \"moving_variance_initializer\": {\"class_name\": \"Ones\", \"config\": {}}, \"beta_regularizer\": null, \"gamma_regularizer\": null, \"beta_constraint\": null, \"gamma_constraint\": null}, \"inbound_nodes\": [[[\"concatenate_32\", 0, 0, {}]]]}, {\"name\": \"activation_67\", \"class_name\": \"Activation\", \"config\": {\"name\": \"activation_67\", \"trainable\": true, \"activation\": \"relu\"}, \"inbound_nodes\": [[[\"batch_normalization_67\", 0, 0, {}]]]}, {\"name\": \"conv2d_68\", \"class_name\": \"Conv2D\", \"config\": {\"name\": \"conv2d_68\", \"trainable\": true, \"filters\": 12, \"kernel_size\": [1, 1], \"strides\": [1, 1], \"padding\": \"same\", \"data_format\": \"channels_last\", \"dilation_rate\": [1, 1], \"activation\": \"linear\", \"use_bias\": false, \"kernel_initializer\": {\"class_name\": \"VarianceScaling\", \"config\": {\"scale\": 1.0, \"mode\": \"fan_avg\", \"distribution\": \"uniform\", \"seed\": null}}, \"bias_initializer\": {\"class_name\": \"Zeros\", \"config\": {}}, \"kernel_regularizer\": null, \"bias_regularizer\": null, \"activity_regularizer\": null, \"kernel_constraint\": null, \"bias_constraint\": null}, \"inbound_nodes\": [[[\"activation_67\", 0, 0, {}]]]}, {\"name\": \"batch_normalization_68\", \"class_name\": \"BatchNormalization\", \"config\": {\"name\": \"batch_normalization_68\", \"trainable\": true, \"axis\": -1, \"momentum\": 0.99, \"epsilon\": 0.001, \"center\": true, \"scale\": true, \"beta_initializer\": {\"class_name\": \"Zeros\", \"config\": {}}, \"gamma_initializer\": {\"class_name\": \"Ones\", \"config\": {}}, \"moving_mean_initializer\": {\"class_name\": \"Zeros\", \"config\": {}}, \"moving_variance_initializer\": {\"class_name\": \"Ones\", \"config\": {}}, \"beta_regularizer\": null, \"gamma_regularizer\": null, \"beta_constraint\": null, \"gamma_constraint\": null}, \"inbound_nodes\": [[[\"conv2d_68\", 0, 0, {}]]]}, {\"name\": \"activation_68\", \"class_name\": \"Activation\", \"config\": {\"name\": \"activation_68\", \"trainable\": true, \"activation\": \"relu\"}, \"inbound_nodes\": [[[\"batch_normalization_68\", 0, 0, {}]]]}, {\"name\": \"conv2d_69\", \"class_name\": \"Conv2D\", \"config\": {\"name\": \"conv2d_69\", \"trainable\": true, \"filters\": 12, \"kernel_size\": [3, 3], \"strides\": [1, 1], \"padding\": \"same\", \"data_format\": \"channels_last\", \"dilation_rate\": [1, 1], \"activation\": \"linear\", \"use_bias\": false, \"kernel_initializer\": {\"class_name\": \"VarianceScaling\", \"config\": {\"scale\": 1.0, \"mode\": \"fan_avg\", \"distribution\": \"uniform\", \"seed\": null}}, \"bias_initializer\": {\"class_name\": \"Zeros\", \"config\": {}}, \"kernel_regularizer\": null, \"bias_regularizer\": null, \"activity_regularizer\": null, \"kernel_constraint\": null, \"bias_constraint\": null}, \"inbound_nodes\": [[[\"activation_68\", 0, 0, {}]]]}, {\"name\": \"dropout_35\", \"class_name\": \"Dropout\", \"config\": {\"name\": \"dropout_35\", \"trainable\": true, \"rate\": 0.3, \"noise_shape\": null, \"seed\": null}, \"inbound_nodes\": [[[\"conv2d_69\", 0, 0, {}]]]}, {\"name\": \"concatenate_33\", \"class_name\": \"Concatenate\", \"config\": {\"name\": \"concatenate_33\", \"trainable\": true, \"axis\": -1}, \"inbound_nodes\": [[[\"concatenate_32\", 0, 0, {}], [\"dropout_35\", 0, 0, {}]]]}, {\"name\": \"batch_normalization_69\", \"class_name\": \"BatchNormalization\", \"config\": {\"name\": \"batch_normalization_69\", \"trainable\": true, \"axis\": -1, \"momentum\": 0.99, \"epsilon\": 0.001, \"center\": true, \"scale\": true, \"beta_initializer\": {\"class_name\": \"Zeros\", \"config\": {}}, \"gamma_initializer\": {\"class_name\": \"Ones\", \"config\": {}}, \"moving_mean_initializer\": {\"class_name\": \"Zeros\", \"config\": {}}, \"moving_variance_initializer\": {\"class_name\": \"Ones\", \"config\": {}}, \"beta_regularizer\": null, \"gamma_regularizer\": null, \"beta_constraint\": null, \"gamma_constraint\": null}, \"inbound_nodes\": [[[\"concatenate_33\", 0, 0, {}]]]}, {\"name\": \"activation_69\", \"class_name\": \"Activation\", \"config\": {\"name\": \"activation_69\", \"trainable\": true, \"activation\": \"relu\"}, \"inbound_nodes\": [[[\"batch_normalization_69\", 0, 0, {}]]]}, {\"name\": \"conv2d_70\", \"class_name\": \"Conv2D\", \"config\": {\"name\": \"conv2d_70\", \"trainable\": true, \"filters\": 12, \"kernel_size\": [1, 1], \"strides\": [1, 1], \"padding\": \"same\", \"data_format\": \"channels_last\", \"dilation_rate\": [1, 1], \"activation\": \"linear\", \"use_bias\": false, \"kernel_initializer\": {\"class_name\": \"VarianceScaling\", \"config\": {\"scale\": 1.0, \"mode\": \"fan_avg\", \"distribution\": \"uniform\", \"seed\": null}}, \"bias_initializer\": {\"class_name\": \"Zeros\", \"config\": {}}, \"kernel_regularizer\": null, \"bias_regularizer\": null, \"activity_regularizer\": null, \"kernel_constraint\": null, \"bias_constraint\": null}, \"inbound_nodes\": [[[\"activation_69\", 0, 0, {}]]]}, {\"name\": \"batch_normalization_70\", \"class_name\": \"BatchNormalization\", \"config\": {\"name\": \"batch_normalization_70\", \"trainable\": true, \"axis\": -1, \"momentum\": 0.99, \"epsilon\": 0.001, \"center\": true, \"scale\": true, \"beta_initializer\": {\"class_name\": \"Zeros\", \"config\": {}}, \"gamma_initializer\": {\"class_name\": \"Ones\", \"config\": {}}, \"moving_mean_initializer\": {\"class_name\": \"Zeros\", \"config\": {}}, \"moving_variance_initializer\": {\"class_name\": \"Ones\", \"config\": {}}, \"beta_regularizer\": null, \"gamma_regularizer\": null, \"beta_constraint\": null, \"gamma_constraint\": null}, \"inbound_nodes\": [[[\"conv2d_70\", 0, 0, {}]]]}, {\"name\": \"activation_70\", \"class_name\": \"Activation\", \"config\": {\"name\": \"activation_70\", \"trainable\": true, \"activation\": \"relu\"}, \"inbound_nodes\": [[[\"batch_normalization_70\", 0, 0, {}]]]}, {\"name\": \"conv2d_71\", \"class_name\": \"Conv2D\", \"config\": {\"name\": \"conv2d_71\", \"trainable\": true, \"filters\": 12, \"kernel_size\": [3, 3], \"strides\": [1, 1], \"padding\": \"same\", \"data_format\": \"channels_last\", \"dilation_rate\": [1, 1], \"activation\": \"linear\", \"use_bias\": false, \"kernel_initializer\": {\"class_name\": \"VarianceScaling\", \"config\": {\"scale\": 1.0, \"mode\": \"fan_avg\", \"distribution\": \"uniform\", \"seed\": null}}, \"bias_initializer\": {\"class_name\": \"Zeros\", \"config\": {}}, \"kernel_regularizer\": null, \"bias_regularizer\": null, \"activity_regularizer\": null, \"kernel_constraint\": null, \"bias_constraint\": null}, \"inbound_nodes\": [[[\"activation_70\", 0, 0, {}]]]}, {\"name\": \"dropout_36\", \"class_name\": \"Dropout\", \"config\": {\"name\": \"dropout_36\", \"trainable\": true, \"rate\": 0.3, \"noise_shape\": null, \"seed\": null}, \"inbound_nodes\": [[[\"conv2d_71\", 0, 0, {}]]]}, {\"name\": \"concatenate_34\", \"class_name\": \"Concatenate\", \"config\": {\"name\": \"concatenate_34\", \"trainable\": true, \"axis\": -1}, \"inbound_nodes\": [[[\"concatenate_33\", 0, 0, {}], [\"dropout_36\", 0, 0, {}]]]}, {\"name\": \"batch_normalization_71\", \"class_name\": \"BatchNormalization\", \"config\": {\"name\": \"batch_normalization_71\", \"trainable\": true, \"axis\": -1, \"momentum\": 0.99, \"epsilon\": 0.001, \"center\": true, \"scale\": true, \"beta_initializer\": {\"class_name\": \"Zeros\", \"config\": {}}, \"gamma_initializer\": {\"class_name\": \"Ones\", \"config\": {}}, \"moving_mean_initializer\": {\"class_name\": \"Zeros\", \"config\": {}}, \"moving_variance_initializer\": {\"class_name\": \"Ones\", \"config\": {}}, \"beta_regularizer\": null, \"gamma_regularizer\": null, \"beta_constraint\": null, \"gamma_constraint\": null}, \"inbound_nodes\": [[[\"concatenate_34\", 0, 0, {}]]]}, {\"name\": \"activation_71\", \"class_name\": \"Activation\", \"config\": {\"name\": \"activation_71\", \"trainable\": true, \"activation\": \"relu\"}, \"inbound_nodes\": [[[\"batch_normalization_71\", 0, 0, {}]]]}, {\"name\": \"conv2d_72\", \"class_name\": \"Conv2D\", \"config\": {\"name\": \"conv2d_72\", \"trainable\": true, \"filters\": 12, \"kernel_size\": [1, 1], \"strides\": [1, 1], \"padding\": \"same\", \"data_format\": \"channels_last\", \"dilation_rate\": [1, 1], \"activation\": \"linear\", \"use_bias\": false, \"kernel_initializer\": {\"class_name\": \"VarianceScaling\", \"config\": {\"scale\": 1.0, \"mode\": \"fan_avg\", \"distribution\": \"uniform\", \"seed\": null}}, \"bias_initializer\": {\"class_name\": \"Zeros\", \"config\": {}}, \"kernel_regularizer\": null, \"bias_regularizer\": null, \"activity_regularizer\": null, \"kernel_constraint\": null, \"bias_constraint\": null}, \"inbound_nodes\": [[[\"activation_71\", 0, 0, {}]]]}, {\"name\": \"dropout_37\", \"class_name\": \"Dropout\", \"config\": {\"name\": \"dropout_37\", \"trainable\": true, \"rate\": 0.3, \"noise_shape\": null, \"seed\": null}, \"inbound_nodes\": [[[\"conv2d_72\", 0, 0, {}]]]}, {\"name\": \"average_pooling2d_3\", \"class_name\": \"AveragePooling2D\", \"config\": {\"name\": \"average_pooling2d_3\", \"trainable\": true, \"pool_size\": [2, 2], \"padding\": \"valid\", \"strides\": [2, 2], \"data_format\": \"channels_last\"}, \"inbound_nodes\": [[[\"dropout_37\", 0, 0, {}]]]}, {\"name\": \"batch_normalization_72\", \"class_name\": \"BatchNormalization\", \"config\": {\"name\": \"batch_normalization_72\", \"trainable\": true, \"axis\": -1, \"momentum\": 0.99, \"epsilon\": 0.001, \"center\": true, \"scale\": true, \"beta_initializer\": {\"class_name\": \"Zeros\", \"config\": {}}, \"gamma_initializer\": {\"class_name\": \"Ones\", \"config\": {}}, \"moving_mean_initializer\": {\"class_name\": \"Zeros\", \"config\": {}}, \"moving_variance_initializer\": {\"class_name\": \"Ones\", \"config\": {}}, \"beta_regularizer\": null, \"gamma_regularizer\": null, \"beta_constraint\": null, \"gamma_constraint\": null}, \"inbound_nodes\": [[[\"average_pooling2d_3\", 0, 0, {}]]]}, {\"name\": \"activation_72\", \"class_name\": \"Activation\", \"config\": {\"name\": \"activation_72\", \"trainable\": true, \"activation\": \"relu\"}, \"inbound_nodes\": [[[\"batch_normalization_72\", 0, 0, {}]]]}, {\"name\": \"conv2d_73\", \"class_name\": \"Conv2D\", \"config\": {\"name\": \"conv2d_73\", \"trainable\": true, \"filters\": 12, \"kernel_size\": [1, 1], \"strides\": [1, 1], \"padding\": \"same\", \"data_format\": \"channels_last\", \"dilation_rate\": [1, 1], \"activation\": \"linear\", \"use_bias\": false, \"kernel_initializer\": {\"class_name\": \"VarianceScaling\", \"config\": {\"scale\": 1.0, \"mode\": \"fan_avg\", \"distribution\": \"uniform\", \"seed\": null}}, \"bias_initializer\": {\"class_name\": \"Zeros\", \"config\": {}}, \"kernel_regularizer\": null, \"bias_regularizer\": null, \"activity_regularizer\": null, \"kernel_constraint\": null, \"bias_constraint\": null}, \"inbound_nodes\": [[[\"activation_72\", 0, 0, {}]]]}, {\"name\": \"batch_normalization_73\", \"class_name\": \"BatchNormalization\", \"config\": {\"name\": \"batch_normalization_73\", \"trainable\": true, \"axis\": -1, \"momentum\": 0.99, \"epsilon\": 0.001, \"center\": true, \"scale\": true, \"beta_initializer\": {\"class_name\": \"Zeros\", \"config\": {}}, \"gamma_initializer\": {\"class_name\": \"Ones\", \"config\": {}}, \"moving_mean_initializer\": {\"class_name\": \"Zeros\", \"config\": {}}, \"moving_variance_initializer\": {\"class_name\": \"Ones\", \"config\": {}}, \"beta_regularizer\": null, \"gamma_regularizer\": null, \"beta_constraint\": null, \"gamma_constraint\": null}, \"inbound_nodes\": [[[\"conv2d_73\", 0, 0, {}]]]}, {\"name\": \"activation_73\", \"class_name\": \"Activation\", \"config\": {\"name\": \"activation_73\", \"trainable\": true, \"activation\": \"relu\"}, \"inbound_nodes\": [[[\"batch_normalization_73\", 0, 0, {}]]]}, {\"name\": \"conv2d_74\", \"class_name\": \"Conv2D\", \"config\": {\"name\": \"conv2d_74\", \"trainable\": true, \"filters\": 12, \"kernel_size\": [3, 3], \"strides\": [1, 1], \"padding\": \"same\", \"data_format\": \"channels_last\", \"dilation_rate\": [1, 1], \"activation\": \"linear\", \"use_bias\": false, \"kernel_initializer\": {\"class_name\": \"VarianceScaling\", \"config\": {\"scale\": 1.0, \"mode\": \"fan_avg\", \"distribution\": \"uniform\", \"seed\": null}}, \"bias_initializer\": {\"class_name\": \"Zeros\", \"config\": {}}, \"kernel_regularizer\": null, \"bias_regularizer\": null, \"activity_regularizer\": null, \"kernel_constraint\": null, \"bias_constraint\": null}, \"inbound_nodes\": [[[\"activation_73\", 0, 0, {}]]]}, {\"name\": \"dropout_38\", \"class_name\": \"Dropout\", \"config\": {\"name\": \"dropout_38\", \"trainable\": true, \"rate\": 0.3, \"noise_shape\": null, \"seed\": null}, \"inbound_nodes\": [[[\"conv2d_74\", 0, 0, {}]]]}, {\"name\": \"concatenate_35\", \"class_name\": \"Concatenate\", \"config\": {\"name\": \"concatenate_35\", \"trainable\": true, \"axis\": -1}, \"inbound_nodes\": [[[\"average_pooling2d_3\", 0, 0, {}], [\"dropout_38\", 0, 0, {}]]]}, {\"name\": \"batch_normalization_74\", \"class_name\": \"BatchNormalization\", \"config\": {\"name\": \"batch_normalization_74\", \"trainable\": true, \"axis\": -1, \"momentum\": 0.99, \"epsilon\": 0.001, \"center\": true, \"scale\": true, \"beta_initializer\": {\"class_name\": \"Zeros\", \"config\": {}}, \"gamma_initializer\": {\"class_name\": \"Ones\", \"config\": {}}, \"moving_mean_initializer\": {\"class_name\": \"Zeros\", \"config\": {}}, \"moving_variance_initializer\": {\"class_name\": \"Ones\", \"config\": {}}, \"beta_regularizer\": null, \"gamma_regularizer\": null, \"beta_constraint\": null, \"gamma_constraint\": null}, \"inbound_nodes\": [[[\"concatenate_35\", 0, 0, {}]]]}, {\"name\": \"activation_74\", \"class_name\": \"Activation\", \"config\": {\"name\": \"activation_74\", \"trainable\": true, \"activation\": \"relu\"}, \"inbound_nodes\": [[[\"batch_normalization_74\", 0, 0, {}]]]}, {\"name\": \"conv2d_75\", \"class_name\": \"Conv2D\", \"config\": {\"name\": \"conv2d_75\", \"trainable\": true, \"filters\": 12, \"kernel_size\": [1, 1], \"strides\": [1, 1], \"padding\": \"same\", \"data_format\": \"channels_last\", \"dilation_rate\": [1, 1], \"activation\": \"linear\", \"use_bias\": false, \"kernel_initializer\": {\"class_name\": \"VarianceScaling\", \"config\": {\"scale\": 1.0, \"mode\": \"fan_avg\", \"distribution\": \"uniform\", \"seed\": null}}, \"bias_initializer\": {\"class_name\": \"Zeros\", \"config\": {}}, \"kernel_regularizer\": null, \"bias_regularizer\": null, \"activity_regularizer\": null, \"kernel_constraint\": null, \"bias_constraint\": null}, \"inbound_nodes\": [[[\"activation_74\", 0, 0, {}]]]}, {\"name\": \"batch_normalization_75\", \"class_name\": \"BatchNormalization\", \"config\": {\"name\": \"batch_normalization_75\", \"trainable\": true, \"axis\": -1, \"momentum\": 0.99, \"epsilon\": 0.001, \"center\": true, \"scale\": true, \"beta_initializer\": {\"class_name\": \"Zeros\", \"config\": {}}, \"gamma_initializer\": {\"class_name\": \"Ones\", \"config\": {}}, \"moving_mean_initializer\": {\"class_name\": \"Zeros\", \"config\": {}}, \"moving_variance_initializer\": {\"class_name\": \"Ones\", \"config\": {}}, \"beta_regularizer\": null, \"gamma_regularizer\": null, \"beta_constraint\": null, \"gamma_constraint\": null}, \"inbound_nodes\": [[[\"conv2d_75\", 0, 0, {}]]]}, {\"name\": \"activation_75\", \"class_name\": \"Activation\", \"config\": {\"name\": \"activation_75\", \"trainable\": true, \"activation\": \"relu\"}, \"inbound_nodes\": [[[\"batch_normalization_75\", 0, 0, {}]]]}, {\"name\": \"conv2d_76\", \"class_name\": \"Conv2D\", \"config\": {\"name\": \"conv2d_76\", \"trainable\": true, \"filters\": 12, \"kernel_size\": [3, 3], \"strides\": [1, 1], \"padding\": \"same\", \"data_format\": \"channels_last\", \"dilation_rate\": [1, 1], \"activation\": \"linear\", \"use_bias\": false, \"kernel_initializer\": {\"class_name\": \"VarianceScaling\", \"config\": {\"scale\": 1.0, \"mode\": \"fan_avg\", \"distribution\": \"uniform\", \"seed\": null}}, \"bias_initializer\": {\"class_name\": \"Zeros\", \"config\": {}}, \"kernel_regularizer\": null, \"bias_regularizer\": null, \"activity_regularizer\": null, \"kernel_constraint\": null, \"bias_constraint\": null}, \"inbound_nodes\": [[[\"activation_75\", 0, 0, {}]]]}, {\"name\": \"dropout_39\", \"class_name\": \"Dropout\", \"config\": {\"name\": \"dropout_39\", \"trainable\": true, \"rate\": 0.3, \"noise_shape\": null, \"seed\": null}, \"inbound_nodes\": [[[\"conv2d_76\", 0, 0, {}]]]}, {\"name\": \"concatenate_36\", \"class_name\": \"Concatenate\", \"config\": {\"name\": \"concatenate_36\", \"trainable\": true, \"axis\": -1}, \"inbound_nodes\": [[[\"concatenate_35\", 0, 0, {}], [\"dropout_39\", 0, 0, {}]]]}, {\"name\": \"batch_normalization_76\", \"class_name\": \"BatchNormalization\", \"config\": {\"name\": \"batch_normalization_76\", \"trainable\": true, \"axis\": -1, \"momentum\": 0.99, \"epsilon\": 0.001, \"center\": true, \"scale\": true, \"beta_initializer\": {\"class_name\": \"Zeros\", \"config\": {}}, \"gamma_initializer\": {\"class_name\": \"Ones\", \"config\": {}}, \"moving_mean_initializer\": {\"class_name\": \"Zeros\", \"config\": {}}, \"moving_variance_initializer\": {\"class_name\": \"Ones\", \"config\": {}}, \"beta_regularizer\": null, \"gamma_regularizer\": null, \"beta_constraint\": null, \"gamma_constraint\": null}, \"inbound_nodes\": [[[\"concatenate_36\", 0, 0, {}]]]}, {\"name\": \"activation_76\", \"class_name\": \"Activation\", \"config\": {\"name\": \"activation_76\", \"trainable\": true, \"activation\": \"relu\"}, \"inbound_nodes\": [[[\"batch_normalization_76\", 0, 0, {}]]]}, {\"name\": \"conv2d_77\", \"class_name\": \"Conv2D\", \"config\": {\"name\": \"conv2d_77\", \"trainable\": true, \"filters\": 12, \"kernel_size\": [1, 1], \"strides\": [1, 1], \"padding\": \"same\", \"data_format\": \"channels_last\", \"dilation_rate\": [1, 1], \"activation\": \"linear\", \"use_bias\": false, \"kernel_initializer\": {\"class_name\": \"VarianceScaling\", \"config\": {\"scale\": 1.0, \"mode\": \"fan_avg\", \"distribution\": \"uniform\", \"seed\": null}}, \"bias_initializer\": {\"class_name\": \"Zeros\", \"config\": {}}, \"kernel_regularizer\": null, \"bias_regularizer\": null, \"activity_regularizer\": null, \"kernel_constraint\": null, \"bias_constraint\": null}, \"inbound_nodes\": [[[\"activation_76\", 0, 0, {}]]]}, {\"name\": \"batch_normalization_77\", \"class_name\": \"BatchNormalization\", \"config\": {\"name\": \"batch_normalization_77\", \"trainable\": true, \"axis\": -1, \"momentum\": 0.99, \"epsilon\": 0.001, \"center\": true, \"scale\": true, \"beta_initializer\": {\"class_name\": \"Zeros\", \"config\": {}}, \"gamma_initializer\": {\"class_name\": \"Ones\", \"config\": {}}, \"moving_mean_initializer\": {\"class_name\": \"Zeros\", \"config\": {}}, \"moving_variance_initializer\": {\"class_name\": \"Ones\", \"config\": {}}, \"beta_regularizer\": null, \"gamma_regularizer\": null, \"beta_constraint\": null, \"gamma_constraint\": null}, \"inbound_nodes\": [[[\"conv2d_77\", 0, 0, {}]]]}, {\"name\": \"activation_77\", \"class_name\": \"Activation\", \"config\": {\"name\": \"activation_77\", \"trainable\": true, \"activation\": \"relu\"}, \"inbound_nodes\": [[[\"batch_normalization_77\", 0, 0, {}]]]}, {\"name\": \"conv2d_78\", \"class_name\": \"Conv2D\", \"config\": {\"name\": \"conv2d_78\", \"trainable\": true, \"filters\": 12, \"kernel_size\": [3, 3], \"strides\": [1, 1], \"padding\": \"same\", \"data_format\": \"channels_last\", \"dilation_rate\": [1, 1], \"activation\": \"linear\", \"use_bias\": false, \"kernel_initializer\": {\"class_name\": \"VarianceScaling\", \"config\": {\"scale\": 1.0, \"mode\": \"fan_avg\", \"distribution\": \"uniform\", \"seed\": null}}, \"bias_initializer\": {\"class_name\": \"Zeros\", \"config\": {}}, \"kernel_regularizer\": null, \"bias_regularizer\": null, \"activity_regularizer\": null, \"kernel_constraint\": null, \"bias_constraint\": null}, \"inbound_nodes\": [[[\"activation_77\", 0, 0, {}]]]}, {\"name\": \"dropout_40\", \"class_name\": \"Dropout\", \"config\": {\"name\": \"dropout_40\", \"trainable\": true, \"rate\": 0.3, \"noise_shape\": null, \"seed\": null}, \"inbound_nodes\": [[[\"conv2d_78\", 0, 0, {}]]]}, {\"name\": \"concatenate_37\", \"class_name\": \"Concatenate\", \"config\": {\"name\": \"concatenate_37\", \"trainable\": true, \"axis\": -1}, \"inbound_nodes\": [[[\"concatenate_36\", 0, 0, {}], [\"dropout_40\", 0, 0, {}]]]}, {\"name\": \"batch_normalization_78\", \"class_name\": \"BatchNormalization\", \"config\": {\"name\": \"batch_normalization_78\", \"trainable\": true, \"axis\": -1, \"momentum\": 0.99, \"epsilon\": 0.001, \"center\": true, \"scale\": true, \"beta_initializer\": {\"class_name\": \"Zeros\", \"config\": {}}, \"gamma_initializer\": {\"class_name\": \"Ones\", \"config\": {}}, \"moving_mean_initializer\": {\"class_name\": \"Zeros\", \"config\": {}}, \"moving_variance_initializer\": {\"class_name\": \"Ones\", \"config\": {}}, \"beta_regularizer\": null, \"gamma_regularizer\": null, \"beta_constraint\": null, \"gamma_constraint\": null}, \"inbound_nodes\": [[[\"concatenate_37\", 0, 0, {}]]]}, {\"name\": \"activation_78\", \"class_name\": \"Activation\", \"config\": {\"name\": \"activation_78\", \"trainable\": true, \"activation\": \"relu\"}, \"inbound_nodes\": [[[\"batch_normalization_78\", 0, 0, {}]]]}, {\"name\": \"conv2d_79\", \"class_name\": \"Conv2D\", \"config\": {\"name\": \"conv2d_79\", \"trainable\": true, \"filters\": 12, \"kernel_size\": [1, 1], \"strides\": [1, 1], \"padding\": \"same\", \"data_format\": \"channels_last\", \"dilation_rate\": [1, 1], \"activation\": \"linear\", \"use_bias\": false, \"kernel_initializer\": {\"class_name\": \"VarianceScaling\", \"config\": {\"scale\": 1.0, \"mode\": \"fan_avg\", \"distribution\": \"uniform\", \"seed\": null}}, \"bias_initializer\": {\"class_name\": \"Zeros\", \"config\": {}}, \"kernel_regularizer\": null, \"bias_regularizer\": null, \"activity_regularizer\": null, \"kernel_constraint\": null, \"bias_constraint\": null}, \"inbound_nodes\": [[[\"activation_78\", 0, 0, {}]]]}, {\"name\": \"batch_normalization_79\", \"class_name\": \"BatchNormalization\", \"config\": {\"name\": \"batch_normalization_79\", \"trainable\": true, \"axis\": -1, \"momentum\": 0.99, \"epsilon\": 0.001, \"center\": true, \"scale\": true, \"beta_initializer\": {\"class_name\": \"Zeros\", \"config\": {}}, \"gamma_initializer\": {\"class_name\": \"Ones\", \"config\": {}}, \"moving_mean_initializer\": {\"class_name\": \"Zeros\", \"config\": {}}, \"moving_variance_initializer\": {\"class_name\": \"Ones\", \"config\": {}}, \"beta_regularizer\": null, \"gamma_regularizer\": null, \"beta_constraint\": null, \"gamma_constraint\": null}, \"inbound_nodes\": [[[\"conv2d_79\", 0, 0, {}]]]}, {\"name\": \"activation_79\", \"class_name\": \"Activation\", \"config\": {\"name\": \"activation_79\", \"trainable\": true, \"activation\": \"relu\"}, \"inbound_nodes\": [[[\"batch_normalization_79\", 0, 0, {}]]]}, {\"name\": \"conv2d_80\", \"class_name\": \"Conv2D\", \"config\": {\"name\": \"conv2d_80\", \"trainable\": true, \"filters\": 12, \"kernel_size\": [3, 3], \"strides\": [1, 1], \"padding\": \"same\", \"data_format\": \"channels_last\", \"dilation_rate\": [1, 1], \"activation\": \"linear\", \"use_bias\": false, \"kernel_initializer\": {\"class_name\": \"VarianceScaling\", \"config\": {\"scale\": 1.0, \"mode\": \"fan_avg\", \"distribution\": \"uniform\", \"seed\": null}}, \"bias_initializer\": {\"class_name\": \"Zeros\", \"config\": {}}, \"kernel_regularizer\": null, \"bias_regularizer\": null, \"activity_regularizer\": null, \"kernel_constraint\": null, \"bias_constraint\": null}, \"inbound_nodes\": [[[\"activation_79\", 0, 0, {}]]]}, {\"name\": \"dropout_41\", \"class_name\": \"Dropout\", \"config\": {\"name\": \"dropout_41\", \"trainable\": true, \"rate\": 0.3, \"noise_shape\": null, \"seed\": null}, \"inbound_nodes\": [[[\"conv2d_80\", 0, 0, {}]]]}, {\"name\": \"concatenate_38\", \"class_name\": \"Concatenate\", \"config\": {\"name\": \"concatenate_38\", \"trainable\": true, \"axis\": -1}, \"inbound_nodes\": [[[\"concatenate_37\", 0, 0, {}], [\"dropout_41\", 0, 0, {}]]]}, {\"name\": \"batch_normalization_80\", \"class_name\": \"BatchNormalization\", \"config\": {\"name\": \"batch_normalization_80\", \"trainable\": true, \"axis\": -1, \"momentum\": 0.99, \"epsilon\": 0.001, \"center\": true, \"scale\": true, \"beta_initializer\": {\"class_name\": \"Zeros\", \"config\": {}}, \"gamma_initializer\": {\"class_name\": \"Ones\", \"config\": {}}, \"moving_mean_initializer\": {\"class_name\": \"Zeros\", \"config\": {}}, \"moving_variance_initializer\": {\"class_name\": \"Ones\", \"config\": {}}, \"beta_regularizer\": null, \"gamma_regularizer\": null, \"beta_constraint\": null, \"gamma_constraint\": null}, \"inbound_nodes\": [[[\"concatenate_38\", 0, 0, {}]]]}, {\"name\": \"activation_80\", \"class_name\": \"Activation\", \"config\": {\"name\": \"activation_80\", \"trainable\": true, \"activation\": \"relu\"}, \"inbound_nodes\": [[[\"batch_normalization_80\", 0, 0, {}]]]}, {\"name\": \"conv2d_81\", \"class_name\": \"Conv2D\", \"config\": {\"name\": \"conv2d_81\", \"trainable\": true, \"filters\": 12, \"kernel_size\": [1, 1], \"strides\": [1, 1], \"padding\": \"same\", \"data_format\": \"channels_last\", \"dilation_rate\": [1, 1], \"activation\": \"linear\", \"use_bias\": false, \"kernel_initializer\": {\"class_name\": \"VarianceScaling\", \"config\": {\"scale\": 1.0, \"mode\": \"fan_avg\", \"distribution\": \"uniform\", \"seed\": null}}, \"bias_initializer\": {\"class_name\": \"Zeros\", \"config\": {}}, \"kernel_regularizer\": null, \"bias_regularizer\": null, \"activity_regularizer\": null, \"kernel_constraint\": null, \"bias_constraint\": null}, \"inbound_nodes\": [[[\"activation_80\", 0, 0, {}]]]}, {\"name\": \"batch_normalization_81\", \"class_name\": \"BatchNormalization\", \"config\": {\"name\": \"batch_normalization_81\", \"trainable\": true, \"axis\": -1, \"momentum\": 0.99, \"epsilon\": 0.001, \"center\": true, \"scale\": true, \"beta_initializer\": {\"class_name\": \"Zeros\", \"config\": {}}, \"gamma_initializer\": {\"class_name\": \"Ones\", \"config\": {}}, \"moving_mean_initializer\": {\"class_name\": \"Zeros\", \"config\": {}}, \"moving_variance_initializer\": {\"class_name\": \"Ones\", \"config\": {}}, \"beta_regularizer\": null, \"gamma_regularizer\": null, \"beta_constraint\": null, \"gamma_constraint\": null}, \"inbound_nodes\": [[[\"conv2d_81\", 0, 0, {}]]]}, {\"name\": \"activation_81\", \"class_name\": \"Activation\", \"config\": {\"name\": \"activation_81\", \"trainable\": true, \"activation\": \"relu\"}, \"inbound_nodes\": [[[\"batch_normalization_81\", 0, 0, {}]]]}, {\"name\": \"conv2d_82\", \"class_name\": \"Conv2D\", \"config\": {\"name\": \"conv2d_82\", \"trainable\": true, \"filters\": 12, \"kernel_size\": [3, 3], \"strides\": [1, 1], \"padding\": \"same\", \"data_format\": \"channels_last\", \"dilation_rate\": [1, 1], \"activation\": \"linear\", \"use_bias\": false, \"kernel_initializer\": {\"class_name\": \"VarianceScaling\", \"config\": {\"scale\": 1.0, \"mode\": \"fan_avg\", \"distribution\": \"uniform\", \"seed\": null}}, \"bias_initializer\": {\"class_name\": \"Zeros\", \"config\": {}}, \"kernel_regularizer\": null, \"bias_regularizer\": null, \"activity_regularizer\": null, \"kernel_constraint\": null, \"bias_constraint\": null}, \"inbound_nodes\": [[[\"activation_81\", 0, 0, {}]]]}, {\"name\": \"dropout_42\", \"class_name\": \"Dropout\", \"config\": {\"name\": \"dropout_42\", \"trainable\": true, \"rate\": 0.3, \"noise_shape\": null, \"seed\": null}, \"inbound_nodes\": [[[\"conv2d_82\", 0, 0, {}]]]}, {\"name\": \"concatenate_39\", \"class_name\": \"Concatenate\", \"config\": {\"name\": \"concatenate_39\", \"trainable\": true, \"axis\": -1}, \"inbound_nodes\": [[[\"concatenate_38\", 0, 0, {}], [\"dropout_42\", 0, 0, {}]]]}, {\"name\": \"batch_normalization_82\", \"class_name\": \"BatchNormalization\", \"config\": {\"name\": \"batch_normalization_82\", \"trainable\": true, \"axis\": -1, \"momentum\": 0.99, \"epsilon\": 0.001, \"center\": true, \"scale\": true, \"beta_initializer\": {\"class_name\": \"Zeros\", \"config\": {}}, \"gamma_initializer\": {\"class_name\": \"Ones\", \"config\": {}}, \"moving_mean_initializer\": {\"class_name\": \"Zeros\", \"config\": {}}, \"moving_variance_initializer\": {\"class_name\": \"Ones\", \"config\": {}}, \"beta_regularizer\": null, \"gamma_regularizer\": null, \"beta_constraint\": null, \"gamma_constraint\": null}, \"inbound_nodes\": [[[\"concatenate_39\", 0, 0, {}]]]}, {\"name\": \"activation_82\", \"class_name\": \"Activation\", \"config\": {\"name\": \"activation_82\", \"trainable\": true, \"activation\": \"relu\"}, \"inbound_nodes\": [[[\"batch_normalization_82\", 0, 0, {}]]]}, {\"name\": \"conv2d_83\", \"class_name\": \"Conv2D\", \"config\": {\"name\": \"conv2d_83\", \"trainable\": true, \"filters\": 12, \"kernel_size\": [1, 1], \"strides\": [1, 1], \"padding\": \"same\", \"data_format\": \"channels_last\", \"dilation_rate\": [1, 1], \"activation\": \"linear\", \"use_bias\": false, \"kernel_initializer\": {\"class_name\": \"VarianceScaling\", \"config\": {\"scale\": 1.0, \"mode\": \"fan_avg\", \"distribution\": \"uniform\", \"seed\": null}}, \"bias_initializer\": {\"class_name\": \"Zeros\", \"config\": {}}, \"kernel_regularizer\": null, \"bias_regularizer\": null, \"activity_regularizer\": null, \"kernel_constraint\": null, \"bias_constraint\": null}, \"inbound_nodes\": [[[\"activation_82\", 0, 0, {}]]]}, {\"name\": \"batch_normalization_83\", \"class_name\": \"BatchNormalization\", \"config\": {\"name\": \"batch_normalization_83\", \"trainable\": true, \"axis\": -1, \"momentum\": 0.99, \"epsilon\": 0.001, \"center\": true, \"scale\": true, \"beta_initializer\": {\"class_name\": \"Zeros\", \"config\": {}}, \"gamma_initializer\": {\"class_name\": \"Ones\", \"config\": {}}, \"moving_mean_initializer\": {\"class_name\": \"Zeros\", \"config\": {}}, \"moving_variance_initializer\": {\"class_name\": \"Ones\", \"config\": {}}, \"beta_regularizer\": null, \"gamma_regularizer\": null, \"beta_constraint\": null, \"gamma_constraint\": null}, \"inbound_nodes\": [[[\"conv2d_83\", 0, 0, {}]]]}, {\"name\": \"activation_83\", \"class_name\": \"Activation\", \"config\": {\"name\": \"activation_83\", \"trainable\": true, \"activation\": \"relu\"}, \"inbound_nodes\": [[[\"batch_normalization_83\", 0, 0, {}]]]}, {\"name\": \"conv2d_84\", \"class_name\": \"Conv2D\", \"config\": {\"name\": \"conv2d_84\", \"trainable\": true, \"filters\": 12, \"kernel_size\": [3, 3], \"strides\": [1, 1], \"padding\": \"same\", \"data_format\": \"channels_last\", \"dilation_rate\": [1, 1], \"activation\": \"linear\", \"use_bias\": false, \"kernel_initializer\": {\"class_name\": \"VarianceScaling\", \"config\": {\"scale\": 1.0, \"mode\": \"fan_avg\", \"distribution\": \"uniform\", \"seed\": null}}, \"bias_initializer\": {\"class_name\": \"Zeros\", \"config\": {}}, \"kernel_regularizer\": null, \"bias_regularizer\": null, \"activity_regularizer\": null, \"kernel_constraint\": null, \"bias_constraint\": null}, \"inbound_nodes\": [[[\"activation_83\", 0, 0, {}]]]}, {\"name\": \"dropout_43\", \"class_name\": \"Dropout\", \"config\": {\"name\": \"dropout_43\", \"trainable\": true, \"rate\": 0.3, \"noise_shape\": null, \"seed\": null}, \"inbound_nodes\": [[[\"conv2d_84\", 0, 0, {}]]]}, {\"name\": \"concatenate_40\", \"class_name\": \"Concatenate\", \"config\": {\"name\": \"concatenate_40\", \"trainable\": true, \"axis\": -1}, \"inbound_nodes\": [[[\"concatenate_39\", 0, 0, {}], [\"dropout_43\", 0, 0, {}]]]}, {\"name\": \"batch_normalization_84\", \"class_name\": \"BatchNormalization\", \"config\": {\"name\": \"batch_normalization_84\", \"trainable\": true, \"axis\": -1, \"momentum\": 0.99, \"epsilon\": 0.001, \"center\": true, \"scale\": true, \"beta_initializer\": {\"class_name\": \"Zeros\", \"config\": {}}, \"gamma_initializer\": {\"class_name\": \"Ones\", \"config\": {}}, \"moving_mean_initializer\": {\"class_name\": \"Zeros\", \"config\": {}}, \"moving_variance_initializer\": {\"class_name\": \"Ones\", \"config\": {}}, \"beta_regularizer\": null, \"gamma_regularizer\": null, \"beta_constraint\": null, \"gamma_constraint\": null}, \"inbound_nodes\": [[[\"concatenate_40\", 0, 0, {}]]]}, {\"name\": \"activation_84\", \"class_name\": \"Activation\", \"config\": {\"name\": \"activation_84\", \"trainable\": true, \"activation\": \"relu\"}, \"inbound_nodes\": [[[\"batch_normalization_84\", 0, 0, {}]]]}, {\"name\": \"conv2d_85\", \"class_name\": \"Conv2D\", \"config\": {\"name\": \"conv2d_85\", \"trainable\": true, \"filters\": 12, \"kernel_size\": [1, 1], \"strides\": [1, 1], \"padding\": \"same\", \"data_format\": \"channels_last\", \"dilation_rate\": [1, 1], \"activation\": \"linear\", \"use_bias\": false, \"kernel_initializer\": {\"class_name\": \"VarianceScaling\", \"config\": {\"scale\": 1.0, \"mode\": \"fan_avg\", \"distribution\": \"uniform\", \"seed\": null}}, \"bias_initializer\": {\"class_name\": \"Zeros\", \"config\": {}}, \"kernel_regularizer\": null, \"bias_regularizer\": null, \"activity_regularizer\": null, \"kernel_constraint\": null, \"bias_constraint\": null}, \"inbound_nodes\": [[[\"activation_84\", 0, 0, {}]]]}, {\"name\": \"batch_normalization_85\", \"class_name\": \"BatchNormalization\", \"config\": {\"name\": \"batch_normalization_85\", \"trainable\": true, \"axis\": -1, \"momentum\": 0.99, \"epsilon\": 0.001, \"center\": true, \"scale\": true, \"beta_initializer\": {\"class_name\": \"Zeros\", \"config\": {}}, \"gamma_initializer\": {\"class_name\": \"Ones\", \"config\": {}}, \"moving_mean_initializer\": {\"class_name\": \"Zeros\", \"config\": {}}, \"moving_variance_initializer\": {\"class_name\": \"Ones\", \"config\": {}}, \"beta_regularizer\": null, \"gamma_regularizer\": null, \"beta_constraint\": null, \"gamma_constraint\": null}, \"inbound_nodes\": [[[\"conv2d_85\", 0, 0, {}]]]}, {\"name\": \"activation_85\", \"class_name\": \"Activation\", \"config\": {\"name\": \"activation_85\", \"trainable\": true, \"activation\": \"relu\"}, \"inbound_nodes\": [[[\"batch_normalization_85\", 0, 0, {}]]]}, {\"name\": \"conv2d_86\", \"class_name\": \"Conv2D\", \"config\": {\"name\": \"conv2d_86\", \"trainable\": true, \"filters\": 12, \"kernel_size\": [3, 3], \"strides\": [1, 1], \"padding\": \"same\", \"data_format\": \"channels_last\", \"dilation_rate\": [1, 1], \"activation\": \"linear\", \"use_bias\": false, \"kernel_initializer\": {\"class_name\": \"VarianceScaling\", \"config\": {\"scale\": 1.0, \"mode\": \"fan_avg\", \"distribution\": \"uniform\", \"seed\": null}}, \"bias_initializer\": {\"class_name\": \"Zeros\", \"config\": {}}, \"kernel_regularizer\": null, \"bias_regularizer\": null, \"activity_regularizer\": null, \"kernel_constraint\": null, \"bias_constraint\": null}, \"inbound_nodes\": [[[\"activation_85\", 0, 0, {}]]]}, {\"name\": \"dropout_44\", \"class_name\": \"Dropout\", \"config\": {\"name\": \"dropout_44\", \"trainable\": true, \"rate\": 0.3, \"noise_shape\": null, \"seed\": null}, \"inbound_nodes\": [[[\"conv2d_86\", 0, 0, {}]]]}, {\"name\": \"concatenate_41\", \"class_name\": \"Concatenate\", \"config\": {\"name\": \"concatenate_41\", \"trainable\": true, \"axis\": -1}, \"inbound_nodes\": [[[\"concatenate_40\", 0, 0, {}], [\"dropout_44\", 0, 0, {}]]]}, {\"name\": \"batch_normalization_86\", \"class_name\": \"BatchNormalization\", \"config\": {\"name\": \"batch_normalization_86\", \"trainable\": true, \"axis\": -1, \"momentum\": 0.99, \"epsilon\": 0.001, \"center\": true, \"scale\": true, \"beta_initializer\": {\"class_name\": \"Zeros\", \"config\": {}}, \"gamma_initializer\": {\"class_name\": \"Ones\", \"config\": {}}, \"moving_mean_initializer\": {\"class_name\": \"Zeros\", \"config\": {}}, \"moving_variance_initializer\": {\"class_name\": \"Ones\", \"config\": {}}, \"beta_regularizer\": null, \"gamma_regularizer\": null, \"beta_constraint\": null, \"gamma_constraint\": null}, \"inbound_nodes\": [[[\"concatenate_41\", 0, 0, {}]]]}, {\"name\": \"activation_86\", \"class_name\": \"Activation\", \"config\": {\"name\": \"activation_86\", \"trainable\": true, \"activation\": \"relu\"}, \"inbound_nodes\": [[[\"batch_normalization_86\", 0, 0, {}]]]}, {\"name\": \"conv2d_87\", \"class_name\": \"Conv2D\", \"config\": {\"name\": \"conv2d_87\", \"trainable\": true, \"filters\": 12, \"kernel_size\": [1, 1], \"strides\": [1, 1], \"padding\": \"same\", \"data_format\": \"channels_last\", \"dilation_rate\": [1, 1], \"activation\": \"linear\", \"use_bias\": false, \"kernel_initializer\": {\"class_name\": \"VarianceScaling\", \"config\": {\"scale\": 1.0, \"mode\": \"fan_avg\", \"distribution\": \"uniform\", \"seed\": null}}, \"bias_initializer\": {\"class_name\": \"Zeros\", \"config\": {}}, \"kernel_regularizer\": null, \"bias_regularizer\": null, \"activity_regularizer\": null, \"kernel_constraint\": null, \"bias_constraint\": null}, \"inbound_nodes\": [[[\"activation_86\", 0, 0, {}]]]}, {\"name\": \"batch_normalization_87\", \"class_name\": \"BatchNormalization\", \"config\": {\"name\": \"batch_normalization_87\", \"trainable\": true, \"axis\": -1, \"momentum\": 0.99, \"epsilon\": 0.001, \"center\": true, \"scale\": true, \"beta_initializer\": {\"class_name\": \"Zeros\", \"config\": {}}, \"gamma_initializer\": {\"class_name\": \"Ones\", \"config\": {}}, \"moving_mean_initializer\": {\"class_name\": \"Zeros\", \"config\": {}}, \"moving_variance_initializer\": {\"class_name\": \"Ones\", \"config\": {}}, \"beta_regularizer\": null, \"gamma_regularizer\": null, \"beta_constraint\": null, \"gamma_constraint\": null}, \"inbound_nodes\": [[[\"conv2d_87\", 0, 0, {}]]]}, {\"name\": \"activation_87\", \"class_name\": \"Activation\", \"config\": {\"name\": \"activation_87\", \"trainable\": true, \"activation\": \"relu\"}, \"inbound_nodes\": [[[\"batch_normalization_87\", 0, 0, {}]]]}, {\"name\": \"conv2d_88\", \"class_name\": \"Conv2D\", \"config\": {\"name\": \"conv2d_88\", \"trainable\": true, \"filters\": 12, \"kernel_size\": [3, 3], \"strides\": [1, 1], \"padding\": \"same\", \"data_format\": \"channels_last\", \"dilation_rate\": [1, 1], \"activation\": \"linear\", \"use_bias\": false, \"kernel_initializer\": {\"class_name\": \"VarianceScaling\", \"config\": {\"scale\": 1.0, \"mode\": \"fan_avg\", \"distribution\": \"uniform\", \"seed\": null}}, \"bias_initializer\": {\"class_name\": \"Zeros\", \"config\": {}}, \"kernel_regularizer\": null, \"bias_regularizer\": null, \"activity_regularizer\": null, \"kernel_constraint\": null, \"bias_constraint\": null}, \"inbound_nodes\": [[[\"activation_87\", 0, 0, {}]]]}, {\"name\": \"dropout_45\", \"class_name\": \"Dropout\", \"config\": {\"name\": \"dropout_45\", \"trainable\": true, \"rate\": 0.3, \"noise_shape\": null, \"seed\": null}, \"inbound_nodes\": [[[\"conv2d_88\", 0, 0, {}]]]}, {\"name\": \"concatenate_42\", \"class_name\": \"Concatenate\", \"config\": {\"name\": \"concatenate_42\", \"trainable\": true, \"axis\": -1}, \"inbound_nodes\": [[[\"concatenate_41\", 0, 0, {}], [\"dropout_45\", 0, 0, {}]]]}, {\"name\": \"batch_normalization_88\", \"class_name\": \"BatchNormalization\", \"config\": {\"name\": \"batch_normalization_88\", \"trainable\": true, \"axis\": -1, \"momentum\": 0.99, \"epsilon\": 0.001, \"center\": true, \"scale\": true, \"beta_initializer\": {\"class_name\": \"Zeros\", \"config\": {}}, \"gamma_initializer\": {\"class_name\": \"Ones\", \"config\": {}}, \"moving_mean_initializer\": {\"class_name\": \"Zeros\", \"config\": {}}, \"moving_variance_initializer\": {\"class_name\": \"Ones\", \"config\": {}}, \"beta_regularizer\": null, \"gamma_regularizer\": null, \"beta_constraint\": null, \"gamma_constraint\": null}, \"inbound_nodes\": [[[\"concatenate_42\", 0, 0, {}]]]}, {\"name\": \"activation_88\", \"class_name\": \"Activation\", \"config\": {\"name\": \"activation_88\", \"trainable\": true, \"activation\": \"relu\"}, \"inbound_nodes\": [[[\"batch_normalization_88\", 0, 0, {}]]]}, {\"name\": \"conv2d_89\", \"class_name\": \"Conv2D\", \"config\": {\"name\": \"conv2d_89\", \"trainable\": true, \"filters\": 12, \"kernel_size\": [1, 1], \"strides\": [1, 1], \"padding\": \"same\", \"data_format\": \"channels_last\", \"dilation_rate\": [1, 1], \"activation\": \"linear\", \"use_bias\": false, \"kernel_initializer\": {\"class_name\": \"VarianceScaling\", \"config\": {\"scale\": 1.0, \"mode\": \"fan_avg\", \"distribution\": \"uniform\", \"seed\": null}}, \"bias_initializer\": {\"class_name\": \"Zeros\", \"config\": {}}, \"kernel_regularizer\": null, \"bias_regularizer\": null, \"activity_regularizer\": null, \"kernel_constraint\": null, \"bias_constraint\": null}, \"inbound_nodes\": [[[\"activation_88\", 0, 0, {}]]]}, {\"name\": \"batch_normalization_89\", \"class_name\": \"BatchNormalization\", \"config\": {\"name\": \"batch_normalization_89\", \"trainable\": true, \"axis\": -1, \"momentum\": 0.99, \"epsilon\": 0.001, \"center\": true, \"scale\": true, \"beta_initializer\": {\"class_name\": \"Zeros\", \"config\": {}}, \"gamma_initializer\": {\"class_name\": \"Ones\", \"config\": {}}, \"moving_mean_initializer\": {\"class_name\": \"Zeros\", \"config\": {}}, \"moving_variance_initializer\": {\"class_name\": \"Ones\", \"config\": {}}, \"beta_regularizer\": null, \"gamma_regularizer\": null, \"beta_constraint\": null, \"gamma_constraint\": null}, \"inbound_nodes\": [[[\"conv2d_89\", 0, 0, {}]]]}, {\"name\": \"activation_89\", \"class_name\": \"Activation\", \"config\": {\"name\": \"activation_89\", \"trainable\": true, \"activation\": \"relu\"}, \"inbound_nodes\": [[[\"batch_normalization_89\", 0, 0, {}]]]}, {\"name\": \"conv2d_90\", \"class_name\": \"Conv2D\", \"config\": {\"name\": \"conv2d_90\", \"trainable\": true, \"filters\": 12, \"kernel_size\": [3, 3], \"strides\": [1, 1], \"padding\": \"same\", \"data_format\": \"channels_last\", \"dilation_rate\": [1, 1], \"activation\": \"linear\", \"use_bias\": false, \"kernel_initializer\": {\"class_name\": \"VarianceScaling\", \"config\": {\"scale\": 1.0, \"mode\": \"fan_avg\", \"distribution\": \"uniform\", \"seed\": null}}, \"bias_initializer\": {\"class_name\": \"Zeros\", \"config\": {}}, \"kernel_regularizer\": null, \"bias_regularizer\": null, \"activity_regularizer\": null, \"kernel_constraint\": null, \"bias_constraint\": null}, \"inbound_nodes\": [[[\"activation_89\", 0, 0, {}]]]}, {\"name\": \"dropout_46\", \"class_name\": \"Dropout\", \"config\": {\"name\": \"dropout_46\", \"trainable\": true, \"rate\": 0.3, \"noise_shape\": null, \"seed\": null}, \"inbound_nodes\": [[[\"conv2d_90\", 0, 0, {}]]]}, {\"name\": \"concatenate_43\", \"class_name\": \"Concatenate\", \"config\": {\"name\": \"concatenate_43\", \"trainable\": true, \"axis\": -1}, \"inbound_nodes\": [[[\"concatenate_42\", 0, 0, {}], [\"dropout_46\", 0, 0, {}]]]}, {\"name\": \"batch_normalization_90\", \"class_name\": \"BatchNormalization\", \"config\": {\"name\": \"batch_normalization_90\", \"trainable\": true, \"axis\": -1, \"momentum\": 0.99, \"epsilon\": 0.001, \"center\": true, \"scale\": true, \"beta_initializer\": {\"class_name\": \"Zeros\", \"config\": {}}, \"gamma_initializer\": {\"class_name\": \"Ones\", \"config\": {}}, \"moving_mean_initializer\": {\"class_name\": \"Zeros\", \"config\": {}}, \"moving_variance_initializer\": {\"class_name\": \"Ones\", \"config\": {}}, \"beta_regularizer\": null, \"gamma_regularizer\": null, \"beta_constraint\": null, \"gamma_constraint\": null}, \"inbound_nodes\": [[[\"concatenate_43\", 0, 0, {}]]]}, {\"name\": \"activation_90\", \"class_name\": \"Activation\", \"config\": {\"name\": \"activation_90\", \"trainable\": true, \"activation\": \"relu\"}, \"inbound_nodes\": [[[\"batch_normalization_90\", 0, 0, {}]]]}, {\"name\": \"conv2d_91\", \"class_name\": \"Conv2D\", \"config\": {\"name\": \"conv2d_91\", \"trainable\": true, \"filters\": 12, \"kernel_size\": [1, 1], \"strides\": [1, 1], \"padding\": \"same\", \"data_format\": \"channels_last\", \"dilation_rate\": [1, 1], \"activation\": \"linear\", \"use_bias\": false, \"kernel_initializer\": {\"class_name\": \"VarianceScaling\", \"config\": {\"scale\": 1.0, \"mode\": \"fan_avg\", \"distribution\": \"uniform\", \"seed\": null}}, \"bias_initializer\": {\"class_name\": \"Zeros\", \"config\": {}}, \"kernel_regularizer\": null, \"bias_regularizer\": null, \"activity_regularizer\": null, \"kernel_constraint\": null, \"bias_constraint\": null}, \"inbound_nodes\": [[[\"activation_90\", 0, 0, {}]]]}, {\"name\": \"batch_normalization_91\", \"class_name\": \"BatchNormalization\", \"config\": {\"name\": \"batch_normalization_91\", \"trainable\": true, \"axis\": -1, \"momentum\": 0.99, \"epsilon\": 0.001, \"center\": true, \"scale\": true, \"beta_initializer\": {\"class_name\": \"Zeros\", \"config\": {}}, \"gamma_initializer\": {\"class_name\": \"Ones\", \"config\": {}}, \"moving_mean_initializer\": {\"class_name\": \"Zeros\", \"config\": {}}, \"moving_variance_initializer\": {\"class_name\": \"Ones\", \"config\": {}}, \"beta_regularizer\": null, \"gamma_regularizer\": null, \"beta_constraint\": null, \"gamma_constraint\": null}, \"inbound_nodes\": [[[\"conv2d_91\", 0, 0, {}]]]}, {\"name\": \"activation_91\", \"class_name\": \"Activation\", \"config\": {\"name\": \"activation_91\", \"trainable\": true, \"activation\": \"relu\"}, \"inbound_nodes\": [[[\"batch_normalization_91\", 0, 0, {}]]]}, {\"name\": \"conv2d_92\", \"class_name\": \"Conv2D\", \"config\": {\"name\": \"conv2d_92\", \"trainable\": true, \"filters\": 12, \"kernel_size\": [3, 3], \"strides\": [1, 1], \"padding\": \"same\", \"data_format\": \"channels_last\", \"dilation_rate\": [1, 1], \"activation\": \"linear\", \"use_bias\": false, \"kernel_initializer\": {\"class_name\": \"VarianceScaling\", \"config\": {\"scale\": 1.0, \"mode\": \"fan_avg\", \"distribution\": \"uniform\", \"seed\": null}}, \"bias_initializer\": {\"class_name\": \"Zeros\", \"config\": {}}, \"kernel_regularizer\": null, \"bias_regularizer\": null, \"activity_regularizer\": null, \"kernel_constraint\": null, \"bias_constraint\": null}, \"inbound_nodes\": [[[\"activation_91\", 0, 0, {}]]]}, {\"name\": \"dropout_47\", \"class_name\": \"Dropout\", \"config\": {\"name\": \"dropout_47\", \"trainable\": true, \"rate\": 0.3, \"noise_shape\": null, \"seed\": null}, \"inbound_nodes\": [[[\"conv2d_92\", 0, 0, {}]]]}, {\"name\": \"concatenate_44\", \"class_name\": \"Concatenate\", \"config\": {\"name\": \"concatenate_44\", \"trainable\": true, \"axis\": -1}, \"inbound_nodes\": [[[\"concatenate_43\", 0, 0, {}], [\"dropout_47\", 0, 0, {}]]]}, {\"name\": \"batch_normalization_92\", \"class_name\": \"BatchNormalization\", \"config\": {\"name\": \"batch_normalization_92\", \"trainable\": true, \"axis\": -1, \"momentum\": 0.99, \"epsilon\": 0.001, \"center\": true, \"scale\": true, \"beta_initializer\": {\"class_name\": \"Zeros\", \"config\": {}}, \"gamma_initializer\": {\"class_name\": \"Ones\", \"config\": {}}, \"moving_mean_initializer\": {\"class_name\": \"Zeros\", \"config\": {}}, \"moving_variance_initializer\": {\"class_name\": \"Ones\", \"config\": {}}, \"beta_regularizer\": null, \"gamma_regularizer\": null, \"beta_constraint\": null, \"gamma_constraint\": null}, \"inbound_nodes\": [[[\"concatenate_44\", 0, 0, {}]]]}, {\"name\": \"activation_92\", \"class_name\": \"Activation\", \"config\": {\"name\": \"activation_92\", \"trainable\": true, \"activation\": \"relu\"}, \"inbound_nodes\": [[[\"batch_normalization_92\", 0, 0, {}]]]}, {\"name\": \"conv2d_93\", \"class_name\": \"Conv2D\", \"config\": {\"name\": \"conv2d_93\", \"trainable\": true, \"filters\": 12, \"kernel_size\": [1, 1], \"strides\": [1, 1], \"padding\": \"same\", \"data_format\": \"channels_last\", \"dilation_rate\": [1, 1], \"activation\": \"linear\", \"use_bias\": false, \"kernel_initializer\": {\"class_name\": \"VarianceScaling\", \"config\": {\"scale\": 1.0, \"mode\": \"fan_avg\", \"distribution\": \"uniform\", \"seed\": null}}, \"bias_initializer\": {\"class_name\": \"Zeros\", \"config\": {}}, \"kernel_regularizer\": null, \"bias_regularizer\": null, \"activity_regularizer\": null, \"kernel_constraint\": null, \"bias_constraint\": null}, \"inbound_nodes\": [[[\"activation_92\", 0, 0, {}]]]}, {\"name\": \"batch_normalization_93\", \"class_name\": \"BatchNormalization\", \"config\": {\"name\": \"batch_normalization_93\", \"trainable\": true, \"axis\": -1, \"momentum\": 0.99, \"epsilon\": 0.001, \"center\": true, \"scale\": true, \"beta_initializer\": {\"class_name\": \"Zeros\", \"config\": {}}, \"gamma_initializer\": {\"class_name\": \"Ones\", \"config\": {}}, \"moving_mean_initializer\": {\"class_name\": \"Zeros\", \"config\": {}}, \"moving_variance_initializer\": {\"class_name\": \"Ones\", \"config\": {}}, \"beta_regularizer\": null, \"gamma_regularizer\": null, \"beta_constraint\": null, \"gamma_constraint\": null}, \"inbound_nodes\": [[[\"conv2d_93\", 0, 0, {}]]]}, {\"name\": \"activation_93\", \"class_name\": \"Activation\", \"config\": {\"name\": \"activation_93\", \"trainable\": true, \"activation\": \"relu\"}, \"inbound_nodes\": [[[\"batch_normalization_93\", 0, 0, {}]]]}, {\"name\": \"conv2d_94\", \"class_name\": \"Conv2D\", \"config\": {\"name\": \"conv2d_94\", \"trainable\": true, \"filters\": 12, \"kernel_size\": [3, 3], \"strides\": [1, 1], \"padding\": \"same\", \"data_format\": \"channels_last\", \"dilation_rate\": [1, 1], \"activation\": \"linear\", \"use_bias\": false, \"kernel_initializer\": {\"class_name\": \"VarianceScaling\", \"config\": {\"scale\": 1.0, \"mode\": \"fan_avg\", \"distribution\": \"uniform\", \"seed\": null}}, \"bias_initializer\": {\"class_name\": \"Zeros\", \"config\": {}}, \"kernel_regularizer\": null, \"bias_regularizer\": null, \"activity_regularizer\": null, \"kernel_constraint\": null, \"bias_constraint\": null}, \"inbound_nodes\": [[[\"activation_93\", 0, 0, {}]]]}, {\"name\": \"dropout_48\", \"class_name\": \"Dropout\", \"config\": {\"name\": \"dropout_48\", \"trainable\": true, \"rate\": 0.3, \"noise_shape\": null, \"seed\": null}, \"inbound_nodes\": [[[\"conv2d_94\", 0, 0, {}]]]}, {\"name\": \"concatenate_45\", \"class_name\": \"Concatenate\", \"config\": {\"name\": \"concatenate_45\", \"trainable\": true, \"axis\": -1}, \"inbound_nodes\": [[[\"concatenate_44\", 0, 0, {}], [\"dropout_48\", 0, 0, {}]]]}, {\"name\": \"batch_normalization_94\", \"class_name\": \"BatchNormalization\", \"config\": {\"name\": \"batch_normalization_94\", \"trainable\": true, \"axis\": -1, \"momentum\": 0.99, \"epsilon\": 0.001, \"center\": true, \"scale\": true, \"beta_initializer\": {\"class_name\": \"Zeros\", \"config\": {}}, \"gamma_initializer\": {\"class_name\": \"Ones\", \"config\": {}}, \"moving_mean_initializer\": {\"class_name\": \"Zeros\", \"config\": {}}, \"moving_variance_initializer\": {\"class_name\": \"Ones\", \"config\": {}}, \"beta_regularizer\": null, \"gamma_regularizer\": null, \"beta_constraint\": null, \"gamma_constraint\": null}, \"inbound_nodes\": [[[\"concatenate_45\", 0, 0, {}]]]}, {\"name\": \"activation_94\", \"class_name\": \"Activation\", \"config\": {\"name\": \"activation_94\", \"trainable\": true, \"activation\": \"relu\"}, \"inbound_nodes\": [[[\"batch_normalization_94\", 0, 0, {}]]]}, {\"name\": \"conv2d_95\", \"class_name\": \"Conv2D\", \"config\": {\"name\": \"conv2d_95\", \"trainable\": true, \"filters\": 12, \"kernel_size\": [1, 1], \"strides\": [1, 1], \"padding\": \"same\", \"data_format\": \"channels_last\", \"dilation_rate\": [1, 1], \"activation\": \"linear\", \"use_bias\": false, \"kernel_initializer\": {\"class_name\": \"VarianceScaling\", \"config\": {\"scale\": 1.0, \"mode\": \"fan_avg\", \"distribution\": \"uniform\", \"seed\": null}}, \"bias_initializer\": {\"class_name\": \"Zeros\", \"config\": {}}, \"kernel_regularizer\": null, \"bias_regularizer\": null, \"activity_regularizer\": null, \"kernel_constraint\": null, \"bias_constraint\": null}, \"inbound_nodes\": [[[\"activation_94\", 0, 0, {}]]]}, {\"name\": \"batch_normalization_95\", \"class_name\": \"BatchNormalization\", \"config\": {\"name\": \"batch_normalization_95\", \"trainable\": true, \"axis\": -1, \"momentum\": 0.99, \"epsilon\": 0.001, \"center\": true, \"scale\": true, \"beta_initializer\": {\"class_name\": \"Zeros\", \"config\": {}}, \"gamma_initializer\": {\"class_name\": \"Ones\", \"config\": {}}, \"moving_mean_initializer\": {\"class_name\": \"Zeros\", \"config\": {}}, \"moving_variance_initializer\": {\"class_name\": \"Ones\", \"config\": {}}, \"beta_regularizer\": null, \"gamma_regularizer\": null, \"beta_constraint\": null, \"gamma_constraint\": null}, \"inbound_nodes\": [[[\"conv2d_95\", 0, 0, {}]]]}, {\"name\": \"activation_95\", \"class_name\": \"Activation\", \"config\": {\"name\": \"activation_95\", \"trainable\": true, \"activation\": \"relu\"}, \"inbound_nodes\": [[[\"batch_normalization_95\", 0, 0, {}]]]}, {\"name\": \"conv2d_96\", \"class_name\": \"Conv2D\", \"config\": {\"name\": \"conv2d_96\", \"trainable\": true, \"filters\": 12, \"kernel_size\": [3, 3], \"strides\": [1, 1], \"padding\": \"same\", \"data_format\": \"channels_last\", \"dilation_rate\": [1, 1], \"activation\": \"linear\", \"use_bias\": false, \"kernel_initializer\": {\"class_name\": \"VarianceScaling\", \"config\": {\"scale\": 1.0, \"mode\": \"fan_avg\", \"distribution\": \"uniform\", \"seed\": null}}, \"bias_initializer\": {\"class_name\": \"Zeros\", \"config\": {}}, \"kernel_regularizer\": null, \"bias_regularizer\": null, \"activity_regularizer\": null, \"kernel_constraint\": null, \"bias_constraint\": null}, \"inbound_nodes\": [[[\"activation_95\", 0, 0, {}]]]}, {\"name\": \"dropout_49\", \"class_name\": \"Dropout\", \"config\": {\"name\": \"dropout_49\", \"trainable\": true, \"rate\": 0.3, \"noise_shape\": null, \"seed\": null}, \"inbound_nodes\": [[[\"conv2d_96\", 0, 0, {}]]]}, {\"name\": \"concatenate_46\", \"class_name\": \"Concatenate\", \"config\": {\"name\": \"concatenate_46\", \"trainable\": true, \"axis\": -1}, \"inbound_nodes\": [[[\"concatenate_45\", 0, 0, {}], [\"dropout_49\", 0, 0, {}]]]}, {\"name\": \"batch_normalization_96\", \"class_name\": \"BatchNormalization\", \"config\": {\"name\": \"batch_normalization_96\", \"trainable\": true, \"axis\": -1, \"momentum\": 0.99, \"epsilon\": 0.001, \"center\": true, \"scale\": true, \"beta_initializer\": {\"class_name\": \"Zeros\", \"config\": {}}, \"gamma_initializer\": {\"class_name\": \"Ones\", \"config\": {}}, \"moving_mean_initializer\": {\"class_name\": \"Zeros\", \"config\": {}}, \"moving_variance_initializer\": {\"class_name\": \"Ones\", \"config\": {}}, \"beta_regularizer\": null, \"gamma_regularizer\": null, \"beta_constraint\": null, \"gamma_constraint\": null}, \"inbound_nodes\": [[[\"concatenate_46\", 0, 0, {}]]]}, {\"name\": \"activation_96\", \"class_name\": \"Activation\", \"config\": {\"name\": \"activation_96\", \"trainable\": true, \"activation\": \"relu\"}, \"inbound_nodes\": [[[\"batch_normalization_96\", 0, 0, {}]]]}, {\"name\": \"average_pooling2d_4\", \"class_name\": \"AveragePooling2D\", \"config\": {\"name\": \"average_pooling2d_4\", \"trainable\": true, \"pool_size\": [2, 2], \"padding\": \"valid\", \"strides\": [2, 2], \"data_format\": \"channels_last\"}, \"inbound_nodes\": [[[\"activation_96\", 0, 0, {}]]]}, {\"name\": \"flatten_1\", \"class_name\": \"Flatten\", \"config\": {\"name\": \"flatten_1\", \"trainable\": true, \"data_format\": \"channels_last\"}, \"inbound_nodes\": [[[\"average_pooling2d_4\", 0, 0, {}]]]}, {\"name\": \"dense_1\", \"class_name\": \"Dense\", \"config\": {\"name\": \"dense_1\", \"trainable\": true, \"units\": 10, \"activation\": \"softmax\", \"use_bias\": true, \"kernel_initializer\": {\"class_name\": \"VarianceScaling\", \"config\": {\"scale\": 1.0, \"mode\": \"fan_avg\", \"distribution\": \"uniform\", \"seed\": null}}, \"bias_initializer\": {\"class_name\": \"Zeros\", \"config\": {}}, \"kernel_regularizer\": null, \"bias_regularizer\": null, \"activity_regularizer\": null, \"kernel_constraint\": null, \"bias_constraint\": null}, \"inbound_nodes\": [[[\"flatten_1\", 0, 0, {}]]]}], \"input_layers\": [[\"input_1\", 0, 0]], \"output_layers\": [[\"dense_1\", 0, 0]]}, \"keras_version\": \"2.1.6\", \"backend\": \"tensorflow\"}\n"
     ]
    }
   ],
   "source": [
    "from keras.models import model_from_json\n",
    "json_model2= model.to_json()##saving model_2 with variable value of l=6,12,16,12 through 4 dense blocks with dropout of 0.3\n",
    "print('model 2: \\n',json_model2)"
   ]
  },
  {
   "cell_type": "markdown",
   "metadata": {},
   "source": [
    "### Adding 35k more augmented images to existing training dataset."
   ]
  },
  {
   "cell_type": "code",
   "execution_count": 33,
   "metadata": {
    "colab": {
     "autoexec": {
      "startup": false,
      "wait_interval": 0
     },
     "base_uri": "https://localhost:8080/",
     "height": 170
    },
    "colab_type": "code",
    "executionInfo": {
     "elapsed": 81591,
     "status": "ok",
     "timestamp": 1526463262907,
     "user": {
      "displayName": "Prakash Bisht",
      "photoUrl": "https://lh3.googleusercontent.com/a/default-user=s128",
      "userId": "117570314048106771115"
     },
     "user_tz": -330
    },
    "id": "xhE2Nq6AS1Bi",
    "outputId": "4ed2b3a4-9f2f-4240-8a67-9eeda00db717"
   },
   "outputs": [
    {
     "name": "stdout",
     "output_type": "stream",
     "text": [
      "(35000,)\n",
      "shapes of x_train & y_train \n",
      " (50000, 32, 32, 3) \n",
      " (50000, 10) \n",
      " shapes of x_aug &y_aug \n",
      " (35000, 32, 32, 3) \n",
      " (35000, 10)\n",
      "shapes of x_new & y_new \n",
      " (85000, 32, 32, 3) (85000, 10)\n"
     ]
    }
   ],
   "source": [
    "##adding 35kk augumented images to original training data\n",
    "\n",
    "augidx = np.random.randint(0,50000, size=(35000))\n",
    "print(augidx.shape)\n",
    "x_aug = aug_seq.augment_images(x_train[augidx])\n",
    "y_aug= y_train[augidx]\n",
    "\n",
    "\n",
    "print('shapes of x_train & y_train \\n',x_train.shape,'\\n',y_train.shape,'\\n shapes of x_aug &y_aug \\n',x_aug.shape,'\\n',y_aug.shape)\n",
    "x_new = np.append(x_train, x_aug, axis=0) #new training set consisting of augment images & labels\n",
    "y_new = np.append(y_train, y_aug, axis=0)\n",
    "print('shapes of x_new & y_new \\n',x_new.shape, y_new.shape)"
   ]
  },
  {
   "cell_type": "markdown",
   "metadata": {},
   "source": [
    "### Model training:\n",
    "* using 85k training images\n",
    "* batch_size 128\n",
    "* 8 epochs\n",
    "#### The model would then be trained well over 24 epochs in total."
   ]
  },
  {
   "cell_type": "code",
   "execution_count": 40,
   "metadata": {
    "colab": {
     "autoexec": {
      "startup": false,
      "wait_interval": 0
     },
     "base_uri": "https://localhost:8080/",
     "height": 343
    },
    "colab_type": "code",
    "executionInfo": {
     "elapsed": 2494681,
     "status": "ok",
     "timestamp": 1526465948999,
     "user": {
      "displayName": "Prakash Bisht",
      "photoUrl": "https://lh3.googleusercontent.com/a/default-user=s128",
      "userId": "117570314048106771115"
     },
     "user_tz": -330
    },
    "id": "cmO2tsWHTrpD",
    "outputId": "06078f90-1cfd-4dc6-bc53-c3aedfd130cd"
   },
   "outputs": [
    {
     "name": "stdout",
     "output_type": "stream",
     "text": [
      "Train on 85000 samples, validate on 10000 samples\n",
      "Epoch 1/8\n",
      "85000/85000 [==============================] - 329s 4ms/step - loss: 0.9567 - acc: 0.6685 - val_loss: 0.7488 - val_acc: 0.7474\n",
      "Epoch 2/8\n",
      " 1408/85000 [..............................] - ETA: 4:56 - loss: 0.9866 - acc: 0.644985000/85000 [==============================] - 307s 4ms/step - loss: 0.9377 - acc: 0.6723 - val_loss: 1.2245 - val_acc: 0.6574\n",
      "Epoch 3/8\n",
      "25472/85000 [=======>......................] - ETA: 3:27 - loss: 0.9311 - acc: 0.674585000/85000 [==============================] - 306s 4ms/step - loss: 0.9234 - acc: 0.6778 - val_loss: 0.8478 - val_acc: 0.7332\n",
      "Epoch 4/8\n",
      "34688/85000 [===========>..................] - ETA: 2:57 - loss: 0.9123 - acc: 0.681885000/85000 [==============================] - 308s 4ms/step - loss: 0.9135 - acc: 0.6806 - val_loss: 0.8612 - val_acc: 0.7333\n",
      "Epoch 5/8\n",
      "38272/85000 [============>.................] - ETA: 2:44 - loss: 0.9078 - acc: 0.682185000/85000 [==============================] - 307s 4ms/step - loss: 0.9036 - acc: 0.6851 - val_loss: 0.7440 - val_acc: 0.7601\n",
      "Epoch 6/8\n",
      "39552/85000 [============>.................] - ETA: 2:39 - loss: 0.8864 - acc: 0.690785000/85000 [==============================] - 307s 4ms/step - loss: 0.8857 - acc: 0.6908 - val_loss: 0.7515 - val_acc: 0.7601\n",
      "Epoch 7/8\n",
      "40064/85000 [=============>................] - ETA: 2:37 - loss: 0.8744 - acc: 0.696185000/85000 [==============================] - 307s 4ms/step - loss: 0.8756 - acc: 0.6949 - val_loss: 0.8215 - val_acc: 0.7411\n",
      "Epoch 8/8\n",
      "40320/85000 [=============>................] - ETA: 2:37 - loss: 0.8595 - acc: 0.701985000/85000 [==============================] - 307s 4ms/step - loss: 0.8657 - acc: 0.6981 - val_loss: 0.5842 - val_acc: 0.8068\n"
     ]
    },
    {
     "data": {
      "text/plain": [
       "<keras.callbacks.History at 0x7f18c3274b00>"
      ]
     },
     "execution_count": 40,
     "metadata": {
      "tags": []
     },
     "output_type": "execute_result"
    }
   ],
   "source": [
    "model.fit(x_new, y_new, batch_size=128, epochs=8, verbose=1,validation_data=(x_test, y_test))\n",
    "#training model 4th time on 85k training images, Batch size = 128, epochs=8 with dropout 0.30"
   ]
  },
  {
   "cell_type": "markdown",
   "metadata": {},
   "source": [
    "#### Saving & downloading the final model"
   ]
  },
  {
   "cell_type": "code",
   "execution_count": 0,
   "metadata": {
    "colab": {
     "autoexec": {
      "startup": false,
      "wait_interval": 0
     }
    },
    "colab_type": "code",
    "id": "Dr5jkiQKg7w0"
   },
   "outputs": [],
   "source": [
    "model.save('./modeldrop_0.3_127k_ep1t26.h5') #saving the model with dropout 0.30, training for total 26 epochs\n",
    "files.download('modeldrop_0.3_127k_ep1t26.h5')"
   ]
  },
  {
   "cell_type": "code",
   "execution_count": 42,
   "metadata": {
    "colab": {
     "autoexec": {
      "startup": false,
      "wait_interval": 0
     },
     "base_uri": "https://localhost:8080/",
     "height": 51
    },
    "colab_type": "code",
    "executionInfo": {
     "elapsed": 2496,
     "status": "ok",
     "timestamp": 1526466362858,
     "user": {
      "displayName": "Prakash Bisht",
      "photoUrl": "https://lh3.googleusercontent.com/a/default-user=s128",
      "userId": "117570314048106771115"
     },
     "user_tz": -330
    },
    "id": "5JhSmgpYfB3P",
    "outputId": "3bd5d2f1-4ea0-4709-c8c7-45f3b9137c03"
   },
   "outputs": [
    {
     "name": "stdout",
     "output_type": "stream",
     "text": [
      "datalab\t\t     model127k_weights_ep1t18.h5\r\n",
      "model127k_ep1t18.h5  modeldrop_0.3_127k_ep1t26.h5\r\n"
     ]
    }
   ],
   "source": [
    "!ls"
   ]
  },
  {
   "cell_type": "markdown",
   "metadata": {},
   "source": [
    "### evaluating validation scores"
   ]
  },
  {
   "cell_type": "code",
   "execution_count": 50,
   "metadata": {
    "colab": {
     "autoexec": {
      "startup": false,
      "wait_interval": 0
     },
     "base_uri": "https://localhost:8080/",
     "height": 68
    },
    "colab_type": "code",
    "executionInfo": {
     "elapsed": 27244,
     "status": "ok",
     "timestamp": 1526466807125,
     "user": {
      "displayName": "Prakash Bisht",
      "photoUrl": "https://lh3.googleusercontent.com/a/default-user=s128",
      "userId": "117570314048106771115"
     },
     "user_tz": -330
    },
    "id": "3SZ6vkq3gcPl",
    "outputId": "ee308010-f603-4d2b-cfd3-aa5ac155fa50"
   },
   "outputs": [
    {
     "name": "stdout",
     "output_type": "stream",
     "text": [
      "10000/10000 [==============================] - 26s 3ms/step\n",
      "Test loss: 0.5841944081783295\n",
      "Test accuracy: 0.8068\n"
     ]
    }
   ],
   "source": [
    "score = model.evaluate(x_test, y_test, verbose=1)\n",
    "print('Test loss:', score[0])\n",
    "print('Test accuracy:', score[1])"
   ]
  },
  {
   "cell_type": "markdown",
   "metadata": {},
   "source": [
    "#### Saving & downloading the final model weights"
   ]
  },
  {
   "cell_type": "code",
   "execution_count": 0,
   "metadata": {
    "colab": {
     "autoexec": {
      "startup": false,
      "wait_interval": 0
     }
    },
    "colab_type": "code",
    "id": "JfCm8laHjF8D"
   },
   "outputs": [],
   "source": [
    "# Save the trained weights in to .h5 format\n",
    "model.save_weights(\"final_weights.h5\")\n",
    "files.download(\"final_weights.h5\")"
   ]
  }
 ],
 "metadata": {
  "accelerator": "GPU",
  "colab": {
   "collapsed_sections": [],
   "default_view": {},
   "name": "PRAKASH_BATCH_2_ASSIGNMENT4B.ipynb",
   "provenance": [
    {
     "file_id": "1NoRDeFla4dG59gzWvS_ElxG_niYfe8Bn",
     "timestamp": 1526399410207
    }
   ],
   "version": "0.3.2",
   "views": {}
  },
  "kernelspec": {
   "display_name": "Python 3",
   "language": "python",
   "name": "python3"
  },
  "language_info": {
   "codemirror_mode": {
    "name": "ipython",
    "version": 3
   },
   "file_extension": ".py",
   "mimetype": "text/x-python",
   "name": "python",
   "nbconvert_exporter": "python",
   "pygments_lexer": "ipython3",
   "version": "3.5.4"
  }
 },
 "nbformat": 4,
 "nbformat_minor": 1
}
