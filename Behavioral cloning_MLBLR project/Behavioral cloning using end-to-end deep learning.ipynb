{
 "cells": [
  {
   "cell_type": "markdown",
   "metadata": {
    "colab_type": "text",
    "id": "9YSEIbOqWEsM"
   },
   "source": [
    "# Behavioural cloning for steering a car autonomously using Deeplearning\n",
    "\n",
    "The goal of this tutorial is to write a convolutional neural network and train it end-to-end using camera inputs and select steering parameters to obtainreli a reliable driving model, which would propel the vehicle autonomoulsy on an unforeseen track in a driving simulator.\n",
    "\n",
    "The driving simulator has been provided by Udacity for training and testing one's driving model an can be downloaded from [here](https://github.com/udacity/self-driving-car-sim).\n",
    "\n",
    "The task of behavioural cloning constitutes 3 camera inputs as - **Center, Left, right, a steering angle** and forms a case for Supervised regression problem, which essentially calls for mapping camera inputs to a steering angle during test. Therefore a CNN could be trained over camera images as input and steering angles as target labels to convieniently predict steering angles for unforeseen views at test time.\n",
    "\n",
    "Although the CNN written here largely utilizes dense topology from densenets, kernels of form (Nx1) & (1xN) some insights for choosing filter sizes, modelling sequnces have been partly drawn from [this](https://devblogs.nvidia.com/deep-learning-self-driving-cars/) Nvidia's model. Which would be later improvised for efficient training and quick inferences using winograd minimal filtering algorithms, the performance of which is cited significantly better than conventional convolution, as a result of reduced multiplication operations.\n",
    "\n",
    "### Foreword:\n",
    "The following script is instructive in nature, aimed to impart clarity in employing end-to-end deep learning specific to this behaviour cloning problem. The learnings from which could be employed widely to similar image-recognition piplelines.\n",
    "\n",
    "The script can be run solely in google colab or jupyter (with sufficient compute).\n",
    "Although the code written in the following script is largely self-sufficient for training & validating over input datasets, beforehand it does calls for **bridging one's google drive to bring ease to the process of importing large datasets**(constituting driving_log.csv & IMG folder) to the colab environment."
   ]
  },
  {
   "cell_type": "markdown",
   "metadata": {
    "colab_type": "text",
    "id": "DHz2U7XmGh2S"
   },
   "source": [
    "### The complete scope of this project constitutes a walkover from driving simulator, dependencies, datasets, dense models, training to tertiary scripts.\n",
    "### The pipeline for cloning driving behaviour problem consists of several steps and hence describes the layout of this project, elaborated pointwise as follows:\n",
    "* **1. Configuring driving simulator :** udacity has provided a unity based driving simulator which could be used to train and test one's ML driving models. it has two modes- **a) Driving mode:** where player can choose one of two tracks to drive her car manually, while it needs setting a directory for recording input image frames and a steering input from user to a single CSV file. **b) Autonomous mode:** where a trained deep learning model can interact with simulator enviornment through a tertiary script which feeds an input stream of images to model, predicting steering angles which drives car in real-time.\n",
    "*  **2. Data collection:** This involves setting up a training data directory on local machine and manually driving the vehicle on drive simulator. Driving for about 35-40 minutes records a good 12k instances worth of data, which constitutes 12k sets of camera views/images(1 set=3 images) and a CSV file storing 12k records constituting image paths to above images and 4 driving parameters essentially in order- steering angle, throttle, deacceleration, speed.\n",
    "\n",
    "* **3. Data upload**: It constitutes zipping & uploading the collected dataset to google drive, for it to be conveniently imported later to work environment- google colab, when local machine is incapable of computing on large dataset.\n",
    "\n",
    "* **4. Installing dependencies:** Installing and importing dependencies such as- **PyDrive, Keras, Numpy, Pandas, Scikitlearn, os, Matplotlib, cv2.**\n",
    "\n",
    "* **5. Importing datasets-Bridging G-drive:**\n",
    "\n",
    "* **6. Data Extraction**\n",
    "\n",
    "* **7. Data Cleaning**\n",
    "\n",
    "* **8. Defining Data processing functions**\n",
    "\n",
    "* **9. Defining the CNN model**\n",
    "\n",
    "* **10. Model training & evaluation**\n",
    "\n",
    "* **11. Model testing**\n",
    "\n"
   ]
  },
  {
   "cell_type": "markdown",
   "metadata": {
    "colab_type": "text",
    "id": "llNJrW7GWEo0"
   },
   "source": [
    " ## 4. **Installing dependencies:**\n",
    " *  Installing and importing dependencies such as:\n",
    " \n",
    " • **PyDrive**\n",
    " • **Keras**\n",
    " • **Numpy**\n",
    " • **Pandas**\n",
    " • **Scikitlearn**\n",
    " • **os**\n",
    " • **Matplotlib**\n",
    " • **cv2** •"
   ]
  },
  {
   "cell_type": "code",
   "execution_count": 1,
   "metadata": {
    "colab": {
     "autoexec": {
      "startup": false,
      "wait_interval": 0
     },
     "base_uri": "https://localhost:8080/",
     "height": 34
    },
    "colab_type": "code",
    "executionInfo": {
     "elapsed": 8689,
     "status": "ok",
     "timestamp": 1530392530701,
     "user": {
      "displayName": "Prakash Bisht",
      "photoUrl": "//lh5.googleusercontent.com/-04UzDVJdBwE/AAAAAAAAAAI/AAAAAAAADj4/nhMNE_Vmelk/s50-c-k-no/photo.jpg",
      "userId": "110325046815269230203"
     },
     "user_tz": -330
    },
    "id": "MnjbuS8A9HnB",
    "outputId": "f85cbbd8-84fe-4364-ede0-54a3227dcb9a"
   },
   "outputs": [
    {
     "name": "stderr",
     "output_type": "stream",
     "text": [
      "Using TensorFlow backend.\n"
     ]
    }
   ],
   "source": [
    "import numpy as np\n",
    "import pandas as pd\n",
    "from sklearn.model_selection import train_test_split\n",
    "import os\n",
    "import keras\n",
    "import cv2\n",
    "from keras.models import Model\n",
    "from keras.layers import Input,Activation, Lambda\n",
    "from keras.layers import Dense, Flatten, Dropout\n",
    "from keras.layers import Conv2D, BatchNormalization, AveragePooling2D, Concatenate\n",
    "from keras.optimizers import Adam\n",
    "from keras.callbacks import ModelCheckpoint\n",
    "\n",
    "import matplotlib.pyplot as plt\n",
    "import matplotlib.image as mpimg"
   ]
  },
  {
   "cell_type": "code",
   "execution_count": 2,
   "metadata": {
    "colab": {
     "autoexec": {
      "startup": false,
      "wait_interval": 0
     },
     "base_uri": "https://localhost:8080/",
     "height": 323
    },
    "colab_type": "code",
    "executionInfo": {
     "elapsed": 4208,
     "status": "ok",
     "timestamp": 1530392535873,
     "user": {
      "displayName": "Prakash Bisht",
      "photoUrl": "//lh5.googleusercontent.com/-04UzDVJdBwE/AAAAAAAAAAI/AAAAAAAADj4/nhMNE_Vmelk/s50-c-k-no/photo.jpg",
      "userId": "110325046815269230203"
     },
     "user_tz": -330
    },
    "id": "EeM57F4LNqnS",
    "outputId": "520e23b5-8808-4216-93c8-2f5c8c966e4a"
   },
   "outputs": [
    {
     "name": "stdout",
     "output_type": "stream",
     "text": [
      "Collecting PyDrive\n",
      "\u001b[?25l  Downloading https://files.pythonhosted.org/packages/52/e0/0e64788e5dd58ce2d6934549676243dc69d982f198524be9b99e9c2a4fd5/PyDrive-1.3.1.tar.gz (987kB)\n",
      "\u001b[K    100% |████████████████████████████████| 993kB 7.9MB/s \n",
      "\u001b[?25hRequirement already satisfied: google-api-python-client>=1.2 in /usr/local/lib/python3.6/dist-packages (from PyDrive) (1.6.7)\n",
      "Requirement already satisfied: oauth2client>=4.0.0 in /usr/local/lib/python3.6/dist-packages (from PyDrive) (4.1.2)\n",
      "Requirement already satisfied: PyYAML>=3.0 in /usr/local/lib/python3.6/dist-packages (from PyDrive) (3.12)\n",
      "Requirement already satisfied: uritemplate<4dev,>=3.0.0 in /usr/local/lib/python3.6/dist-packages (from google-api-python-client>=1.2->PyDrive) (3.0.0)\n",
      "Requirement already satisfied: six<2dev,>=1.6.1 in /usr/local/lib/python3.6/dist-packages (from google-api-python-client>=1.2->PyDrive) (1.11.0)\n",
      "Requirement already satisfied: httplib2<1dev,>=0.9.2 in /usr/local/lib/python3.6/dist-packages (from google-api-python-client>=1.2->PyDrive) (0.11.3)\n",
      "Requirement already satisfied: pyasn1-modules>=0.0.5 in /usr/local/lib/python3.6/dist-packages (from oauth2client>=4.0.0->PyDrive) (0.2.2)\n",
      "Requirement already satisfied: rsa>=3.1.4 in /usr/local/lib/python3.6/dist-packages (from oauth2client>=4.0.0->PyDrive) (3.4.2)\n",
      "Requirement already satisfied: pyasn1>=0.1.7 in /usr/local/lib/python3.6/dist-packages (from oauth2client>=4.0.0->PyDrive) (0.4.3)\n",
      "Building wheels for collected packages: PyDrive\n",
      "  Running setup.py bdist_wheel for PyDrive ... \u001b[?25l-\b \b\\\b \bdone\n",
      "\u001b[?25h  Stored in directory: /content/.cache/pip/wheels/fa/d2/9a/d3b6b506c2da98289e5d417215ce34b696db856643bad779f4\n",
      "Successfully built PyDrive\n",
      "Installing collected packages: PyDrive\n",
      "Successfully installed PyDrive-1.3.1\n"
     ]
    }
   ],
   "source": [
    "!pip install PyDrive"
   ]
  },
  {
   "cell_type": "markdown",
   "metadata": {
    "colab_type": "text",
    "id": "iaoC4uKac1H2"
   },
   "source": [
    "## 5. Importing datasets-Bridging G-drive:\n",
    "* Uploading large image datasets on google drive and later importing to colab is more convenient and time saving than directly uploading to colab environment conventinally.\n",
    "\n",
    "* PyDrive facilitate importing dataset from google drive.\n",
    "* It creates pydrive client and seeks authorization to access drive which holds zipped dataset.\n",
    "running following code prompts to open a link alike in browser:\n",
    "![auth](https://drive.google.com/open?id=1sgavLpS3HSdrbfDbAVQiYBngUjHAzi1W)\n",
    "Therafter it directs to authorization link as:\n",
    "![authDrive](https://drive.google.com/open?id=1b9OzoPVsV2rAzJyUnQLDeFWcUrZXOfLx)\n"
   ]
  },
  {
   "cell_type": "code",
   "execution_count": 0,
   "metadata": {
    "colab": {
     "autoexec": {
      "startup": false,
      "wait_interval": 0
     }
    },
    "colab_type": "code",
    "id": "uMo8BUtUQqUQ"
   },
   "outputs": [],
   "source": [
    "from pydrive.auth import GoogleAuth\n",
    "from pydrive.drive import GoogleDrive\n",
    "from google.colab import auth\n",
    "from oauth2client.client import GoogleCredentials\n",
    "\n",
    "# Authenticate and create the PyDrive client.\n",
    "# This only needs to be done once in a notebook.\n",
    "auth.authenticate_user()\n",
    "gauth = GoogleAuth()\n",
    "gauth.credentials = GoogleCredentials.get_application_default()\n",
    "drive = GoogleDrive(gauth)"
   ]
  },
  {
   "cell_type": "markdown",
   "metadata": {
    "colab_type": "text",
    "id": "rzHf57Vprs4d"
   },
   "source": [
    "♦  **Adding zipped dataset files from google drive to colab notebook**\n",
    "\n",
    "> The following code creates google drive instances corresponding to driveFile IDs of two different zipped files.\n",
    "\n",
    "\n",
    "\n",
    "> • Here two separate zip files are imported as- data.zip & data1.zip, as both datasets were collected differently, hence contain two CSV files pointing to different sets of images\n",
    "\n",
    "\n",
    "\n",
    "\n",
    "\n",
    "\n",
    "\n",
    "\n",
    "\n",
    "\n"
   ]
  },
  {
   "cell_type": "code",
   "execution_count": 4,
   "metadata": {
    "colab": {
     "autoexec": {
      "startup": false,
      "wait_interval": 0
     },
     "base_uri": "https://localhost:8080/",
     "height": 51
    },
    "colab_type": "code",
    "executionInfo": {
     "elapsed": 14833,
     "status": "ok",
     "timestamp": 1530392622674,
     "user": {
      "displayName": "Prakash Bisht",
      "photoUrl": "//lh5.googleusercontent.com/-04UzDVJdBwE/AAAAAAAAAAI/AAAAAAAADj4/nhMNE_Vmelk/s50-c-k-no/photo.jpg",
      "userId": "110325046815269230203"
     },
     "user_tz": -330
    },
    "id": "U6jWEK0lNqmE",
    "outputId": "0ccab1b6-3142-4737-c1c4-edc674f1b599"
   },
   "outputs": [
    {
     "name": "stdout",
     "output_type": "stream",
     "text": [
      "drive.zip\n",
      "drive2.zip\n"
     ]
    }
   ],
   "source": [
    "drive_instance = drive.CreateFile({'id': '1SOv93zFqya3PGGuvUn0xHTUlH9MU74Bt'})#DRIVE_FILE_ID for file drive.zip in google drive\n",
    "print(drive_instance['title'])\n",
    "drive_instance.GetContentFile('data1.zip') # Save Drive file as a local file with new name data.zip\n",
    "\n",
    "drive_instance = drive.CreateFile({'id': '1IkoUPkViNpxdNMQ-3caJwqWCRI2jvNuu'})#DRIVE_FILE_ID for file drive2.zip in google drive\n",
    "print(drive_instance['title'])#native name of file in google drive\n",
    "drive_instance.GetContentFile('data2.zip')# Save Drive file as a local file with new name data1.zip"
   ]
  },
  {
   "cell_type": "markdown",
   "metadata": {
    "colab_type": "text",
    "id": "os2DPioGprHc"
   },
   "source": [
    "**♦ Unzipping datasets and moving all images to one common image folder**\n",
    "\n",
    "\n",
    "> •Run the following code to unzip.\n",
    "\n",
    "> •move all image files from **'/content/drive2/IMG'** to **'/content/drive/IMG'**, for both CSVs(**'/content/drive2/IMG/driving_log.csv'** and **'/content/drive/IMG/driving_log.csv'**) to be pointing to one common IMG folder(**'/content/drive2/IMG'**) to locate all images, after **concatenating** two CSVs. \n",
    "\n",
    "\n",
    "\n",
    "\n",
    "\n",
    "\n"
   ]
  },
  {
   "cell_type": "code",
   "execution_count": 0,
   "metadata": {
    "colab": {
     "autoexec": {
      "startup": false,
      "wait_interval": 0
     }
    },
    "colab_type": "code",
    "id": "XVl1EvEtLsRM"
   },
   "outputs": [],
   "source": [
    "#the output of these two lines is cleared as the list of unzipped objects was huge.\n",
    "!unzip data1.zip \n",
    "!unzip data2.zip"
   ]
  },
  {
   "cell_type": "code",
   "execution_count": 13,
   "metadata": {
    "colab": {
     "autoexec": {
      "startup": false,
      "wait_interval": 0
     },
     "base_uri": "https://localhost:8080/",
     "height": 34
    },
    "colab_type": "code",
    "executionInfo": {
     "elapsed": 678,
     "status": "ok",
     "timestamp": 1530392938316,
     "user": {
      "displayName": "Prakash Bisht",
      "photoUrl": "//lh5.googleusercontent.com/-04UzDVJdBwE/AAAAAAAAAAI/AAAAAAAADj4/nhMNE_Vmelk/s50-c-k-no/photo.jpg",
      "userId": "110325046815269230203"
     },
     "user_tz": -330
    },
    "id": "IRbwhSmklH0H",
    "outputId": "8394a649-b6e0-4a67-c2ac-9ab2fe9c23f1"
   },
   "outputs": [
    {
     "name": "stdout",
     "output_type": "stream",
     "text": [
      "initial count of images in both drive/IMG and drive2/IMG before: 43782 16444\n"
     ]
    }
   ],
   "source": [
    "#count of images in both directory before moving\n",
    "a = os.listdir('/content/drive/IMG') #to counts number of files in a drive/IMG directory\n",
    "\n",
    "b = os.listdir('/content/drive2/IMG') #to counts number of files in a drive/IMG directory\n",
    "print('initial count of images in both drive/IMG and drive2/IMG before:',len(a),len(b))"
   ]
  },
  {
   "cell_type": "code",
   "execution_count": 14,
   "metadata": {
    "colab": {
     "autoexec": {
      "startup": false,
      "wait_interval": 0
     },
     "base_uri": "https://localhost:8080/",
     "height": 34
    },
    "colab_type": "code",
    "executionInfo": {
     "elapsed": 2461,
     "status": "ok",
     "timestamp": 1530392944517,
     "user": {
      "displayName": "Prakash Bisht",
      "photoUrl": "//lh5.googleusercontent.com/-04UzDVJdBwE/AAAAAAAAAAI/AAAAAAAADj4/nhMNE_Vmelk/s50-c-k-no/photo.jpg",
      "userId": "110325046815269230203"
     },
     "user_tz": -330
    },
    "id": "TgeJmbUAnKhE",
    "outputId": "560aadc7-be12-4fea-9da7-9585d2b57511"
   },
   "outputs": [
    {
     "name": "stdout",
     "output_type": "stream",
     "text": [
      "count of images in both directory after moving drive2/IMG files to drive/IMG: 60225 1\n"
     ]
    }
   ],
   "source": [
    "!mv /content/drive2/IMG/*.jpg /content/drive/IMG/\n",
    "\n",
    "a = os.listdir('/content/drive/IMG') #to counts number of files in a drive/IMG directory\n",
    "b = os.listdir('/content/drive2/IMG') #to counts number of files in a drive/IMG directory\n",
    "print('count of images in both directory after moving drive2/IMG files to drive/IMG:',len(a), len(b))\n",
    "\n",
    "#!cp /content/drive_recovery/drive2/IMG/*.jpg /content/drive/IMG/\n",
    "#!rm -r /content/drive2/IMG/*.jpg#removing all files copied to drive/IMG"
   ]
  },
  {
   "cell_type": "markdown",
   "metadata": {
    "colab_type": "text",
    "id": "z5vgn6wO_DmH"
   },
   "source": [
    "## 6. Data Extraction\n",
    "* The image paths and steering parameters are stored wihout headers in raw CSV file obtained from manual driving session in drive simulator.\n",
    "* Importing CSVs into pandas dataframe under columns named - **center, left, right, angle, throttle, brake, speed.**\n",
    "* total number of records in two datasets = 14594 +  5473\n",
    "* Number of parameters per record= 7\n",
    "* Relevent parameters= 3(camera views) + 1(steering angle) "
   ]
  },
  {
   "cell_type": "markdown",
   "metadata": {
    "colab_type": "text",
    "id": "JggxusJ6DDHb"
   },
   "source": [
    "**• Dataset 1(Main dataset)**\n",
    " \n",
    ">  **shaped (14594, 7)**\n",
    "\n"
   ]
  },
  {
   "cell_type": "code",
   "execution_count": 16,
   "metadata": {
    "colab": {
     "autoexec": {
      "startup": false,
      "wait_interval": 0
     },
     "base_uri": "https://localhost:8080/",
     "height": 179
    },
    "colab_type": "code",
    "executionInfo": {
     "elapsed": 700,
     "status": "ok",
     "timestamp": 1530392995746,
     "user": {
      "displayName": "Prakash Bisht",
      "photoUrl": "//lh5.googleusercontent.com/-04UzDVJdBwE/AAAAAAAAAAI/AAAAAAAADj4/nhMNE_Vmelk/s50-c-k-no/photo.jpg",
      "userId": "110325046815269230203"
     },
     "user_tz": -330
    },
    "id": "MN1fY0ZD-1fq",
    "outputId": "dd79e7a7-c286-48b1-99c2-7693daa81bf2"
   },
   "outputs": [
    {
     "name": "stdout",
     "output_type": "stream",
     "text": [
      "dataset shape:  (14594, 7)\n"
     ]
    },
    {
     "data": {
      "text/html": [
       "<div>\n",
       "<style scoped>\n",
       "    .dataframe tbody tr th:only-of-type {\n",
       "        vertical-align: middle;\n",
       "    }\n",
       "\n",
       "    .dataframe tbody tr th {\n",
       "        vertical-align: top;\n",
       "    }\n",
       "\n",
       "    .dataframe thead th {\n",
       "        text-align: right;\n",
       "    }\n",
       "</style>\n",
       "<table border=\"1\" class=\"dataframe\">\n",
       "  <thead>\n",
       "    <tr style=\"text-align: right;\">\n",
       "      <th></th>\n",
       "      <th>center</th>\n",
       "      <th>left</th>\n",
       "      <th>right</th>\n",
       "      <th>angle</th>\n",
       "      <th>throttle</th>\n",
       "      <th>brake</th>\n",
       "      <th>speed</th>\n",
       "    </tr>\n",
       "  </thead>\n",
       "  <tbody>\n",
       "    <tr>\n",
       "      <th>0</th>\n",
       "      <td>C:\\drive\\IMG\\center_2018_06_09_22_48_01_636.jpg</td>\n",
       "      <td>C:\\drive\\IMG\\left_2018_06_09_22_48_01_636.jpg</td>\n",
       "      <td>C:\\drive\\IMG\\right_2018_06_09_22_48_01_636.jpg</td>\n",
       "      <td>0.0</td>\n",
       "      <td>0.0</td>\n",
       "      <td>0.0</td>\n",
       "      <td>0.000079</td>\n",
       "    </tr>\n",
       "    <tr>\n",
       "      <th>1</th>\n",
       "      <td>C:\\drive\\IMG\\center_2018_06_09_22_48_01_948.jpg</td>\n",
       "      <td>C:\\drive\\IMG\\left_2018_06_09_22_48_01_948.jpg</td>\n",
       "      <td>C:\\drive\\IMG\\right_2018_06_09_22_48_01_948.jpg</td>\n",
       "      <td>0.0</td>\n",
       "      <td>0.0</td>\n",
       "      <td>0.0</td>\n",
       "      <td>0.000078</td>\n",
       "    </tr>\n",
       "    <tr>\n",
       "      <th>2</th>\n",
       "      <td>C:\\drive\\IMG\\center_2018_06_09_22_48_02_275.jpg</td>\n",
       "      <td>C:\\drive\\IMG\\left_2018_06_09_22_48_02_275.jpg</td>\n",
       "      <td>C:\\drive\\IMG\\right_2018_06_09_22_48_02_275.jpg</td>\n",
       "      <td>0.0</td>\n",
       "      <td>0.0</td>\n",
       "      <td>0.0</td>\n",
       "      <td>0.000079</td>\n",
       "    </tr>\n",
       "  </tbody>\n",
       "</table>\n",
       "</div>"
      ],
      "text/plain": [
       "                                            center  \\\n",
       "0  C:\\drive\\IMG\\center_2018_06_09_22_48_01_636.jpg   \n",
       "1  C:\\drive\\IMG\\center_2018_06_09_22_48_01_948.jpg   \n",
       "2  C:\\drive\\IMG\\center_2018_06_09_22_48_02_275.jpg   \n",
       "\n",
       "                                             left  \\\n",
       "0   C:\\drive\\IMG\\left_2018_06_09_22_48_01_636.jpg   \n",
       "1   C:\\drive\\IMG\\left_2018_06_09_22_48_01_948.jpg   \n",
       "2   C:\\drive\\IMG\\left_2018_06_09_22_48_02_275.jpg   \n",
       "\n",
       "                                             right  angle  throttle  brake  \\\n",
       "0   C:\\drive\\IMG\\right_2018_06_09_22_48_01_636.jpg    0.0       0.0    0.0   \n",
       "1   C:\\drive\\IMG\\right_2018_06_09_22_48_01_948.jpg    0.0       0.0    0.0   \n",
       "2   C:\\drive\\IMG\\right_2018_06_09_22_48_02_275.jpg    0.0       0.0    0.0   \n",
       "\n",
       "      speed  \n",
       "0  0.000079  \n",
       "1  0.000078  \n",
       "2  0.000079  "
      ]
     },
     "execution_count": 16,
     "metadata": {
      "tags": []
     },
     "output_type": "execute_result"
    }
   ],
   "source": [
    "path ='/content/drive' #path stroing Main CSV and image files\n",
    "\n",
    "\n",
    "dataset = pd.read_csv(os.path.join(path, \"driving_log.csv\"), names= 'center,left,right,angle,throttle,brake,speed'.split(','))\n",
    "print('dataset shape: ',dataset.shape)#dataset size prior to addition\n",
    "dataset.head(3)"
   ]
  },
  {
   "cell_type": "markdown",
   "metadata": {
    "colab_type": "text",
    "id": "lWTBdXS5Df7E"
   },
   "source": [
    "**• Dataset 2 (additional dataset)**\n",
    " \n",
    ">  **shaped (5473, 7)**\n",
    "\n"
   ]
  },
  {
   "cell_type": "code",
   "execution_count": 17,
   "metadata": {
    "colab": {
     "autoexec": {
      "startup": false,
      "wait_interval": 0
     },
     "base_uri": "https://localhost:8080/",
     "height": 179
    },
    "colab_type": "code",
    "executionInfo": {
     "elapsed": 740,
     "status": "ok",
     "timestamp": 1530393018047,
     "user": {
      "displayName": "Prakash Bisht",
      "photoUrl": "//lh5.googleusercontent.com/-04UzDVJdBwE/AAAAAAAAAAI/AAAAAAAADj4/nhMNE_Vmelk/s50-c-k-no/photo.jpg",
      "userId": "110325046815269230203"
     },
     "user_tz": -330
    },
    "id": "l9s1vx-S8rQx",
    "outputId": "fa0cebf7-1a60-4a25-81b3-e6791566f486"
   },
   "outputs": [
    {
     "name": "stdout",
     "output_type": "stream",
     "text": [
      "dataset shape:  (5473, 7)\n"
     ]
    },
    {
     "data": {
      "text/html": [
       "<div>\n",
       "<style scoped>\n",
       "    .dataframe tbody tr th:only-of-type {\n",
       "        vertical-align: middle;\n",
       "    }\n",
       "\n",
       "    .dataframe tbody tr th {\n",
       "        vertical-align: top;\n",
       "    }\n",
       "\n",
       "    .dataframe thead th {\n",
       "        text-align: right;\n",
       "    }\n",
       "</style>\n",
       "<table border=\"1\" class=\"dataframe\">\n",
       "  <thead>\n",
       "    <tr style=\"text-align: right;\">\n",
       "      <th></th>\n",
       "      <th>center</th>\n",
       "      <th>left</th>\n",
       "      <th>right</th>\n",
       "      <th>angle</th>\n",
       "      <th>throttle</th>\n",
       "      <th>brake</th>\n",
       "      <th>speed</th>\n",
       "    </tr>\n",
       "  </thead>\n",
       "  <tbody>\n",
       "    <tr>\n",
       "      <th>0</th>\n",
       "      <td>C:\\drive\\IMG\\center_2018_06_28_14_36_32_102.jpg</td>\n",
       "      <td>C:\\drive\\IMG\\left_2018_06_28_14_36_32_102.jpg</td>\n",
       "      <td>C:\\drive\\IMG\\right_2018_06_28_14_36_32_102.jpg</td>\n",
       "      <td>0.0</td>\n",
       "      <td>0.0</td>\n",
       "      <td>0.0</td>\n",
       "      <td>0.000165</td>\n",
       "    </tr>\n",
       "    <tr>\n",
       "      <th>1</th>\n",
       "      <td>C:\\drive\\IMG\\center_2018_06_28_14_36_32_822.jpg</td>\n",
       "      <td>C:\\drive\\IMG\\left_2018_06_28_14_36_32_822.jpg</td>\n",
       "      <td>C:\\drive\\IMG\\right_2018_06_28_14_36_32_822.jpg</td>\n",
       "      <td>0.0</td>\n",
       "      <td>0.0</td>\n",
       "      <td>0.0</td>\n",
       "      <td>0.000165</td>\n",
       "    </tr>\n",
       "    <tr>\n",
       "      <th>2</th>\n",
       "      <td>C:\\drive\\IMG\\center_2018_06_28_14_36_33_082.jpg</td>\n",
       "      <td>C:\\drive\\IMG\\left_2018_06_28_14_36_33_082.jpg</td>\n",
       "      <td>C:\\drive\\IMG\\right_2018_06_28_14_36_33_082.jpg</td>\n",
       "      <td>0.0</td>\n",
       "      <td>0.0</td>\n",
       "      <td>0.0</td>\n",
       "      <td>0.000164</td>\n",
       "    </tr>\n",
       "  </tbody>\n",
       "</table>\n",
       "</div>"
      ],
      "text/plain": [
       "                                            center  \\\n",
       "0  C:\\drive\\IMG\\center_2018_06_28_14_36_32_102.jpg   \n",
       "1  C:\\drive\\IMG\\center_2018_06_28_14_36_32_822.jpg   \n",
       "2  C:\\drive\\IMG\\center_2018_06_28_14_36_33_082.jpg   \n",
       "\n",
       "                                             left  \\\n",
       "0   C:\\drive\\IMG\\left_2018_06_28_14_36_32_102.jpg   \n",
       "1   C:\\drive\\IMG\\left_2018_06_28_14_36_32_822.jpg   \n",
       "2   C:\\drive\\IMG\\left_2018_06_28_14_36_33_082.jpg   \n",
       "\n",
       "                                             right  angle  throttle  brake  \\\n",
       "0   C:\\drive\\IMG\\right_2018_06_28_14_36_32_102.jpg    0.0       0.0    0.0   \n",
       "1   C:\\drive\\IMG\\right_2018_06_28_14_36_32_822.jpg    0.0       0.0    0.0   \n",
       "2   C:\\drive\\IMG\\right_2018_06_28_14_36_33_082.jpg    0.0       0.0    0.0   \n",
       "\n",
       "      speed  \n",
       "0  0.000165  \n",
       "1  0.000165  \n",
       "2  0.000164  "
      ]
     },
     "execution_count": 17,
     "metadata": {
      "tags": []
     },
     "output_type": "execute_result"
    }
   ],
   "source": [
    "#concatenating img_path CSV('/content/drive_recovery/drive2/driving_log.csv) pointing to additional image files added to drive/IMG folder with above dataset.\n",
    "path2= \"/content/drive2/driving_log.csv\" #path to second CSV\n",
    "\n",
    "dset_2 = pd.read_csv(path2)#this CSV is already sorted under required columns\n",
    "dset_2.drop(columns= [dset_2.columns[0]], inplace= True)#dropping first redundant column\n",
    "print('dataset shape: ',dset_2.shape)\n",
    "dset_2.head(3)"
   ]
  },
  {
   "cell_type": "markdown",
   "metadata": {
    "colab_type": "text",
    "id": "U71sSQVNHQpJ"
   },
   "source": [
    "## 7. Data Cleaning\n",
    "* Curating data to foster **easeful manipulation** during testing and visualization of single or multiple reocords; And also to **test functionalities of different subprograms, functions** affecting dataset images.\n",
    "* Curating data to cater model training, as there exist two disparate datasets, that too with file path formats incosistent with colab's file path convention."
   ]
  },
  {
   "cell_type": "markdown",
   "metadata": {
    "colab_type": "text",
    "id": "5fEhL2JGDylp"
   },
   "source": [
    "♦ **Concatenating two dataframes**\n",
    "\n",
    "\n",
    ">  • Appending numpy arrays(obtained two dataframes) \n",
    "\n",
    ">  • Converting numpy array to single dataframe under same 7 columns.\n",
    "\n",
    ">  • dataframe shaped** (20067, 7)**\n",
    "\n"
   ]
  },
  {
   "cell_type": "code",
   "execution_count": 18,
   "metadata": {
    "colab": {
     "autoexec": {
      "startup": false,
      "wait_interval": 0
     },
     "base_uri": "https://localhost:8080/",
     "height": 34
    },
    "colab_type": "code",
    "executionInfo": {
     "elapsed": 653,
     "status": "ok",
     "timestamp": 1530393060056,
     "user": {
      "displayName": "Prakash Bisht",
      "photoUrl": "//lh5.googleusercontent.com/-04UzDVJdBwE/AAAAAAAAAAI/AAAAAAAADj4/nhMNE_Vmelk/s50-c-k-no/photo.jpg",
      "userId": "110325046815269230203"
     },
     "user_tz": -330
    },
    "id": "y-xESLNA_mkA",
    "outputId": "2c927a44-cbf2-4128-d062-fc002eed1173"
   },
   "outputs": [
    {
     "name": "stdout",
     "output_type": "stream",
     "text": [
      "<class 'numpy.ndarray'> (20067, 7)\n"
     ]
    }
   ],
   "source": [
    "dataset= np.append(dataset.values, dset_2.values, axis= 0)#appending dataset and dset_2 as numpy arrays\n",
    "print(type(dataset), dataset.shape)"
   ]
  },
  {
   "cell_type": "code",
   "execution_count": 19,
   "metadata": {
    "colab": {
     "autoexec": {
      "startup": false,
      "wait_interval": 0
     },
     "base_uri": "https://localhost:8080/",
     "height": 230
    },
    "colab_type": "code",
    "executionInfo": {
     "elapsed": 700,
     "status": "ok",
     "timestamp": 1530393062032,
     "user": {
      "displayName": "Prakash Bisht",
      "photoUrl": "//lh5.googleusercontent.com/-04UzDVJdBwE/AAAAAAAAAAI/AAAAAAAADj4/nhMNE_Vmelk/s50-c-k-no/photo.jpg",
      "userId": "110325046815269230203"
     },
     "user_tz": -330
    },
    "id": "0L-3su2WCp4H",
    "outputId": "bc0e4737-233f-45b5-c9ca-be3301b234b1"
   },
   "outputs": [
    {
     "name": "stdout",
     "output_type": "stream",
     "text": [
      "dataset shape:  (20067, 7)\n"
     ]
    },
    {
     "data": {
      "text/html": [
       "<div>\n",
       "<style scoped>\n",
       "    .dataframe tbody tr th:only-of-type {\n",
       "        vertical-align: middle;\n",
       "    }\n",
       "\n",
       "    .dataframe tbody tr th {\n",
       "        vertical-align: top;\n",
       "    }\n",
       "\n",
       "    .dataframe thead th {\n",
       "        text-align: right;\n",
       "    }\n",
       "</style>\n",
       "<table border=\"1\" class=\"dataframe\">\n",
       "  <thead>\n",
       "    <tr style=\"text-align: right;\">\n",
       "      <th></th>\n",
       "      <th>center</th>\n",
       "      <th>left</th>\n",
       "      <th>right</th>\n",
       "      <th>angle</th>\n",
       "      <th>throttle</th>\n",
       "      <th>brake</th>\n",
       "      <th>speed</th>\n",
       "    </tr>\n",
       "  </thead>\n",
       "  <tbody>\n",
       "    <tr>\n",
       "      <th>0</th>\n",
       "      <td>C:\\drive\\IMG\\center_2018_06_09_22_48_01_636.jpg</td>\n",
       "      <td>C:\\drive\\IMG\\left_2018_06_09_22_48_01_636.jpg</td>\n",
       "      <td>C:\\drive\\IMG\\right_2018_06_09_22_48_01_636.jpg</td>\n",
       "      <td>0</td>\n",
       "      <td>0</td>\n",
       "      <td>0</td>\n",
       "      <td>7.8748e-05</td>\n",
       "    </tr>\n",
       "    <tr>\n",
       "      <th>1</th>\n",
       "      <td>C:\\drive\\IMG\\center_2018_06_09_22_48_01_948.jpg</td>\n",
       "      <td>C:\\drive\\IMG\\left_2018_06_09_22_48_01_948.jpg</td>\n",
       "      <td>C:\\drive\\IMG\\right_2018_06_09_22_48_01_948.jpg</td>\n",
       "      <td>0</td>\n",
       "      <td>0</td>\n",
       "      <td>0</td>\n",
       "      <td>7.77743e-05</td>\n",
       "    </tr>\n",
       "    <tr>\n",
       "      <th>2</th>\n",
       "      <td>C:\\drive\\IMG\\center_2018_06_09_22_48_02_275.jpg</td>\n",
       "      <td>C:\\drive\\IMG\\left_2018_06_09_22_48_02_275.jpg</td>\n",
       "      <td>C:\\drive\\IMG\\right_2018_06_09_22_48_02_275.jpg</td>\n",
       "      <td>0</td>\n",
       "      <td>0</td>\n",
       "      <td>0</td>\n",
       "      <td>7.86226e-05</td>\n",
       "    </tr>\n",
       "  </tbody>\n",
       "</table>\n",
       "</div>"
      ],
      "text/plain": [
       "                                            center  \\\n",
       "0  C:\\drive\\IMG\\center_2018_06_09_22_48_01_636.jpg   \n",
       "1  C:\\drive\\IMG\\center_2018_06_09_22_48_01_948.jpg   \n",
       "2  C:\\drive\\IMG\\center_2018_06_09_22_48_02_275.jpg   \n",
       "\n",
       "                                             left  \\\n",
       "0   C:\\drive\\IMG\\left_2018_06_09_22_48_01_636.jpg   \n",
       "1   C:\\drive\\IMG\\left_2018_06_09_22_48_01_948.jpg   \n",
       "2   C:\\drive\\IMG\\left_2018_06_09_22_48_02_275.jpg   \n",
       "\n",
       "                                             right angle throttle brake  \\\n",
       "0   C:\\drive\\IMG\\right_2018_06_09_22_48_01_636.jpg     0        0     0   \n",
       "1   C:\\drive\\IMG\\right_2018_06_09_22_48_01_948.jpg     0        0     0   \n",
       "2   C:\\drive\\IMG\\right_2018_06_09_22_48_02_275.jpg     0        0     0   \n",
       "\n",
       "         speed  \n",
       "0   7.8748e-05  \n",
       "1  7.77743e-05  \n",
       "2  7.86226e-05  "
      ]
     },
     "execution_count": 19,
     "metadata": {
      "tags": []
     },
     "output_type": "execute_result"
    }
   ],
   "source": [
    "dataset = pd.DataFrame(dataset, columns= 'center,left,right,angle,throttle,brake,speed'.split(','))\n",
    "print('dataset shape: ', dataset.shape)\n",
    "dataset.head(3)#new improvised dataset"
   ]
  },
  {
   "cell_type": "markdown",
   "metadata": {
    "colab_type": "text",
    "id": "y4Um77SVKUV5"
   },
   "source": [
    "**♦ Modifying existing file paths in training dataset to *Colab compatible* file paths**\n",
    "* Existing file path is of form **\"\\drive\\IMG\\image.jpg\"**, whereas colab convention for file path is of form **\"/drive/IMG/image.jpg\"**\n",
    "* modifying existing paths pointing folder in local machine **(C:\\drive\\IMG\\image)** to paths pointing image folder in colab **(content\\drive\\IMG\\image.jpg)**.\n",
    "\n",
    "**• Run the following code for altering image paths only for colab assistance, otherwise it works fine on local machine.**"
   ]
  },
  {
   "cell_type": "code",
   "execution_count": 20,
   "metadata": {
    "colab": {
     "autoexec": {
      "startup": false,
      "wait_interval": 0
     },
     "base_uri": "https://localhost:8080/",
     "height": 230
    },
    "colab_type": "code",
    "executionInfo": {
     "elapsed": 686,
     "status": "ok",
     "timestamp": 1530393156660,
     "user": {
      "displayName": "Prakash Bisht",
      "photoUrl": "//lh5.googleusercontent.com/-04UzDVJdBwE/AAAAAAAAAAI/AAAAAAAADj4/nhMNE_Vmelk/s50-c-k-no/photo.jpg",
      "userId": "110325046815269230203"
     },
     "user_tz": -330
    },
    "id": "9zgXsks1-1ir",
    "outputId": "79ef6622-c092-42eb-adf4-cf6d528728b8"
   },
   "outputs": [
    {
     "name": "stdout",
     "output_type": "stream",
     "text": [
      "balanced dataset shape:  (20067, 7)\n"
     ]
    },
    {
     "data": {
      "text/html": [
       "<div>\n",
       "<style scoped>\n",
       "    .dataframe tbody tr th:only-of-type {\n",
       "        vertical-align: middle;\n",
       "    }\n",
       "\n",
       "    .dataframe tbody tr th {\n",
       "        vertical-align: top;\n",
       "    }\n",
       "\n",
       "    .dataframe thead th {\n",
       "        text-align: right;\n",
       "    }\n",
       "</style>\n",
       "<table border=\"1\" class=\"dataframe\">\n",
       "  <thead>\n",
       "    <tr style=\"text-align: right;\">\n",
       "      <th></th>\n",
       "      <th>center</th>\n",
       "      <th>left</th>\n",
       "      <th>right</th>\n",
       "      <th>angle</th>\n",
       "      <th>throttle</th>\n",
       "      <th>brake</th>\n",
       "      <th>speed</th>\n",
       "    </tr>\n",
       "  </thead>\n",
       "  <tbody>\n",
       "    <tr>\n",
       "      <th>0</th>\n",
       "      <td>drive/IMG/center_2018_06_09_22_48_01_636.jpg</td>\n",
       "      <td>drive/IMG/left_2018_06_09_22_48_01_636.jpg</td>\n",
       "      <td>drive/IMG/right_2018_06_09_22_48_01_636.jpg</td>\n",
       "      <td>0</td>\n",
       "      <td>0</td>\n",
       "      <td>0</td>\n",
       "      <td>7.8748e-05</td>\n",
       "    </tr>\n",
       "    <tr>\n",
       "      <th>1</th>\n",
       "      <td>drive/IMG/center_2018_06_09_22_48_01_948.jpg</td>\n",
       "      <td>drive/IMG/left_2018_06_09_22_48_01_948.jpg</td>\n",
       "      <td>drive/IMG/right_2018_06_09_22_48_01_948.jpg</td>\n",
       "      <td>0</td>\n",
       "      <td>0</td>\n",
       "      <td>0</td>\n",
       "      <td>7.77743e-05</td>\n",
       "    </tr>\n",
       "    <tr>\n",
       "      <th>2</th>\n",
       "      <td>drive/IMG/center_2018_06_09_22_48_02_275.jpg</td>\n",
       "      <td>drive/IMG/left_2018_06_09_22_48_02_275.jpg</td>\n",
       "      <td>drive/IMG/right_2018_06_09_22_48_02_275.jpg</td>\n",
       "      <td>0</td>\n",
       "      <td>0</td>\n",
       "      <td>0</td>\n",
       "      <td>7.86226e-05</td>\n",
       "    </tr>\n",
       "  </tbody>\n",
       "</table>\n",
       "</div>"
      ],
      "text/plain": [
       "                                         center  \\\n",
       "0  drive/IMG/center_2018_06_09_22_48_01_636.jpg   \n",
       "1  drive/IMG/center_2018_06_09_22_48_01_948.jpg   \n",
       "2  drive/IMG/center_2018_06_09_22_48_02_275.jpg   \n",
       "\n",
       "                                         left  \\\n",
       "0  drive/IMG/left_2018_06_09_22_48_01_636.jpg   \n",
       "1  drive/IMG/left_2018_06_09_22_48_01_948.jpg   \n",
       "2  drive/IMG/left_2018_06_09_22_48_02_275.jpg   \n",
       "\n",
       "                                         right angle throttle brake  \\\n",
       "0  drive/IMG/right_2018_06_09_22_48_01_636.jpg     0        0     0   \n",
       "1  drive/IMG/right_2018_06_09_22_48_01_948.jpg     0        0     0   \n",
       "2  drive/IMG/right_2018_06_09_22_48_02_275.jpg     0        0     0   \n",
       "\n",
       "         speed  \n",
       "0   7.8748e-05  \n",
       "1  7.77743e-05  \n",
       "2  7.86226e-05  "
      ]
     },
     "execution_count": 20,
     "metadata": {
      "tags": []
     },
     "output_type": "execute_result"
    }
   ],
   "source": [
    "df_views= list(dataset.columns[:3])#gauges the list of 3 views- center, left, right\n",
    "\n",
    "for view in df_views:#chops off C:\\ from image paths of each column\n",
    "    dataset[view]= dataset[view].apply(lambda x: (x.strip()[3:]).replace(\"\\\\\",\"/\"))#replacing \\ with / for each path to be readable on colab notebook\n",
    "    \n",
    "    #Alternately above string modification could be done as two ooeprations\n",
    "    #dataset[view]= dataset[view].apply(lambda x: x.strip()[3:])\n",
    "    #dataset[view]= dataset[view].apply(lambda x: x.replace(\"\\\\\",\"/\"))\n",
    "\n",
    "balanced_df= dataset# equating balanced & original dataset to avoid balancing operation which would trim training datset to just 5000\n",
    "print('balanced dataset shape: ', balanced_df.shape)\n",
    "balanced_df.head(3)"
   ]
  },
  {
   "cell_type": "markdown",
   "metadata": {
    "colab_type": "text",
    "id": "kTjxZiImYNjD"
   },
   "source": [
    "----------------------------------------------------------"
   ]
  },
  {
   "cell_type": "markdown",
   "metadata": {
    "colab_type": "text",
    "id": "W9aVuT1YN8Ki"
   },
   "source": [
    "**♦ Note: The following code greatly reduces the dataset size, as most records are mapped to steering angles valued 0. Hence one shouldn't resort to this code & Ignore running following cell, if the dataset size is meagerly small (which it is, in this case).**\n",
    "\n",
    "***• (It trims above dataset of 20k records to 4k records, which is quite insufficient for model training, hence ignored balancing).***\n",
    "\n",
    "♦ Balancing dataset across disparate sterring angle values.\n",
    "* The following code outputs a new dataframe by discarding most records with steering angle values nearing 0.\n",
    "* It curates a dataframe with data instances across consitently spread non-zero steering angles, which otherwise board long intervals of records with zero steering angles.\n",
    "* It reduces dataset size to huge extent."
   ]
  },
  {
   "cell_type": "code",
   "execution_count": 0,
   "metadata": {
    "colab": {
     "autoexec": {
      "startup": false,
      "wait_interval": 0
     }
    },
    "colab_type": "code",
    "id": "XhBXcjBRKiaZ"
   },
   "outputs": [],
   "source": [
    "balanced_df = pd.DataFrame() \t# Balanced dataset\n",
    "bins = 1500 \t\t\t\t# N of bins\n",
    "bin_n = 200 \t\t\t\t# N of examples to include in each bin (at most)\n",
    "\n",
    "start = 0\n",
    "intervals=  list(np.linspace(0, 1, num=bins))#outputs a list of 100 values falling between 0 and 1. \n",
    "#intervals.pop(0)\n",
    "\n",
    "for end in intervals: \n",
    "    df_range = dataset[(np.absolute(dataset.angle) >= start) & (np.absolute(dataset.angle) < end)]# there is a possiblity that between two interval values start\n",
    "    #and end, there could be 0 number of records/instances with steering value satistfying >=start & <end \n",
    "    range_n = min(bin_n, df_range.shape[0])\n",
    "    if range_n>0:#this concatenates df_range with balanced only if multiple instances are found with (>=start & <end )satisfying values of steering, i.e., df_range.shape =/0\n",
    "        balanced_df = pd.concat([balanced_df, df_range.sample(range_n)])\n",
    "    start = end\n",
    "\n",
    "#balanced_df.to_csv(os.path.join(path, \"balanced_driving_log.csv\"), index=False)# writing the new sequence of drive log to a CSV"
   ]
  },
  {
   "cell_type": "code",
   "execution_count": 0,
   "metadata": {
    "colab": {
     "autoexec": {
      "startup": false,
      "wait_interval": 0
     },
     "base_uri": "https://localhost:8080/",
     "height": 34
    },
    "colab_type": "code",
    "executionInfo": {
     "elapsed": 1065,
     "status": "ok",
     "timestamp": 1530301271740,
     "user": {
      "displayName": "Prakash Bisht",
      "photoUrl": "//lh5.googleusercontent.com/-04UzDVJdBwE/AAAAAAAAAAI/AAAAAAAADj4/nhMNE_Vmelk/s50-c-k-no/photo.jpg",
      "userId": "110325046815269230203"
     },
     "user_tz": -330
    },
    "id": "NMQpPDBBKimx",
    "outputId": "508db918-abc6-41ea-a0d3-228ded88e103"
   },
   "outputs": [
    {
     "name": "stdout",
     "output_type": "stream",
     "text": [
      "(4498, 7)\n"
     ]
    }
   ],
   "source": [
    "print(balanced_df.shape)#after balancing 20k records to ~5k\n"
   ]
  },
  {
   "cell_type": "markdown",
   "metadata": {
    "colab_type": "text",
    "id": "dzdvLPmMYxRW"
   },
   "source": [
    "----------------------------------"
   ]
  },
  {
   "cell_type": "markdown",
   "metadata": {
    "colab_type": "text",
    "id": "o6joW9KtLIJe"
   },
   "source": [
    "**♦ Splitting the training dataset in train and validation sets.**\n",
    "* Slicing camera views from columns- **'center', 'left', 'right'** to a single input array X.\n",
    "* Slicing steering angles  from column **'angle'** to a single target array y.\n",
    "* Splitting the input array X and target array y in train validation split proportion of 0.1\n",
    "* train x shaped (18060,3 ), train y shaped (18060,1 ) \n",
    "* val x shaped (2007,3 ), val y shaped (2007,1 )"
   ]
  },
  {
   "cell_type": "code",
   "execution_count": 23,
   "metadata": {
    "colab": {
     "autoexec": {
      "startup": false,
      "wait_interval": 0
     },
     "base_uri": "https://localhost:8080/",
     "height": 68
    },
    "colab_type": "code",
    "executionInfo": {
     "elapsed": 659,
     "status": "ok",
     "timestamp": 1530393189883,
     "user": {
      "displayName": "Prakash Bisht",
      "photoUrl": "//lh5.googleusercontent.com/-04UzDVJdBwE/AAAAAAAAAAI/AAAAAAAADj4/nhMNE_Vmelk/s50-c-k-no/photo.jpg",
      "userId": "110325046815269230203"
     },
     "user_tz": -330
    },
    "id": "XpC7YfYLKijP",
    "outputId": "6b00858b-b0af-40d0-8bd6-81665382286f"
   },
   "outputs": [
    {
     "name": "stdout",
     "output_type": "stream",
     "text": [
      "<class 'numpy.ndarray'> \n",
      " (18060, 3) (18060, 1) val data: \n",
      " (2007, 3) (2007, 1)\n"
     ]
    }
   ],
   "source": [
    "X= balanced_df[['center','left','right']].values #slicing camera views and angles to store numpy arrays from dataframes\n",
    "y =balanced_df[['angle']].values\n",
    "\n",
    "train_x, val_x, train_y, val_y = train_test_split(X, y, test_size = 0.1)\n",
    "print(type(train_x),'\\n',train_x.shape, train_y.shape, 'val data: \\n', val_x.shape, val_y.shape)"
   ]
  },
  {
   "cell_type": "markdown",
   "metadata": {
    "colab_type": "text",
    "id": "N-WN2w9FZYpb"
   },
   "source": [
    "## 8. Defining Data processing functions\n",
    "* The dataset arrays - (train x, train y), (val x, valy) above cannot be directed to defined model for training or validation right away, all at once and moreover without basic pre-processing.\n",
    "* Model training and validation operation requires a batch generator function to limit the throughput sent over to model at a time.\n",
    "\n",
    "• The following pipleine block consist of two requiste data processing functions- **\"preprocess\"** and **\"batch_gen\" **needed to truncate and alter the input images directed to model.\n"
   ]
  },
  {
   "cell_type": "markdown",
   "metadata": {
    "colab_type": "text",
    "id": "ukpASyB_L-2Z"
   },
   "source": [
    "**♦ Image preprocessing function**\n",
    "\n",
    "• The following function serves for both training and validation operation, corresponding to **augment flag**.\n",
    "* For training operation it processes the image by randomly applying operations such as:\n",
    "\n",
    "\n",
    "> **• flipping & Translating image & steering values • adding irreglar shadows to images• **\n",
    "\n",
    "* For validation, it processes the image by trimming some top and bottom pixels of the image and strapping it to image size of (66,200,3) required by defined model.\n",
    "\n",
    "* The process such as- **trimming off the redundant top & bottom** of image, **strapping it to the image size of (66,200,3) as required by defined model** and **masking YUV encoding** to the final image **is common to both train and validation operation**.\n",
    "\n",
    "• The following function takes arguments as- **image array, steering angles, augment flag(False by default)** and ouputs a processed image strapped to recommended dimension and a steering angle for both train & validation operations."
   ]
  },
  {
   "cell_type": "code",
   "execution_count": 0,
   "metadata": {
    "colab": {
     "autoexec": {
      "startup": false,
      "wait_interval": 0
     }
    },
    "colab_type": "code",
    "id": "BDhrKu1NL7fb"
   },
   "outputs": [],
   "source": [
    "def preprocess(image, angles, augment= False, data_addition= False):# translate= False):\n",
    "    \n",
    "    if data_addition:\n",
    "      img = cv2.flip(image, 1)\n",
    "      angles = -angles\n",
    "      return img, angles      \n",
    "    \n",
    "    if augment:#flips every image that comes for training\n",
    "        img = cv2.flip(image, 1)\n",
    "        angles = -angles\n",
    "        \n",
    "        trans_x = 100 * (np.random.rand() - 0.5)\n",
    "        trans_y = 10 * (np.random.rand() - 0.5)\n",
    "        angles+= trans_x * 0.003\n",
    "        trans_m = np.float32([[1, 0, trans_x], [0, 1, trans_y]])\n",
    "        h, w = img.shape[:2]\n",
    "        img = cv2.warpAffine(img, trans_m, (w, h))\n",
    "        \n",
    "        \n",
    "        if np.random.randint(0,6)<=3:#if true, outputs either randomly shadowed flipped images or unflipped training pictures, ignored if false.\n",
    "            if np.random.randint(0,2)<1:#if true, outputs shadows added to above flipped images\n",
    "              h, w = img.shape[0], img.shape[1]\n",
    "              [x1, x2] = np.random.choice(w, 2, replace=False)\n",
    "              k = h / (x2 - x1)\n",
    "              b = - k * x1\n",
    "              for i in range(h):\n",
    "                c = int((i - b) / k)\n",
    "                img[i, :c, :] = (img[i, :c, :] * (0.5)).astype(np.int32)\n",
    "            else:#else, outputs shadows added to original incoming training images and same angles\n",
    "              img, angles= cv2.flip(img, 1), -angles\n",
    "              h, w = image.shape[0], image.shape[1]\n",
    "              [x1, x2] = np.random.choice(w, 2, replace=False)\n",
    "              k = h / (x2 - x1)\n",
    "              b = - k * x1\n",
    "              for i in range(h):\n",
    "                c = int((i - b) / k)\n",
    "                img[i, :c, :] = (img[i, :c, :] * (0.5)).astype(np.int32)\n",
    "        return img, angles\n",
    "    \n",
    "    img= image[60:-25]#trimming top and bottom a little\n",
    "    img= cv2.resize(img, (200, 66), cv2.INTER_AREA)# resizing trimmed img to (200,66)\n",
    "    return cv2.cvtColor(img, cv2.COLOR_RGB2YUV), angles"
   ]
  },
  {
   "cell_type": "markdown",
   "metadata": {
    "colab_type": "text",
    "id": "1OF-Cxr4vdUD"
   },
   "source": [
    "-------------"
   ]
  },
  {
   "cell_type": "markdown",
   "metadata": {
    "colab_type": "text",
    "id": "HELUvDwg1ecH"
   },
   "source": [
    "** Note: Ignore running the following cell.**\n",
    "\n",
    "**♦ The following code is written to transform the dataset array of image paths to dataset array of corresponding images(numerical arrays).**\n",
    "\n",
    "• It is defined for two probable purposes:\n",
    "1. To avoid passing an array of image paths to batch_gen function during training/validation, instead passing an array of images(numerical arrays) itself.**\n",
    "2. To expand the training dataset size beforehand by appending large number of augmented images(yielded from preprocessing function exclusively) to existing dataset prior to training, as augmentation during training through batch_gen function just processes the limited images in real-time, i.e., doesnt append & expand dataset size. hence largely falls out of training performace due to small input dataset.\n",
    "\n",
    "***• (Running the following code successfully outputs the numerical array of images corresponding to array of image paths, Nonetheless having large compte & memory overhead in the process.\n",
    "But the following method is spiking errors in concatenating the dataset array of images and augmented images output from preprocess function, due to mismatching shapes of two arrays. which is yet to be corrected. ***\n",
    "\n",
    "\n"
   ]
  },
  {
   "cell_type": "code",
   "execution_count": 0,
   "metadata": {
    "colab": {
     "autoexec": {
      "startup": false,
      "wait_interval": 0
     }
    },
    "colab_type": "code",
    "id": "qRG-hl8ZiFXa"
   },
   "outputs": [],
   "source": [
    "##this function returns the matrix representation of all images \n",
    "def data_array(path_dataframe):#path_dataframe= dataset\n",
    "    df_views= list(path_dataframe.columns[:3])#gauges the list of 3 views- center, left, right\n",
    "    #print(df_views)\n",
    "    df = path_dataframe.copy()\n",
    "    for view in df_views:#chops off C:\\ from image paths of each column\n",
    "        df[view]= path_dataframe[view].apply(lambda x: mpimg.imread(x.strip()))#here x is image_path for each image\n",
    "    array = df[df_views].values# this array would be of shape (total numb of images, number of views(3))\n",
    "    return array\n",
    "\n",
    "# this is to exclusively augment random images & add to existing dataset during training time\n",
    "def augmented_out(in_array,in_angle, num_augmented):\n",
    "    aug_idx= np.random.randint(0, in_array.shape[0], size =num_augmented)#returns an array of num_augmented random indexes between 0 & total images\n",
    "    x_aug = np.empty((num_augmented,3)+ in_array[0][0].shape)#, dtype= np.uint8)#array to store augmented images, is of same shape as \n",
    "    y_aug = np.empty((num_augmented,1))\n",
    "    \n",
    "    for i,j in enumerate(aug_idx):#zip(range(len(aug_idx), aug_idx):#i iterates index, j over random value\n",
    "      for k in range(x_aug.shape[1]):\n",
    "        x_aug[i][k], y_aug[i] = preprocess(in_array[j][k],in_angle[j],data_addition= True)\n",
    "    \n",
    "    x_new= np.append(in_array, x_aug, axis=0)\n",
    "    y_new= np.append(in_angle, y_aug, axis=0)\n",
    "    return x_new, y_new"
   ]
  },
  {
   "cell_type": "markdown",
   "metadata": {
    "colab_type": "text",
    "id": "weDHZ3B-vQuR"
   },
   "source": [
    "**• To save the array dataset csv generated from image_paths csv**"
   ]
  },
  {
   "cell_type": "code",
   "execution_count": 0,
   "metadata": {
    "colab": {
     "autoexec": {
      "startup": false,
      "wait_interval": 0
     },
     "base_uri": "https://localhost:8080/",
     "height": 34
    },
    "colab_type": "code",
    "executionInfo": {
     "elapsed": 86100,
     "status": "ok",
     "timestamp": 1530269555690,
     "user": {
      "displayName": "Prakash Bisht",
      "photoUrl": "//lh5.googleusercontent.com/-04UzDVJdBwE/AAAAAAAAAAI/AAAAAAAADj4/nhMNE_Vmelk/s50-c-k-no/photo.jpg",
      "userId": "110325046815269230203"
     },
     "user_tz": -330
    },
    "id": "AAlkvvSPKEww",
    "outputId": "3f44efe0-f752-4419-a1ec-8f3be3b64b08"
   },
   "outputs": [
    {
     "name": "stdout",
     "output_type": "stream",
     "text": [
      "(20067, 3) <class 'numpy.ndarray'>\n"
     ]
    }
   ],
   "source": [
    "#dataset.shape\n",
    "d1= data_array(dataset)# d1 is analogous to X, d1 contains numpy arrays of all 3 views of 20k images\n",
    "print(d1.shape, type(d1))\n",
    "\n",
    "d2= pd.DataFrame(d1,columns='center,left,right'.split(','))#writing numerical arrays data to dataframe\n",
    "d2.to_csv('data_array.csv')\n",
    "\n",
    "from google.colab import files\n",
    "files.download('data_array.csv')"
   ]
  },
  {
   "cell_type": "code",
   "execution_count": 0,
   "metadata": {
    "colab": {
     "autoexec": {
      "startup": false,
      "wait_interval": 0
     },
     "base_uri": "https://localhost:8080/",
     "height": 308
    },
    "colab_type": "code",
    "executionInfo": {
     "elapsed": 1735,
     "status": "ok",
     "timestamp": 1530278694845,
     "user": {
      "displayName": "Prakash Bisht",
      "photoUrl": "//lh5.googleusercontent.com/-04UzDVJdBwE/AAAAAAAAAAI/AAAAAAAADj4/nhMNE_Vmelk/s50-c-k-no/photo.jpg",
      "userId": "110325046815269230203"
     },
     "user_tz": -330
    },
    "id": "wlLBX-9csk06",
    "outputId": "f8855aca-aa0b-49a4-f892-8f3b470deb09"
   },
   "outputs": [
    {
     "name": "stdout",
     "output_type": "stream",
     "text": [
      "[1.]\n"
     ]
    },
    {
     "data": {
      "text/plain": [
       "<matplotlib.image.AxesImage at 0x7f37f269bb00>"
      ]
     },
     "execution_count": 179,
     "metadata": {
      "tags": []
     },
     "output_type": "execute_result"
    },
    {
     "data": {
      "image/png": "[encoded data removed]",
      "text/plain": [
       "<matplotlib.figure.Figure at 0x7f37f26d0320>"
      ]
     },
     "metadata": {
      "tags": []
     },
     "output_type": "display_data"
    }
   ],
   "source": [
    "#one sample from exclusively augmented dataset\n",
    "print(y_aug[2])\n",
    "plt.imshow(x_aug[1][0])"
   ]
  },
  {
   "cell_type": "code",
   "execution_count": 0,
   "metadata": {
    "colab": {
     "autoexec": {
      "startup": false,
      "wait_interval": 0
     },
     "base_uri": "https://localhost:8080/",
     "height": 308
    },
    "colab_type": "code",
    "executionInfo": {
     "elapsed": 1720,
     "status": "ok",
     "timestamp": 1530271347276,
     "user": {
      "displayName": "Prakash Bisht",
      "photoUrl": "//lh5.googleusercontent.com/-04UzDVJdBwE/AAAAAAAAAAI/AAAAAAAADj4/nhMNE_Vmelk/s50-c-k-no/photo.jpg",
      "userId": "110325046815269230203"
     },
     "user_tz": -330
    },
    "id": "UikHFuvsRDXF",
    "outputId": "e937d4a3-49ab-48a3-ca15-ad18c7f91053"
   },
   "outputs": [
    {
     "name": "stdout",
     "output_type": "stream",
     "text": [
      "[-0.0]\n"
     ]
    },
    {
     "data": {
      "text/plain": [
       "<matplotlib.image.AxesImage at 0x7f37a1483908>"
      ]
     },
     "execution_count": 82,
     "metadata": {
      "tags": []
     },
     "output_type": "execute_result"
    },
    {
     "data": {
      "image/png": "[encoded data removed]",
      "text/plain": [
       "<matplotlib.figure.Figure at 0x7f37a502f6a0>"
      ]
     },
     "metadata": {
      "tags": []
     },
     "output_type": "display_data"
    }
   ],
   "source": [
    "im1, ang1= preprocess(d1[0][0], y[0], True)# preprocessed image\n",
    "print(ang1)\n",
    "plt.imshow(im1)"
   ]
  },
  {
   "cell_type": "markdown",
   "metadata": {
    "colab_type": "text",
    "id": "39XQCvGhvhQF"
   },
   "source": [
    "--------------"
   ]
  },
  {
   "cell_type": "markdown",
   "metadata": {
    "colab_type": "text",
    "id": "Cemrj_mm1yMt"
   },
   "source": [
    "**♦ Batchgenerator function for training**\n",
    "\n",
    "* The following function **outputs a batch of processed images** for training and validation operations.\n",
    "* For training operation, it randomly choses one of the 3 images alongside corresponding angle from input array and performs random augumentation on both through pre processing function.\n",
    "* The Function also **adds a little corrective value to existing steering angle** corresponding to one of the 3 images- **for left image** to be chosen it **adds 0.22** to steering value similarly **for right image** view to be chosen it **adds -0.22** to the existing angle.\n",
    "* For validation operation, it choses the centeral image from input array and perfroms basic processing such as-  **stripping top & bottom** of the images, **resizing to size desired** by model & **applying YUV encoding**.\n",
    "* The function straps the output images to **(66,200,3)** as required by defined model, stores them to **\"x_array\"** and their corresponding steering values to \"**y_array**\" for one particular batch."
   ]
  },
  {
   "cell_type": "code",
   "execution_count": 0,
   "metadata": {
    "colab": {
     "autoexec": {
      "startup": false,
      "wait_interval": 0
     }
    },
    "colab_type": "code",
    "id": "IePZ8LJCL8I2"
   },
   "outputs": [],
   "source": [
    "def batch_gen(img_path, angles, batch_size, train=False):\n",
    "    '''input args:\n",
    "    imgs: array of image paths, shaped (117,3)\n",
    "    angs: array of steering angles, shaped(117,1)\n",
    "    batch_size: batch size in which to process image_paths to array arrays\n",
    "    train: flag by default False for testing, set True for training\n",
    "    \n",
    "    output:\n",
    "    \n",
    "    x_array: array of preprocessed images, shaped (Batch_size, 66,200)\n",
    "    y_array:array of steering angles, shaped (Batch_size)\n",
    "    '''\n",
    "    \n",
    "    img_width, img_height, channels= 66,200,3 \n",
    "    \n",
    "    x_array = np.empty((batch_size, img_width, img_height,channels), dtype= np.uint8)\n",
    "    y_array = np.empty(batch_size)\n",
    "    cameras= ['center', 'left','right']\n",
    "    \n",
    "    st_alter = [0., 0.22, -0.22 ]\n",
    "    \n",
    "    while True:\n",
    "        i=0\n",
    "        for idx in np.random.permutation(img_path.shape[0]):#iterates over jumbled indices order from total train/test dataset\n",
    "        \n",
    "        #filestr= ' '.join(map(str, train_x[i]))\n",
    "        #filelist= list(filestr.split('  '))\n",
    "        ##x_pil_instances= [load_img(fname, target_size=(img_width,img_height,channels)) for fname in d] #holds PIL images called from filelist paths\n",
    "        #x_array[i] =np.array([np.array(load_img(fname, target_size=(img_width,img_height,channels))) for fname in filelist]) \n",
    "            st_angle= angles[idx]\n",
    "            \n",
    "            if train and np.random.rand()<=0.5:#randomly triggers with both flags true to randomly chose a camera view(center, left, right)\n",
    "                \n",
    "                camera_numb = np.random.randint(len(cameras))#randomly select the camera_view\n",
    "                image = mpimg.imread(img_path[idx, camera_numb].strip())#loads one of the camera view image as numerical_arrays\n",
    "                \n",
    "                st_angle += st_alter[camera_numb]#adding slight deviation to steering angle\n",
    "                \n",
    "                image, st_angle = preprocess(image, st_angle, augment=True)#returns image and angle for flipped image(only Train=True)\n",
    "                #image = random_shadow(image)\n",
    "\n",
    "            else:#images which are dodged off above condition even at training=True are used as they are(no flipping, shadows)\n",
    "                image = mpimg.imread(img_path[idx, 0].strip())#camera_view defaulted to 'center' strictly for test time\n",
    "            \n",
    "            \n",
    "            x_array[i], y_array[i] = preprocess(image,st_angle)# returns a trimmed,resized image_array & angles, without flipping\n",
    "            \n",
    "            #center, left, right = imgs[idx]\n",
    "            #x_array[i] = np.array(load_img(center, target_size=(img_width,img_height,channels)))            \n",
    "            i+=1\n",
    "            if i==batch_size:\n",
    "                break\n",
    "        yield x_array, y_array\n",
    "    "
   ]
  },
  {
   "cell_type": "markdown",
   "metadata": {
    "colab_type": "text",
    "id": "kf59AxChMJrh"
   },
   "source": [
    "## 9. Defining the CNN model\n",
    "\n",
    "The insights for modelling has been partly drawn from [this](https://devblogs.nvidia.com/deep-learning-self-driving-cars/) Nvidia's model and.\n",
    "\n",
    "* Prior to model definition, few suboridinate functions such as **covolutionfunc, denseblock** are defined.\n",
    "\n",
    "♦ Overall defined model is as follows:\n",
    "\n",
    "* ** Input layer; shape : 66x200x3**\n",
    "* ** Convolution 5x1; filters: 24; activation:'relu'**\n",
    "* ** Convolution 1x5; filters: 24; activation:'relu'**\n",
    "* ** Convolution 5x1; filters: 36; activation:'relu'**\n",
    "* ** Convolution 1x5; filters: 36; activation:'relu'**\n",
    "* ** Dense block depth: depth: 4**\n",
    "\n",
    "\n",
    "\n",
    "> **[ [Batchnorm]**\n",
    "\n",
    "> **[Convolution 3x1; filters: 12; activation:'relu'] **\n",
    "\n",
    "> **[Convolution 1x3; filters: 12; activation:'relu'] **\n",
    "\n",
    "> **[Batchnorm] **\n",
    "\n",
    "> **[Convolution 3x1; filters: 12; activation:'relu'] **\n",
    "\n",
    "> **[Convolution 1x3; filters: 12; activation:'relu'] ]x 4**\n",
    " \n",
    " * ** Transition block:**\n",
    "\n",
    "> **[ [Batchnorm]**\n",
    " \n",
    ">  **[Convolution 3x1; filters: 12; activation:'relu'] **\n",
    " \n",
    ">  **[Convolution 1x3; filters: 12; activation:'relu'] **\n",
    " \n",
    "> ** [Pooling] ]**\n",
    "\n",
    " * ** Dense block depth: depth: 4**\n",
    "\n",
    "> **[ [Batchnorm] **\n",
    "\n",
    "> **[Convolution 3x1; filters: 12; activation:'relu'] **\n",
    "\n",
    "> **[Convolution 1x3; filters: 12; activation:'relu'] **\n",
    "\n",
    "> **[Batchnorm] **\n",
    "\n",
    "> **[Convolution 3x1; filters: 12; activation:'relu'] **\n",
    "\n",
    "> **[Convolution 1x3; filters: 12; activation:'relu'] ]x4**\n",
    " \n",
    " * ** Batchnorm**\n",
    " * ** Pooling**\n",
    " * ** Dense; neurons 100; activation: 'relu'**\n",
    " * ** Dropout**\n",
    " * ** Dense; neurons 50; activation: 'relu'**\n",
    " * ** Dense; neurons 10; activation: 'relu'**\n",
    " * ** Dense; neurons 1; (output)**"
   ]
  },
  {
   "cell_type": "markdown",
   "metadata": {
    "colab_type": "text",
    "id": "6tjWXIL54Oqg"
   },
   "source": [
    "♦ **convoltionfunc**\n",
    "* The following function serves two purposes corresponding to **as transition** flag.\n",
    "* The function is largely employed for defining sequence of **batchnorm-relu-conv** layers in repeatation depending on depth of network, inside denseblock of the network.\n",
    "* The function takes arguments as- ** input arrays, number of filters, dropout, as transition flag(False by default)** and outputs an array of same shape as that of input\n",
    "\n",
    "\n",
    "> •For **False** as_Transition flag, It facilitates in defining dense layers concatenating at each interval, constuting denseblock of the overall Conolutional network, it adds several layers to network as: **batchnorm-relu-1x3 conv2d- 3x1 conv2d-batchnorm-relu-3x1conv2d-1x3 conv2d** periodically for defined depth in denseblock.\n",
    "\n",
    "> •For **True** as_Transition flag, It performs as a **transition layer function** which is intended to pool down the spatial extent of input. It adds the layer in sequence as **batchnorm-relu-1x3 conv2d- 3x1 conv2d-average pool2d** to the network.\n",
    "\n",
    "\n",
    "\n"
   ]
  },
  {
   "cell_type": "code",
   "execution_count": 0,
   "metadata": {
    "colab": {
     "autoexec": {
      "startup": false,
      "wait_interval": 0
     }
    },
    "colab_type": "code",
    "id": "xdDjG-p9L8Fn"
   },
   "outputs": [],
   "source": [
    "def convolutionfunc(in_array, num_filters, dropout=None, as_transition= False):\n",
    "    comp= 0.5 #compression rate \n",
    "    x= BatchNormalization()(in_array)\n",
    "    x= Activation('relu')(x)\n",
    "    #if as_transition:#triggers (1,1) convolution & pooling when Convfunc used for transition layer\n",
    "    \n",
    "    x= Conv2D(int(comp*num_filters),(1,3),activation= 'relu', use_bias=False, padding='same')(x)# activation= 'relu',kernel_initializer='glorot_uniform',\n",
    "    x= Conv2D(int(comp*num_filters),(3,1), use_bias=False, padding='same')(x) #  kernel_initializer='glorot_uniform',\n",
    "    \n",
    "    if as_transition:#triggers (1,1) convolution & pooling when Convfunc used for transition layer\n",
    "        if dropout:\n",
    "            x= Dropout(dropout/2)(x)\n",
    "        x= AveragePooling2D(pool_size=(2,2))(x)\n",
    "        return x\n",
    "    \n",
    "    #triggers (3,1)(1,3) convolution when convfunc is used for denseblock layer\n",
    "    x= BatchNormalization()(x)\n",
    "    x= Activation('relu')(x)\n",
    "    x= Conv2D(int(comp*num_filters), (3,1), activation= 'relu', use_bias= False, padding='same')(x)# activation='relu', kernel_initializer='glorot_uniform'\n",
    "    x= Conv2D(int(comp*num_filters), (1,3), use_bias= False, padding='same')(x)# kernel_initializer='glorot_uniform'\n",
    "    if dropout:\n",
    "        x= Dropout(dropout/2)(x)    \n",
    "    return x"
   ]
  },
  {
   "cell_type": "markdown",
   "metadata": {
    "colab_type": "text",
    "id": "nuzK2H_O2EAo"
   },
   "source": [
    "♦ **denseblock**\n",
    "* The following function adds a block of convolution layers densely connected to each other layer, thus sharing features to far off layers, facilitating feature reuse and improved gradients flow during backpropagation.\n",
    "* The function takes arguments such as- **input array, layers depth, number of filters, dropout**"
   ]
  },
  {
   "cell_type": "code",
   "execution_count": 0,
   "metadata": {
    "colab": {
     "autoexec": {
      "startup": false,
      "wait_interval": 0
     }
    },
    "colab_type": "code",
    "id": "yRNQgZyZL7cV"
   },
   "outputs": [],
   "source": [
    "def denseblock(in_array, depth, num_filters, dropout):\n",
    "    block_array = in_array\n",
    "    \n",
    "    for i in range(depth):\n",
    "        x= convolutionfunc(block_array,num_filters, dropout)\n",
    "        \n",
    "        block_array = Concatenate(axis=-1)([block_array, x])\n",
    "    #block_array = AveragePooling2D(pool_size= (2,2))(block_array)    \n",
    "    \n",
    "    #slight changes to denseblock by pooling the output before returning, to avoid burgeoning number of parameters by the time it reaches dense layers.  \n",
    "    return block_array"
   ]
  },
  {
   "cell_type": "markdown",
   "metadata": {
    "colab_type": "text",
    "id": "4xtYxiZm8uA2"
   },
   "source": [
    "**♦ build_model**\n",
    "\n",
    "* The following function consolidates above functions to define a complete convolutional network.\n",
    "\n",
    "* The function takes arguments such as- **input dimension, layer depth, number of filters, dropot**\n",
    "* It outputs a complete cnn model"
   ]
  },
  {
   "cell_type": "code",
   "execution_count": 0,
   "metadata": {
    "colab": {
     "autoexec": {
      "startup": false,
      "wait_interval": 0
     }
    },
    "colab_type": "code",
    "id": "25BxUqVBL7XR"
   },
   "outputs": [],
   "source": [
    "def build_model(input_dim, depth, num_filters, dropout):\n",
    "    '''\n",
    "    input args-\n",
    "    input dim: input_dimension, shape of image, ex- (66,200,3)\n",
    "    depth: integer, depth of each dense block(num.of times denseblock loop to run), ex- 4\n",
    "    num_filters: integer, filter count for each convolution, ex- 16.\n",
    "    dropout: dropout rate during training, ex- 0.5\n",
    "    \n",
    "    output-\n",
    "    model: dense_architecture model\n",
    "    \n",
    "    '''\n",
    "    model_input = Input(shape= input_dim)#input_size (66,200,3)\n",
    "    #model_input = Lambda(lambda x: x/127.5-1.0, input_shape= input_dim)\n",
    "    \n",
    "    x= Conv2D(24, (5,1),use_bias= False, activation= 'relu', padding='same', kernel_initializer='glorot_uniform')(model_input)\n",
    "    x= Conv2D(24, (1,5), use_bias= False, activation='relu', padding='same')(x) # kernel_initializer='glorot_uniform'\n",
    "    #x= BatchNormalization()(x)\n",
    "    #x= Activation('relu')(x)\n",
    "    x= Conv2D(36, (5,1), padding='same',activation= 'relu', use_bias= False)(x) #activation='relu', kernel_initializer='glorot_uniform'\n",
    "    x= Conv2D(36, (1,5),  padding='same', use_bias= False)(x)# kernel_initializer='glorot_uniform'\n",
    "    \n",
    "    #for block_idx in range(num_denseblocks):\n",
    "    x= denseblock(x, depth, num_filters, dropout)#1st denseblock\n",
    "    x= convolutionfunc(x, num_filters, dropout, as_transition= True)#using conv func as transition\n",
    "    \n",
    "    #x= transition_block(x, num_filters,dropout)##changes made using an exclusive transition block function.\n",
    "    \n",
    "    x= denseblock(x, depth, num_filters, dropout)#2nd denseblock\n",
    "    \n",
    "    x= BatchNormalization()(x)\n",
    "    x= Activation('relu')(x)\n",
    "    x= AveragePooling2D(pool_size=(2,2))(x)\n",
    "    x= Flatten()(x)\n",
    "    \n",
    "    x= Dense(100, activation='relu')(x) # connecting the flattened layer with dense connections directly to single or just finite unit,\n",
    "    #although results in significantly reduced number of paramters, but costs large time at model training, also the validation losses\n",
    "    # are unjustifiably large & burgeoning with each epoch\n",
    "    \n",
    "    #resolving this issue by dropping flattened layer output to multiple densly connected layer with decreasing number of nodes, causing a rise in num of trainable paramters\n",
    "    #but also causes sharp decline in validation error & training time \n",
    "    x= Dropout(dropout)(x)\n",
    "    \n",
    "    x= Dense(50, activation='relu')(x)\n",
    "    #x= Dropout(dropout/2)(x)\n",
    "    \n",
    "    #x= Dense(50, activation='relu')(x)\n",
    "    #x= Dropout(dropout/2)(x)\n",
    "    \n",
    "    x= Dense(10, activation='relu')(x)\n",
    "        \n",
    "    x= Dense(1)(x)\n",
    "    \n",
    "    dense_model = Model(inputs=[model_input] ,outputs= [x]) \n",
    "    return dense_model"
   ]
  },
  {
   "cell_type": "markdown",
   "metadata": {
    "colab_type": "text",
    "id": "xH0_xMGNMZ8j"
   },
   "source": [
    "**♦ Building a CNN model with following arguments:**\n",
    "* input_dimension = (66,200,3)\n",
    "* layer_depth in denseblock function = 4\n",
    "* number of filters= 24\n",
    "* dropout value= 0\n",
    "\n",
    "♦ With above input parameters of build_**model** function\n",
    "* The model has  **total** number of 7,276,267 **parameters**. \n",
    "* of which number of **trainable parameters are 7,274,719**\n",
    "\n",
    "\n",
    "**• The dropout value is set to 0 as over successive training sessions with varied number of filters and layer depth value, the model resulted in increasing training loss & decreasing training accuracy. Thus the model is suspected of having a high bias.**"
   ]
  },
  {
   "cell_type": "code",
   "execution_count": 40,
   "metadata": {
    "colab": {
     "autoexec": {
      "startup": false,
      "wait_interval": 0
     },
     "base_uri": "https://localhost:8080/",
     "height": 34
    },
    "colab_type": "code",
    "executionInfo": {
     "elapsed": 3468,
     "status": "ok",
     "timestamp": 1530395192088,
     "user": {
      "displayName": "Prakash Bisht",
      "photoUrl": "//lh5.googleusercontent.com/-04UzDVJdBwE/AAAAAAAAAAI/AAAAAAAADj4/nhMNE_Vmelk/s50-c-k-no/photo.jpg",
      "userId": "110325046815269230203"
     },
     "user_tz": -330
    },
    "id": "4q8tcDsAMVjg",
    "outputId": "fec77ff5-3741-40c7-def3-ed0bee553393"
   },
   "outputs": [
    {
     "name": "stdout",
     "output_type": "stream",
     "text": [
      "model building time:  2.7970781326293945\n"
     ]
    }
   ],
   "source": [
    "import time\n",
    "tick = time.time()\n",
    "\n",
    "model= build_model((66,200,3), 4, 36, 0)\n",
    "\n",
    "print('model building time: ', time.time()- tick)"
   ]
  },
  {
   "cell_type": "code",
   "execution_count": 41,
   "metadata": {
    "colab": {
     "autoexec": {
      "startup": false,
      "wait_interval": 0
     },
     "base_uri": "https://localhost:8080/",
     "height": 3366
    },
    "colab_type": "code",
    "executionInfo": {
     "elapsed": 682,
     "status": "ok",
     "timestamp": 1530395196901,
     "user": {
      "displayName": "Prakash Bisht",
      "photoUrl": "//lh5.googleusercontent.com/-04UzDVJdBwE/AAAAAAAAAAI/AAAAAAAADj4/nhMNE_Vmelk/s50-c-k-no/photo.jpg",
      "userId": "110325046815269230203"
     },
     "user_tz": -330
    },
    "id": "f4tD8cfcMVfq",
    "outputId": "7b4a4f35-8cbc-42ba-f550-24fd9fb773d5"
   },
   "outputs": [
    {
     "name": "stdout",
     "output_type": "stream",
     "text": [
      "__________________________________________________________________________________________________\n",
      "Layer (type)                    Output Shape         Param #     Connected to                     \n",
      "==================================================================================================\n",
      "input_2 (InputLayer)            (None, 66, 200, 3)   0                                            \n",
      "__________________________________________________________________________________________________\n",
      "conv2d_39 (Conv2D)              (None, 66, 200, 24)  360         input_2[0][0]                    \n",
      "__________________________________________________________________________________________________\n",
      "conv2d_40 (Conv2D)              (None, 66, 200, 24)  2880        conv2d_39[0][0]                  \n",
      "__________________________________________________________________________________________________\n",
      "conv2d_41 (Conv2D)              (None, 66, 200, 36)  4320        conv2d_40[0][0]                  \n",
      "__________________________________________________________________________________________________\n",
      "conv2d_42 (Conv2D)              (None, 66, 200, 36)  6480        conv2d_41[0][0]                  \n",
      "__________________________________________________________________________________________________\n",
      "batch_normalization_19 (BatchNo (None, 66, 200, 36)  144         conv2d_42[0][0]                  \n",
      "__________________________________________________________________________________________________\n",
      "activation_19 (Activation)      (None, 66, 200, 36)  0           batch_normalization_19[0][0]     \n",
      "__________________________________________________________________________________________________\n",
      "conv2d_43 (Conv2D)              (None, 66, 200, 18)  1944        activation_19[0][0]              \n",
      "__________________________________________________________________________________________________\n",
      "conv2d_44 (Conv2D)              (None, 66, 200, 18)  972         conv2d_43[0][0]                  \n",
      "__________________________________________________________________________________________________\n",
      "batch_normalization_20 (BatchNo (None, 66, 200, 18)  72          conv2d_44[0][0]                  \n",
      "__________________________________________________________________________________________________\n",
      "activation_20 (Activation)      (None, 66, 200, 18)  0           batch_normalization_20[0][0]     \n",
      "__________________________________________________________________________________________________\n",
      "conv2d_45 (Conv2D)              (None, 66, 200, 18)  972         activation_20[0][0]              \n",
      "__________________________________________________________________________________________________\n",
      "conv2d_46 (Conv2D)              (None, 66, 200, 18)  972         conv2d_45[0][0]                  \n",
      "__________________________________________________________________________________________________\n",
      "concatenate_9 (Concatenate)     (None, 66, 200, 54)  0           conv2d_42[0][0]                  \n",
      "                                                                 conv2d_46[0][0]                  \n",
      "__________________________________________________________________________________________________\n",
      "batch_normalization_21 (BatchNo (None, 66, 200, 54)  216         concatenate_9[0][0]              \n",
      "__________________________________________________________________________________________________\n",
      "activation_21 (Activation)      (None, 66, 200, 54)  0           batch_normalization_21[0][0]     \n",
      "__________________________________________________________________________________________________\n",
      "conv2d_47 (Conv2D)              (None, 66, 200, 18)  2916        activation_21[0][0]              \n",
      "__________________________________________________________________________________________________\n",
      "conv2d_48 (Conv2D)              (None, 66, 200, 18)  972         conv2d_47[0][0]                  \n",
      "__________________________________________________________________________________________________\n",
      "batch_normalization_22 (BatchNo (None, 66, 200, 18)  72          conv2d_48[0][0]                  \n",
      "__________________________________________________________________________________________________\n",
      "activation_22 (Activation)      (None, 66, 200, 18)  0           batch_normalization_22[0][0]     \n",
      "__________________________________________________________________________________________________\n",
      "conv2d_49 (Conv2D)              (None, 66, 200, 18)  972         activation_22[0][0]              \n",
      "__________________________________________________________________________________________________\n",
      "conv2d_50 (Conv2D)              (None, 66, 200, 18)  972         conv2d_49[0][0]                  \n",
      "__________________________________________________________________________________________________\n",
      "concatenate_10 (Concatenate)    (None, 66, 200, 72)  0           concatenate_9[0][0]              \n",
      "                                                                 conv2d_50[0][0]                  \n",
      "__________________________________________________________________________________________________\n",
      "batch_normalization_23 (BatchNo (None, 66, 200, 72)  288         concatenate_10[0][0]             \n",
      "__________________________________________________________________________________________________\n",
      "activation_23 (Activation)      (None, 66, 200, 72)  0           batch_normalization_23[0][0]     \n",
      "__________________________________________________________________________________________________\n",
      "conv2d_51 (Conv2D)              (None, 66, 200, 18)  3888        activation_23[0][0]              \n",
      "__________________________________________________________________________________________________\n",
      "conv2d_52 (Conv2D)              (None, 66, 200, 18)  972         conv2d_51[0][0]                  \n",
      "__________________________________________________________________________________________________\n",
      "batch_normalization_24 (BatchNo (None, 66, 200, 18)  72          conv2d_52[0][0]                  \n",
      "__________________________________________________________________________________________________\n",
      "activation_24 (Activation)      (None, 66, 200, 18)  0           batch_normalization_24[0][0]     \n",
      "__________________________________________________________________________________________________\n",
      "conv2d_53 (Conv2D)              (None, 66, 200, 18)  972         activation_24[0][0]              \n",
      "__________________________________________________________________________________________________\n",
      "conv2d_54 (Conv2D)              (None, 66, 200, 18)  972         conv2d_53[0][0]                  \n",
      "__________________________________________________________________________________________________\n",
      "concatenate_11 (Concatenate)    (None, 66, 200, 90)  0           concatenate_10[0][0]             \n",
      "                                                                 conv2d_54[0][0]                  \n",
      "__________________________________________________________________________________________________\n",
      "batch_normalization_25 (BatchNo (None, 66, 200, 90)  360         concatenate_11[0][0]             \n",
      "__________________________________________________________________________________________________\n",
      "activation_25 (Activation)      (None, 66, 200, 90)  0           batch_normalization_25[0][0]     \n",
      "__________________________________________________________________________________________________\n",
      "conv2d_55 (Conv2D)              (None, 66, 200, 18)  4860        activation_25[0][0]              \n",
      "__________________________________________________________________________________________________\n",
      "conv2d_56 (Conv2D)              (None, 66, 200, 18)  972         conv2d_55[0][0]                  \n",
      "__________________________________________________________________________________________________\n",
      "batch_normalization_26 (BatchNo (None, 66, 200, 18)  72          conv2d_56[0][0]                  \n",
      "__________________________________________________________________________________________________\n",
      "activation_26 (Activation)      (None, 66, 200, 18)  0           batch_normalization_26[0][0]     \n",
      "__________________________________________________________________________________________________\n",
      "conv2d_57 (Conv2D)              (None, 66, 200, 18)  972         activation_26[0][0]              \n",
      "__________________________________________________________________________________________________\n",
      "conv2d_58 (Conv2D)              (None, 66, 200, 18)  972         conv2d_57[0][0]                  \n",
      "__________________________________________________________________________________________________\n",
      "concatenate_12 (Concatenate)    (None, 66, 200, 108) 0           concatenate_11[0][0]             \n",
      "                                                                 conv2d_58[0][0]                  \n",
      "__________________________________________________________________________________________________\n",
      "batch_normalization_27 (BatchNo (None, 66, 200, 108) 432         concatenate_12[0][0]             \n",
      "__________________________________________________________________________________________________\n",
      "activation_27 (Activation)      (None, 66, 200, 108) 0           batch_normalization_27[0][0]     \n",
      "__________________________________________________________________________________________________\n",
      "conv2d_59 (Conv2D)              (None, 66, 200, 18)  5832        activation_27[0][0]              \n",
      "__________________________________________________________________________________________________\n",
      "conv2d_60 (Conv2D)              (None, 66, 200, 18)  972         conv2d_59[0][0]                  \n",
      "__________________________________________________________________________________________________\n",
      "average_pooling2d_5 (AveragePoo (None, 33, 100, 18)  0           conv2d_60[0][0]                  \n",
      "__________________________________________________________________________________________________\n",
      "batch_normalization_28 (BatchNo (None, 33, 100, 18)  72          average_pooling2d_5[0][0]        \n",
      "__________________________________________________________________________________________________\n",
      "activation_28 (Activation)      (None, 33, 100, 18)  0           batch_normalization_28[0][0]     \n",
      "__________________________________________________________________________________________________\n",
      "conv2d_61 (Conv2D)              (None, 33, 100, 18)  972         activation_28[0][0]              \n",
      "__________________________________________________________________________________________________\n",
      "conv2d_62 (Conv2D)              (None, 33, 100, 18)  972         conv2d_61[0][0]                  \n",
      "__________________________________________________________________________________________________\n",
      "batch_normalization_29 (BatchNo (None, 33, 100, 18)  72          conv2d_62[0][0]                  \n",
      "__________________________________________________________________________________________________\n",
      "activation_29 (Activation)      (None, 33, 100, 18)  0           batch_normalization_29[0][0]     \n",
      "__________________________________________________________________________________________________\n",
      "conv2d_63 (Conv2D)              (None, 33, 100, 18)  972         activation_29[0][0]              \n",
      "__________________________________________________________________________________________________\n",
      "conv2d_64 (Conv2D)              (None, 33, 100, 18)  972         conv2d_63[0][0]                  \n",
      "__________________________________________________________________________________________________\n",
      "concatenate_13 (Concatenate)    (None, 33, 100, 36)  0           average_pooling2d_5[0][0]        \n",
      "                                                                 conv2d_64[0][0]                  \n",
      "__________________________________________________________________________________________________\n",
      "batch_normalization_30 (BatchNo (None, 33, 100, 36)  144         concatenate_13[0][0]             \n",
      "__________________________________________________________________________________________________\n",
      "activation_30 (Activation)      (None, 33, 100, 36)  0           batch_normalization_30[0][0]     \n",
      "__________________________________________________________________________________________________\n",
      "conv2d_65 (Conv2D)              (None, 33, 100, 18)  1944        activation_30[0][0]              \n",
      "__________________________________________________________________________________________________\n",
      "conv2d_66 (Conv2D)              (None, 33, 100, 18)  972         conv2d_65[0][0]                  \n",
      "__________________________________________________________________________________________________\n",
      "batch_normalization_31 (BatchNo (None, 33, 100, 18)  72          conv2d_66[0][0]                  \n",
      "__________________________________________________________________________________________________\n",
      "activation_31 (Activation)      (None, 33, 100, 18)  0           batch_normalization_31[0][0]     \n",
      "__________________________________________________________________________________________________\n",
      "conv2d_67 (Conv2D)              (None, 33, 100, 18)  972         activation_31[0][0]              \n",
      "__________________________________________________________________________________________________\n",
      "conv2d_68 (Conv2D)              (None, 33, 100, 18)  972         conv2d_67[0][0]                  \n",
      "__________________________________________________________________________________________________\n",
      "concatenate_14 (Concatenate)    (None, 33, 100, 54)  0           concatenate_13[0][0]             \n",
      "                                                                 conv2d_68[0][0]                  \n",
      "__________________________________________________________________________________________________\n",
      "batch_normalization_32 (BatchNo (None, 33, 100, 54)  216         concatenate_14[0][0]             \n",
      "__________________________________________________________________________________________________\n",
      "activation_32 (Activation)      (None, 33, 100, 54)  0           batch_normalization_32[0][0]     \n",
      "__________________________________________________________________________________________________\n",
      "conv2d_69 (Conv2D)              (None, 33, 100, 18)  2916        activation_32[0][0]              \n",
      "__________________________________________________________________________________________________\n",
      "conv2d_70 (Conv2D)              (None, 33, 100, 18)  972         conv2d_69[0][0]                  \n",
      "__________________________________________________________________________________________________\n",
      "batch_normalization_33 (BatchNo (None, 33, 100, 18)  72          conv2d_70[0][0]                  \n",
      "__________________________________________________________________________________________________\n",
      "activation_33 (Activation)      (None, 33, 100, 18)  0           batch_normalization_33[0][0]     \n",
      "__________________________________________________________________________________________________\n",
      "conv2d_71 (Conv2D)              (None, 33, 100, 18)  972         activation_33[0][0]              \n",
      "__________________________________________________________________________________________________\n",
      "conv2d_72 (Conv2D)              (None, 33, 100, 18)  972         conv2d_71[0][0]                  \n",
      "__________________________________________________________________________________________________\n",
      "concatenate_15 (Concatenate)    (None, 33, 100, 72)  0           concatenate_14[0][0]             \n",
      "                                                                 conv2d_72[0][0]                  \n",
      "__________________________________________________________________________________________________\n",
      "batch_normalization_34 (BatchNo (None, 33, 100, 72)  288         concatenate_15[0][0]             \n",
      "__________________________________________________________________________________________________\n",
      "activation_34 (Activation)      (None, 33, 100, 72)  0           batch_normalization_34[0][0]     \n",
      "__________________________________________________________________________________________________\n",
      "conv2d_73 (Conv2D)              (None, 33, 100, 18)  3888        activation_34[0][0]              \n",
      "__________________________________________________________________________________________________\n",
      "conv2d_74 (Conv2D)              (None, 33, 100, 18)  972         conv2d_73[0][0]                  \n",
      "__________________________________________________________________________________________________\n",
      "batch_normalization_35 (BatchNo (None, 33, 100, 18)  72          conv2d_74[0][0]                  \n",
      "__________________________________________________________________________________________________\n",
      "activation_35 (Activation)      (None, 33, 100, 18)  0           batch_normalization_35[0][0]     \n",
      "__________________________________________________________________________________________________\n",
      "conv2d_75 (Conv2D)              (None, 33, 100, 18)  972         activation_35[0][0]              \n",
      "__________________________________________________________________________________________________\n",
      "conv2d_76 (Conv2D)              (None, 33, 100, 18)  972         conv2d_75[0][0]                  \n",
      "__________________________________________________________________________________________________\n",
      "concatenate_16 (Concatenate)    (None, 33, 100, 90)  0           concatenate_15[0][0]             \n",
      "                                                                 conv2d_76[0][0]                  \n",
      "__________________________________________________________________________________________________\n",
      "batch_normalization_36 (BatchNo (None, 33, 100, 90)  360         concatenate_16[0][0]             \n",
      "__________________________________________________________________________________________________\n",
      "activation_36 (Activation)      (None, 33, 100, 90)  0           batch_normalization_36[0][0]     \n",
      "__________________________________________________________________________________________________\n",
      "average_pooling2d_6 (AveragePoo (None, 16, 50, 90)   0           activation_36[0][0]              \n",
      "__________________________________________________________________________________________________\n",
      "flatten_2 (Flatten)             (None, 72000)        0           average_pooling2d_6[0][0]        \n",
      "__________________________________________________________________________________________________\n",
      "dense_5 (Dense)                 (None, 100)          7200100     flatten_2[0][0]                  \n",
      "__________________________________________________________________________________________________\n",
      "dropout_2 (Dropout)             (None, 100)          0           dense_5[0][0]                    \n",
      "__________________________________________________________________________________________________\n",
      "dense_6 (Dense)                 (None, 50)           5050        dropout_2[0][0]                  \n",
      "__________________________________________________________________________________________________\n",
      "dense_7 (Dense)                 (None, 10)           510         dense_6[0][0]                    \n",
      "__________________________________________________________________________________________________\n",
      "dense_8 (Dense)                 (None, 1)            11          dense_7[0][0]                    \n",
      "==================================================================================================\n",
      "Total params: 7,276,267\n",
      "Trainable params: 7,274,719\n",
      "Non-trainable params: 1,548\n",
      "__________________________________________________________________________________________________\n"
     ]
    }
   ],
   "source": [
    "model.summary()"
   ]
  },
  {
   "cell_type": "markdown",
   "metadata": {
    "colab_type": "text",
    "id": "s1DouTDxM7f3"
   },
   "source": [
    "## 10. Model training & evaluation\n",
    "\n",
    "* This involves defining training parameters such as- **optimizer function, loss function, evaluation metrics.**\n",
    "* Running the following code performs two function:\n",
    "\n",
    "> • Defines the **checkpoint** to monitor validation loss and save the best model across different epochs.\n",
    "\n",
    "> • Prepares the defined cnn model for training by compiling it with **adam** optimizer, **learning rate of 1e-03**, **mean squared error** as loss function and setting **accuarcy values** as evaluation metric.\n",
    "\n"
   ]
  },
  {
   "cell_type": "code",
   "execution_count": 0,
   "metadata": {
    "colab": {
     "autoexec": {
      "startup": false,
      "wait_interval": 0
     }
    },
    "colab_type": "code",
    "id": "lfzZTsCkMVcD"
   },
   "outputs": [],
   "source": [
    "checkpoint = ModelCheckpoint('model-{epoch:03d}.h5', monitor='val_loss',verbose=0,save_best_only=True,mode='auto')\n",
    "\n",
    "model.compile(optimizer=Adam(lr=1e-03), loss='mean_squared_error', metrics=['accuracy'])"
   ]
  },
  {
   "cell_type": "markdown",
   "metadata": {
    "colab_type": "text",
    "id": "8XjXBn5NNYBN"
   },
   "source": [
    "**♦ The cnn model defined above is trained in two intermittent intervals: First for 3 epochs then for 12 epochs after reloading the model.**\n",
    "* Suspecting the authenticity of accuracy values, as many models trained prior to this one, despite having good validation scores either halted to a single steering value or just produced negligbly small negative angles, either way performed poorly in autonomous mode of driving simulator.\n",
    "* This behaviour could probably be ascribed to skewed nature of the dataset (with majority of steering values to be either zero or negative). Therefore the model trained on barely 3 epocs was put to drive simulator to ensure that model is enough robust to produce wiggle in steering values fully across -1 to 1, in the initial few epochs of training only.\n",
    "\n",
    "* The **model training parameters** are as follows:\n",
    "\n",
    "\n",
    "> • **Training dataset**= train_x shaped (18060, 3), train_y shaped (18060, 1)\n",
    "\n",
    "> • **Validation dataset**= val_x shaped (2007, 3), val_y shaped (2007, 1)\n",
    "\n",
    "> **• Batch size for training and validation** = 64\n",
    "\n",
    "> •** Steps per epoch** = 282 (for training), 31 (validation)\n",
    "\n",
    "> **• Total epochs**= 3\n",
    "\n",
    "> **• callbacks** = [checkpoint]\n",
    "\n",
    "\n",
    "\n",
    "\n"
   ]
  },
  {
   "cell_type": "code",
   "execution_count": 0,
   "metadata": {
    "colab": {
     "autoexec": {
      "startup": false,
      "wait_interval": 0
     },
     "base_uri": "https://localhost:8080/",
     "height": 156
    },
    "colab_type": "code",
    "executionInfo": {
     "elapsed": 907582,
     "status": "ok",
     "timestamp": 1530299877191,
     "user": {
      "displayName": "Prakash Bisht",
      "photoUrl": "//lh5.googleusercontent.com/-04UzDVJdBwE/AAAAAAAAAAI/AAAAAAAADj4/nhMNE_Vmelk/s50-c-k-no/photo.jpg",
      "userId": "110325046815269230203"
     },
     "user_tz": -330
    },
    "id": "r9v-lK1YPC4L",
    "outputId": "6a75d533-34b7-49f8-8aaf-c9b52b49e3e3"
   },
   "outputs": [
    {
     "name": "stdout",
     "output_type": "stream",
     "text": [
      "Epoch 1/3\n",
      "282/282 [==============================] - 307s 1s/step - loss: 0.3870 - acc: 0.2955 - val_loss: 0.0817 - val_acc: 0.7535\n",
      "Epoch 2/3\n",
      "282/282 [==============================] - 296s 1s/step - loss: 0.1449 - acc: 0.2362 - val_loss: 0.0807 - val_acc: 0.7525\n",
      "Epoch 3/3\n",
      " 31/282 [==>...........................] - ETA: 4:12 - loss: 0.1664 - acc: 0.2087282/282 [==============================] - 296s 1s/step - loss: 0.1808 - acc: 0.1863 - val_loss: 0.0888 - val_acc: 0.7429\n",
      "total training time:  906.6746604442596\n"
     ]
    }
   ],
   "source": [
    "tick = time.time()\n",
    "\n",
    "model.fit_generator(batch_gen(train_x, train_y,64,True), steps_per_epoch=282, epochs=3, verbose=1, callbacks=[checkpoint],\n",
    "    validation_data=batch_gen(val_x, val_y, 64), validation_steps=31)\n",
    "\n",
    "\n",
    "print('total training time: ', time.time()- tick) "
   ]
  },
  {
   "cell_type": "markdown",
   "metadata": {
    "colab_type": "text",
    "id": "8xL-dU2hOMz2"
   },
   "source": [
    "**♦ Uploading the model trained on 3 epochs back to colab for further train for 12 more epochs**"
   ]
  },
  {
   "cell_type": "code",
   "execution_count": 0,
   "metadata": {
    "colab": {
     "autoexec": {
      "startup": false,
      "wait_interval": 0
     },
     "base_uri": "https://localhost:8080/",
     "height": 89
    },
    "colab_type": "code",
    "executionInfo": {
     "elapsed": 1247990,
     "status": "ok",
     "timestamp": 1530306254610,
     "user": {
      "displayName": "Prakash Bisht",
      "photoUrl": "//lh5.googleusercontent.com/-04UzDVJdBwE/AAAAAAAAAAI/AAAAAAAADj4/nhMNE_Vmelk/s50-c-k-no/photo.jpg",
      "userId": "110325046815269230203"
     },
     "user_tz": -330
    },
    "id": "fIw608XrL88S",
    "outputId": "3a1b8a9a-2889-4cb6-cc1c-4642a90392fa"
   },
   "outputs": [
    {
     "data": {
      "text/html": [
       "\n",
       "     <input type=\"file\" id=\"files-2eca7657-0d30-475b-9ef8-ff1afe5cbc09\" name=\"files[]\" multiple disabled />\n",
       "     <output id=\"result-2eca7657-0d30-475b-9ef8-ff1afe5cbc09\">\n",
       "      Upload widget is only available when the cell has been executed in the\n",
       "      current browser session. Please rerun this cell to enable.\n",
       "      </output>\n",
       "      <script src=\"/nbextensions/google.colab/files.js\"></script> "
      ],
      "text/plain": [
       "<IPython.core.display.HTML object>"
      ]
     },
     "metadata": {
      "tags": []
     },
     "output_type": "display_data"
    },
    {
     "name": "stdout",
     "output_type": "stream",
     "text": [
      "Saving model-002.h5 to model-002.h5\n",
      "User uploaded file \"model-002.h5\" with length 87667368 bytes\n"
     ]
    }
   ],
   "source": [
    "from google.colab import files\n",
    "uploaded = files.upload()\n",
    "for fn in uploaded.keys():\n",
    "  print('User uploaded file \"{name}\" with length {length} bytes'.format(\n",
    "      name=fn, length=len(uploaded[fn])))"
   ]
  },
  {
   "cell_type": "code",
   "execution_count": 0,
   "metadata": {
    "colab": {
     "autoexec": {
      "startup": false,
      "wait_interval": 0
     }
    },
    "colab_type": "code",
    "id": "81eihHABFAJh"
   },
   "outputs": [],
   "source": [
    "from keras.models import load_model\n",
    "model= load_model('model-002.h5')#loading same model trained for 2 epochs above"
   ]
  },
  {
   "cell_type": "markdown",
   "metadata": {
    "colab_type": "text",
    "id": "e7Y62ZTZQyAY"
   },
   "source": [
    "**♦  The model priorly trained for 3 epochs is now trained for another 12 epochs**\n",
    "\n",
    "* The **model training parameters** are as follows:\n",
    "\n",
    "\n",
    "> • **Training dataset**= train_x shaped (18060, 3), train_y shaped (18060, 1)\n",
    "\n",
    "> • **Validation dataset**= val_x shaped (2007, 3), val_y shaped (2007, 1)\n",
    "\n",
    "> **• Batch size for training and validation** = 64\n",
    "\n",
    "> •** Steps per epoch** = 282 (for training), 31 (validation)\n",
    "\n",
    "> **• Total epochs**= 12\n",
    "\n",
    "> **• callbacks** = [checkpoint]"
   ]
  },
  {
   "cell_type": "code",
   "execution_count": 0,
   "metadata": {
    "colab": {
     "autoexec": {
      "startup": false,
      "wait_interval": 0
     },
     "base_uri": "https://localhost:8080/",
     "height": 462
    },
    "colab_type": "code",
    "executionInfo": {
     "elapsed": 3560180,
     "status": "ok",
     "timestamp": 1530309936926,
     "user": {
      "displayName": "Prakash Bisht",
      "photoUrl": "//lh5.googleusercontent.com/-04UzDVJdBwE/AAAAAAAAAAI/AAAAAAAADj4/nhMNE_Vmelk/s50-c-k-no/photo.jpg",
      "userId": "110325046815269230203"
     },
     "user_tz": -330
    },
    "id": "au-K9cYMSt6t",
    "outputId": "777ae173-c319-435e-a2a3-7a76bb932ef4"
   },
   "outputs": [
    {
     "name": "stdout",
     "output_type": "stream",
     "text": [
      "Epoch 1/12\n",
      "282/282 [==============================] - 301s 1s/step - loss: 0.1911 - acc: 0.1487 - val_loss: 0.1263 - val_acc: 0.7409\n",
      "Epoch 2/12\n",
      "282/282 [==============================] - 296s 1s/step - loss: 0.2033 - acc: 0.1068 - val_loss: 0.0771 - val_acc: 0.7429\n",
      "Epoch 3/12\n",
      " 28/282 [=>............................] - ETA: 4:15 - loss: 0.2208 - acc: 0.0949282/282 [==============================] - 296s 1s/step - loss: 0.2180 - acc: 0.0870 - val_loss: 0.0772 - val_acc: 0.7465\n",
      "Epoch 4/12\n",
      "282/282 [==============================] - 296s 1s/step - loss: 0.2311 - acc: 0.0747 - val_loss: 0.0724 - val_acc: 0.7440\n",
      "Epoch 5/12\n",
      " 53/282 [====>.........................] - ETA: 3:50 - loss: 0.2370 - acc: 0.0669282/282 [==============================] - 296s 1s/step - loss: 0.2442 - acc: 0.0681 - val_loss: 0.0796 - val_acc: 0.7374\n",
      "Epoch 6/12\n",
      "282/282 [==============================] - 296s 1s/step - loss: 0.2672 - acc: 0.0557 - val_loss: 0.0748 - val_acc: 0.7399\n",
      "Epoch 7/12\n",
      " 59/282 [=====>........................] - ETA: 3:43 - loss: 0.2759 - acc: 0.0527282/282 [==============================] - 296s 1s/step - loss: 0.2795 - acc: 0.0496 - val_loss: 0.0987 - val_acc: 0.7440\n",
      "Epoch 8/12\n",
      "282/282 [==============================] - 296s 1s/step - loss: 0.2941 - acc: 0.0499 - val_loss: 0.0725 - val_acc: 0.7591\n",
      "Epoch 9/12\n",
      " 60/282 [=====>........................] - ETA: 3:42 - loss: 0.3003 - acc: 0.0508282/282 [==============================] - 296s 1s/step - loss: 0.3068 - acc: 0.0445 - val_loss: 0.0716 - val_acc: 0.7596\n",
      "Epoch 10/12\n",
      "282/282 [==============================] - 296s 1s/step - loss: 0.3315 - acc: 0.0396 - val_loss: 0.0730 - val_acc: 0.7616\n",
      "Epoch 11/12\n",
      " 60/282 [=====>........................] - ETA: 3:43 - loss: 0.3404 - acc: 0.0417282/282 [==============================] - 296s 1s/step - loss: 0.3406 - acc: 0.0402 - val_loss: 0.1470 - val_acc: 0.7208\n",
      "Epoch 12/12\n",
      "282/282 [==============================] - 296s 1s/step - loss: 0.3603 - acc: 0.0366 - val_loss: 0.0775 - val_acc: 0.7434\n",
      "total training time:  3559.363032102585\n"
     ]
    }
   ],
   "source": [
    "tick = time.time()# training the same model on balanced dataset train_x1 & train_y1 for 7 epochs\n",
    "\n",
    "history = model.fit_generator(batch_gen(train_x, train_y,64,True), steps_per_epoch=282, epochs=12, verbose=1, callbacks=[checkpoint],\n",
    "    validation_data=batch_gen(val_x, val_y, 64), validation_steps=31)\n",
    "\n",
    "\n",
    "print('total training time: ', time.time()- tick) "
   ]
  },
  {
   "cell_type": "markdown",
   "metadata": {
    "colab_type": "text",
    "id": "vPHyWF1wRY5m"
   },
   "source": [
    "**♦ Plotting curves for validation accuracy and train accuracy from the model trained for total of 15 epochs.**"
   ]
  },
  {
   "cell_type": "code",
   "execution_count": 0,
   "metadata": {
    "colab": {
     "autoexec": {
      "startup": false,
      "wait_interval": 0
     },
     "base_uri": "https://localhost:8080/",
     "height": 364
    },
    "colab_type": "code",
    "executionInfo": {
     "elapsed": 989,
     "status": "ok",
     "timestamp": 1530310070560,
     "user": {
      "displayName": "Prakash Bisht",
      "photoUrl": "//lh5.googleusercontent.com/-04UzDVJdBwE/AAAAAAAAAAI/AAAAAAAADj4/nhMNE_Vmelk/s50-c-k-no/photo.jpg",
      "userId": "110325046815269230203"
     },
     "user_tz": -330
    },
    "id": "0M4En5ndJk6x",
    "outputId": "14dcf047-5bce-4ea6-f280-1883707fe348"
   },
   "outputs": [
    {
     "data": {
      "text/plain": [
       "[<matplotlib.lines.Line2D at 0x7f4c6e0ab470>]"
      ]
     },
     "execution_count": 89,
     "metadata": {
      "tags": []
     },
     "output_type": "execute_result"
    },
    {
     "data": {
      "image/png": "[encoded data removed]",
      "text/plain": [
       "<matplotlib.figure.Figure at 0x7f4c6e15d198>"
      ]
     },
     "metadata": {
      "tags": []
     },
     "output_type": "display_data"
    }
   ],
   "source": [
    "plt.plot(history.history['val_acc'])"
   ]
  },
  {
   "cell_type": "code",
   "execution_count": 0,
   "metadata": {
    "colab": {
     "autoexec": {
      "startup": false,
      "wait_interval": 0
     },
     "base_uri": "https://localhost:8080/",
     "height": 364
    },
    "colab_type": "code",
    "executionInfo": {
     "elapsed": 974,
     "status": "ok",
     "timestamp": 1530310084982,
     "user": {
      "displayName": "Prakash Bisht",
      "photoUrl": "//lh5.googleusercontent.com/-04UzDVJdBwE/AAAAAAAAAAI/AAAAAAAADj4/nhMNE_Vmelk/s50-c-k-no/photo.jpg",
      "userId": "110325046815269230203"
     },
     "user_tz": -330
    },
    "id": "OQZJEIJrlagv",
    "outputId": "019c93c3-2f23-476f-aaf0-beb002349320"
   },
   "outputs": [
    {
     "data": {
      "text/plain": [
       "[<matplotlib.lines.Line2D at 0x7f4c6e087ef0>]"
      ]
     },
     "execution_count": 90,
     "metadata": {
      "tags": []
     },
     "output_type": "execute_result"
    },
    {
     "data": {
      "image/png": "[encoded data removed]",
      "text/plain": [
       "<matplotlib.figure.Figure at 0x7f4c6e0cf630>"
      ]
     },
     "metadata": {
      "tags": []
     },
     "output_type": "display_data"
    }
   ],
   "source": [
    "plt.plot(history.history['acc'])#training acc"
   ]
  },
  {
   "cell_type": "markdown",
   "metadata": {
    "colab_type": "text",
    "id": "DQ_jp7W-Ub1k"
   },
   "source": [
    "**♦ Downloading the trained model to test alongside testing script on drive simulator.**"
   ]
  },
  {
   "cell_type": "code",
   "execution_count": 0,
   "metadata": {
    "colab": {
     "autoexec": {
      "startup": false,
      "wait_interval": 0
     },
     "base_uri": "https://localhost:8080/",
     "height": 34
    },
    "colab_type": "code",
    "executionInfo": {
     "elapsed": 83483,
     "status": "ok",
     "timestamp": 1530310342384,
     "user": {
      "displayName": "Prakash Bisht",
      "photoUrl": "//lh5.googleusercontent.com/-04UzDVJdBwE/AAAAAAAAAAI/AAAAAAAADj4/nhMNE_Vmelk/s50-c-k-no/photo.jpg",
      "userId": "110325046815269230203"
     },
     "user_tz": -330
    },
    "id": "PWXQlbE_dOq6",
    "outputId": "05318ef8-d185-46d8-c75b-a71fec0cc3bf"
   },
   "outputs": [
    {
     "name": "stdout",
     "output_type": "stream",
     "text": [
      "data1.zip  data2.zip  datalab  drive  drive2  model_12ep_30_6.h5\r\n"
     ]
    }
   ],
   "source": [
    "'''from google.colab import files\n",
    "for i in [2,3,8]: #for downloading multiple models\n",
    "  files.download('model-00{a}.h5'.format(a=i))'''\n",
    "\n",
    "model.save('model_12ep_30_6.h5')#saving & downloading above model\n",
    "!ls\n",
    "files.download('model_12ep_30_6.h5')"
   ]
  },
  {
   "cell_type": "markdown",
   "metadata": {
    "colab_type": "text",
    "id": "0ZH_zhHNrWUM"
   },
   "source": [
    "## 11. Model testing\n",
    "* The trained deep learning model resulting from above is run alongside a **tertiary driving script** which enables the model to interact with simulator enviornment, as it receives a stream of input images from autonomous driving mode of the simulator window, in correspondence to which the model **actively predicts and feeds back** the steering value to simulator backend which manipulates car's driving behaviour in real-time.\n",
    "\n",
    "* The trained model obtained from above can be tested on driving simultor as follows:\n",
    "\n",
    "\n",
    "> • Save & download the trained model(ex- model.h5 ) to local machine.\n",
    "\n",
    "> • Download the drive.py script to same directory as that of model on local machine from [here](https://github.com/leoninekev/applied-ML-MLBLR-/blob/master/Behavioral%20cloning_MLBLR%20project/drive.py).\n",
    "\n",
    "> • Run the driving simulator on autonomous mode.\n",
    "\n",
    "> • From command prompt or terminal, navigate the current working to the directory storing drive.py & model file.\n",
    "\n",
    "> • execute the command - python drive.py model.h5\n",
    "\n",
    "\n",
    "\n",
    "** ♦ The driving script although provided by udacity needs slight modifcations in accordance with input image size desired by above model i.e., (66, 200, 3). Thus a preprocessing function is added to existing code prior to simulator querring model for generating corresponding steering angles.**\n"
   ]
  },
  {
   "cell_type": "markdown",
   "metadata": {
    "colab_type": "text",
    "id": "zstl3DM033pp"
   },
   "source": [
    "## ♦ Observations:\n",
    "* Having tried following alteration to above model:\n",
    "\n",
    "\n",
    "> • Changing kernel sizes from 5x5 to 3x3 in initial 2 layers of network there wasn't much effect on rising training error.\n",
    "> • Adding a pooling layer after each denseblock did lead to lighter model with less total parameters & training time, but seemed to result driving model with very fluctuating steering angle values.\n",
    "\n",
    "> • Changing learning rate for all values between 1e-3 to 1e-6 didn't affect falling training accuracy.\n",
    "\n",
    "> • With lesser or even negligible dropout values training loss decreased over epochs.\n",
    "\n",
    "Most models yielded insignificant improvements to model performance, as training loss kept rising for each of the above modifcations despite that, above model that is trained for total 15 epochs with defined architecture & above isted training parameters resulted a stable variation in predicted steering angles, and drove the vehicle in simulator quite well.\n",
    "\n",
    "** * Therefore for most cases the falling training accuracy is suspected cause of insuffiently diverse and meagere amount of training data.**\n"
   ]
  },
  {
   "cell_type": "markdown",
   "metadata": {
    "colab_type": "text",
    "id": "zWWw5jf59K2v"
   },
   "source": [
    "-----------"
   ]
  }
 ],
 "metadata": {
  "accelerator": "GPU",
  "colab": {
   "collapsed_sections": [],
   "default_view": {},
   "name": "bclone_colabNotebook.ipynb",
   "provenance": [],
   "version": "0.3.2",
   "views": {}
  },
  "kernelspec": {
   "display_name": "Python 3",
   "language": "python",
   "name": "python3"
  },
  "language_info": {
   "codemirror_mode": {
    "name": "ipython",
    "version": 3
   },
   "file_extension": ".py",
   "mimetype": "text/x-python",
   "name": "python",
   "nbconvert_exporter": "python",
   "pygments_lexer": "ipython3",
   "version": "3.5.4"
  }
 },
 "nbformat": 4,
 "nbformat_minor": 1
}
