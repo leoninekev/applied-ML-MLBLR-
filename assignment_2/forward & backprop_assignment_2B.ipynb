{
 "cells": [
  {
   "cell_type": "markdown",
   "metadata": {},
   "source": [
    "## Forwardprop and Backprop implementation"
   ]
  },
  {
   "cell_type": "code",
   "execution_count": 3,
   "metadata": {},
   "outputs": [],
   "source": [
    "import numpy as np"
   ]
  },
  {
   "cell_type": "markdown",
   "metadata": {},
   "source": [
    "#### initialing input and target labels"
   ]
  },
  {
   "cell_type": "code",
   "execution_count": 13,
   "metadata": {},
   "outputs": [
    {
     "name": "stdout",
     "output_type": "stream",
     "text": [
      "input array:\n",
      " [[0 1 0 1]\n",
      " [0 1 1 0]\n",
      " [1 1 0 0]] \n",
      " label:\n",
      " [[0]\n",
      " [1]\n",
      " [1]]\n"
     ]
    }
   ],
   "source": [
    "x= np.random.randint(0, high=2, size=(3,4), dtype= int) #input values shaped 3x4\n",
    "y = np.random.randint(0, high=2, size=(3,1), dtype= int) #target label 3x1\n",
    "print('input array:\\n',x, '\\n label:\\n',y)"
   ]
  },
  {
   "cell_type": "markdown",
   "metadata": {},
   "source": [
    "###### Network consist of 1 input layer, 1 hidden layer, 1 prediction layer\n",
    "\n",
    "### initialing weights and biases"
   ]
  },
  {
   "cell_type": "code",
   "execution_count": 5,
   "metadata": {},
   "outputs": [
    {
     "name": "stdout",
     "output_type": "stream",
     "text": [
      "weights for layer 1: \n",
      " [[0.88184325 0.08059041 0.77275236]\n",
      " [0.54627936 0.39956654 0.49316124]\n",
      " [0.20881688 0.19818137 0.17340361]\n",
      " [0.22690923 0.22487492 0.50761497]] \n",
      " \n",
      " biases for layer 1:  [[0.85583134 0.51538744 0.38619048]]\n",
      "\n",
      " \n",
      " weights for layer 2: \n",
      " [[0.3194988 ]\n",
      " [0.04253225]\n",
      " [0.22386386]] \n",
      " \n",
      " biases for layer 2: [[0.45871629]]\n"
     ]
    }
   ],
   "source": [
    "w1 =np.random.rand(4,3)\n",
    "b1 =np.random.rand(1,3)\n",
    "print('weights for layer 1: \\n',w1,'\\n \\n biases for layer 1: ',b1)\n",
    "w2 =np.random.rand(3,1)\n",
    "b2 =np.random.rand(1,1)\n",
    "print('\\n \\n weights for layer 2: \\n',w2,'\\n \\n biases for layer 2:',b2)\n"
   ]
  },
  {
   "cell_type": "markdown",
   "metadata": {},
   "source": [
    "### Forward prop\n",
    "\n",
    "###### Sigmoid activation function"
   ]
  },
  {
   "cell_type": "code",
   "execution_count": 6,
   "metadata": {},
   "outputs": [],
   "source": [
    "def sigmoid(arg):\n",
    "    return 1/(1+ np.exp(-arg))"
   ]
  },
  {
   "cell_type": "code",
   "execution_count": 7,
   "metadata": {},
   "outputs": [
    {
     "name": "stdout",
     "output_type": "stream",
     "text": [
      "input array x shaped:(3, 4), w1 shaped:(4, 3) and b1 is shaped:(1, 3)\n"
     ]
    }
   ],
   "source": [
    "print('input array x shaped:{_}, w1 shaped:{w} and b1 is shaped:{b}'.format(_=x.shape, w=w1.shape, b= b1.shape))"
   ]
  },
  {
   "cell_type": "markdown",
   "metadata": {},
   "source": [
    "#### computing activations for hidden layer\n",
    "* activations are shaped 3x4"
   ]
  },
  {
   "cell_type": "code",
   "execution_count": 8,
   "metadata": {},
   "outputs": [
    {
     "name": "stdout",
     "output_type": "stream",
     "text": [
      "[[0.83603533 0.75764822 0.80010755]\n",
      " [0.87702817 0.69441733 0.84111635]\n",
      " [0.74357782 0.67118926 0.63635862]]\n"
     ]
    }
   ],
   "source": [
    "act1 = sigmoid(np.dot(x,w1) +b1)#sigmoid activations for first layer\n",
    "print(act1)"
   ]
  },
  {
   "cell_type": "code",
   "execution_count": 9,
   "metadata": {},
   "outputs": [
    {
     "name": "stdout",
     "output_type": "stream",
     "text": [
      "hidden layer input act1 shaped:(3, 3), w2 shaped:(3, 1) and b2 is shaped:(1, 1)\n"
     ]
    }
   ],
   "source": [
    "print('hidden layer input act1 shaped:{_}, w2 shaped:{w} and b2 is shaped:{b}'.format(_=act1.shape, w=w2.shape, b= b2.shape))"
   ]
  },
  {
   "cell_type": "markdown",
   "metadata": {},
   "source": [
    "#### computing activations for prediction layer\n",
    "* activations are shaped 3x1"
   ]
  },
  {
   "cell_type": "code",
   "execution_count": 10,
   "metadata": {},
   "outputs": [
    {
     "name": "stdout",
     "output_type": "stream",
     "text": [
      "[[0.7185273 ]\n",
      " [0.72247192]\n",
      " [0.7041822 ]]\n"
     ]
    }
   ],
   "source": [
    "act2 = sigmoid(np.dot(act1,w2) +b2) #sigmoid activation for prediction layer\n",
    "print(act2)"
   ]
  },
  {
   "cell_type": "markdown",
   "metadata": {},
   "source": [
    "### Backprop\n",
    "* computing slope for final layer activations\n",
    "* computing error at final layer as (y- act2)*slope_finalactivation"
   ]
  },
  {
   "cell_type": "code",
   "execution_count": 11,
   "metadata": {},
   "outputs": [
    {
     "name": "stdout",
     "output_type": "stream",
     "text": [
      "errors for final layer:\n",
      " [[ 0.05692668]\n",
      " [ 0.05564611]\n",
      " [-0.14668793]] \n",
      " errors for hidden layer: \n",
      " [[ 0.00249322  0.00044458  0.00203819]\n",
      " [ 0.00191745  0.00050223  0.00166477]\n",
      " [-0.00893605 -0.0013769  -0.00759895]]\n"
     ]
    }
   ],
   "source": [
    "#error at outmost layer = actual label - predicted label, i.e. y- act2\n",
    "#e3 = y- act2\n",
    "dact2 = act2*(1-act2) #slope for final layer activations\n",
    "e2 = (y- act2)*dact2 #error at final layer\n",
    "\n",
    "\n",
    "#e2 = np.dot(w2.T,e3)*dact2 #at second layer\n",
    "dact1 = act1*(1-act1)##slope for hidden layer activations\n",
    "e1 = np.dot(e2, w2.T)*dact1  #error at hidden layer\n",
    "\n",
    "\n",
    "print('errors for final layer:\\n', e2, '\\n errors for hidden layer: \\n', e1)"
   ]
  },
  {
   "cell_type": "markdown",
   "metadata": {},
   "source": [
    "#### Updating Weights and Biases"
   ]
  },
  {
   "cell_type": "code",
   "execution_count": 12,
   "metadata": {},
   "outputs": [
    {
     "name": "stdout",
     "output_type": "stream",
     "text": [
      "\n",
      " updated w2:\n",
      " [[0.318231  ]\n",
      " [0.04086391]\n",
      " [0.22376448]] \n",
      " updated w1:\n",
      " [[0.882035   0.08064064 0.77291884]\n",
      " [0.54652868 0.399611   0.49336506]\n",
      " [0.20792327 0.19804368 0.17264371]\n",
      " [0.22735029 0.2249696  0.50798526]] \n",
      " updated b2:\n",
      " [[0.45530478]] \n",
      " updated b1:\n",
      " [[0.8553788  0.51534443 0.38580088]]\n"
     ]
    }
   ],
   "source": [
    "w2 =w2 + np.dot(act1.T,e2)*0.1 # 0.1 is the learning rate\n",
    "w1= w1 + np.dot(x.T,e1)*0.1 # 0.1 is the learning rate\n",
    "\n",
    "b2 = b2 +np.sum(e2, axis=0)*0.1\n",
    "b1 = b1 +np.sum(e1, axis=0)*0.1\n",
    "\n",
    "print(\"\\n updated w2:\\n\",w2, \"\\n updated w1:\\n\",w1, \"\\n updated b2:\\n\",b2, \"\\n updated b1:\\n\",b1)"
   ]
  }
 ],
 "metadata": {
  "kernelspec": {
   "display_name": "Python 3",
   "language": "python",
   "name": "python3"
  },
  "language_info": {
   "codemirror_mode": {
    "name": "ipython",
    "version": 3
   },
   "file_extension": ".py",
   "mimetype": "text/x-python",
   "name": "python",
   "nbconvert_exporter": "python",
   "pygments_lexer": "ipython3",
   "version": "3.5.4"
  }
 },
 "nbformat": 4,
 "nbformat_minor": 2
}
